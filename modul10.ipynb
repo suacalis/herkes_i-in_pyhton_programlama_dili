{
  "nbformat": 4,
  "nbformat_minor": 0,
  "metadata": {
    "colab": {
      "name": "modul10",
      "provenance": [],
      "collapsed_sections": []
    },
    "kernelspec": {
      "name": "python3",
      "display_name": "Python 3"
    }
  },
  "cells": [
    {
      "cell_type": "markdown",
      "metadata": {
        "id": "bncCQ9idTzjL"
      },
      "source": [
        "<h>**Modül 10<br>Modüler Programlama**</h>"
      ]
    },
    {
      "cell_type": "markdown",
      "metadata": {
        "id": "5B4jYBZIk8sQ"
      },
      "source": [
        "**Örnek 3**"
      ]
    },
    {
      "cell_type": "code",
      "metadata": {
        "id": "-fc3vL5fk_di",
        "colab": {
          "base_uri": "https://localhost:8080/",
          "height": 54
        },
        "outputId": "b1934e2a-0e74-44a8-f193-f6afc507bfa6"
      },
      "source": [
        "import math\n",
        "print(dir(math))\n"
      ],
      "execution_count": null,
      "outputs": [
        {
          "output_type": "stream",
          "text": [
            "['__doc__', '__loader__', '__name__', '__package__', '__spec__', 'acos', 'acosh', 'asin', 'asinh', 'atan', 'atan2', 'atanh', 'ceil', 'copysign', 'cos', 'cosh', 'degrees', 'e', 'erf', 'erfc', 'exp', 'expm1', 'fabs', 'factorial', 'floor', 'fmod', 'frexp', 'fsum', 'gamma', 'gcd', 'hypot', 'inf', 'isclose', 'isfinite', 'isinf', 'isnan', 'ldexp', 'lgamma', 'log', 'log10', 'log1p', 'log2', 'modf', 'nan', 'pi', 'pow', 'radians', 'sin', 'sinh', 'sqrt', 'tan', 'tanh', 'tau', 'trunc']\n"
          ],
          "name": "stdout"
        }
      ]
    },
    {
      "cell_type": "markdown",
      "metadata": {
        "id": "0sX3v-ksleby"
      },
      "source": [
        "**Örnek 4**"
      ]
    },
    {
      "cell_type": "code",
      "metadata": {
        "id": "BMgnTEXAlg_L",
        "colab": {
          "base_uri": "https://localhost:8080/",
          "height": 34
        },
        "outputId": "2f828ace-99bf-4575-cdc1-0fe678625064"
      },
      "source": [
        "In [4]: import math\n",
        "yaricap=4\n",
        "alan=math.pi*(math.pow(yaricap,2))\n",
        "print(alan)\n"
      ],
      "execution_count": null,
      "outputs": [
        {
          "output_type": "stream",
          "text": [
            "50.26548245743669\n"
          ],
          "name": "stdout"
        }
      ]
    },
    {
      "cell_type": "markdown",
      "metadata": {
        "id": "DHnfLNpIllqR"
      },
      "source": [
        "**Örnek 5**"
      ]
    },
    {
      "cell_type": "code",
      "metadata": {
        "id": "fl4jVHKulnZ8",
        "colab": {
          "base_uri": "https://localhost:8080/",
          "height": 85
        },
        "outputId": "acedb9be-d611-49fd-a46e-6c69c1f21b93"
      },
      "source": [
        "import math\n",
        "ustal=math.pow(5,2) \n",
        "fak=math.factorial(4) \n",
        "cosinus=math.cos(120)\n",
        "karekok=math.sqrt(81)\n",
        "print(ustal) \n",
        "print(fak) \n",
        "print(cosinus)\n",
        "print(karekok)\n",
        "\n"
      ],
      "execution_count": null,
      "outputs": [
        {
          "output_type": "stream",
          "text": [
            "25.0\n",
            "24\n",
            "0.8141809705265618\n",
            "9.0\n"
          ],
          "name": "stdout"
        }
      ]
    },
    {
      "cell_type": "markdown",
      "metadata": {
        "id": "EJ4q6s_glwxT"
      },
      "source": [
        "**Örnek 6**"
      ]
    },
    {
      "cell_type": "code",
      "metadata": {
        "id": "Icv-gamilzFF"
      },
      "source": [
        "import random\n",
        "\n",
        "print(dir(random))\n"
      ],
      "execution_count": null,
      "outputs": []
    },
    {
      "cell_type": "markdown",
      "metadata": {
        "id": "Mg2QDzVnl2VG"
      },
      "source": [
        "**Örnek 7**"
      ]
    },
    {
      "cell_type": "code",
      "metadata": {
        "id": "ux2SDEXKl4Ag"
      },
      "source": [
        "import random\n",
        "a=random.random()\n",
        "print(a)\n",
        "\n"
      ],
      "execution_count": null,
      "outputs": []
    },
    {
      "cell_type": "markdown",
      "metadata": {
        "id": "Sr5vC9iLl64C"
      },
      "source": [
        "**Örnek 8**"
      ]
    },
    {
      "cell_type": "code",
      "metadata": {
        "id": "ZCOzKIUOTq-1",
        "colab": {
          "base_uri": "https://localhost:8080/",
          "height": 34
        },
        "outputId": "a122b0e2-bb94-42d6-c0bf-29c729f5f273"
      },
      "source": [
        "import random\n",
        "sayi=random.randint(0, 10)\n",
        "print(sayi)"
      ],
      "execution_count": null,
      "outputs": [
        {
          "output_type": "stream",
          "text": [
            "3\n"
          ],
          "name": "stdout"
        }
      ]
    },
    {
      "cell_type": "markdown",
      "metadata": {
        "id": "lKtC9Pi1mB_L"
      },
      "source": [
        "**Örnek 9**"
      ]
    },
    {
      "cell_type": "code",
      "metadata": {
        "id": "jzYKmCNZmDum",
        "colab": {
          "base_uri": "https://localhost:8080/",
          "height": 68
        },
        "outputId": "1a271a03-39b0-4374-f6ae-2e77142b4a8f"
      },
      "source": [
        "import random\n",
        "cicekler = ['gül', 'karanfil', 'papatya''begonya','menekşe']\n",
        "print(random.choice(cicekler))#1. rastgele seçim\n",
        "print(random.choice(cicekler))#2. rastgele seçim\n",
        "print(random.choice(cicekler))#3. rastgele seçim\n"
      ],
      "execution_count": null,
      "outputs": [
        {
          "output_type": "stream",
          "text": [
            "gül\n",
            "karanfil\n",
            "menekşe\n"
          ],
          "name": "stdout"
        }
      ]
    },
    {
      "cell_type": "markdown",
      "metadata": {
        "id": "GT47f0JBoMro"
      },
      "source": [
        "**Örnek 10**"
      ]
    },
    {
      "cell_type": "code",
      "metadata": {
        "id": "xeUUIsnFoOt7",
        "colab": {
          "base_uri": "https://localhost:8080/",
          "height": 85
        },
        "outputId": "d3e49507-b468-405f-a87a-8ef641246195"
      },
      "source": [
        "pip install django"
      ],
      "execution_count": null,
      "outputs": [
        {
          "output_type": "stream",
          "text": [
            "Requirement already satisfied: django in /usr/local/lib/python3.6/dist-packages (3.0.5)\n",
            "Requirement already satisfied: asgiref~=3.2 in /usr/local/lib/python3.6/dist-packages (from django) (3.2.7)\n",
            "Requirement already satisfied: pytz in /usr/local/lib/python3.6/dist-packages (from django) (2018.9)\n",
            "Requirement already satisfied: sqlparse>=0.2.2 in /usr/local/lib/python3.6/dist-packages (from django) (0.3.1)\n"
          ],
          "name": "stdout"
        }
      ]
    },
    {
      "cell_type": "markdown",
      "metadata": {
        "id": "zR8LhAp7ohbg"
      },
      "source": [
        "**Örnek 11**"
      ]
    },
    {
      "cell_type": "code",
      "metadata": {
        "id": "3clXPP_3ojST",
        "colab": {
          "base_uri": "https://localhost:8080/",
          "height": 85
        },
        "outputId": "a50972a2-3115-4e45-cb83-1bfbe11f8df3"
      },
      "source": [
        "pip install django --upgrade"
      ],
      "execution_count": null,
      "outputs": [
        {
          "output_type": "stream",
          "text": [
            "Requirement already up-to-date: django in /usr/local/lib/python3.6/dist-packages (3.0.5)\n",
            "Requirement already satisfied, skipping upgrade: asgiref~=3.2 in /usr/local/lib/python3.6/dist-packages (from django) (3.2.7)\n",
            "Requirement already satisfied, skipping upgrade: pytz in /usr/local/lib/python3.6/dist-packages (from django) (2018.9)\n",
            "Requirement already satisfied, skipping upgrade: sqlparse>=0.2.2 in /usr/local/lib/python3.6/dist-packages (from django) (0.3.1)\n"
          ],
          "name": "stdout"
        }
      ]
    },
    {
      "cell_type": "markdown",
      "metadata": {
        "id": "wggdYM70pKVC"
      },
      "source": [
        "**Örnek 12**"
      ]
    },
    {
      "cell_type": "code",
      "metadata": {
        "id": "mPTUaD4zpL55"
      },
      "source": [
        "pip uninstall django"
      ],
      "execution_count": null,
      "outputs": []
    },
    {
      "cell_type": "markdown",
      "metadata": {
        "id": "F8F0D5WGpOtP"
      },
      "source": [
        "**Örnek 13**"
      ]
    },
    {
      "cell_type": "code",
      "metadata": {
        "id": "SpSd3ylmpQYe",
        "colab": {
          "base_uri": "https://localhost:8080/",
          "height": 34
        },
        "outputId": "cb5d0b42-a089-4a1f-862b-68dace76e851"
      },
      "source": [
        "import time\n",
        "print (time.time())\n"
      ],
      "execution_count": null,
      "outputs": [
        {
          "output_type": "stream",
          "text": [
            "1587940780.0852644\n"
          ],
          "name": "stdout"
        }
      ]
    },
    {
      "cell_type": "markdown",
      "metadata": {
        "id": "rRcHBsKjqEhy"
      },
      "source": [
        "**Örnek 14**"
      ]
    },
    {
      "cell_type": "code",
      "metadata": {
        "id": "-LK5Cq_GqGP3"
      },
      "source": [
        "import time\n",
        "print (time.time())\n"
      ],
      "execution_count": null,
      "outputs": []
    },
    {
      "cell_type": "markdown",
      "metadata": {
        "id": "CfaoeYrSqlbD"
      },
      "source": [
        "**Örnek 15**"
      ]
    },
    {
      "cell_type": "code",
      "metadata": {
        "id": "nsZi2aLzqnBB",
        "colab": {
          "base_uri": "https://localhost:8080/",
          "height": 34
        },
        "outputId": "4193b534-4ada-420d-8b4e-c114d6798817"
      },
      "source": [
        "import time\n",
        "print (time.localtime())\n"
      ],
      "execution_count": null,
      "outputs": [
        {
          "output_type": "stream",
          "text": [
            "time.struct_time(tm_year=2020, tm_mon=4, tm_mday=26, tm_hour=22, tm_min=46, tm_sec=41, tm_wday=6, tm_yday=117, tm_isdst=0)\n"
          ],
          "name": "stdout"
        }
      ]
    },
    {
      "cell_type": "markdown",
      "metadata": {
        "id": "UXZus_2VrIzD"
      },
      "source": [
        "**Örnek 16**"
      ]
    },
    {
      "cell_type": "code",
      "metadata": {
        "id": "dujGsCgsrKmb"
      },
      "source": [
        "import time\n",
        "print (time.ctime())\n"
      ],
      "execution_count": null,
      "outputs": []
    },
    {
      "cell_type": "markdown",
      "metadata": {
        "id": "KD_XXZOxrsnz"
      },
      "source": [
        "**Örnek 17**"
      ]
    },
    {
      "cell_type": "code",
      "metadata": {
        "id": "6ccVhKsqruck",
        "colab": {
          "base_uri": "https://localhost:8080/",
          "height": 34
        },
        "outputId": "1bd3d437-5c3a-456f-c95a-83808eddb23b"
      },
      "source": [
        "import time\n",
        "print (time.strftime(\"%d/%m/%Y\"))\n",
        "\n"
      ],
      "execution_count": null,
      "outputs": [
        {
          "output_type": "stream",
          "text": [
            "26/04/2020\n"
          ],
          "name": "stdout"
        }
      ]
    },
    {
      "cell_type": "markdown",
      "metadata": {
        "id": "2hAkTvgjrvQK"
      },
      "source": [
        "**Örnek 18**"
      ]
    },
    {
      "cell_type": "code",
      "metadata": {
        "id": "F5-Jpw_Qry1c"
      },
      "source": [
        "import time\n",
        "time.sleep(10)\n"
      ],
      "execution_count": null,
      "outputs": []
    },
    {
      "cell_type": "markdown",
      "metadata": {
        "id": "zCSASi-bsNmT"
      },
      "source": [
        "**Örnek 19**"
      ]
    },
    {
      "cell_type": "code",
      "metadata": {
        "id": "_RREQavysPgk"
      },
      "source": [
        "import time\n",
        "print (\"Başlangıç : %s\" % time.ctime())\n",
        "time.sleep( 5 )\n",
        "print (\"Bitiş : %s\" % time.ctime())\n"
      ],
      "execution_count": null,
      "outputs": []
    },
    {
      "cell_type": "markdown",
      "metadata": {
        "id": "BlNrsF6jsbjC"
      },
      "source": [
        "**Bölüm_cevap_1**"
      ]
    },
    {
      "cell_type": "code",
      "metadata": {
        "id": "8Bogoijdsd5w",
        "colab": {
          "base_uri": "https://localhost:8080/",
          "height": 357
        },
        "outputId": "e6a47604-2e60-4439-d81b-df8960123b5a"
      },
      "source": [
        "import time\n",
        "for i in range(1,21):\n",
        "  time.sleep(0.5)\n",
        "  print(i)\n",
        "\n"
      ],
      "execution_count": null,
      "outputs": [
        {
          "output_type": "stream",
          "text": [
            "1\n",
            "2\n",
            "3\n",
            "4\n",
            "5\n",
            "6\n",
            "7\n",
            "8\n",
            "9\n",
            "10\n",
            "11\n",
            "12\n",
            "13\n",
            "14\n",
            "15\n",
            "16\n",
            "17\n",
            "18\n",
            "19\n",
            "20\n"
          ],
          "name": "stdout"
        }
      ]
    },
    {
      "cell_type": "markdown",
      "metadata": {
        "id": "wZr8Bz5xs7Fk"
      },
      "source": [
        "**Bölüm_cevap_2**"
      ]
    },
    {
      "cell_type": "code",
      "metadata": {
        "id": "1er4JTC2s90y"
      },
      "source": [
        "import os\n",
        "print (os.name)\n"
      ],
      "execution_count": null,
      "outputs": []
    },
    {
      "cell_type": "markdown",
      "metadata": {
        "id": "lb6AOvN-vFx5"
      },
      "source": [
        "**Bölüm_cevap_3_1** (moduy.py dosyası) Bu örneği kendi bilgisayarımızda yaparsak daha sağlıklı çalışacaktır. "
      ]
    },
    {
      "cell_type": "code",
      "metadata": {
        "id": "5vtSxhisvI8W"
      },
      "source": [
        "def toplama(sayi1,sayi2):\n",
        "    toplam=int(sayi1)+int(sayi2)\n",
        "    return toplam\n"
      ],
      "execution_count": null,
      "outputs": []
    },
    {
      "cell_type": "markdown",
      "metadata": {
        "id": "sbW5v3pJvTFS"
      },
      "source": [
        "**Bölüm_cevap_3_2**(deneme.py dosyası) Bu örneği kendi bilgisayarımızda yaparsak daha sağlıklı çalışacaktır."
      ]
    },
    {
      "cell_type": "code",
      "metadata": {
        "id": "rgmb74o_vUOM",
        "colab": {
          "base_uri": "https://localhost:8080/",
          "height": 367
        },
        "outputId": "fbb36eee-ecb6-454f-e341-2ea032fb1a38"
      },
      "source": [
        "import modul\n",
        "a = input(\"birinci sayıyı giriniz:\")\n",
        "b = input(\"ikinci sayıyı giriniz:\")\n",
        "sonuc = int(modul.toplama(a, b))\n",
        "print (sonuc)\n"
      ],
      "execution_count": null,
      "outputs": [
        {
          "output_type": "error",
          "ename": "ModuleNotFoundError",
          "evalue": "ignored",
          "traceback": [
            "\u001b[0;31m---------------------------------------------------------------------------\u001b[0m",
            "\u001b[0;31mModuleNotFoundError\u001b[0m                       Traceback (most recent call last)",
            "\u001b[0;32m<ipython-input-19-3376c7bbb93e>\u001b[0m in \u001b[0;36m<module>\u001b[0;34m()\u001b[0m\n\u001b[0;32m----> 1\u001b[0;31m \u001b[0;32mimport\u001b[0m \u001b[0mmodul\u001b[0m\u001b[0;34m\u001b[0m\u001b[0;34m\u001b[0m\u001b[0m\n\u001b[0m\u001b[1;32m      2\u001b[0m \u001b[0ma\u001b[0m \u001b[0;34m=\u001b[0m \u001b[0minput\u001b[0m\u001b[0;34m(\u001b[0m\u001b[0;34m\"birinci sayıyı giriniz:\"\u001b[0m\u001b[0;34m)\u001b[0m\u001b[0;34m\u001b[0m\u001b[0;34m\u001b[0m\u001b[0m\n\u001b[1;32m      3\u001b[0m \u001b[0mb\u001b[0m \u001b[0;34m=\u001b[0m \u001b[0minput\u001b[0m\u001b[0;34m(\u001b[0m\u001b[0;34m\"ikinci sayıyı giriniz:\"\u001b[0m\u001b[0;34m)\u001b[0m\u001b[0;34m\u001b[0m\u001b[0;34m\u001b[0m\u001b[0m\n\u001b[1;32m      4\u001b[0m \u001b[0msonuc\u001b[0m \u001b[0;34m=\u001b[0m \u001b[0mint\u001b[0m\u001b[0;34m(\u001b[0m\u001b[0mmodul\u001b[0m\u001b[0;34m.\u001b[0m\u001b[0mtoplama\u001b[0m\u001b[0;34m(\u001b[0m\u001b[0ma\u001b[0m\u001b[0;34m,\u001b[0m \u001b[0mb\u001b[0m\u001b[0;34m)\u001b[0m\u001b[0;34m)\u001b[0m\u001b[0;34m\u001b[0m\u001b[0;34m\u001b[0m\u001b[0m\n\u001b[1;32m      5\u001b[0m \u001b[0mprint\u001b[0m \u001b[0;34m(\u001b[0m\u001b[0msonuc\u001b[0m\u001b[0;34m)\u001b[0m\u001b[0;34m\u001b[0m\u001b[0;34m\u001b[0m\u001b[0m\n",
            "\u001b[0;31mModuleNotFoundError\u001b[0m: No module named 'modul'",
            "",
            "\u001b[0;31m---------------------------------------------------------------------------\u001b[0;32m\nNOTE: If your import is failing due to a missing package, you can\nmanually install dependencies using either !pip or !apt.\n\nTo view examples of installing some common dependencies, click the\n\"Open Examples\" button below.\n\u001b[0;31m---------------------------------------------------------------------------\u001b[0m\n"
          ]
        }
      ]
    }
  ]
}