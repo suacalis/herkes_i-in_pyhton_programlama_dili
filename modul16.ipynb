{
  "nbformat": 4,
  "nbformat_minor": 0,
  "metadata": {
    "colab": {
      "name": "modul16",
      "provenance": [],
      "collapsed_sections": [],
      "toc_visible": true
    },
    "kernelspec": {
      "name": "python3",
      "display_name": "Python 3"
    }
  },
  "cells": [
    {
      "cell_type": "markdown",
      "metadata": {
        "id": "Wml8RVe8dLs0"
      },
      "source": [
        "**MODÜL 16: NESNE TABANLI PROGRAMLAMA**<br>\n",
        "<br>**Örnek 1**<br>\n",
        "type( ) komutunu kullanarak veri türlerini görüntüleyerek bunu görebilirsiniz.\n"
      ]
    },
    {
      "cell_type": "code",
      "metadata": {
        "id": "LLmf-ss2fHc0",
        "colab": {
          "base_uri": "https://localhost:8080/",
          "height": 102
        },
        "outputId": "32fb7201-4ab7-41aa-af6c-068210d3f607"
      },
      "source": [
        "print(type(int))\n",
        "print(type(str))\n",
        "print(type(list))\n",
        "print(type(tuple))\n",
        "print(type(dict))"
      ],
      "execution_count": null,
      "outputs": [
        {
          "output_type": "stream",
          "text": [
            "<class 'type'>\n",
            "<class 'type'>\n",
            "<class 'type'>\n",
            "<class 'type'>\n",
            "<class 'type'>\n"
          ],
          "name": "stdout"
        }
      ]
    },
    {
      "cell_type": "markdown",
      "metadata": {
        "id": "jq-7ery8dKaz"
      },
      "source": [
        "<br>**Örnek 2** <br>\n",
        "Basit bir sınıf tanımlayınız. Bir sınıf class SinifAdi: veya class SinifAdi(): şeklinde tanımlanır.\n",
        "Blok yapısı içinde yer alır.\n",
        "Özellikler ve metotlar sınıfın içinde tanımlanır.\n"
      ]
    },
    {
      "cell_type": "code",
      "metadata": {
        "id": "o6shiEVa0ZqW"
      },
      "source": [
        "class OrnekSinif:\n",
        "  __doc__='Bu sınıf örnek amaçlı oluşturulmuştur.'\n",
        "  def __init__(self):\n",
        "    print ('Merhaba Sınıf')"
      ],
      "execution_count": null,
      "outputs": []
    },
    {
      "cell_type": "markdown",
      "metadata": {
        "id": "o-gRlR1_k_wE"
      },
      "source": [
        "**Örnek 3**<br>Basit bir sınıf tanımlayınız. Bir sınıf class SinifAdi: veya class SinifAdi(): şeklinde tanımlanır.\n",
        "Blok yapısı içinde yer alır.\n",
        "Özellikler ve metotlar sınıfın içinde tanımlanır.<br>\n",
        "Sınıflardan nesne türetme (instance) örnek oluşturma olarak adlandırılır."
      ]
    },
    {
      "cell_type": "code",
      "metadata": {
        "id": "nwVU5DCr64b4",
        "colab": {
          "base_uri": "https://localhost:8080/",
          "height": 51
        },
        "outputId": "424bd651-1e54-402b-8957-54557aefcae1"
      },
      "source": [
        "nesnem=OrnekSinif()\n",
        "print (nesnem)"
      ],
      "execution_count": null,
      "outputs": [
        {
          "output_type": "stream",
          "text": [
            "Merhaba Sınıf\n",
            "<__main__.OrnekSinif object at 0x7fcbe181acc0>\n"
          ],
          "name": "stdout"
        }
      ]
    },
    {
      "cell_type": "markdown",
      "metadata": {
        "id": "t1g5W_JEloTc"
      },
      "source": [
        "<br>**Örnek 4** <br>\n",
        "Nesnenizi oluşturdunuz. print( ) kullandığınızda nesnenin ait olduğu sınıfın adı ve hafızadaki yeri yazdı-\n",
        "rılacaktır. Sınıfın açıklamasına bakmak için “nesnem.__doc__”u kullanabilirsiniz."
      ]
    },
    {
      "cell_type": "code",
      "metadata": {
        "id": "ejhgrR2OmMoy",
        "colab": {
          "base_uri": "https://localhost:8080/",
          "height": 34
        },
        "outputId": "7ef50b5b-4fae-41fc-8d9e-43eaae163870"
      },
      "source": [
        "nesnem.__doc__"
      ],
      "execution_count": null,
      "outputs": [
        {
          "output_type": "execute_result",
          "data": {
            "text/plain": [
              "'Bu sınıf örnek amaçlı oluşturulmuştur.'"
            ]
          },
          "metadata": {
            "tags": []
          },
          "execution_count": 50
        }
      ]
    },
    {
      "cell_type": "markdown",
      "metadata": {
        "id": "GojQvlnu1F9T"
      },
      "source": [
        "**\\_\\_init__() Fonksiyonu**<br>\n",
        "Bir sınıftan bir nesne oluşturulduğunda otomatik olarak çalışan bir fonksiyondur. NTP'de yapıcı (constructor)  fonksiyon olarak adlandırılan bu fonksiyonlar nesne için zorunlu parametreleri işler ve nesnenin oluşturulmasını sağlar.<br>"
      ]
    },
    {
      "cell_type": "markdown",
      "metadata": {
        "id": "BYIjhPeM73rM"
      },
      "source": [
        "<br>**Örnek 5** <br> Yapıcı fonksiyonu self olmadan tanımlayınız."
      ]
    },
    {
      "cell_type": "code",
      "metadata": {
        "id": "DBFfzsvO8d5u",
        "colab": {
          "base_uri": "https://localhost:8080/",
          "height": 197
        },
        "outputId": "9a5ab01d-1594-44ac-b13e-85150ad2d491"
      },
      "source": [
        "class OrnekSinif:\n",
        "  def __init__():\n",
        "    print ('Merhaba Sınıf')\n",
        "nesnem=OrnekSinif()"
      ],
      "execution_count": null,
      "outputs": [
        {
          "output_type": "error",
          "ename": "TypeError",
          "evalue": "ignored",
          "traceback": [
            "\u001b[0;31m---------------------------------------------------------------------------\u001b[0m",
            "\u001b[0;31mTypeError\u001b[0m                                 Traceback (most recent call last)",
            "\u001b[0;32m<ipython-input-51-dca29725c758>\u001b[0m in \u001b[0;36m<module>\u001b[0;34m()\u001b[0m\n\u001b[1;32m      2\u001b[0m   \u001b[0;32mdef\u001b[0m \u001b[0m__init__\u001b[0m\u001b[0;34m(\u001b[0m\u001b[0;34m)\u001b[0m\u001b[0;34m:\u001b[0m\u001b[0;34m\u001b[0m\u001b[0;34m\u001b[0m\u001b[0m\n\u001b[1;32m      3\u001b[0m     \u001b[0mprint\u001b[0m \u001b[0;34m(\u001b[0m\u001b[0;34m'Merhaba Sınıf'\u001b[0m\u001b[0;34m)\u001b[0m\u001b[0;34m\u001b[0m\u001b[0;34m\u001b[0m\u001b[0m\n\u001b[0;32m----> 4\u001b[0;31m \u001b[0mnesnem\u001b[0m\u001b[0;34m=\u001b[0m\u001b[0mOrnekSinif\u001b[0m\u001b[0;34m(\u001b[0m\u001b[0;34m)\u001b[0m\u001b[0;34m\u001b[0m\u001b[0;34m\u001b[0m\u001b[0m\n\u001b[0m",
            "\u001b[0;31mTypeError\u001b[0m: __init__() takes 0 positional arguments but 1 was given"
          ]
        }
      ]
    },
    {
      "cell_type": "markdown",
      "metadata": {
        "id": "RxLMxdkH89LW"
      },
      "source": [
        "**Örnek 6** <br>Verilen metin ifadelerini istenilen kadar yazan bir sınıf tanımlayınız.\n",
        "Sınıf için bazı zorunlu parametreler oluşturulacaktır.\n",
        "<br>"
      ]
    },
    {
      "cell_type": "code",
      "metadata": {
        "id": "5JTlPOoRr2OZ",
        "colab": {
          "base_uri": "https://localhost:8080/",
          "height": 119
        },
        "outputId": "27462b50-a406-40ec-dcd8-495ef590ced0"
      },
      "source": [
        "class MetinSinifi:\n",
        "  def __init__(self, ifade, tekrarSayisi, kacisKarakteri):\n",
        "    print ((ifade+kacisKarakteri)*tekrarSayisi)\n",
        "nesnem=MetinSinifi('Sınıf oluşturduk.',5, '\\n')"
      ],
      "execution_count": null,
      "outputs": [
        {
          "output_type": "stream",
          "text": [
            "Sınıf oluşturduk.\n",
            "Sınıf oluşturduk.\n",
            "Sınıf oluşturduk.\n",
            "Sınıf oluşturduk.\n",
            "Sınıf oluşturduk.\n",
            "\n"
          ],
          "name": "stdout"
        }
      ]
    },
    {
      "cell_type": "markdown",
      "metadata": {
        "id": "BVGszFdFugwH"
      },
      "source": [
        "**Örnek 7** <br>Sınıfı farklı sayıda argümanlarla kullanabilirsiniz."
      ]
    },
    {
      "cell_type": "code",
      "metadata": {
        "id": "vHYVDlJIu-mT",
        "colab": {
          "base_uri": "https://localhost:8080/",
          "height": 119
        },
        "outputId": "ff6121f9-0588-449a-e4e7-d1c120341cc5"
      },
      "source": [
        "class MetinSinifi:\n",
        "  def __init__(self, ifade, tekrarSayisi, kacisKarakteri='\\n'):\n",
        "    print ((ifade+kacisKarakteri)*tekrarSayisi)\n",
        "nesnem=MetinSinifi('Sınıf oluşturduk.',5)"
      ],
      "execution_count": null,
      "outputs": [
        {
          "output_type": "stream",
          "text": [
            "Sınıf oluşturduk.\n",
            "Sınıf oluşturduk.\n",
            "Sınıf oluşturduk.\n",
            "Sınıf oluşturduk.\n",
            "Sınıf oluşturduk.\n",
            "\n"
          ],
          "name": "stdout"
        }
      ]
    },
    {
      "cell_type": "markdown",
      "metadata": {
        "id": "iTOT6YDKwDY_"
      },
      "source": [
        "**Örnek 8** <br>Sınıf oluştururken verdiğiniz argümanlara erişmek için aşağıdaki kodları kullanabilirsiniz."
      ]
    },
    {
      "cell_type": "code",
      "metadata": {
        "id": "T4uCMyFAwjMA"
      },
      "source": [
        "class MetinSinifi:\n",
        "  def __init__(self, ifade, tekrarSayisi, kacisKarakteri='\\n'):\n",
        "    self.ifade=ifade\n",
        "    self.tekrarSayisi=tekrarSayisi\n",
        "    print ((ifade+kacisKarakteri)*tekrarSayisi)"
      ],
      "execution_count": null,
      "outputs": []
    },
    {
      "cell_type": "markdown",
      "metadata": {
        "id": "GwoxR15pwxEE"
      },
      "source": [
        "**Örnek 9** <br>"
      ]
    },
    {
      "cell_type": "code",
      "metadata": {
        "id": "o4mVjbEpxyjC",
        "colab": {
          "base_uri": "https://localhost:8080/",
          "height": 119
        },
        "outputId": "014bf6be-e80d-4b06-c77a-3a24bf6d0d95"
      },
      "source": [
        "metinNesnesi=MetinSinifi('Müdür', 3)\n",
        "print ('Yazılan Metin: ', metinNesnesi.ifade)\n",
        "print('Tekrar Sayısı: ', metinNesnesi.tekrarSayisi)"
      ],
      "execution_count": null,
      "outputs": [
        {
          "output_type": "stream",
          "text": [
            "Müdür\n",
            "Müdür\n",
            "Müdür\n",
            "\n",
            "Yazılan Metin:  Müdür\n",
            "Tekrar Sayısı:  3\n"
          ],
          "name": "stdout"
        }
      ]
    },
    {
      "cell_type": "markdown",
      "metadata": {
        "id": "fSkPysl3r6uV"
      },
      "source": [
        "**Örnek 10**<br>\n",
        "<br>Bir Masa Lambası sınıfı oluşturunuz."
      ]
    },
    {
      "cell_type": "code",
      "metadata": {
        "id": "NtAdv8KThnKg"
      },
      "source": [
        "class MasaLambasi:\n",
        "#Örnek bir sınıf\n",
        "  isikRengi='sarı' # özellik\n",
        "  isikDurum=False # özellik\n",
        "  def isikAc(self): # metot, fonksiyon\n",
        "    self.isikDurum=True\n",
        "    return 'Aydınlık'"
      ],
      "execution_count": null,
      "outputs": []
    },
    {
      "cell_type": "markdown",
      "metadata": {
        "id": "Y-qWNOV70tAv"
      },
      "source": [
        "**Örnek 11** <br>Sınıfınızı adıyla çağırabilirsiniz."
      ]
    },
    {
      "cell_type": "code",
      "metadata": {
        "id": "rFA86hST1B2F",
        "colab": {
          "base_uri": "https://localhost:8080/",
          "height": 34
        },
        "outputId": "a5d543a9-848e-4c2b-99cd-889fb1824cd3"
      },
      "source": [
        "MasaLambasi.isikRengi"
      ],
      "execution_count": null,
      "outputs": [
        {
          "output_type": "execute_result",
          "data": {
            "text/plain": [
              "'sarı'"
            ]
          },
          "metadata": {
            "tags": []
          },
          "execution_count": 66
        }
      ]
    },
    {
      "cell_type": "markdown",
      "metadata": {
        "id": "eH8q7kDkkVCi"
      },
      "source": [
        "**Örnek 12** <br>Sınıfınızdan bir nesne türetebilir ve sınıfınızda tanımladığınız özelliklere erişebilirsiniz."
      ]
    },
    {
      "cell_type": "code",
      "metadata": {
        "id": "ORjz0l3_kYrj",
        "colab": {
          "base_uri": "https://localhost:8080/",
          "height": 51
        },
        "outputId": "22e36fec-afc5-438e-fbbe-4840cbcb62ab"
      },
      "source": [
        "lambam=MasaLambasi()\n",
        "print (lambam.isikAc())\n",
        "print (lambam.isikDurum)"
      ],
      "execution_count": null,
      "outputs": [
        {
          "output_type": "stream",
          "text": [
            "Aydınlık\n",
            "True\n"
          ],
          "name": "stdout"
        }
      ]
    },
    {
      "cell_type": "markdown",
      "metadata": {
        "id": "Zmwk5F1vu0SR"
      },
      "source": [
        "**Örnek 13** <br>Oluşturduğunuz nesneyi silmek için del( ) fonksiyonunu kullanabilirsiniz."
      ]
    },
    {
      "cell_type": "code",
      "metadata": {
        "id": "3qrJUyBHu6ik",
        "colab": {
          "base_uri": "https://localhost:8080/",
          "height": 197
        },
        "outputId": "835d543d-81e5-44ae-eb34-da4354cfb61a"
      },
      "source": [
        "del(lambam)\n",
        "print(lambam.isikDurum)\n",
        "# Nesnemizi sildiğimiz için hata ile karşılaşırız."
      ],
      "execution_count": null,
      "outputs": [
        {
          "output_type": "error",
          "ename": "NameError",
          "evalue": "ignored",
          "traceback": [
            "\u001b[0;31m---------------------------------------------------------------------------\u001b[0m",
            "\u001b[0;31mNameError\u001b[0m                                 Traceback (most recent call last)",
            "\u001b[0;32m<ipython-input-67-c18bef2cc0fd>\u001b[0m in \u001b[0;36m<module>\u001b[0;34m()\u001b[0m\n\u001b[0;32m----> 1\u001b[0;31m \u001b[0;32mdel\u001b[0m\u001b[0;34m(\u001b[0m\u001b[0mlambam\u001b[0m\u001b[0;34m)\u001b[0m\u001b[0;34m\u001b[0m\u001b[0;34m\u001b[0m\u001b[0m\n\u001b[0m\u001b[1;32m      2\u001b[0m \u001b[0mprint\u001b[0m\u001b[0;34m(\u001b[0m\u001b[0mlambam\u001b[0m\u001b[0;34m.\u001b[0m\u001b[0misikDurum\u001b[0m\u001b[0;34m)\u001b[0m\u001b[0;34m\u001b[0m\u001b[0;34m\u001b[0m\u001b[0m\n\u001b[1;32m      3\u001b[0m \u001b[0;31m# Nesnemizi sildiğimiz için hata ile karşılaşırız.\u001b[0m\u001b[0;34m\u001b[0m\u001b[0;34m\u001b[0m\u001b[0;34m\u001b[0m\u001b[0m\n",
            "\u001b[0;31mNameError\u001b[0m: name 'lambam' is not defined"
          ]
        }
      ]
    },
    {
      "cell_type": "markdown",
      "metadata": {
        "id": "zBbP2GO_tT0e"
      },
      "source": [
        "**Örnek 14** <br>Masa lambası sınıfınızı yeniden tanımlayınız. Bu sınıfa farklı özellikler ve işlevler ekleyiniz."
      ]
    },
    {
      "cell_type": "code",
      "metadata": {
        "id": "wgp-2AapxVD7"
      },
      "source": [
        "class MasaLambasi:\n",
        "  __doc__='Masa Lambası Sınıfı'\n",
        "  isikDurum=False\n",
        "  def __init__(self,    isikSiddeti, isikRengi='sarı', garantiSuresi=2):\n",
        "    self.isikSiddeti=isikSiddeti\n",
        "  def isikAc(self):\n",
        "    self.isikDurum=True\n",
        "  def isikKapat(self):\n",
        "    self.isikDurum=False\n",
        "  def isigiArtir(self, artirmaMiktari):\n",
        "    self.isikSiddeti+=artirmaMiktari"
      ],
      "execution_count": null,
      "outputs": []
    },
    {
      "cell_type": "markdown",
      "metadata": {
        "id": "odyLZGiE5zKb"
      },
      "source": [
        "**Örnek 15** <br>Sınıfınızdan bir nesne türetiniz. Bunun için parametrelere argümanları yani değerleri girebilirsiniz."
      ]
    },
    {
      "cell_type": "code",
      "metadata": {
        "id": "ndLNWH1mzPMz"
      },
      "source": [
        "lambam=MasaLambasi(60, garantiSuresi=3) \n",
        "# argümanları parametre sırasına göre verebileceğimiz argüman adlarını kullanarak da değer verebiliriz."
      ],
      "execution_count": null,
      "outputs": []
    },
    {
      "cell_type": "markdown",
      "metadata": {
        "id": "5s_GTSwaoXXY"
      },
      "source": [
        "**Örnek 16** <br>Nesnenin özelliklerini ve işlevlerini kullanabilirsiniz.\n"
      ]
    },
    {
      "cell_type": "code",
      "metadata": {
        "id": "kqU9S95boqb4",
        "colab": {
          "base_uri": "https://localhost:8080/",
          "height": 34
        },
        "outputId": "4b94be60-1b6c-4195-cd73-8f655c0a17c7"
      },
      "source": [
        "lambam.isikAc() #şimdi ışığı açalım\n",
        "print ('Işık Açık mı? ', lambam.isikDurum) #Işığın durumunu yazdıralım"
      ],
      "execution_count": null,
      "outputs": [
        {
          "output_type": "stream",
          "text": [
            "Işık Açık mı?  True\n"
          ],
          "name": "stdout"
        }
      ]
    },
    {
      "cell_type": "markdown",
      "metadata": {
        "id": "egGJKTjvpCuq"
      },
      "source": [
        "**Örnek 17** <br>Işığın şiddetini arttırarak son durumu kontrol edebilirsiniz."
      ]
    },
    {
      "cell_type": "code",
      "metadata": {
        "id": "yiylzlXipIkj",
        "colab": {
          "base_uri": "https://localhost:8080/",
          "height": 34
        },
        "outputId": "2354c7bc-ff6b-4b3b-e926-d99f294f6362"
      },
      "source": [
        "lambam.isigiArtir(5)\n",
        "print('Işık Şiddeti:', lambam.isikSiddeti)"
      ],
      "execution_count": null,
      "outputs": [
        {
          "output_type": "stream",
          "text": [
            "Işık Şiddeti: 65\n"
          ],
          "name": "stdout"
        }
      ]
    },
    {
      "cell_type": "markdown",
      "metadata": {
        "id": "9j_ymROcpq1_"
      },
      "source": [
        "**Örnek 18** <br>Işığı kapatabilirsiniz."
      ]
    },
    {
      "cell_type": "code",
      "metadata": {
        "id": "hQtWvOu8puJe",
        "colab": {
          "base_uri": "https://localhost:8080/",
          "height": 34
        },
        "outputId": "bde3e91c-34c7-4505-e6ab-849d61860468"
      },
      "source": [
        "lambam.isikKapat()\n",
        "print('Işık Açık mı?', lambam.isikDurum)"
      ],
      "execution_count": null,
      "outputs": [
        {
          "output_type": "stream",
          "text": [
            "Işık Açık mı? False\n"
          ],
          "name": "stdout"
        }
      ]
    },
    {
      "cell_type": "markdown",
      "metadata": {
        "id": "IJmJL0vXsLcb"
      },
      "source": [
        " **Örnek 19** <br>Aşağıdaki örnekte öğrenci verilerini ve öğrencilere ait işlemleri yaptığınız bir sınıf oluşturunuz."
      ]
    },
    {
      "cell_type": "code",
      "metadata": {
        "id": "CcZELuzOyy6f"
      },
      "source": [
        "class Ogrenci():\n",
        "  __doc__='Öğrenci sınıfı'\n",
        "  ogrenciler=[]\n",
        "  def __init__(self, ogrenciAdiSoyadi):\n",
        "    self.ogrenciAdiSoyadi = ogrenciAdiSoyadi\n",
        "    self.dersleri = []\n",
        "    self.sinavlar=[]\n",
        "    self.ogrenciEkle(self.ogrenciAdiSoyadi)\n",
        "\n",
        "  def ogrenciEkle(self, adSoyad):\n",
        "    self.ogrenciler.append(adSoyad)\n",
        "    print('{} adlı kişi öğrencilere eklendi'.format(adSoyad))\n",
        "    \n",
        "  def ogrenciListesiYazdir(self):\n",
        "    print('Öğrenci listesi')\n",
        "    for ogrenci in self.ogrenciler:\n",
        "      print(ogrenci)\n",
        "\n",
        "  def dersEkle(self, dersAdi):\n",
        "    self.dersleri.append(dersAdi)\n",
        "\n",
        "  def ogrencininDersleri(self):\n",
        "    print('{} adlı kişinin dersleri:'.format(self.ogrenciAdiSoyadi))\n",
        "    for ders in self.dersleri:\n",
        "      print(ders)\n",
        "\n",
        "  def sinavPuaniEkle(self, sinavPuani):\n",
        "    self.sinavlar.append(sinavPuani)\n",
        "    \n",
        "  def ogrencininSinavPuanlari(self):\n",
        "    print('{} adlı kişinin sınav sonuçları:'.format(self.ogrenciAdiSoyadi))\n",
        "    for sinav in self.sinavlar:\n",
        "      print(sinav)"
      ],
      "execution_count": null,
      "outputs": []
    },
    {
      "cell_type": "markdown",
      "metadata": {
        "id": "38LCbdIHm6Nf"
      },
      "source": [
        "**Örnek 20** <br>Bir sınıfın içeriğine bakmak için “dir(sinifAdi)” kullanabilirsiniz. Standart parametrelerin yanı sıra tanımlı\n",
        "olan fonksiyonların listesine erişebilirsiniz."
      ]
    },
    {
      "cell_type": "code",
      "metadata": {
        "id": "n8yZdFcjm6ch",
        "colab": {
          "base_uri": "https://localhost:8080/",
          "height": 578
        },
        "outputId": "e5bac17d-2d8b-4d2e-ca71-866f51968f40"
      },
      "source": [
        "dir(Ogrenci)"
      ],
      "execution_count": null,
      "outputs": [
        {
          "output_type": "execute_result",
          "data": {
            "text/plain": [
              "['__class__',\n",
              " '__delattr__',\n",
              " '__dict__',\n",
              " '__dir__',\n",
              " '__doc__',\n",
              " '__eq__',\n",
              " '__format__',\n",
              " '__ge__',\n",
              " '__getattribute__',\n",
              " '__gt__',\n",
              " '__hash__',\n",
              " '__init__',\n",
              " '__init_subclass__',\n",
              " '__le__',\n",
              " '__lt__',\n",
              " '__module__',\n",
              " '__ne__',\n",
              " '__new__',\n",
              " '__reduce__',\n",
              " '__reduce_ex__',\n",
              " '__repr__',\n",
              " '__setattr__',\n",
              " '__sizeof__',\n",
              " '__str__',\n",
              " '__subclasshook__',\n",
              " '__weakref__',\n",
              " 'dersEkle',\n",
              " 'ogrenciEkle',\n",
              " 'ogrenciListesiYazdir',\n",
              " 'ogrenciler',\n",
              " 'ogrencininDersleri',\n",
              " 'ogrencininSinavPuanlari',\n",
              " 'sinavPuaniEkle']"
            ]
          },
          "metadata": {
            "tags": []
          },
          "execution_count": 106
        }
      ]
    },
    {
      "cell_type": "markdown",
      "metadata": {
        "id": "e632JscQbeDW"
      },
      "source": [
        "**Örnek 21** <br>Sınıfınızdan bir nesne türeterek bir öğrenci ekleyebilirsiniz.\n"
      ]
    },
    {
      "cell_type": "code",
      "metadata": {
        "id": "OUL4x1C1bpTp",
        "colab": {
          "base_uri": "https://localhost:8080/",
          "height": 34
        },
        "outputId": "a6cc027a-b0c5-498c-d3b5-3234aadc3364"
      },
      "source": [
        "ogrenciNesnesi=Ogrenci('Murat Çalışkan')"
      ],
      "execution_count": null,
      "outputs": [
        {
          "output_type": "stream",
          "text": [
            "Murat Çalışkan adlı kişi öğrencilere eklendi\n"
          ],
          "name": "stdout"
        }
      ]
    },
    {
      "cell_type": "markdown",
      "metadata": {
        "id": "CORh5CFZlOxz"
      },
      "source": [
        "**Örnek 22** <br>Öğrenci sayısına bakabilirsiniz."
      ]
    },
    {
      "cell_type": "code",
      "metadata": {
        "id": "u8oFmhQWlRad",
        "colab": {
          "base_uri": "https://localhost:8080/",
          "height": 34
        },
        "outputId": "3b8d6e9e-60ac-4300-ec30-2b43ec30dc35"
      },
      "source": [
        "print ('Öğrenci Sayısı:', len(ogrenciNesnesi.ogrenciler))"
      ],
      "execution_count": null,
      "outputs": [
        {
          "output_type": "stream",
          "text": [
            "Öğrenci Sayısı: 1\n"
          ],
          "name": "stdout"
        }
      ]
    },
    {
      "cell_type": "markdown",
      "metadata": {
        "id": "4ps6LK_LleuX"
      },
      "source": [
        "**Örnek 23** <br>Öğrencilere dersleri ve sınav puanlarını ekleyebilirsiniz."
      ]
    },
    {
      "cell_type": "code",
      "metadata": {
        "id": "OOgiBkCgn3j1"
      },
      "source": [
        "ogrenciNesnesi.dersEkle('Türkçe')\n",
        "ogrenciNesnesi.sinavPuaniEkle(95)\n",
        "ogrenciNesnesi.dersEkle('Matematik')\n",
        "ogrenciNesnesi.sinavPuaniEkle(100)\n",
        "ogrenciNesnesi.dersEkle('Fen Bilgisi')\n",
        "ogrenciNesnesi.sinavPuaniEkle(100)"
      ],
      "execution_count": null,
      "outputs": []
    },
    {
      "cell_type": "markdown",
      "metadata": {
        "id": "TtL7YOlMoiGK"
      },
      "source": [
        "**Örnek 24** <br>Öğrencinin derslerini ve sınav puanlarını listeleyebilirsiniz."
      ]
    },
    {
      "cell_type": "code",
      "metadata": {
        "id": "LfuQep6EotBt",
        "colab": {
          "base_uri": "https://localhost:8080/",
          "height": 153
        },
        "outputId": "95ddb68e-97f6-41c9-cfb5-80107e106adb"
      },
      "source": [
        "ogrenciNesnesi.ogrencininDersleri()\n",
        "ogrenciNesnesi.ogrencininSinavPuanlari()"
      ],
      "execution_count": null,
      "outputs": [
        {
          "output_type": "stream",
          "text": [
            "Murat Çalışkan adlı kişinin dersleri:\n",
            "Türkçe\n",
            "Matematik\n",
            "Fen Bilgisi\n",
            "Murat Çalışkan adlı kişinin sınav sonuçları:\n",
            "95\n",
            "100\n",
            "100\n"
          ],
          "name": "stdout"
        }
      ]
    },
    {
      "cell_type": "markdown",
      "metadata": {
        "id": "XjNMyOCZo_Yq"
      },
      "source": [
        "**Örnek 25** <br>Şimdi bir öğrenci daha ekleyiniz ve öğrenci listesini yazdırınız."
      ]
    },
    {
      "cell_type": "code",
      "metadata": {
        "id": "BpamzdtQplST",
        "colab": {
          "base_uri": "https://localhost:8080/",
          "height": 34
        },
        "outputId": "8554276a-0cef-4531-b46c-21db3624227b"
      },
      "source": [
        "ogrenciNesnesi.ogrenciEkle('Ahmet Yavaş')"
      ],
      "execution_count": null,
      "outputs": [
        {
          "output_type": "stream",
          "text": [
            "Ahmet Yavaş adlı kişi öğrencilere eklendi\n"
          ],
          "name": "stdout"
        }
      ]
    },
    {
      "cell_type": "code",
      "metadata": {
        "id": "fFXVAEz8rEZu",
        "colab": {
          "base_uri": "https://localhost:8080/",
          "height": 34
        },
        "outputId": "9f317ea9-c36b-4e7c-e625-8c6e824c5780"
      },
      "source": [
        "len(ogrenciNesnesi.ogrenciler)"
      ],
      "execution_count": null,
      "outputs": [
        {
          "output_type": "execute_result",
          "data": {
            "text/plain": [
              "2"
            ]
          },
          "metadata": {
            "tags": []
          },
          "execution_count": 112
        }
      ]
    },
    {
      "cell_type": "markdown",
      "metadata": {
        "id": "gUkZT2lqNpjL"
      },
      "source": [
        "# **Sınıf Metotları**<br>\n",
        " Aşağıdaki sınıfta `__init__` sınıf içindeki metotlar tarafından çağıralabilmektedir. Aynı zamanda bu metotlara sınıf üzerinden doğrudan erişilebilmektedir.<br>**Örnek 27** <br>"
      ]
    },
    {
      "cell_type": "code",
      "metadata": {
        "id": "Kzp3LRrLyR-8"
      },
      "source": [
        "class Ogrenciler():\n",
        "    def __init__(self, sorgu=None, sirasi=None):\n",
        "      self.ogrenciListe = [('Murat Çalışkan', 11, 131), ('Ahmet Yavaş', 11, 124), ('Emre Hızlı', 12, 135), ('Murat Çalışkan', 12, 155)]\n",
        "      if not sorgu and not sirasi:\n",
        "        listem = self.ogrenciListe\n",
        "      else:\n",
        "        listem = [li for li in self.ogrenciListe if sorgu == li[sirasi]]\n",
        "      for i in listem:\n",
        "        print(*i, sep=', ')\n",
        "    \n",
        "    @classmethod #Bir sınıf metodu tanımlanıyor\n",
        "    def ogrenciAdindanSorgula(cls, adi): # self gibi burada da cls parametresi kullanılıyor\n",
        "        cls(adi, 0)\n",
        "    \n",
        "    @classmethod\n",
        "    def ogrenciSinifindanSorgula(cls, sinifi):\n",
        "        cls(sinifi, 1)\n",
        " \n",
        "    @classmethod\n",
        "    def ogrenciNumarasindanSorgula(cls, numarasi):\n",
        "        cls(numarasi, 2)"
      ],
      "execution_count": null,
      "outputs": []
    },
    {
      "cell_type": "markdown",
      "metadata": {
        "id": "aNbhWYOU8En2"
      },
      "source": [
        "<br>**Örnek 28** <br>Doğrudan sınıfın metotlarını çağırarak ve adını verdiğiniz bir öğrencinin bilgilerini listeleyiniz.\n"
      ]
    },
    {
      "cell_type": "code",
      "metadata": {
        "id": "PImeUYsaz2Ge",
        "colab": {
          "base_uri": "https://localhost:8080/"
        },
        "outputId": "285a2c79-7f27-403a-a255-544e6df2dfa9"
      },
      "source": [
        "Ogrenciler.ogrenciAdindanSorgula('Murat Çalışkan')"
      ],
      "execution_count": null,
      "outputs": [
        {
          "output_type": "stream",
          "text": [
            "Murat Çalışkan, 11, 131\n",
            "Murat Çalışkan, 12, 155\n"
          ],
          "name": "stdout"
        }
      ]
    },
    {
      "cell_type": "markdown",
      "metadata": {
        "id": "c1XIjL7q9FxF"
      },
      "source": [
        "**Örnek 29** <br>Belirli bir sınıftaki öğrencilerin listesini alınız."
      ]
    },
    {
      "cell_type": "code",
      "metadata": {
        "id": "lVvOg_549HNn",
        "colab": {
          "base_uri": "https://localhost:8080/",
          "height": 51
        },
        "outputId": "990cd398-e03b-4d5f-e346-47e53fec8548"
      },
      "source": [
        "Ogrenciler.ogrenciSinifindanSorgula(12)"
      ],
      "execution_count": null,
      "outputs": [
        {
          "output_type": "stream",
          "text": [
            "Emre Hızlı, 12, 135\n",
            "Murat Çalışkan, 12, 155\n"
          ],
          "name": "stdout"
        }
      ]
    },
    {
      "cell_type": "markdown",
      "metadata": {
        "id": "974fkg239o6n"
      },
      "source": [
        "**Örnek 30** <br>Öğrenci numarasından sorgulama yapınız."
      ]
    },
    {
      "cell_type": "code",
      "metadata": {
        "id": "w2rFZUz09xf9",
        "colab": {
          "base_uri": "https://localhost:8080/",
          "height": 34
        },
        "outputId": "b0ff810e-b268-40e4-f626-dd120cd57a3b"
      },
      "source": [
        "Ogrenciler.ogrenciNumarasindanSorgula(131)"
      ],
      "execution_count": null,
      "outputs": [
        {
          "output_type": "stream",
          "text": [
            "Murat Çalışkan, 11, 131\n"
          ],
          "name": "stdout"
        }
      ]
    },
    {
      "cell_type": "markdown",
      "metadata": {
        "id": "TpEPO0258nLq"
      },
      "source": [
        "**Örnek 31** <br>Tüm öğrencileri listelemek için Ogrenciler() argüman kullanmadan çağırmalısınız. Bunun için sınıfınızdan bir nesne türetiniz."
      ]
    },
    {
      "cell_type": "code",
      "metadata": {
        "id": "hL368WhF4wb_",
        "colab": {
          "base_uri": "https://localhost:8080/",
          "height": 85
        },
        "outputId": "72347d0e-2713-4ab8-afcd-bcd11db1dc7b"
      },
      "source": [
        "tumOgrenciListe=Ogrenciler()"
      ],
      "execution_count": null,
      "outputs": [
        {
          "output_type": "stream",
          "text": [
            "Murat Çalışkan, 11, 131\n",
            "Ahmet Yavaş, 11, 124\n",
            "Emre Hızlı, 12, 135\n",
            "Murat Çalışkan, 12, 155\n"
          ],
          "name": "stdout"
        }
      ]
    },
    {
      "cell_type": "markdown",
      "metadata": {
        "id": "ADWnCxkbNzfY"
      },
      "source": [
        "#**Kapsülleme**<br>\n",
        "**Örnek 32** <br>Örnekte `self.__TCNo=TCNo ` kullanımı öğrencinin kimlik numarasına dışarıdan erişimi engeller. "
      ]
    },
    {
      "cell_type": "code",
      "metadata": {
        "id": "Zo-Wa_UxCEEE",
        "colab": {
          "base_uri": "https://localhost:8080/",
          "height": 85
        },
        "outputId": "fb486e7b-ae3e-4cac-d5d9-b32433986237"
      },
      "source": [
        "class Ogrenciler:\n",
        "  def __init__(self,adi,yasi,TCNo):\n",
        "    self.adi=adi\n",
        "    self.yasi=yasi\n",
        "    self.__TCNo=TCNo \n",
        "\n",
        "  def ogrenciYaz(self):\n",
        "    print('Öğrenci Bilgileri')\n",
        "    print(self.adi)\n",
        "    print(self.yasi)\n",
        "    print(self.__TCNo)\n",
        "  \n",
        "ogrenci=Ogrenciler('Murat Çalışkan',17,54639876211)\n",
        "ogrenci.ogrenciYaz()"
      ],
      "execution_count": null,
      "outputs": [
        {
          "output_type": "stream",
          "text": [
            "Öğrenci Bilgileri\n",
            "Murat Çalışkan\n",
            "17\n",
            "54639876211\n"
          ],
          "name": "stdout"
        }
      ]
    },
    {
      "cell_type": "markdown",
      "metadata": {
        "id": "-uE2kdDNURDY"
      },
      "source": [
        "**Örnek 33** <br>Öğrenci bilgilerine doğrudan erişmeyi deneyiniz."
      ]
    },
    {
      "cell_type": "code",
      "metadata": {
        "id": "nAdnBhtoUQgc",
        "colab": {
          "base_uri": "https://localhost:8080/",
          "height": 51
        },
        "outputId": "212f2707-4a47-4f41-afbf-e22232f93fd7"
      },
      "source": [
        "print (ogrenci.adi)\n",
        "print (ogrenci.yasi)"
      ],
      "execution_count": null,
      "outputs": [
        {
          "output_type": "stream",
          "text": [
            "Murat Çalışkan\n",
            "17\n"
          ],
          "name": "stdout"
        }
      ]
    },
    {
      "cell_type": "markdown",
      "metadata": {
        "id": "RvXAix12U0CK"
      },
      "source": [
        "**Örnek 34** <br>Öğrencinin adı ve yaşı değişkenleri gizli olmadığı için sınıf dışından doğrudan ulaşılabilir. Öğrencinin\n",
        "kimlik numarasına erişmeye çalışınız."
      ]
    },
    {
      "cell_type": "code",
      "metadata": {
        "id": "_E7u1Dn8VNxT",
        "colab": {
          "base_uri": "https://localhost:8080/",
          "height": 163
        },
        "outputId": "d753dd75-4eff-45a4-e63b-b47c49d0cd59"
      },
      "source": [
        "print(ogrenci.__TCNo)"
      ],
      "execution_count": null,
      "outputs": [
        {
          "output_type": "error",
          "ename": "AttributeError",
          "evalue": "ignored",
          "traceback": [
            "\u001b[0;31m---------------------------------------------------------------------------\u001b[0m",
            "\u001b[0;31mAttributeError\u001b[0m                            Traceback (most recent call last)",
            "\u001b[0;32m<ipython-input-212-62da05ea5506>\u001b[0m in \u001b[0;36m<module>\u001b[0;34m()\u001b[0m\n\u001b[0;32m----> 1\u001b[0;31m \u001b[0mprint\u001b[0m\u001b[0;34m(\u001b[0m\u001b[0mogrenci\u001b[0m\u001b[0;34m.\u001b[0m\u001b[0m__TCNo\u001b[0m\u001b[0;34m)\u001b[0m\u001b[0;34m\u001b[0m\u001b[0;34m\u001b[0m\u001b[0m\n\u001b[0m",
            "\u001b[0;31mAttributeError\u001b[0m: 'Ogrenciler' object has no attribute '__TCNo'"
          ]
        }
      ]
    },
    {
      "cell_type": "markdown",
      "metadata": {
        "id": "b0ACYAZXVV6h"
      },
      "source": [
        "**Örnek 35** <br>Sınıf içinde özel olarak tanımlanmış bu tür özelliklere erişmek için “set” ve “get” metodları (diğer NTP\n",
        "dillerinde de farklı adlarla) bulunur. “get” özellikleri okumak “set” ise değiştirmek için kullanılır."
      ]
    },
    {
      "cell_type": "code",
      "metadata": {
        "id": "s8ou1LLhTeCz"
      },
      "source": [
        "class Ogrenciler:\n",
        "  def __init__(self,adi,yasi,TCNo):\n",
        "    self.adi=adi\n",
        "    self.yasi=yasi\n",
        "    self.__TCNo=TCNo \n",
        "\n",
        "  def ogrenciYaz(self):\n",
        "    print('Öğrenci Bilgileri')\n",
        "    print(self.adi)\n",
        "    print(self.yasi)\n",
        "    print(self.__TCNo)\n",
        "  \n",
        "  def get_TCNo(self):\n",
        "    return str(self.__TCNo)[7:]"
      ],
      "execution_count": null,
      "outputs": []
    },
    {
      "cell_type": "markdown",
      "metadata": {
        "id": "yxBsQHSBW3Ca"
      },
      "source": [
        "**Örnek 36** <br>Yukarıda tanımladığımız `def get_TCNo(self):` ile kimlik numarasının son 4 hanesini döndürdük."
      ]
    },
    {
      "cell_type": "code",
      "metadata": {
        "id": "3yDh5LCQW6bP",
        "colab": {
          "base_uri": "https://localhost:8080/",
          "height": 34
        },
        "outputId": "5b72a9c5-2495-4ddd-b3d8-42c8a674e791"
      },
      "source": [
        "ogrenci=Ogrenciler('Sezai', 43, 12345678901)\n",
        "print(ogrenci.get_TCNo())"
      ],
      "execution_count": null,
      "outputs": [
        {
          "output_type": "stream",
          "text": [
            "8901\n"
          ],
          "name": "stdout"
        }
      ]
    },
    {
      "cell_type": "markdown",
      "metadata": {
        "id": "WqB8McqzYzrD"
      },
      "source": [
        "**Örnek 37** <br>“get” metodu ile yazma özelliği verebilir, “set” metodu ile de değişkene yeni değer atayabilirsiniz. "
      ]
    },
    {
      "cell_type": "code",
      "metadata": {
        "id": "66QhTa_hZNaZ"
      },
      "source": [
        "class Ogrenciler:\n",
        "  def __init__(self,adi,yasi,TCNo):\n",
        "    self.adi=adi\n",
        "    self.yasi=yasi\n",
        "    self.__TCNo=TCNo \n",
        "\n",
        "  def ogrenciYaz(self):\n",
        "    print('Öğrenci Bilgileri')\n",
        "    print(self.adi)\n",
        "    print(self.yasi)\n",
        "    print(self.__TCNo)\n",
        "  \n",
        "  def get_TCNo(self):\n",
        "    return str(self.__TCNo)[7:]\n",
        "\n",
        "  def set_TCNo(self,TcNoDuzelt):\n",
        "    self.__TCNo=TcNoDuzelt"
      ],
      "execution_count": null,
      "outputs": []
    },
    {
      "cell_type": "markdown",
      "metadata": {
        "id": "sIlhwMHzZfdb"
      },
      "source": [
        "**Örnek 38** <br>“get” metodu ile yazma özelliği verebilir, “set” metodu ile de değişkene yeni değer atayabilirsiniz."
      ]
    },
    {
      "cell_type": "code",
      "metadata": {
        "id": "-2FAE2EJZnXz",
        "colab": {
          "base_uri": "https://localhost:8080/",
          "height": 34
        },
        "outputId": "e5983df7-29c0-4ef0-d8da-2f0dabe72638"
      },
      "source": [
        "ogrenci=Ogrenciler('Metin Ali', 33, 23142343655)\n",
        "print ('Öğrenci TC No son 4 hane: ', ogrenci.get_TCNo())"
      ],
      "execution_count": null,
      "outputs": [
        {
          "output_type": "stream",
          "text": [
            "Öğrenci TC No son 4 hane:  3655\n"
          ],
          "name": "stdout"
        }
      ]
    },
    {
      "cell_type": "markdown",
      "metadata": {
        "id": "rNpDeXtiaTlf"
      },
      "source": [
        "**Örnek 39** <br>Öğrencinin kimlik numarasını düzeltebilir ve tekrar yazdırabilirsiniz.\n"
      ]
    },
    {
      "cell_type": "code",
      "metadata": {
        "id": "2ojYbn5racUN",
        "colab": {
          "base_uri": "https://localhost:8080/",
          "height": 34
        },
        "outputId": "b6c67729-e39a-4065-aea7-8b33db1be581"
      },
      "source": [
        "ogrenci.set_TCNo(12309768687)\n",
        "print ('Öğrenci TC No son 4 hane: ', ogrenci.get_TCNo())"
      ],
      "execution_count": null,
      "outputs": [
        {
          "output_type": "stream",
          "text": [
            "Öğrenci TC No son 4 hane:  8687\n"
          ],
          "name": "stdout"
        }
      ]
    },
    {
      "cell_type": "markdown",
      "metadata": {
        "id": "aEZcOWL-I9kP"
      },
      "source": [
        "**Örnek 40** <br>Bu örnekte bir kedi üst sınıfı tanımlayınız."
      ]
    },
    {
      "cell_type": "code",
      "metadata": {
        "id": "UKigJBCqIM2i"
      },
      "source": [
        "#Üst Sınıf\n",
        "class Kedi:\n",
        "    tur = 'Memeli'\n",
        "    \n",
        "    def __init__(self, adi, yasi):\n",
        "      self.adi = adi\n",
        "      self.yasi = yasi\n",
        "\n",
        "    def ozellikler(self):\n",
        "      return \"{} {} yaşında\".format(self.adi, self.yasi)\n",
        "\n",
        "    def miyavla(self, sesi):\n",
        "      return \"{}  {} diye miyavlar\".format(self.adi, sesi)"
      ],
      "execution_count": null,
      "outputs": []
    },
    {
      "cell_type": "markdown",
      "metadata": {
        "id": "wsFpFCysJBJJ"
      },
      "source": [
        "**Örnek 41** <br>Kedi üst sınıfından farklı türdeki kediler için alt sınıflar tanımlayınız."
      ]
    },
    {
      "cell_type": "code",
      "metadata": {
        "id": "g13UbmPLJIpW",
        "colab": {
          "base_uri": "https://localhost:8080/",
          "height": 51
        },
        "outputId": "0f13d8e1-21aa-4bfe-e449-6eba4bb38cb5"
      },
      "source": [
        "# Kedi alt sınıfından miras alan altsınıfımız\n",
        "class PersKedisi(Kedi):\n",
        "  def tuyleri(self, tuyuNasil):\n",
        "    return \"{} tüyleri {}\".format(self.adi, tuyuNasil)"
      ],
      "execution_count": null,
      "outputs": [
        {
          "output_type": "stream",
          "text": [
            "Pisi 4 yaşında\n",
            "Pisi gözleri Mavi ve kahverengi\n"
          ],
          "name": "stdout"
        }
      ]
    },
    {
      "cell_type": "markdown",
      "metadata": {
        "id": "eDU-qeYzgahm"
      },
      "source": [
        "Alt sınıftan “Pisi” adında ve “4” yaşında bir kedi türetiniz"
      ]
    },
    {
      "cell_type": "code",
      "metadata": {
        "id": "BC52pnmSgazu"
      },
      "source": [
        "class VanKedisi(Kedi):\n",
        "  def gozRengi(self, gozRengiNe):\n",
        "    return \"{} gözleri {}\".format(self.adi, gozRengiNe)\n",
        "\n",
        "pisi = VanKedisi('Pisi', 4)\n",
        "print(pisi.ozellikler())\n",
        "print(pisi.gozRengi('Mavi ve kahverengi'))"
      ],
      "execution_count": null,
      "outputs": []
    },
    {
      "cell_type": "markdown",
      "metadata": {
        "id": "KbogYQeLMMPa"
      },
      "source": [
        "**Örnek 42** <br>“PersKedisi” ve “VanKedisi” alt sınıflarını “Kedi” üst sınıfından metotları ve özellikleri devralarak oluşturdunuz. Bu iki alt sınıfa kendilerine özgü yeni özellikler ve metotlar tanımlayarak örneğe devam ediniz."
      ]
    },
    {
      "cell_type": "code",
      "metadata": {
        "id": "KeyFX8Y6MkMu",
        "colab": {
          "base_uri": "https://localhost:8080/",
          "height": 68
        },
        "outputId": "422d1299-3621-4ec4-97db-d7f406d85018"
      },
      "source": [
        "persia= PersKedisi('Persia', 4)\n",
        "print(persia.ozellikler())\n",
        "print (persia.miyavla('meaaaw'))\n",
        "print(persia.tuyleri('Yumuşak'))"
      ],
      "execution_count": null,
      "outputs": [
        {
          "output_type": "stream",
          "text": [
            "Persia 4 yaşında\n",
            "Persia  meaaaw diye miyavlar\n",
            "Persia tüyleri Yumuşak\n"
          ],
          "name": "stdout"
        }
      ]
    },
    {
      "cell_type": "markdown",
      "metadata": {
        "id": "7sn9saULNNce"
      },
      "source": [
        "**Örnek 43** <br>Diğer alt sınıfın da kendine ait özelliklerini ve üst sınıftan devraldığı özellik ve metotları çağırabilirsiniz.\n",
        "Üst sınıftan devralınan metotları ve özellikleri geçersiz (overridding) kılabilirsiniz."
      ]
    },
    {
      "cell_type": "code",
      "metadata": {
        "id": "j8dVdpBKR98k",
        "colab": {
          "base_uri": "https://localhost:8080/",
          "height": 51
        },
        "outputId": "742b00c9-035a-4315-b501-3904b16e092e"
      },
      "source": [
        "class VanKedisi(Kedi):\n",
        "  def gozRengi(self, gozRengiNe):\n",
        "    return \"{} gözleri {}\".format(self.adi, gozRengiNe)\n",
        "  def ozellikler(self):\n",
        "    return \"Türü: Van kedisi adı:{} ve {} yaşında\".format(self.adi, self.yasi)\n",
        "    #üst sınıftan farklı bir değer döndürdük\n",
        "pisi = VanKedisi('Pisi', 4)\n",
        "print(pisi.ozellikler())\n",
        "print(pisi.gozRengi('Mavi ve kahverengi'))"
      ],
      "execution_count": null,
      "outputs": [
        {
          "output_type": "stream",
          "text": [
            "Türü: Van kedisi adı:Pisi ve 4 yaşında\n",
            "Pisi gözleri Mavi ve kahverengi\n"
          ],
          "name": "stdout"
        }
      ]
    },
    {
      "cell_type": "markdown",
      "metadata": {
        "id": "ZeW2r3uENbx9"
      },
      "source": [
        "# Bölüm Alıştırmaları"
      ]
    },
    {
      "cell_type": "markdown",
      "metadata": {
        "id": "tEHE-mw6dA4t"
      },
      "source": [
        "1. Bir araba sınıfı tanımlayınız.\n",
        "Özellikler:\n",
        "marka, model, kapı sayısı, rengi, fiyatı, motor seri numarası (gizli özellik). Marka ve model dışındaki\n",
        "tüm özelliklerin varsayılan değeri yok (None), kapı sayısı varsayılan değeri=2 olarak tanımlanacaktır. Arabanın özelliklerini yazdıran bir metot tanımlayınız."
      ]
    },
    {
      "cell_type": "code",
      "metadata": {
        "id": "Zh5HrBnNdfeW"
      },
      "source": [
        "class Araba:\n",
        "  __doc__='Araba Sınıfı'\n",
        "  def __init__(self,    marka, model, kapiSayisi=2, rengi=None, fiyat=None, motorSeriNo=None): \n",
        "    self.marka=marka\n",
        "    self.model=model\n",
        "    self.kapiSayisi=kapiSayisi\n",
        "    self.rengi=rengi\n",
        "    self.__fiyat=fiyat\n",
        "    self.__motorSeriNo=motorSeriNo\n",
        "  def arabaOzellikleri(self):\n",
        "    print ('{} model  {} kapılı  {} renkli {} marka araç'.format(self.model,  self.kapiSayisi, self.rengi, self.marka))"
      ],
      "execution_count": null,
      "outputs": []
    },
    {
      "cell_type": "markdown",
      "metadata": {
        "id": "o6Cb7ZimgNGK"
      },
      "source": [
        "2. Bu araba sınıfından sarı renkli 2 kapılı 1993 model bir “Marka 00” marka araba türetiniz. Motor\n",
        "şase numarası 123456789 olsun. Daha sonra bu arabanın özelliklerini yazdırınız."
      ]
    },
    {
      "cell_type": "code",
      "metadata": {
        "id": "o_RdxmsMgXx_",
        "colab": {
          "base_uri": "https://localhost:8080/"
        },
        "outputId": "30b8e519-c4b7-460e-f687-0b8e79710f3c"
      },
      "source": [
        "arabam=Araba('Marka 00', 1993,2,'sarı',motorSeriNo=123456789)\n",
        "arabam.arabaOzellikleri()"
      ],
      "execution_count": null,
      "outputs": [
        {
          "output_type": "stream",
          "text": [
            "1993 model  2 kapılı  sarı renkli Marka 00 marka araç\n"
          ],
          "name": "stdout"
        }
      ]
    },
    {
      "cell_type": "markdown",
      "metadata": {
        "id": "OU3IKhaZhEHh"
      },
      "source": [
        "3. Motor şase numarasını okumak ve değiştirmek için sınıfı düzenleyiniz. Şase numarasını değiştirerek\n",
        "ekrana yazdırınız."
      ]
    },
    {
      "cell_type": "code",
      "metadata": {
        "id": "A3e8z3uzhbVa"
      },
      "source": [
        "class Araba:\n",
        "  __doc__='Araba Sınıfı'\n",
        "  def __init__(self,    marka, model, kapiSayisi=2, rengi=None, fiyat=None, motorSeriNo=None): \n",
        "    self.marka=marka\n",
        "    self.model=model\n",
        "    self.kapiSayisi=kapiSayisi\n",
        "    self.rengi=rengi\n",
        "    self.__fiyat=fiyat\n",
        "    self.__motorSeriNo=motorSeriNo\n",
        "  def arabaOzellikleri(self):\n",
        "    print ('{} model  {} kapılı  {} renkli {} marka araç motor seri no: {}'.format(self.model,  self.kapiSayisi, self.rengi, self.marka, self.__motorSeriNo))\n",
        "  def get_motorSeriNo(self):\n",
        "    return self.__motorSeriNo\n",
        "  def set_motorSeriNo(self, motorSeriNoDuzeltme):\n",
        "    self.__motorSeriNo=motorSeriNoDuzeltme"
      ],
      "execution_count": null,
      "outputs": []
    },
    {
      "cell_type": "code",
      "metadata": {
        "id": "yu2-o2_QijY9",
        "colab": {
          "base_uri": "https://localhost:8080/"
        },
        "outputId": "b4f7eefe-c2d2-445b-b37b-2cc05c2c93c9"
      },
      "source": [
        "arabam=Araba('Murat 131', 1981)\n",
        "arabam.arabaOzellikleri()\n",
        "arabam.set_motorSeriNo(123456) #yeni seri numara değerini verdik\n",
        "print(arabam.get_motorSeriNo())"
      ],
      "execution_count": null,
      "outputs": [
        {
          "output_type": "stream",
          "text": [
            "1981 model  2 kapılı  None renkli Murat 131 marka araç motor seri no: None\n",
            "123456\n"
          ],
          "name": "stdout"
        }
      ]
    },
    {
      "cell_type": "markdown",
      "metadata": {
        "id": "nxLgPbxKjqSF"
      },
      "source": [
        "4. Araba sınıfından kalıtım yoluyla bir sınıf üretiniz ve gazVer metodunda ekrana ‘Gaza basıldı’ yazmasını sağlayınız. Bu alt sınıfa çelik jant özelliği ekleyiniz."
      ]
    },
    {
      "cell_type": "code",
      "metadata": {
        "id": "aQpNGdNukckH",
        "colab": {
          "base_uri": "https://localhost:8080/"
        },
        "outputId": "c7a0a155-e9f2-4ad4-fd43-7d3891f9e90b"
      },
      "source": [
        "class ArabaSinifim(Araba):\n",
        "  celikJant=True\n",
        "  def gazVer(self):\n",
        "    print (self.marka, 'Durum: Gaza basıldı')\n",
        "\n",
        "tomofil=ArabaSinifim('Marka 456', 1992)\n",
        "tomofil.gazVer()\n",
        "tomofil.arabaOzellikleri()\n",
        "  \n"
      ],
      "execution_count": null,
      "outputs": [
        {
          "output_type": "stream",
          "text": [
            "Marka 456 Durum: Gaza basıldı\n",
            "1992 model  2 kapılı  None renkli Marka 456 marka araç motor seri no: None\n"
          ],
          "name": "stdout"
        }
      ]
    }
  ]
}