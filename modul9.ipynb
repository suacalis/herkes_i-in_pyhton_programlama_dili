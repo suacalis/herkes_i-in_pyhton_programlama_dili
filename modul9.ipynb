{
  "nbformat": 4,
  "nbformat_minor": 0,
  "metadata": {
    "colab": {
      "name": "modul9",
      "provenance": [],
      "collapsed_sections": []
    },
    "kernelspec": {
      "name": "python3",
      "display_name": "Python 3"
    }
  },
  "cells": [
    {
      "cell_type": "markdown",
      "metadata": {
        "id": "bncCQ9idTzjL"
      },
      "source": [
        "<h>**MODÜL 9<br>Demetler ve Sözlükler**</h>"
      ]
    },
    {
      "cell_type": "markdown",
      "metadata": {
        "id": "WEHp572dNgPE"
      },
      "source": [
        "**Örnek 1**"
      ]
    },
    {
      "cell_type": "code",
      "metadata": {
        "id": "MKyJWAZ2NiJU"
      },
      "source": [
        " # bos bir sozluk\n",
        "sozluk1 = {}\n",
        "print(sozluk1)\n",
        "# integer veri tipi olusturulan keyler\n",
        "sozluk2= {1: 'adana', 2: 'adıyaman'}\n",
        "print(sozluk2)\n",
        "# string ve integer veri tipi ile oluşan keyler\n",
        "sozluk3 = {'isim': 'ali', 1: [5, 4, 3]}\n",
        "print(sozluk3)\n",
        "# dict fonksiyonu\n",
        "sozluk4 = dict({1:'erik', 2:'ayva'})\n",
        "print(sozluk4)"
      ],
      "execution_count": null,
      "outputs": []
    },
    {
      "cell_type": "markdown",
      "metadata": {
        "id": "WjBWzR8vNxMl"
      },
      "source": [
        "**Örnek 2**"
      ]
    },
    {
      "cell_type": "code",
      "metadata": {
        "id": "TAUavPg4NzM9"
      },
      "source": [
        "sozluk = {\"bilgisayar\" : \"computer\",\"sarı\" : \"yellow\",\"masa\" : \"chair\"}\n",
        "print(sozluk)\n"
      ],
      "execution_count": null,
      "outputs": []
    },
    {
      "cell_type": "markdown",
      "metadata": {
        "id": "Pqmn1JoQOdvf"
      },
      "source": [
        "**Örnek 3**"
      ]
    },
    {
      "cell_type": "code",
      "metadata": {
        "id": "2Xqh0DQ8Ofhr"
      },
      "source": [
        "#keys() metodu sözlükteki anahtarları yazdırır.\n",
        "iller={ \"konya\" :\"42\",\"istanbul\"   :\"34\",\"ankara\" :\"06\" }\n",
        "print ( iller.keys())\n",
        "#values()metodu  sözlükteki değerleri bize yazdırır.\n",
        "print (iller.values())\n"
      ],
      "execution_count": null,
      "outputs": []
    },
    {
      "cell_type": "markdown",
      "metadata": {
        "id": "elWuZeCFOh-3"
      },
      "source": [
        "**Örnek 4**"
      ]
    },
    {
      "cell_type": "code",
      "metadata": {
        "id": "fZXE2tm3Ok96",
        "colab": {
          "base_uri": "https://localhost:8080/",
          "height": 51
        },
        "outputId": "23eec6f8-2bdd-42cb-baa7-3f1c0d039ab7"
      },
      "source": [
        "meyveler={\n",
        "\"Adı\": \"protakal\",\n",
        "\"Türü\": \"Turunçgiller\",\n",
        "\"Kg\": 20\n",
        "}\n",
        "print(meyveler[\"Adı\"])\n",
        "print (meyveler[\"Kg\"])\n"
      ],
      "execution_count": null,
      "outputs": [
        {
          "output_type": "stream",
          "text": [
            "protakal\n",
            "20\n"
          ],
          "name": "stdout"
        }
      ]
    },
    {
      "cell_type": "markdown",
      "metadata": {
        "id": "A14RCn9pQG9F"
      },
      "source": [
        "**Örnek 5**"
      ]
    },
    {
      "cell_type": "code",
      "metadata": {
        "id": "eTR_jznJQItn",
        "colab": {
          "base_uri": "https://localhost:8080/",
          "height": 68
        },
        "outputId": "af64b48a-8f32-435b-cbaf-b5c11ebb93b4"
      },
      "source": [
        "\n",
        "kisi_bilgileri = {'ad':'ali','yas':40,'memleketi':'konya'}\n",
        "print(kisi_bilgileri)\n",
        " # deger değiştirme\n",
        "kisi_bilgileri['yas'] =45\n",
        "print(kisi_bilgileri)\n",
        "# deger ekleme\n",
        "kisi_bilgileri['adres'] = 'nişantaşı'\n",
        "print(kisi_bilgileri)"
      ],
      "execution_count": null,
      "outputs": [
        {
          "output_type": "stream",
          "text": [
            "{'ad': 'ali', 'yas': 40, 'memleketi': 'konya'}\n",
            "{'ad': 'ali', 'yas': 45, 'memleketi': 'konya'}\n",
            "{'ad': 'ali', 'yas': 45, 'memleketi': 'konya', 'adres': 'nişantaşı'}\n"
          ],
          "name": "stdout"
        }
      ]
    },
    {
      "cell_type": "markdown",
      "metadata": {
        "id": "ZvQ3LeDJQkpl"
      },
      "source": [
        "**Örnek 6**"
      ]
    },
    {
      "cell_type": "code",
      "metadata": {
        "id": "SnnpjYHYQmiU",
        "colab": {
          "base_uri": "https://localhost:8080/",
          "height": 51
        },
        "outputId": "96edb4dd-af78-4fcf-a8fe-75e6a1905c5d"
      },
      "source": [
        "kisi_bilgileri= {\"Adı\": \"Ekrem\",\"Soyadı\": \"Yıldırır\",\"Yaşı\": 40 }\n",
        "print(kisi_bilgileri)\n",
        "kisi_bilgileri.pop(\"Yaşı\")\n",
        "print(kisi_bilgileri)\n",
        "\n",
        "\n",
        "\n"
      ],
      "execution_count": null,
      "outputs": [
        {
          "output_type": "stream",
          "text": [
            "{'Adı': 'Ekrem', 'Soyadı': 'Yıldırır', 'Yaşı': 40}\n",
            "{'Adı': 'Ekrem', 'Soyadı': 'Yıldırır'}\n"
          ],
          "name": "stdout"
        }
      ]
    },
    {
      "cell_type": "markdown",
      "metadata": {
        "id": "5TgK76DQRfpq"
      },
      "source": [
        "**Örnek 7**"
      ]
    },
    {
      "cell_type": "code",
      "metadata": {
        "id": "kVbjui-oRhbK",
        "colab": {
          "base_uri": "https://localhost:8080/",
          "height": 51
        },
        "outputId": "45b5fa14-0d51-4d3e-cade-2e1a3904c88f"
      },
      "source": [
        "kisi_bilgileri= {\"Adı\": \"Ekrem\",\"Soyadı\": \"Yıldırır\",\"Yaşı\": 40}\n",
        "print(kisi_bilgileri)\n",
        "kisi_bilgileri.popitem()\n",
        "print(kisi_bilgileri)\n",
        "\n"
      ],
      "execution_count": null,
      "outputs": [
        {
          "output_type": "stream",
          "text": [
            "{'Adı': 'Ekrem', 'Soyadı': 'Yıldırır', 'Yaşı': 40}\n",
            "{'Adı': 'Ekrem', 'Soyadı': 'Yıldırır'}\n"
          ],
          "name": "stdout"
        }
      ]
    },
    {
      "cell_type": "markdown",
      "metadata": {
        "id": "OAbvWNoMR20I"
      },
      "source": [
        "**Örnek 8**"
      ]
    },
    {
      "cell_type": "code",
      "metadata": {
        "id": "h2WRhHTlR5JY",
        "colab": {
          "base_uri": "https://localhost:8080/",
          "height": 34
        },
        "outputId": "c93927df-06f5-4923-9863-7f22023b6bb6"
      },
      "source": [
        "kisi_bilgileri= {\"Adı\": \"Ekrem\",\"Soyadı\": \"Yıldırır\",\"Yaşı\": 40}\n",
        "del kisi_bilgileri[\"Yaşı\"]\n",
        "print(kisi_bilgileri)\n",
        "\n",
        "\n"
      ],
      "execution_count": null,
      "outputs": [
        {
          "output_type": "stream",
          "text": [
            "{'Adı': 'Ekrem', 'Soyadı': 'Yıldırır'}\n"
          ],
          "name": "stdout"
        }
      ]
    },
    {
      "cell_type": "markdown",
      "metadata": {
        "id": "lCX_fuv7TorQ"
      },
      "source": [
        "**Örnek 9**"
      ]
    },
    {
      "cell_type": "code",
      "metadata": {
        "id": "qdpzholdTqfn",
        "colab": {
          "base_uri": "https://localhost:8080/",
          "height": 214
        },
        "outputId": "9b3c0e3d-5630-4bd8-97ac-2b83d6fab1ad"
      },
      "source": [
        "kisi_bilgileri= {\"Adı\": \"Ekrem\",\"Soyadı\": \"Yıldırır\",\"Yaşı\": 40}\n",
        "kisi_bilgileri.clear()\n",
        "print(kisi_bilgileri)\n",
        "del kisi_bilgileri\n",
        "print(kisi_bilgileri)\n"
      ],
      "execution_count": null,
      "outputs": [
        {
          "output_type": "stream",
          "text": [
            "{}\n"
          ],
          "name": "stdout"
        },
        {
          "output_type": "error",
          "ename": "NameError",
          "evalue": "ignored",
          "traceback": [
            "\u001b[0;31m---------------------------------------------------------------------------\u001b[0m",
            "\u001b[0;31mNameError\u001b[0m                                 Traceback (most recent call last)",
            "\u001b[0;32m<ipython-input-9-c04608b44e6f>\u001b[0m in \u001b[0;36m<module>\u001b[0;34m()\u001b[0m\n\u001b[1;32m      3\u001b[0m \u001b[0mprint\u001b[0m\u001b[0;34m(\u001b[0m\u001b[0mkisi_bilgileri\u001b[0m\u001b[0;34m)\u001b[0m\u001b[0;34m\u001b[0m\u001b[0;34m\u001b[0m\u001b[0m\n\u001b[1;32m      4\u001b[0m \u001b[0;32mdel\u001b[0m \u001b[0mkisi_bilgileri\u001b[0m\u001b[0;34m\u001b[0m\u001b[0;34m\u001b[0m\u001b[0m\n\u001b[0;32m----> 5\u001b[0;31m \u001b[0mprint\u001b[0m\u001b[0;34m(\u001b[0m\u001b[0mkisi_bilgileri\u001b[0m\u001b[0;34m)\u001b[0m\u001b[0;34m\u001b[0m\u001b[0;34m\u001b[0m\u001b[0m\n\u001b[0m",
            "\u001b[0;31mNameError\u001b[0m: name 'kisi_bilgileri' is not defined"
          ]
        }
      ]
    },
    {
      "cell_type": "markdown",
      "metadata": {
        "id": "xdPnZxQNUC-t"
      },
      "source": [
        "**Örnek 10**"
      ]
    },
    {
      "cell_type": "code",
      "metadata": {
        "id": "XSPmrsJHUFIt",
        "colab": {
          "base_uri": "https://localhost:8080/",
          "height": 68
        },
        "outputId": "40087b9d-cb91-4f09-b31f-f0049f9f9e16"
      },
      "source": [
        "sozluk={\"adi\":\"sami\", }\n",
        "print(sozluk)\n",
        "sozluk['soyadi']='yılmaz'\n",
        "print(sozluk)\n",
        "sozluk['yasi']=40\n",
        "print (sozluk)\n"
      ],
      "execution_count": null,
      "outputs": [
        {
          "output_type": "stream",
          "text": [
            "{'adi': 'sami'}\n",
            "{'adi': 'sami', 'soyadi': 'yılmaz'}\n",
            "{'adi': 'sami', 'soyadi': 'yılmaz', 'yasi': 40}\n"
          ],
          "name": "stdout"
        }
      ]
    },
    {
      "cell_type": "markdown",
      "metadata": {
        "id": "Z0fbmIwCUrn0"
      },
      "source": [
        "**Örnek 11**"
      ]
    },
    {
      "cell_type": "code",
      "metadata": {
        "id": "koCxF1F-Uuvr",
        "colab": {
          "base_uri": "https://localhost:8080/",
          "height": 34
        },
        "outputId": "cb4b063b-a040-4a4d-a15b-7620fce68f30"
      },
      "source": [
        "sozluk = {'isim':'ahmet','yas':40}\n",
        "# deger değiştirme\n",
        "sozluk['yas'] = 45\n",
        "print(sozluk['yas'])\n"
      ],
      "execution_count": null,
      "outputs": [
        {
          "output_type": "stream",
          "text": [
            "45\n"
          ],
          "name": "stdout"
        }
      ]
    },
    {
      "cell_type": "markdown",
      "metadata": {
        "id": "ygN2d_OzUw0I"
      },
      "source": [
        "**Örnek 12**"
      ]
    },
    {
      "cell_type": "code",
      "metadata": {
        "id": "wxixAdrgUyjm",
        "colab": {
          "base_uri": "https://localhost:8080/",
          "height": 51
        },
        "outputId": "be45b5e3-7b04-4bbe-d94d-1f0f573f261d"
      },
      "source": [
        "sozluk = {'ad': 'ali', 1: [5, 4]}\n",
        "print(sozluk['ad'])\n",
        "print(sozluk.get(1))"
      ],
      "execution_count": null,
      "outputs": [
        {
          "output_type": "stream",
          "text": [
            "ali\n",
            "[5, 4]\n"
          ],
          "name": "stdout"
        }
      ]
    },
    {
      "cell_type": "markdown",
      "metadata": {
        "id": "f8TX6l8MVSfr"
      },
      "source": [
        "**Örnek 13**"
      ]
    },
    {
      "cell_type": "code",
      "metadata": {
        "id": "z1LTwx9SVUIj",
        "colab": {
          "base_uri": "https://localhost:8080/",
          "height": 68
        },
        "outputId": "d6e6619a-2bbc-4995-ed5f-4f21ce782cde"
      },
      "source": [
        "sozluk1 = {\"sıfır\":0,\"bir\":1,\"iki\":2,\"üç\":3}\n",
        "print(sozluk1)\n",
        "# \"bir\" anahtarına karşılık gelen değeri buluyoruz.\n",
        "print(sozluk1 [\"bir\"])\n",
        "# \"iki\" anahtarına karşılık gelen değeri buluyoruz.\n",
        "print(sozluk1[\"iki\"])"
      ],
      "execution_count": null,
      "outputs": [
        {
          "output_type": "stream",
          "text": [
            "{'sıfır': 0, 'bir': 1, 'iki': 2, 'üç': 3}\n",
            "1\n",
            "2\n"
          ],
          "name": "stdout"
        }
      ]
    },
    {
      "cell_type": "markdown",
      "metadata": {
        "id": "kLs8__HwWABL"
      },
      "source": [
        "**Örnek 14**"
      ]
    },
    {
      "cell_type": "code",
      "metadata": {
        "id": "qM53pNHCWB5T",
        "colab": {
          "base_uri": "https://localhost:8080/",
          "height": 180
        },
        "outputId": "ebf9d398-5732-434f-bf73-09e405b51398"
      },
      "source": [
        "deneme = {\"sıfır\":0,\"bir\":1,\"iki\":2,\"üç\":3}\n",
        "print(deneme[\"on\"])\n"
      ],
      "execution_count": null,
      "outputs": [
        {
          "output_type": "error",
          "ename": "KeyError",
          "evalue": "ignored",
          "traceback": [
            "\u001b[0;31m---------------------------------------------------------------------------\u001b[0m",
            "\u001b[0;31mKeyError\u001b[0m                                  Traceback (most recent call last)",
            "\u001b[0;32m<ipython-input-12-e25f3b4387f3>\u001b[0m in \u001b[0;36m<module>\u001b[0;34m()\u001b[0m\n\u001b[1;32m      1\u001b[0m \u001b[0mdeneme\u001b[0m \u001b[0;34m=\u001b[0m \u001b[0;34m{\u001b[0m\u001b[0;34m\"sıfır\"\u001b[0m\u001b[0;34m:\u001b[0m\u001b[0;36m0\u001b[0m\u001b[0;34m,\u001b[0m\u001b[0;34m\"bir\"\u001b[0m\u001b[0;34m:\u001b[0m\u001b[0;36m1\u001b[0m\u001b[0;34m,\u001b[0m\u001b[0;34m\"iki\"\u001b[0m\u001b[0;34m:\u001b[0m\u001b[0;36m2\u001b[0m\u001b[0;34m,\u001b[0m\u001b[0;34m\"üç\"\u001b[0m\u001b[0;34m:\u001b[0m\u001b[0;36m3\u001b[0m\u001b[0;34m}\u001b[0m\u001b[0;34m\u001b[0m\u001b[0;34m\u001b[0m\u001b[0m\n\u001b[0;32m----> 2\u001b[0;31m \u001b[0mprint\u001b[0m\u001b[0;34m(\u001b[0m\u001b[0mdeneme\u001b[0m\u001b[0;34m[\u001b[0m\u001b[0;34m\"on\"\u001b[0m\u001b[0;34m]\u001b[0m\u001b[0;34m)\u001b[0m\u001b[0;34m\u001b[0m\u001b[0;34m\u001b[0m\u001b[0m\n\u001b[0m",
            "\u001b[0;31mKeyError\u001b[0m: 'on'"
          ]
        }
      ]
    },
    {
      "cell_type": "markdown",
      "metadata": {
        "id": "7ex0pYzzWDg7"
      },
      "source": [
        "**Örnek 15**"
      ]
    },
    {
      "cell_type": "code",
      "metadata": {
        "id": "WM33h9XPWFmk",
        "colab": {
          "base_uri": "https://localhost:8080/",
          "height": 34
        },
        "outputId": "8d5881a0-c971-46bb-8f98-496c45828029"
      },
      "source": [
        " demet=()\n",
        "print(demet)\n"
      ],
      "execution_count": null,
      "outputs": [
        {
          "output_type": "stream",
          "text": [
            "()\n"
          ],
          "name": "stdout"
        }
      ]
    },
    {
      "cell_type": "markdown",
      "metadata": {
        "id": "TYjxDcAwW_vg"
      },
      "source": [
        "**Örnek 16**"
      ]
    },
    {
      "cell_type": "code",
      "metadata": {
        "id": "FeS0jSJWXBX2"
      },
      "source": [
        "demet = (\"Python\",\"Java\",2020,\"JavaScript\")\n",
        "print(demet)\n"
      ],
      "execution_count": null,
      "outputs": []
    },
    {
      "cell_type": "markdown",
      "metadata": {
        "id": "Uy1p_h2wXGqp"
      },
      "source": [
        "**Örnek 17**"
      ]
    },
    {
      "cell_type": "code",
      "metadata": {
        "id": "TlWdUB7aXIYf",
        "colab": {
          "base_uri": "https://localhost:8080/",
          "height": 34
        },
        "outputId": "77ac1824-5483-421a-abe5-d271d3836b03"
      },
      "source": [
        "meyveler =(\"erik\",)\n",
        "print(meyveler)\n"
      ],
      "execution_count": null,
      "outputs": [
        {
          "output_type": "stream",
          "text": [
            "('erik',)\n"
          ],
          "name": "stdout"
        }
      ]
    },
    {
      "cell_type": "markdown",
      "metadata": {
        "id": "9Gf0GFjhY3iD"
      },
      "source": [
        "**Örnek 18**"
      ]
    },
    {
      "cell_type": "code",
      "metadata": {
        "id": "ns6t851jY5PC",
        "colab": {
          "base_uri": "https://localhost:8080/",
          "height": 85
        },
        "outputId": "4925e016-2784-4370-c06e-4ef721b27f5c"
      },
      "source": [
        "demet = (5,10,15,20,25,30)\n",
        "# 1. indise ulaşma\n",
        "print(demet[0])\n",
        "# 3. indise ulaşma\n",
        "print(demet[2])\n",
        "print(demet[-1])\n",
        "print(demet[2:])\n"
      ],
      "execution_count": null,
      "outputs": [
        {
          "output_type": "stream",
          "text": [
            "5\n",
            "15\n",
            "30\n",
            "(15, 20, 25, 30)\n"
          ],
          "name": "stdout"
        }
      ]
    },
    {
      "cell_type": "markdown",
      "metadata": {
        "id": "FFuB8gHyY8yI"
      },
      "source": [
        "**Örnek 19**"
      ]
    },
    {
      "cell_type": "code",
      "metadata": {
        "id": "2aPqn3SXY-7T"
      },
      "source": [
        "demet = tuple((\"Ankara\",\"Ä°stanbul\",\"Kayseri\"))\n",
        "print(demet)\n"
      ],
      "execution_count": null,
      "outputs": []
    },
    {
      "cell_type": "markdown",
      "metadata": {
        "id": "XZ9VapyRZasO"
      },
      "source": [
        "**Örnek 20**"
      ]
    },
    {
      "cell_type": "code",
      "metadata": {
        "id": "NXpYBH60Zcbi",
        "colab": {
          "base_uri": "https://localhost:8080/",
          "height": 34
        },
        "outputId": "dd3f2066-bb5b-4596-b50a-b5db4fb9cc83"
      },
      "source": [
        "sayılar = (0,1,2,3,4,5,6,7,8,9,) #bir demet tanımladım\n",
        "harfler = (\"a\",\"b\",\"c\",\"d\",\"e\") #ikinci bir demet tanımladım\n",
        "yeni_demet = sayılar + harfler #tanımladığım demetleri topladım\n",
        "print(yeni_demet) #yeni demeti ekrana yazdırdım\n"
      ],
      "execution_count": null,
      "outputs": [
        {
          "output_type": "stream",
          "text": [
            "(0, 1, 2, 3, 4, 5, 6, 7, 8, 9, 'a', 'b', 'c', 'd', 'e')\n"
          ],
          "name": "stdout"
        }
      ]
    },
    {
      "cell_type": "markdown",
      "metadata": {
        "id": "1Nvxd0HCZwuy"
      },
      "source": [
        "**Örnek 21**"
      ]
    },
    {
      "cell_type": "code",
      "metadata": {
        "id": "ZCOzKIUOTq-1",
        "colab": {
          "base_uri": "https://localhost:8080/",
          "height": 34
        },
        "outputId": "868fcf4e-70e2-4df3-859a-138535939e08"
      },
      "source": [
        "harfler = (\"a\",\"b\",\"c\",\"d\",\"e\")\n",
        "if \"a\" in harfler: #True çıktısı verir\n",
        "   print(True)\n",
        "else:\n",
        "   print(False)\n"
      ],
      "execution_count": null,
      "outputs": [
        {
          "output_type": "stream",
          "text": [
            "True\n"
          ],
          "name": "stdout"
        }
      ]
    },
    {
      "cell_type": "markdown",
      "metadata": {
        "id": "qi6vd-ddacm2"
      },
      "source": [
        "**Örnek 22**"
      ]
    },
    {
      "cell_type": "code",
      "metadata": {
        "id": "6IpzOCaQaeOp",
        "colab": {
          "base_uri": "https://localhost:8080/",
          "height": 51
        },
        "outputId": "28db42d1-8cee-4c28-8df8-2467104cf359"
      },
      "source": [
        "d=((1,2),(3,4),(5,6),(7,8))\n",
        "print(d[2][0])\n",
        "print(d[3][1])\n"
      ],
      "execution_count": null,
      "outputs": [
        {
          "output_type": "stream",
          "text": [
            "5\n",
            "8\n"
          ],
          "name": "stdout"
        }
      ]
    },
    {
      "cell_type": "markdown",
      "metadata": {
        "id": "sAI7uYiybXMT"
      },
      "source": [
        "**Örnek 23**"
      ]
    },
    {
      "cell_type": "code",
      "metadata": {
        "id": "BNH9QEiFbZOr",
        "colab": {
          "base_uri": "https://localhost:8080/",
          "height": 34
        },
        "outputId": "dfe01635-fbd9-4bd4-ecec-97fc12ab8946"
      },
      "source": [
        "demet = (\"lale\",\"kardelen\",\"zambak\",\"papatya\")\n",
        " # \"zambak\" elemanının indeksini buluyoruz.\n",
        "print(demet.index(\"zambak\"))\n"
      ],
      "execution_count": null,
      "outputs": [
        {
          "output_type": "stream",
          "text": [
            "2\n"
          ],
          "name": "stdout"
        }
      ]
    },
    {
      "cell_type": "markdown",
      "metadata": {
        "id": "7TT7MHLTbgoV"
      },
      "source": [
        "**Örnek 24**"
      ]
    },
    {
      "cell_type": "code",
      "metadata": {
        "id": "9xhsSvcAbiNb",
        "colab": {
          "base_uri": "https://localhost:8080/",
          "height": 34
        },
        "outputId": "7e7daf6d-f2e4-4db2-b196-ccba2c2f84fb"
      },
      "source": [
        "demet = (\"Python\",\"Java\",\"C#\",\"Delphi\",\"C++\",\"Java\",\"Java\")\n",
        "print(demet.count(\"Java\"))\n"
      ],
      "execution_count": null,
      "outputs": [
        {
          "output_type": "stream",
          "text": [
            "3\n"
          ],
          "name": "stdout"
        }
      ]
    },
    {
      "cell_type": "markdown",
      "metadata": {
        "id": "FI-Ai1N5b7fF"
      },
      "source": [
        "**Örnek 25**"
      ]
    },
    {
      "cell_type": "code",
      "metadata": {
        "id": "Jr2lw18Pb9Qw",
        "colab": {
          "base_uri": "https://localhost:8080/",
          "height": 34
        },
        "outputId": "f3ffdce3-3783-40e3-8c07-2537eb6b81ae"
      },
      "source": [
        "aylar =[\"ocak\",\"şubat\",\"mart\",\"nisan\",\"mayıs\",\"haziran\"]\n",
        "demet = tuple(aylar)\n",
        "print(demet)"
      ],
      "execution_count": null,
      "outputs": [
        {
          "output_type": "stream",
          "text": [
            "('ocak', 'şubat', 'mart', 'nisan', 'mayıs', 'haziran')\n"
          ],
          "name": "stdout"
        }
      ]
    },
    {
      "cell_type": "markdown",
      "metadata": {
        "id": "m6iCzCf9ce4g"
      },
      "source": [
        "**Örnek 26**"
      ]
    },
    {
      "cell_type": "code",
      "metadata": {
        "id": "fu9L60zccgr1",
        "colab": {
          "base_uri": "https://localhost:8080/",
          "height": 136
        },
        "outputId": "7ecd5014-6105-4cfa-965b-50a063646546"
      },
      "source": [
        "deneme=  (1,2,3,4,5,6,7)\n",
        "for eleman in deneme:\n",
        "  print(eleman)"
      ],
      "execution_count": null,
      "outputs": [
        {
          "output_type": "stream",
          "text": [
            "1\n",
            "2\n",
            "3\n",
            "4\n",
            "5\n",
            "6\n",
            "7\n"
          ],
          "name": "stdout"
        }
      ]
    },
    {
      "cell_type": "markdown",
      "metadata": {
        "id": "7JVQeL9sci4Z"
      },
      "source": [
        "**Örnek 27**"
      ]
    },
    {
      "cell_type": "code",
      "metadata": {
        "id": "xohMQelrckyZ",
        "colab": {
          "base_uri": "https://localhost:8080/",
          "height": 34
        },
        "outputId": "5994e07c-309c-4174-d401-71b34eff7623"
      },
      "source": [
        "demet =(\"lale\",\"kardelen\",\"zambak\",\"papatya\")\n",
        "print(sorted(demet))\n",
        "\n"
      ],
      "execution_count": null,
      "outputs": [
        {
          "output_type": "stream",
          "text": [
            "['kardelen', 'lale', 'papatya', 'zambak']\n"
          ],
          "name": "stdout"
        }
      ]
    },
    {
      "cell_type": "markdown",
      "metadata": {
        "id": "go2baH4LeNlN"
      },
      "source": [
        "**Bölüm_cevap_1**"
      ]
    },
    {
      "cell_type": "code",
      "metadata": {
        "id": "Lzk8aBPOePfj"
      },
      "source": [
        "sayilar=(20,24,25,79,40,39,50) \n"
      ],
      "execution_count": null,
      "outputs": []
    },
    {
      "cell_type": "markdown",
      "metadata": {
        "id": "p-NrXFHLeQLB"
      },
      "source": [
        "**Bölüm_cevap_2**"
      ]
    },
    {
      "cell_type": "code",
      "metadata": {
        "id": "FaAjEMNNeSoJ"
      },
      "source": [
        "sayilar=(20,24,25,79,40,39,50) \n",
        "\n",
        "for meyve in sayilar:\n",
        "if meyve%5 ==0:\n",
        "print(meyve)\n"
      ],
      "execution_count": null,
      "outputs": []
    },
    {
      "cell_type": "markdown",
      "metadata": {
        "id": "RRYxZKUAel6T"
      },
      "source": [
        "**Bölüm_cevap_3**"
      ]
    },
    {
      "cell_type": "code",
      "metadata": {
        "id": "Dgf2vFHzeoLg"
      },
      "source": [
        "demet = (\"hasan\",\"ali\",\"c\",\"mehmet\",\"deniz\",\"f\",\"fatma\")\n",
        "yenidemet = demet[3:5]\n",
        "print(yenidemet)\n"
      ],
      "execution_count": null,
      "outputs": []
    },
    {
      "cell_type": "markdown",
      "metadata": {
        "id": "A_vYUhTTesv3"
      },
      "source": [
        "**Bölüm_cevap_4**"
      ]
    },
    {
      "cell_type": "code",
      "metadata": {
        "id": "co91_obhex7Q"
      },
      "source": [
        "uygulama=(\"ali\",\"veli\",\"ayşe\",\"Fatma\",\"Hayriye\",\"ali\",\"deniz\") \n",
        "print(uygulama.count(\"ali\"))\n"
      ],
      "execution_count": null,
      "outputs": []
    },
    {
      "cell_type": "markdown",
      "metadata": {
        "id": "AmJbti2-e5i8"
      },
      "source": [
        "**Bölüm_cevap_5**"
      ]
    },
    {
      "cell_type": "code",
      "metadata": {
        "id": "05FYW2o1e6Sy",
        "colab": {
          "base_uri": "https://localhost:8080/",
          "height": 68
        },
        "outputId": "0d27d7d2-d271-480a-e4a5-4c20d8d38049"
      },
      "source": [
        "sozluk = {'renk': 'mavi', 'kıyafet': 'pantolon', 'beden': 'M'}\n",
        "for anahtar in sozluk:\n",
        "   \t print(anahtar)\n"
      ],
      "execution_count": null,
      "outputs": [
        {
          "output_type": "stream",
          "text": [
            "renk\n",
            "kıyafet\n",
            "beden\n"
          ],
          "name": "stdout"
        }
      ]
    },
    {
      "cell_type": "markdown",
      "metadata": {
        "id": "e0Qk2Ld1fG3T"
      },
      "source": [
        "**Bölüm_cevap_6**"
      ]
    },
    {
      "cell_type": "code",
      "metadata": {
        "id": "ILK4gwiefH7M",
        "colab": {
          "base_uri": "https://localhost:8080/",
          "height": 170
        },
        "outputId": "ded80f0e-7dfa-46c3-f234-07e0b0124e16"
      },
      "source": [
        "\n",
        "sozluk = {'renk': 'mavi', 'kıyafet': 'pantolon', 'beden': 'M'}\n",
        "for anahtar in sozluk:\n",
        "    print(anahtar,sozluk[anahtar])\n",
        "\n",
        "sozluk_bilesenleri=sozluk.items()\n",
        "\n",
        "for bilesen in sozluk_bilesenleri :\n",
        "    print(bilesen)\n",
        "    print(type(bilesen))# demet veri tipinde oluyor\n"
      ],
      "execution_count": null,
      "outputs": [
        {
          "output_type": "stream",
          "text": [
            "renk mavi\n",
            "kıyafet pantolon\n",
            "beden M\n",
            "('renk', 'mavi')\n",
            "<class 'tuple'>\n",
            "('kıyafet', 'pantolon')\n",
            "<class 'tuple'>\n",
            "('beden', 'M')\n",
            "<class 'tuple'>\n"
          ],
          "name": "stdout"
        }
      ]
    }
  ]
}