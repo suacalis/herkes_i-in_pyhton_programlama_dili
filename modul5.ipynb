{
  "nbformat": 4,
  "nbformat_minor": 0,
  "metadata": {
    "colab": {
      "name": "modul5",
      "provenance": [],
      "collapsed_sections": []
    },
    "kernelspec": {
      "name": "python3",
      "display_name": "Python 3"
    }
  },
  "cells": [
    {
      "cell_type": "markdown",
      "metadata": {
        "id": "bncCQ9idTzjL"
      },
      "source": [
        "<h>**MODÜL 5**<br>\n",
        "**Listeler ve Özellikleri**</h>"
      ]
    },
    {
      "cell_type": "markdown",
      "metadata": {
        "id": "DzRHcUW56KgH"
      },
      "source": [
        "**Örnek 1**"
      ]
    },
    {
      "cell_type": "code",
      "metadata": {
        "id": "uQDAVayg6Ifv",
        "colab": {
          "base_uri": "https://localhost:8080/",
          "height": 34
        },
        "outputId": "a4ed9c16-1acd-4687-e31c-75ce0417a280"
      },
      "source": [
        "liste=[1,2,'ali',0.25]\n",
        "print(liste)"
      ],
      "execution_count": null,
      "outputs": [
        {
          "output_type": "stream",
          "text": [
            "[1, 2, 'ali', 0.25]\n"
          ],
          "name": "stdout"
        }
      ]
    },
    {
      "cell_type": "code",
      "metadata": {
        "id": "ZCOzKIUOTq-1"
      },
      "source": [
        ""
      ],
      "execution_count": null,
      "outputs": []
    },
    {
      "cell_type": "markdown",
      "metadata": {
        "id": "mOoaHGhj6pgp"
      },
      "source": [
        "**Örnek 2**"
      ]
    },
    {
      "cell_type": "code",
      "metadata": {
        "id": "TJWRahKq6vgV",
        "colab": {
          "base_uri": "https://localhost:8080/",
          "height": 51
        },
        "outputId": "3974e0e8-6a3d-4092-813c-ed805ff3a697"
      },
      "source": [
        "meyve =\"erik\"\n",
        "meyve = \"ayva-\" +meyve[0:]\n",
        "print(meyve)\n",
        "liste=['a','b']\n",
        "liste[1]=2\n",
        "print(liste)\n"
      ],
      "execution_count": null,
      "outputs": [
        {
          "output_type": "stream",
          "text": [
            "ayva-erik\n",
            "['a', 2]\n"
          ],
          "name": "stdout"
        }
      ]
    },
    {
      "cell_type": "markdown",
      "metadata": {
        "id": "xNnxcLnh7RVv"
      },
      "source": [
        "**Örnek 3**"
      ]
    },
    {
      "cell_type": "code",
      "metadata": {
        "id": "YyOXJyTy7Tgm",
        "colab": {
          "base_uri": "https://localhost:8080/",
          "height": 34
        },
        "outputId": "4192f98b-5c63-4352-a2b4-77981f9ecbfc"
      },
      "source": [
        "liste=[ ] \n",
        "print(liste)"
      ],
      "execution_count": null,
      "outputs": [
        {
          "output_type": "stream",
          "text": [
            "[]\n"
          ],
          "name": "stdout"
        }
      ]
    },
    {
      "cell_type": "markdown",
      "metadata": {
        "id": "P3qcb_iE7Xgm"
      },
      "source": [
        "**Örnek 4**"
      ]
    },
    {
      "cell_type": "code",
      "metadata": {
        "id": "xHiN8uh_7ZcF",
        "colab": {
          "base_uri": "https://localhost:8080/",
          "height": 51
        },
        "outputId": "5831f154-615e-44c8-d6be-fae4cbb7140f"
      },
      "source": [
        "renkler = ['Red', 'Orange', 'Yellow', 'Green', 'Blue', 'Indigo', 'Violet']\n",
        "print('listeyi ekrana yazdırıyoruz')\n",
        "print(renkler)\n"
      ],
      "execution_count": null,
      "outputs": [
        {
          "output_type": "stream",
          "text": [
            "listeyi ekrana yazdırıyoruz\n",
            "['Red', 'Orange', 'Yellow', 'Green', 'Blue', 'Indigo', 'Violet']\n"
          ],
          "name": "stdout"
        }
      ]
    },
    {
      "cell_type": "markdown",
      "metadata": {
        "id": "X5RpMbpM7mKW"
      },
      "source": [
        "**Örnek 5**"
      ]
    },
    {
      "cell_type": "code",
      "metadata": {
        "id": "hQxTaAQX7oI1",
        "colab": {
          "base_uri": "https://localhost:8080/",
          "height": 34
        },
        "outputId": "71e81bee-5495-45ee-dd12-03548debc859"
      },
      "source": [
        "liste1 = ['a','b','c','d','e','f']\n",
        "print(liste1)"
      ],
      "execution_count": null,
      "outputs": [
        {
          "output_type": "stream",
          "text": [
            "['a', 'b', 'c', 'd', 'e', 'f']\n"
          ],
          "name": "stdout"
        }
      ]
    },
    {
      "cell_type": "markdown",
      "metadata": {
        "id": "Wc5v9wxS71oD"
      },
      "source": [
        "**Örnek 6**"
      ]
    },
    {
      "cell_type": "code",
      "metadata": {
        "id": "RiwpoInw73Np",
        "colab": {
          "base_uri": "https://localhost:8080/",
          "height": 34
        },
        "outputId": "ace613c7-af2e-4c88-adb2-6b822f011785"
      },
      "source": [
        "liste2=['python','gelecegi','olan','bir','dil',500,0.567]\n",
        "print(liste2)"
      ],
      "execution_count": null,
      "outputs": [
        {
          "output_type": "stream",
          "text": [
            "['python', 'gelecegi', 'olan', 'bir', 'dil', 500, 0.567]\n"
          ],
          "name": "stdout"
        }
      ]
    },
    {
      "cell_type": "markdown",
      "metadata": {
        "id": "a9Fq_hTt8Dfu"
      },
      "source": [
        "**Örnek 7**"
      ]
    },
    {
      "cell_type": "code",
      "metadata": {
        "id": "d8hN7Bg-8Fdi",
        "colab": {
          "base_uri": "https://localhost:8080/",
          "height": 51
        },
        "outputId": "bbc70644-b172-4174-d41e-1320d94cfe0c"
      },
      "source": [
        "liste=[\"brinici veri\",\"ikinci veri\",\"üçüncü veri \",\"dördüncü veri\",\"beşinci veri\"]\n",
        "#beş elemenlı listenin ilk verisi\n",
        "print(liste[0])\n",
        "#beş elemenlı listenin son verisi\n",
        "print(liste[4])"
      ],
      "execution_count": null,
      "outputs": [
        {
          "output_type": "stream",
          "text": [
            "brinici veri\n",
            "beşinci veri\n"
          ],
          "name": "stdout"
        }
      ]
    },
    {
      "cell_type": "markdown",
      "metadata": {
        "id": "YXN9um7N8JQd"
      },
      "source": [
        "**Örnek 8**"
      ]
    },
    {
      "cell_type": "code",
      "metadata": {
        "id": "9F1uTaNf8K1Q",
        "colab": {
          "base_uri": "https://localhost:8080/",
          "height": 51
        },
        "outputId": "5e7553dc-3da6-4bf2-c22d-08a2d613c0fb"
      },
      "source": [
        "liste=[\"ayva\",\"armut\",\"kiraz\",\"viÅŸne\"]\n",
        "print(liste)\n",
        "print(liste[1])\n"
      ],
      "execution_count": null,
      "outputs": [
        {
          "output_type": "stream",
          "text": [
            "['ayva', 'armut', 'kiraz', 'viÅŸne']\n",
            "armut\n"
          ],
          "name": "stdout"
        }
      ]
    },
    {
      "cell_type": "markdown",
      "metadata": {
        "id": "uAusT0rC8Rbl"
      },
      "source": [
        "**Örnek 9**"
      ]
    },
    {
      "cell_type": "code",
      "metadata": {
        "id": "OYzKghru8TvF",
        "colab": {
          "base_uri": "https://localhost:8080/",
          "height": 34
        },
        "outputId": "28fb56d5-1fc5-4e70-a899-b14a2ffe4bae"
      },
      "source": [
        "esya = [\"ayna\", \"televizyon\", \"perde\"]\n",
        "if(\"perde\" in esya):\n",
        "    print(\"Bu değer listede var.\")\n",
        "else:\n",
        "    print(\"Bu değer listede yok\")"
      ],
      "execution_count": null,
      "outputs": [
        {
          "output_type": "stream",
          "text": [
            "Bu değer listede var.\n"
          ],
          "name": "stdout"
        }
      ]
    },
    {
      "cell_type": "markdown",
      "metadata": {
        "id": "xIG8_T5v8a4c"
      },
      "source": [
        "**Örnek 10**"
      ]
    },
    {
      "cell_type": "code",
      "metadata": {
        "id": "LjMG6f-a8c2g",
        "colab": {
          "base_uri": "https://localhost:8080/",
          "height": 34
        },
        "outputId": "af0ed410-5314-4357-c387-65d564814cac"
      },
      "source": [
        "listem=[10,20,30,40,50]\n",
        "\n",
        "eleman = listem[3]\n",
        "print(eleman)"
      ],
      "execution_count": null,
      "outputs": [
        {
          "output_type": "stream",
          "text": [
            "40\n"
          ],
          "name": "stdout"
        }
      ]
    },
    {
      "cell_type": "markdown",
      "metadata": {
        "id": "KGRUdLgY8ju2"
      },
      "source": [
        "**Örnek 11**"
      ]
    },
    {
      "cell_type": "code",
      "metadata": {
        "id": "rTyiHrGs8ls-",
        "colab": {
          "base_uri": "https://localhost:8080/",
          "height": 34
        },
        "outputId": "b5a0db3d-3450-4890-b686-4fd297b2eaae"
      },
      "source": [
        "listem=[10,20,30,40,50]\n",
        "eleman = listem[1:3]\n",
        "print(eleman)\n"
      ],
      "execution_count": null,
      "outputs": [
        {
          "output_type": "stream",
          "text": [
            "[20, 30]\n"
          ],
          "name": "stdout"
        }
      ]
    },
    {
      "cell_type": "markdown",
      "metadata": {
        "id": "GJd6MfHA8sra"
      },
      "source": [
        "**Örnek 12**"
      ]
    },
    {
      "cell_type": "code",
      "metadata": {
        "id": "aY-TyIDg8ucy",
        "colab": {
          "base_uri": "https://localhost:8080/",
          "height": 136
        },
        "outputId": "bb3a4626-5e0b-46f6-cbea-b09c6704b238"
      },
      "source": [
        "liste = [1,2,3,4,5,6,7,8,9,10]\n",
        "print(liste)\n",
        "# 0. eleman \n",
        "print(liste[0])\n",
        "# 6. eleman \n",
        "print(liste[6])\n",
        "# Baştan 5. indekse kadar (dahil değil)\n",
        "print(liste[:5])\n",
        "# 1.indeksten 5.indekse kadar\n",
        "print(liste[1:7])\n",
        "print(liste[5:])\n",
        "print(liste[::2])\n"
      ],
      "execution_count": null,
      "outputs": [
        {
          "output_type": "stream",
          "text": [
            "[1, 2, 3, 4, 5, 6, 7, 8, 9, 10]\n",
            "1\n",
            "7\n",
            "[1, 2, 3, 4, 5]\n",
            "[2, 3, 4, 5, 6, 7]\n",
            "[6, 7, 8, 9, 10]\n",
            "[1, 3, 5, 7, 9]\n"
          ],
          "name": "stdout"
        }
      ]
    },
    {
      "cell_type": "markdown",
      "metadata": {
        "id": "4jP8ZywR85oT"
      },
      "source": [
        "**Örnek 13**"
      ]
    },
    {
      "cell_type": "code",
      "metadata": {
        "id": "DLdaPGuh87Nd",
        "colab": {
          "base_uri": "https://localhost:8080/",
          "height": 85
        },
        "outputId": "61098f02-1257-47ee-b2f2-67efefcc5840"
      },
      "source": [
        "liste = [ \"merhaba\" , \"dünya\" , \"merhaba\" , \"güle güle\" ]    \n",
        "print (liste [- 1 ]) #son ögeyi listeler\n",
        "print( liste [- 3 ]) #sondan üçüncü ögeyi listeler\n",
        "print(liste [- 4 ]) #sondan dördüncü ögeyi listeler\n",
        "print(liste[::-1]) #sondan başa doğru listeleme yapmak için kullanılır\n"
      ],
      "execution_count": null,
      "outputs": [
        {
          "output_type": "stream",
          "text": [
            "güle güle\n",
            "dünya\n",
            "merhaba\n",
            "['güle güle', 'merhaba', 'dünya', 'merhaba']\n"
          ],
          "name": "stdout"
        }
      ]
    },
    {
      "cell_type": "markdown",
      "metadata": {
        "id": "MSe_RLXj9NX6"
      },
      "source": [
        "**Örnek 14**"
      ]
    },
    {
      "cell_type": "code",
      "metadata": {
        "id": "zdcotu0w9PjN",
        "colab": {
          "base_uri": "https://localhost:8080/",
          "height": 34
        },
        "outputId": "87099bdf-3313-4da6-ffa3-6a3f31dcd258"
      },
      "source": [
        "takimlar=[\"gs\",\"fb\",\"bjk\"] \n",
        "takimlar.append(\"ts\")\n",
        "\n",
        "print(takimlar)\n",
        "\n"
      ],
      "execution_count": null,
      "outputs": [
        {
          "output_type": "stream",
          "text": [
            "['gs', 'fb', 'bjk', 'ts']\n"
          ],
          "name": "stdout"
        }
      ]
    },
    {
      "cell_type": "markdown",
      "metadata": {
        "id": "SdmvvDzm9WwI"
      },
      "source": [
        "**Örnek 15**"
      ]
    },
    {
      "cell_type": "code",
      "metadata": {
        "id": "iuobKSB19YkA",
        "colab": {
          "base_uri": "https://localhost:8080/",
          "height": 34
        },
        "outputId": "957eb95d-fc00-4d42-b1de-e22e41f56649"
      },
      "source": [
        "\n",
        "sebzeler =[\"lahana\",\"marul\",\"pırasa\",\"ıspanak\",\"fasülye\"]\n",
        "sebzeler.insert(2,\"patlıcan\")\n",
        "\n",
        "print(sebzeler)\n",
        "\n"
      ],
      "execution_count": null,
      "outputs": [
        {
          "output_type": "stream",
          "text": [
            "['lahana', 'marul', 'patlıcan', 'pırasa', 'ıspanak', 'fasülye']\n"
          ],
          "name": "stdout"
        }
      ]
    },
    {
      "cell_type": "markdown",
      "metadata": {
        "id": "vnmiCojJ9gDe"
      },
      "source": [
        "**Örnek 16**"
      ]
    },
    {
      "cell_type": "code",
      "metadata": {
        "id": "A6-o3_O-9iev",
        "colab": {
          "base_uri": "https://localhost:8080/",
          "height": 34
        },
        "outputId": "673bcb33-56de-47ca-c661-a6b27e545060"
      },
      "source": [
        "iller1 =[\"konya\",\"karaman\",\"kocaeli\",\"kayseri\",\"kahramanmaraş\"]\n",
        "\n",
        "iller2=[]\n",
        "\n",
        "iller2 = iller1.copy()\n",
        "\n",
        "print(iller2)\n"
      ],
      "execution_count": null,
      "outputs": [
        {
          "output_type": "stream",
          "text": [
            "['konya', 'karaman', 'kocaeli', 'kayseri', 'kahramanmaraş']\n"
          ],
          "name": "stdout"
        }
      ]
    },
    {
      "cell_type": "markdown",
      "metadata": {
        "id": "-_pkYB3s9ubl"
      },
      "source": [
        "**Örnek 17**"
      ]
    },
    {
      "cell_type": "code",
      "metadata": {
        "id": "zqgbKHt79wPh",
        "colab": {
          "base_uri": "https://localhost:8080/",
          "height": 34
        },
        "outputId": "e29b7be1-73e6-4d38-953c-787fe7df9324"
      },
      "source": [
        "takimlar = ['GS','FB','BJK','TS']\n",
        "\n",
        "print(takimlar.count('FB'))\n"
      ],
      "execution_count": null,
      "outputs": [
        {
          "output_type": "stream",
          "text": [
            "1\n"
          ],
          "name": "stdout"
        }
      ]
    },
    {
      "cell_type": "markdown",
      "metadata": {
        "id": "yOPTlnTe-DHm"
      },
      "source": [
        "**Örnek 18**"
      ]
    },
    {
      "cell_type": "code",
      "metadata": {
        "id": "ZTEDG6MM-YVT",
        "colab": {
          "base_uri": "https://localhost:8080/",
          "height": 34
        },
        "outputId": "9841f674-c745-4f6a-b29f-88c5670fb311"
      },
      "source": [
        "kus1=[\"bıldırcın\",\"papağan\",\"kartal\",\"akbaba\",\"şahin\"]\n",
        "kus2=[\"baykuş\",\"muhabbet\"]\n",
        "kus1.extend(kus2)\n",
        "print(kus1)\n"
      ],
      "execution_count": null,
      "outputs": [
        {
          "output_type": "stream",
          "text": [
            "['bıldırcın', 'papağan', 'kartal', 'akbaba', 'şahin', 'baykuş', 'muhabbet']\n"
          ],
          "name": "stdout"
        }
      ]
    },
    {
      "cell_type": "markdown",
      "metadata": {
        "id": "9ntptHQN-aQT"
      },
      "source": [
        "**Örnek 19**"
      ]
    },
    {
      "cell_type": "code",
      "metadata": {
        "id": "wf27x3pz-c1w",
        "colab": {
          "base_uri": "https://localhost:8080/",
          "height": 34
        },
        "outputId": "d02fd983-c229-4c68-f322-86066c46830b"
      },
      "source": [
        "sebzeler=[\"lahana\",\"marul\",\"pırasa\",\"ıspanak\",\"fasülye\"]\n",
        "print(sebzeler.index(\"ıspanak\"))\n"
      ],
      "execution_count": null,
      "outputs": [
        {
          "output_type": "stream",
          "text": [
            "3\n"
          ],
          "name": "stdout"
        }
      ]
    },
    {
      "cell_type": "markdown",
      "metadata": {
        "id": "lLJmxHEd-0P1"
      },
      "source": [
        "**Örnek 20**"
      ]
    },
    {
      "cell_type": "code",
      "metadata": {
        "id": "uMwGERqZ-4Zl",
        "colab": {
          "base_uri": "https://localhost:8080/",
          "height": 34
        },
        "outputId": "c7a8f835-5896-44dd-8834-1270b6da8d73"
      },
      "source": [
        "liste=[\"ayva\",\"nar\",\"kiraz\",\"kayısı\",\"Üzüm\"]\n",
        "liste.clear()\n",
        "print(liste)\n"
      ],
      "execution_count": null,
      "outputs": [
        {
          "output_type": "stream",
          "text": [
            "[]\n"
          ],
          "name": "stdout"
        }
      ]
    },
    {
      "cell_type": "markdown",
      "metadata": {
        "id": "sZqz9KMr_F7H"
      },
      "source": [
        "**Örnek 21**"
      ]
    },
    {
      "cell_type": "code",
      "metadata": {
        "id": "Mn4m6H3b_H-8",
        "colab": {
          "base_uri": "https://localhost:8080/",
          "height": 34
        },
        "outputId": "d29cc5e3-4911-44fe-bd19-f2e8013ff0a2"
      },
      "source": [
        "sebzeler =[\"lahana\",\"marul\",\"pırasa\",\"ıspanak\",\"fasülye\"]\n",
        "sebzeler.pop(2)\n",
        "print(sebzeler)"
      ],
      "execution_count": null,
      "outputs": [
        {
          "output_type": "stream",
          "text": [
            "['lahana', 'marul', 'ıspanak', 'fasülye']\n"
          ],
          "name": "stdout"
        }
      ]
    },
    {
      "cell_type": "markdown",
      "metadata": {
        "id": "Z882c9FQ_Of0"
      },
      "source": [
        "**Örnek 22**"
      ]
    },
    {
      "cell_type": "code",
      "metadata": {
        "id": "cHzTyplB_SHf",
        "colab": {
          "base_uri": "https://localhost:8080/",
          "height": 34
        },
        "outputId": "74031aed-5865-4427-e63b-a7ca05045c84"
      },
      "source": [
        "sehirler =[\"adana\",\"ağrı\",\"bursa\",\"konya\",\"ankara\"]\n",
        "sehirler.remove(\"konya\")\n",
        "print(sehirler)"
      ],
      "execution_count": null,
      "outputs": [
        {
          "output_type": "stream",
          "text": [
            "['adana', 'ağrı', 'bursa', 'ankara']\n"
          ],
          "name": "stdout"
        }
      ]
    },
    {
      "cell_type": "markdown",
      "metadata": {
        "id": "o9gPYYErAsvx"
      },
      "source": [
        "**Örnek 23**"
      ]
    },
    {
      "cell_type": "code",
      "metadata": {
        "id": "448FF5NtAvIL",
        "colab": {
          "base_uri": "https://localhost:8080/",
          "height": 34
        },
        "outputId": "82415cb0-45f1-4ff0-f197-e37b44a83d1d"
      },
      "source": [
        "sayilar =[10,20,30,40,50,60,70]\n",
        "sayilar.reverse()\n",
        "print(sayilar)"
      ],
      "execution_count": null,
      "outputs": [
        {
          "output_type": "stream",
          "text": [
            "[70, 60, 50, 40, 30, 20, 10]\n"
          ],
          "name": "stdout"
        }
      ]
    },
    {
      "cell_type": "markdown",
      "metadata": {
        "id": "KepWViw7A1DF"
      },
      "source": [
        "**Örnek 24**"
      ]
    },
    {
      "cell_type": "code",
      "metadata": {
        "id": "CtAr32RBBAS3",
        "colab": {
          "base_uri": "https://localhost:8080/",
          "height": 34
        },
        "outputId": "49bbe8dc-ef81-4aad-e54a-66727e4a5ac9"
      },
      "source": [
        "isimler= [\"elif\",\"ayşe\",\"kemal\",\"kaan\",\"hafsa\"]\n",
        "isimler.sort()\n",
        "print(isimler)"
      ],
      "execution_count": null,
      "outputs": [
        {
          "output_type": "stream",
          "text": [
            "['ayşe', 'elif', 'hafsa', 'kaan', 'kemal']\n"
          ],
          "name": "stdout"
        }
      ]
    },
    {
      "cell_type": "markdown",
      "metadata": {
        "id": "a0w5trQ3COZ6"
      },
      "source": [
        "**Örnek 25**"
      ]
    },
    {
      "cell_type": "code",
      "metadata": {
        "id": "8DVEEbU9CQG-",
        "colab": {
          "base_uri": "https://localhost:8080/",
          "height": 34
        },
        "outputId": "091415b9-90a5-4905-d517-6e3f337cd6c3"
      },
      "source": [
        "takimlar = ['GS','FB','BJK','TS']\n",
        "del takimlar[2]\n",
        "print(takimlar)\n"
      ],
      "execution_count": null,
      "outputs": [
        {
          "output_type": "stream",
          "text": [
            "['GS', 'FB', 'TS']\n"
          ],
          "name": "stdout"
        }
      ]
    },
    {
      "cell_type": "markdown",
      "metadata": {
        "id": "yRMRBwjkCY1k"
      },
      "source": [
        "**Örnek 26**"
      ]
    },
    {
      "cell_type": "code",
      "metadata": {
        "id": "puWf9VeACahF",
        "colab": {
          "base_uri": "https://localhost:8080/",
          "height": 34
        },
        "outputId": "beafed5e-e890-4f91-f46d-0a564ee1b322"
      },
      "source": [
        "a=\"Galatasaray\"\n",
        "print(len(a))"
      ],
      "execution_count": null,
      "outputs": [
        {
          "output_type": "stream",
          "text": [
            "11\n"
          ],
          "name": "stdout"
        }
      ]
    },
    {
      "cell_type": "markdown",
      "metadata": {
        "id": "IXLy_6CnCmRX"
      },
      "source": [
        "**Örnek 27**"
      ]
    },
    {
      "cell_type": "code",
      "metadata": {
        "id": "XafkquxACnv_",
        "colab": {
          "base_uri": "https://localhost:8080/",
          "height": 34
        },
        "outputId": "bf74a23d-ad2e-42cb-cb72-1463a7e5ff32"
      },
      "source": [
        " takimlar = ['GS','FB','BJK','TS']\n",
        "print(len(takimlar))"
      ],
      "execution_count": null,
      "outputs": [
        {
          "output_type": "stream",
          "text": [
            "4\n"
          ],
          "name": "stdout"
        }
      ]
    },
    {
      "cell_type": "markdown",
      "metadata": {
        "id": "NFD_D-4-C0ci"
      },
      "source": [
        "**Örnek 28**"
      ]
    },
    {
      "cell_type": "code",
      "metadata": {
        "id": "xbXNJBtYC2UW",
        "colab": {
          "base_uri": "https://localhost:8080/",
          "height": 51
        },
        "outputId": "66f5921e-74dc-4805-e27e-aa00fc4f6217"
      },
      "source": [
        "liste1, liste2 = ['abc',56,74 ,'python'], [12, 'opencv','a']\n",
        "print (\"İlk liste uzunlugu            : \", len(liste1))\n",
        "print( \"İkinci listenin uzunlugu      : \", len(liste2))"
      ],
      "execution_count": null,
      "outputs": [
        {
          "output_type": "stream",
          "text": [
            "İlk liste uzunlugu            :  4\n",
            "İkinci listenin uzunlugu      :  3\n"
          ],
          "name": "stdout"
        }
      ]
    },
    {
      "cell_type": "markdown",
      "metadata": {
        "id": "cRLqMrZoDBmM"
      },
      "source": [
        "**Örnek 29**"
      ]
    },
    {
      "cell_type": "code",
      "metadata": {
        "id": "PO4qJtMuDEtT",
        "colab": {
          "base_uri": "https://localhost:8080/",
          "height": 34
        },
        "outputId": "0bf8a40f-61f3-4aec-b0d5-1166d629a94e"
      },
      "source": [
        "liste1 = [1,2,3]\n",
        "liste2 = [4,5,6]\n",
        "liste3 = [7,8,9]    \n",
        "yeniliste = [liste1,liste2,liste3]\n",
        "print(yeniliste)"
      ],
      "execution_count": null,
      "outputs": [
        {
          "output_type": "stream",
          "text": [
            "[[1, 2, 3], [4, 5, 6], [7, 8, 9]]\n"
          ],
          "name": "stdout"
        }
      ]
    },
    {
      "cell_type": "markdown",
      "metadata": {
        "id": "-2w-Xto8DNZ3"
      },
      "source": [
        "**Örnek 30**"
      ]
    },
    {
      "cell_type": "code",
      "metadata": {
        "id": "6dukowW9DPln",
        "colab": {
          "base_uri": "https://localhost:8080/",
          "height": 34
        },
        "outputId": "b31df4b8-eb55-45fc-bb9d-2d1465e7fcb1"
      },
      "source": [
        "sebzeler=[]\n",
        "sebzeler.append(['yeşil','ıspanak'])\n",
        "sebzeler.append(['beyaz','lahana'])\n",
        "sebzeler.append(['turuncu','havuç'])\n",
        "sebzeler.append(['siyah','turp'])\n",
        "sebzeler.append(['kırmızı','domates'])\n",
        "print(sebzeler)"
      ],
      "execution_count": null,
      "outputs": [
        {
          "output_type": "stream",
          "text": [
            "[['yeşil', 'ıspanak'], ['beyaz', 'lahana'], ['turuncu', 'havuç'], ['siyah', 'turp'], ['kırmızı', 'domates']]\n"
          ],
          "name": "stdout"
        }
      ]
    },
    {
      "cell_type": "markdown",
      "metadata": {
        "id": "i1tlKxR5DaOm"
      },
      "source": [
        "**Örnek 31**"
      ]
    },
    {
      "cell_type": "code",
      "metadata": {
        "id": "Re5dppRkDcAt",
        "colab": {
          "base_uri": "https://localhost:8080/",
          "height": 34
        },
        "outputId": "8ce829a3-220c-4a99-d59e-bc318827dced"
      },
      "source": [
        "sebzeler=[['yeşil','ıspanak'],['beyaz','lahana'],['turuncu','havuç']]\n",
        "sebze=sebzeler[1]\n",
        "print(sebze)"
      ],
      "execution_count": null,
      "outputs": [
        {
          "output_type": "stream",
          "text": [
            "['beyaz', 'lahana']\n"
          ],
          "name": "stdout"
        }
      ]
    },
    {
      "cell_type": "markdown",
      "metadata": {
        "id": "Ub7XNwm2Df4Q"
      },
      "source": [
        "**Örnek 32**"
      ]
    },
    {
      "cell_type": "code",
      "metadata": {
        "id": "kMm3VHx1Di2O",
        "colab": {
          "base_uri": "https://localhost:8080/",
          "height": 34
        },
        "outputId": "10752553-817d-4314-8e1f-432cbbd4ddce"
      },
      "source": [
        "sebzeler=[['yeşil','ıspanak'],['beyaz','lahana'],['turuncu','havuç']]\n",
        "print(sebzeler[2][1])"
      ],
      "execution_count": null,
      "outputs": [
        {
          "output_type": "stream",
          "text": [
            "havuç\n"
          ],
          "name": "stdout"
        }
      ]
    },
    {
      "cell_type": "markdown",
      "metadata": {
        "id": "Yv3sVtKwD-h9"
      },
      "source": [
        "**Örnek 33**"
      ]
    },
    {
      "cell_type": "code",
      "metadata": {
        "id": "WIuLJQFpEAYo",
        "colab": {
          "base_uri": "https://localhost:8080/",
          "height": 34
        },
        "outputId": "1be1534f-b552-4e3e-c4fc-d747bd80ff54"
      },
      "source": [
        "birinci_liste = [1,2,3]\n",
        "ikinci_liste = ['a','b','c']\n",
        "ucuncu_liste= [40,50,60]\n",
        "son_liste= [birinci_liste,ikinci_liste,ucuncu_liste]\n",
        "print(son_liste)"
      ],
      "execution_count": null,
      "outputs": [
        {
          "output_type": "stream",
          "text": [
            "[[1, 2, 3], ['a', 'b', 'c'], [40, 50, 60]]\n"
          ],
          "name": "stdout"
        }
      ]
    },
    {
      "cell_type": "markdown",
      "metadata": {
        "id": "6GdWIOZAEHAs"
      },
      "source": [
        "**Örnek 34**"
      ]
    },
    {
      "cell_type": "code",
      "metadata": {
        "id": "RnS_Y595EXWt",
        "colab": {
          "base_uri": "https://localhost:8080/",
          "height": 34
        },
        "outputId": "eccdf786-0f2a-4f19-f423-f282ad7185ea"
      },
      "source": [
        "birinci_liste = [1,2,3]\n",
        "ikinci_liste = ['a','b','c']\n",
        "ucuncu_liste= [40,50,60]\n",
        "son_liste= [birinci_liste,ikinci_liste,ucuncu_liste]\n",
        "print(son_liste)"
      ],
      "execution_count": null,
      "outputs": [
        {
          "output_type": "stream",
          "text": [
            "[[1, 2, 3], ['a', 'b', 'c'], [40, 50, 60]]\n"
          ],
          "name": "stdout"
        }
      ]
    },
    {
      "cell_type": "markdown",
      "metadata": {
        "id": "2RAjmHLnEZMz"
      },
      "source": [
        "**Örnek 35**"
      ]
    },
    {
      "cell_type": "code",
      "metadata": {
        "id": "PDOIG-AUEbSz"
      },
      "source": [
        "liste=[1,2,3,4,5,'ankara']\n",
        "print(liste)\n",
        "liste[0]=str(\"kocaeli\")\n",
        "liste[2]=float(1.5)\n",
        "liste[5]=int(20)\n",
        "print(liste)"
      ],
      "execution_count": null,
      "outputs": []
    },
    {
      "cell_type": "markdown",
      "metadata": {
        "id": "q2Tb5IFdG1pU"
      },
      "source": [
        "**Örnek 36**"
      ]
    },
    {
      "cell_type": "code",
      "metadata": {
        "id": "oU9j27T3G3ha",
        "colab": {
          "base_uri": "https://localhost:8080/",
          "height": 34
        },
        "outputId": "884730d5-ce51-4d02-88e5-2327a118002d"
      },
      "source": [
        "meyve=\"elma\"\n",
        "liste=list(meyve)\n",
        "print (liste)"
      ],
      "execution_count": null,
      "outputs": [
        {
          "output_type": "stream",
          "text": [
            "['e', 'l', 'm', 'a']\n"
          ],
          "name": "stdout"
        }
      ]
    },
    {
      "cell_type": "markdown",
      "metadata": {
        "id": "XK31IYjAHRRa"
      },
      "source": [
        "**Örnek 37**"
      ]
    },
    {
      "cell_type": "code",
      "metadata": {
        "id": "GyzGkJh3HS5p",
        "colab": {
          "base_uri": "https://localhost:8080/",
          "height": 68
        },
        "outputId": "fa32f8c5-c26b-45a4-f61f-fcace0ee6742"
      },
      "source": [
        "liste=list(range(1,15,2))\n",
        "print (liste)\n",
        "liste.sort()\n",
        "print(liste)\n",
        "liste.reverse()\n",
        "print(liste)"
      ],
      "execution_count": null,
      "outputs": [
        {
          "output_type": "stream",
          "text": [
            "[1, 3, 5, 7, 9, 11, 13]\n",
            "[1, 3, 5, 7, 9, 11, 13]\n",
            "[13, 11, 9, 7, 5, 3, 1]\n"
          ],
          "name": "stdout"
        }
      ]
    },
    {
      "cell_type": "markdown",
      "metadata": {
        "id": "0rn_u_kPHU1i"
      },
      "source": [
        "**Örnek 38**"
      ]
    },
    {
      "cell_type": "code",
      "metadata": {
        "id": "C5Ntd4BkHXLm"
      },
      "source": [
        "bilgi=input(\"bilgilerinizi araya virgül koyarak yazınız: \")\n",
        "liste=bilgi.split(\",\")\n",
        "print(liste)"
      ],
      "execution_count": null,
      "outputs": []
    },
    {
      "cell_type": "markdown",
      "metadata": {
        "id": "9Fsw9i2oHdha"
      },
      "source": [
        "**Örnek 39**"
      ]
    },
    {
      "cell_type": "code",
      "metadata": {
        "id": "4TBiksKnHfMb",
        "colab": {
          "base_uri": "https://localhost:8080/",
          "height": 34
        },
        "outputId": "91597056-f3dd-4cf9-8bfa-a2ada36404af"
      },
      "source": [
        "cumle=\"23 nisan herkese mutlu olsun\"\n",
        "kelimeler=cumle.split(\" \")\n",
        "print(\"cümlenizde \",len(kelimeler),\"adet kelime vardır\")"
      ],
      "execution_count": null,
      "outputs": [
        {
          "output_type": "stream",
          "text": [
            "cümlenizde  5 adet kelime vardır\n"
          ],
          "name": "stdout"
        }
      ]
    },
    {
      "cell_type": "markdown",
      "metadata": {
        "id": "q5jnuQqZHokr"
      },
      "source": [
        "**Bölüm_cevap_1**"
      ]
    },
    {
      "cell_type": "code",
      "metadata": {
        "id": "WjOlM_ttHyJO",
        "colab": {
          "base_uri": "https://localhost:8080/",
          "height": 51
        },
        "outputId": "f63a96ef-253c-4eef-efdd-339df10020df"
      },
      "source": [
        "harfler = ['a', 'e', 'i', 'o', 'i', 'u']\n",
        "count = harfler.count('i')\n",
        "print('i harflerinin sayısı:', count)\n",
        "count = harfler.count('p')\n",
        "print('p harflerinin sayısı:', count)"
      ],
      "execution_count": null,
      "outputs": [
        {
          "output_type": "stream",
          "text": [
            "i harflerinin sayısı: 2\n",
            "p harflerinin sayısı: 0\n"
          ],
          "name": "stdout"
        }
      ]
    },
    {
      "cell_type": "markdown",
      "metadata": {
        "id": "pVC1XQnsH8dD"
      },
      "source": [
        "**Bölüm_cevap_2**"
      ]
    },
    {
      "cell_type": "code",
      "metadata": {
        "id": "maXBdPByH_-U",
        "colab": {
          "base_uri": "https://localhost:8080/",
          "height": 85
        },
        "outputId": "9845c722-f9cd-4fe4-fc12-0038663b04c2"
      },
      "source": [
        "liste1,liste2,liste3,liste4= ['a',100,3.14,'python']\n",
        "print(liste1)\n",
        "print(liste2)\n",
        "print(liste3)\n",
        "print(liste4)"
      ],
      "execution_count": null,
      "outputs": [
        {
          "output_type": "stream",
          "text": [
            "a\n",
            "100\n",
            "3.14\n",
            "python\n"
          ],
          "name": "stdout"
        }
      ]
    },
    {
      "cell_type": "markdown",
      "metadata": {
        "id": "ic1Rzpx_IFO6"
      },
      "source": [
        "**Bölüm_cevap_3**"
      ]
    },
    {
      "cell_type": "code",
      "metadata": {
        "id": "bG2VkYIiIH2n",
        "colab": {
          "base_uri": "https://localhost:8080/",
          "height": 34
        },
        "outputId": "7e93e6f8-1f27-4fde-b079-5426f353084c"
      },
      "source": [
        "list1 = [\"a\", \"b\" , \"c\"]\n",
        "list2 = [1, 2, 3]\n",
        "list3 = list1 + list2\n",
        "print(list3)"
      ],
      "execution_count": null,
      "outputs": [
        {
          "output_type": "stream",
          "text": [
            "['a', 'b', 'c', 1, 2, 3]\n"
          ],
          "name": "stdout"
        }
      ]
    },
    {
      "cell_type": "markdown",
      "metadata": {
        "id": "257p06vnIOAJ"
      },
      "source": [
        "**Bölüm_cevap_4**"
      ]
    },
    {
      "cell_type": "code",
      "metadata": {
        "id": "edBM0uvgIUaF",
        "colab": {
          "base_uri": "https://localhost:8080/",
          "height": 51
        },
        "outputId": "dbeb1a19-9888-4d01-9503-a254342b0172"
      },
      "source": [
        "liste = [34,1,56,334,23,2,3,19]\n",
        "liste.sort() \n",
        "print('küçükten büyüğe doğru',liste)\n",
        "liste.reverse() \n",
        "print('büyükten küçüğe doğru',liste)\n"
      ],
      "execution_count": null,
      "outputs": [
        {
          "output_type": "stream",
          "text": [
            "küçükten büyüğe doğru [1, 2, 3, 19, 23, 34, 56, 334]\n",
            "büyükten küçüğe doğru [334, 56, 34, 23, 19, 3, 2, 1]\n"
          ],
          "name": "stdout"
        }
      ]
    },
    {
      "cell_type": "markdown",
      "metadata": {
        "id": "4zobp1PzJBP4"
      },
      "source": [
        "**Bölüm_cevap_5**"
      ]
    },
    {
      "cell_type": "code",
      "metadata": {
        "id": "jdL6LXDcJD0F",
        "colab": {
          "base_uri": "https://localhost:8080/",
          "height": 68
        },
        "outputId": "6c341e0f-bc3c-4ed5-a50a-889b7c525fb8"
      },
      "source": [
        "listem= [\"Merhaba\", \"Türkiye\", \"Nasılsın\", \"Tebrikler\"]\n",
        "print(listem[-1])\n",
        "print(listem[-3])\n",
        "print(listem[-4])"
      ],
      "execution_count": null,
      "outputs": [
        {
          "output_type": "stream",
          "text": [
            "Tebrikler\n",
            "Türkiye\n",
            "Merhaba\n"
          ],
          "name": "stdout"
        }
      ]
    },
    {
      "cell_type": "markdown",
      "metadata": {
        "id": "NpDWG_guJOXK"
      },
      "source": [
        "**Bölüm_cevap_6**"
      ]
    },
    {
      "cell_type": "code",
      "metadata": {
        "id": "TdOvpKaKJTX6",
        "colab": {
          "base_uri": "https://localhost:8080/",
          "height": 85
        },
        "outputId": "7dedc8e1-99ca-4525-b296-9e83fa97f711"
      },
      "source": [
        "liste = [1, 2, 3, 4, 5, 6, 7]\n",
        "print(liste[1:3])\n",
        "print(liste[:3])\n",
        "print(liste[3:])\n",
        "print(liste[:])"
      ],
      "execution_count": null,
      "outputs": [
        {
          "output_type": "stream",
          "text": [
            "[2, 3]\n",
            "[1, 2, 3]\n",
            "[4, 5, 6, 7]\n",
            "[1, 2, 3, 4, 5, 6, 7]\n"
          ],
          "name": "stdout"
        }
      ]
    },
    {
      "cell_type": "markdown",
      "metadata": {
        "id": "QBYe6X0VJ80f"
      },
      "source": [
        "**Bölüm_cevap_7**"
      ]
    },
    {
      "cell_type": "code",
      "metadata": {
        "id": "mH_XeBF-J_fl",
        "colab": {
          "base_uri": "https://localhost:8080/",
          "height": 68
        },
        "outputId": "a8218190-87c5-4578-d95b-03c8e4bf88a1"
      },
      "source": [
        "isimler = ['ali','veli','ayşe']\n",
        "soyisimler = ['türk','izci','erel']\n",
        "ad_soy1 = isimler[0] +' '+ soyisimler[0]  \n",
        "ad_soy2 = isimler[1] +' '+ soyisimler[1]\n",
        "ad_soy3 = isimler[2] +' '+ soyisimler[2]\n",
        "print(ad_soy1)\n",
        "print(ad_soy2)\n",
        "print(ad_soy3)"
      ],
      "execution_count": null,
      "outputs": [
        {
          "output_type": "stream",
          "text": [
            "ali türk\n",
            "veli izci\n",
            "ayşe erel\n"
          ],
          "name": "stdout"
        }
      ]
    },
    {
      "cell_type": "markdown",
      "metadata": {
        "id": "k03gEqIpKOGz"
      },
      "source": [
        "**Bölüm_cevap_8**"
      ]
    },
    {
      "cell_type": "code",
      "metadata": {
        "id": "mCozRlZfKOrg"
      },
      "source": [
        "liste = ['bir','iki','dört']\n",
        "liste[2]='üç'\n",
        "liste.insert(3,'dört')\n",
        "liste.insert(4,'beş')\n",
        "print(liste)\n",
        "\n"
      ],
      "execution_count": null,
      "outputs": []
    },
    {
      "cell_type": "markdown",
      "metadata": {
        "id": "TUtJOjERKyA4"
      },
      "source": [
        "**Bölüm_cevap_9**"
      ]
    },
    {
      "cell_type": "code",
      "metadata": {
        "id": "Tn8zbK5FKyYB",
        "colab": {
          "base_uri": "https://localhost:8080/",
          "height": 51
        },
        "outputId": "bb29fe3e-d7fe-438e-da65-06850a508fdf"
      },
      "source": [
        "liste=[\"birinci veri\",\"ikinci veri\",\"üçüncü veri \",\"dördüncü veri\",\"beşinci veri\"]\n",
        "#beş elemanlı listenin ilk verisi\n",
        "print(liste[0])\n",
        "#beş elemanlı listenin son verisi\n",
        "print(liste[4])\n"
      ],
      "execution_count": null,
      "outputs": [
        {
          "output_type": "stream",
          "text": [
            "birinci veri\n",
            "beşinci veri\n"
          ],
          "name": "stdout"
        }
      ]
    }
  ]
}