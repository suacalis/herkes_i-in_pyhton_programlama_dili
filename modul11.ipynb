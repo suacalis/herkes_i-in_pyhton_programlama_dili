{
  "nbformat": 4,
  "nbformat_minor": 0,
  "metadata": {
    "colab": {
      "name": "modul11",
      "provenance": [],
      "collapsed_sections": []
    },
    "kernelspec": {
      "name": "python3",
      "display_name": "Python 3"
    }
  },
  "cells": [
    {
      "cell_type": "markdown",
      "metadata": {
        "id": "bncCQ9idTzjL"
      },
      "source": [
        "<h>**MODÜL 11<br> İleri Seviye Veri Yapıları**</h>"
      ]
    },
    {
      "cell_type": "markdown",
      "metadata": {
        "id": "Tjuc51ZGZItt"
      },
      "source": [
        "**ÖRNEK 1**\n",
        "<br> bin()"
      ]
    },
    {
      "cell_type": "code",
      "metadata": {
        "id": "ZCOzKIUOTq-1",
        "colab": {
          "base_uri": "https://localhost:8080/",
          "height": 34
        },
        "outputId": "0fe07024-9d7d-41cf-f578-9f1634ef7976"
      },
      "source": [
        "bin(5)"
      ],
      "execution_count": null,
      "outputs": [
        {
          "output_type": "execute_result",
          "data": {
            "text/plain": [
              "'0b101'"
            ]
          },
          "metadata": {
            "tags": []
          },
          "execution_count": 1
        }
      ]
    },
    {
      "cell_type": "markdown",
      "metadata": {
        "id": "L57gQCL2ZPbx"
      },
      "source": [
        "**ÖRNEK 2**\n",
        "<br> bin()"
      ]
    },
    {
      "cell_type": "code",
      "metadata": {
        "id": "7cga75TUY5Wo",
        "colab": {
          "base_uri": "https://localhost:8080/",
          "height": 34
        },
        "outputId": "7a15cf88-24c6-4486-8807-f9a5f796e1aa"
      },
      "source": [
        "bin(12)"
      ],
      "execution_count": null,
      "outputs": [
        {
          "output_type": "execute_result",
          "data": {
            "text/plain": [
              "'0b1100'"
            ]
          },
          "metadata": {
            "tags": []
          },
          "execution_count": 2
        }
      ]
    },
    {
      "cell_type": "markdown",
      "metadata": {
        "id": "mGTr6U2yZSX4"
      },
      "source": [
        "**ÖRNEK 3**"
      ]
    },
    {
      "cell_type": "code",
      "metadata": {
        "id": "cdcf6VAuY6qB",
        "colab": {
          "base_uri": "https://localhost:8080/",
          "height": 34
        },
        "outputId": "d0876d1d-c233-4d64-9823-175b4ffa2d7d"
      },
      "source": [
        "hex(10)"
      ],
      "execution_count": null,
      "outputs": [
        {
          "output_type": "execute_result",
          "data": {
            "text/plain": [
              "'0xa'"
            ]
          },
          "metadata": {
            "tags": []
          },
          "execution_count": 3
        }
      ]
    },
    {
      "cell_type": "markdown",
      "metadata": {
        "id": "XV2rWvbbZXRX"
      },
      "source": [
        "**ÖRNEK 4**<br>\n",
        "hex()"
      ]
    },
    {
      "cell_type": "code",
      "metadata": {
        "id": "bneaXWoFZZZo",
        "colab": {
          "base_uri": "https://localhost:8080/",
          "height": 34
        },
        "outputId": "cdcb4005-8955-4771-a066-034913b2dbe3"
      },
      "source": [
        "hex(18)"
      ],
      "execution_count": null,
      "outputs": [
        {
          "output_type": "execute_result",
          "data": {
            "text/plain": [
              "'0x12'"
            ]
          },
          "metadata": {
            "tags": []
          },
          "execution_count": 4
        }
      ]
    },
    {
      "cell_type": "markdown",
      "metadata": {
        "id": "_si3eR4cZqrw"
      },
      "source": [
        "**ÖRNEK 5**<br>\n",
        "abs()"
      ]
    },
    {
      "cell_type": "code",
      "metadata": {
        "id": "Quvpq-laZuKR",
        "colab": {
          "base_uri": "https://localhost:8080/",
          "height": 34
        },
        "outputId": "4ff152d1-b99c-4887-bd78-2d84c7ceb3fa"
      },
      "source": [
        "abs(-10)"
      ],
      "execution_count": null,
      "outputs": [
        {
          "output_type": "execute_result",
          "data": {
            "text/plain": [
              "10"
            ]
          },
          "metadata": {
            "tags": []
          },
          "execution_count": 9
        }
      ]
    },
    {
      "cell_type": "code",
      "metadata": {
        "id": "zBP9EvLWajdz",
        "colab": {
          "base_uri": "https://localhost:8080/",
          "height": 34
        },
        "outputId": "e4f0011f-bac8-49e8-b86b-6a55359b42e9"
      },
      "source": [
        "abs(15)"
      ],
      "execution_count": null,
      "outputs": [
        {
          "output_type": "execute_result",
          "data": {
            "text/plain": [
              "15"
            ]
          },
          "metadata": {
            "tags": []
          },
          "execution_count": 10
        }
      ]
    },
    {
      "cell_type": "code",
      "metadata": {
        "id": "9zGUsYdZamVa",
        "colab": {
          "base_uri": "https://localhost:8080/",
          "height": 34
        },
        "outputId": "fca22e08-aa7b-4e36-c141-d1de6d28ab28"
      },
      "source": [
        "abs(-3.2)"
      ],
      "execution_count": null,
      "outputs": [
        {
          "output_type": "execute_result",
          "data": {
            "text/plain": [
              "3.2"
            ]
          },
          "metadata": {
            "tags": []
          },
          "execution_count": 11
        }
      ]
    },
    {
      "cell_type": "markdown",
      "metadata": {
        "id": "SugM2zH7aHp-"
      },
      "source": [
        "**ÖRNEK 6**<br>\n",
        "round()"
      ]
    },
    {
      "cell_type": "code",
      "metadata": {
        "id": "wEnEe75OaJhE",
        "colab": {
          "base_uri": "https://localhost:8080/",
          "height": 34
        },
        "outputId": "c959e584-16c7-42fe-8ed3-97010c68c2a5"
      },
      "source": [
        "round (5.3)"
      ],
      "execution_count": null,
      "outputs": [
        {
          "output_type": "execute_result",
          "data": {
            "text/plain": [
              "5"
            ]
          },
          "metadata": {
            "tags": []
          },
          "execution_count": 12
        }
      ]
    },
    {
      "cell_type": "code",
      "metadata": {
        "id": "jqorPYLlapOa",
        "colab": {
          "base_uri": "https://localhost:8080/",
          "height": 34
        },
        "outputId": "b5317da0-aa5c-460b-e79d-350882ee03eb"
      },
      "source": [
        "round (5.5)"
      ],
      "execution_count": null,
      "outputs": [
        {
          "output_type": "execute_result",
          "data": {
            "text/plain": [
              "6"
            ]
          },
          "metadata": {
            "tags": []
          },
          "execution_count": 13
        }
      ]
    },
    {
      "cell_type": "code",
      "metadata": {
        "id": "YlQNoIX4aqus",
        "colab": {
          "base_uri": "https://localhost:8080/",
          "height": 34
        },
        "outputId": "adb4c523-a5de-46a4-fdce-298cff44349a"
      },
      "source": [
        "round (5.7)"
      ],
      "execution_count": null,
      "outputs": [
        {
          "output_type": "execute_result",
          "data": {
            "text/plain": [
              "6"
            ]
          },
          "metadata": {
            "tags": []
          },
          "execution_count": 14
        }
      ]
    },
    {
      "cell_type": "markdown",
      "metadata": {
        "id": "CbVE2GGWaxsG"
      },
      "source": [
        "**ÖRNEK 7**<br>\n",
        "chr()"
      ]
    },
    {
      "cell_type": "code",
      "metadata": {
        "id": "ItYf0y_Va0hW",
        "colab": {
          "base_uri": "https://localhost:8080/",
          "height": 34
        },
        "outputId": "b9bc1ce8-1bc4-455c-cbaa-0c77149ecb8d"
      },
      "source": [
        "chr(65)"
      ],
      "execution_count": null,
      "outputs": [
        {
          "output_type": "execute_result",
          "data": {
            "text/plain": [
              "'A'"
            ]
          },
          "metadata": {
            "tags": []
          },
          "execution_count": 15
        }
      ]
    },
    {
      "cell_type": "code",
      "metadata": {
        "id": "bXs0FyZla2i4",
        "colab": {
          "base_uri": "https://localhost:8080/",
          "height": 34
        },
        "outputId": "39c355a1-a774-464a-f304-016154c50c6f"
      },
      "source": [
        "chr(100)"
      ],
      "execution_count": null,
      "outputs": [
        {
          "output_type": "execute_result",
          "data": {
            "text/plain": [
              "'d'"
            ]
          },
          "metadata": {
            "tags": []
          },
          "execution_count": 16
        }
      ]
    },
    {
      "cell_type": "markdown",
      "metadata": {
        "id": "MWDEG_DBa4YO"
      },
      "source": [
        "**ÖRNEK 8**<br>\n",
        "max()"
      ]
    },
    {
      "cell_type": "code",
      "metadata": {
        "id": "UYloi23PbDKT",
        "colab": {
          "base_uri": "https://localhost:8080/",
          "height": 34
        },
        "outputId": "bcd78e6c-d60c-468e-d161-bceb2da0d24f"
      },
      "source": [
        "max (3, 5, 7, 8, 9)"
      ],
      "execution_count": null,
      "outputs": [
        {
          "output_type": "execute_result",
          "data": {
            "text/plain": [
              "9"
            ]
          },
          "metadata": {
            "tags": []
          },
          "execution_count": 18
        }
      ]
    },
    {
      "cell_type": "code",
      "metadata": {
        "id": "J_gCCfrWbKEb",
        "colab": {
          "base_uri": "https://localhost:8080/",
          "height": 34
        },
        "outputId": "29d4fdb3-5e1b-4e77-9fd6-91df26ef7b58"
      },
      "source": [
        "liste=[4, 7, 6, 9, 3]\n",
        "max(liste)"
      ],
      "execution_count": null,
      "outputs": [
        {
          "output_type": "execute_result",
          "data": {
            "text/plain": [
              "9"
            ]
          },
          "metadata": {
            "tags": []
          },
          "execution_count": 19
        }
      ]
    },
    {
      "cell_type": "markdown",
      "metadata": {
        "id": "7aEl7-g-bYi-"
      },
      "source": [
        "**ÖRNEK 9**<br>\n",
        "min()"
      ]
    },
    {
      "cell_type": "code",
      "metadata": {
        "id": "XsJSOmZHbbn7",
        "colab": {
          "base_uri": "https://localhost:8080/",
          "height": 34
        },
        "outputId": "5f70375d-3930-47dc-e0af-1e74eaae6852"
      },
      "source": [
        "min (4, 7, 1, 2, 9)"
      ],
      "execution_count": null,
      "outputs": [
        {
          "output_type": "execute_result",
          "data": {
            "text/plain": [
              "1"
            ]
          },
          "metadata": {
            "tags": []
          },
          "execution_count": 20
        }
      ]
    },
    {
      "cell_type": "code",
      "metadata": {
        "id": "FCJGSfrZbegv",
        "colab": {
          "base_uri": "https://localhost:8080/",
          "height": 34
        },
        "outputId": "5c62dfa8-a5ad-45c2-a605-7412ac4ac556"
      },
      "source": [
        "liste=[4, 7, 6, 9, 3]\n",
        "min (liste)"
      ],
      "execution_count": null,
      "outputs": [
        {
          "output_type": "execute_result",
          "data": {
            "text/plain": [
              "3"
            ]
          },
          "metadata": {
            "tags": []
          },
          "execution_count": 21
        }
      ]
    },
    {
      "cell_type": "markdown",
      "metadata": {
        "id": "aNvoqQ9nbtC-"
      },
      "source": [
        "**ÖRNEK 9**<br>\n",
        "pow()"
      ]
    },
    {
      "cell_type": "code",
      "metadata": {
        "id": "n7_n0BxobvXg",
        "colab": {
          "base_uri": "https://localhost:8080/",
          "height": 34
        },
        "outputId": "f0232052-f9db-4d0c-8713-fff5f779c8ee"
      },
      "source": [
        "pow(3,4)"
      ],
      "execution_count": null,
      "outputs": [
        {
          "output_type": "execute_result",
          "data": {
            "text/plain": [
              "81"
            ]
          },
          "metadata": {
            "tags": []
          },
          "execution_count": 22
        }
      ]
    },
    {
      "cell_type": "code",
      "metadata": {
        "id": "G27o-SaWbxdd",
        "colab": {
          "base_uri": "https://localhost:8080/",
          "height": 34
        },
        "outputId": "6b13e5c8-7fdf-4ad4-c02e-a7c3ddbd8836"
      },
      "source": [
        "pow(9, 0.5)"
      ],
      "execution_count": null,
      "outputs": [
        {
          "output_type": "execute_result",
          "data": {
            "text/plain": [
              "3.0"
            ]
          },
          "metadata": {
            "tags": []
          },
          "execution_count": 23
        }
      ]
    },
    {
      "cell_type": "markdown",
      "metadata": {
        "id": "F5V5XC6Ob7XO"
      },
      "source": [
        "**ÖRNEK 10**<br>\n",
        "replace()"
      ]
    },
    {
      "cell_type": "code",
      "metadata": {
        "id": "CpprvfGAb-ZU",
        "colab": {
          "base_uri": "https://localhost:8080/",
          "height": 34
        },
        "outputId": "68de8bcf-29ef-419a-e559-353ffca95d79"
      },
      "source": [
        "a=\"python\"\n",
        "a.replace(\"p\", \"P\")"
      ],
      "execution_count": null,
      "outputs": [
        {
          "output_type": "execute_result",
          "data": {
            "text/plain": [
              "'Python'"
            ]
          },
          "metadata": {
            "tags": []
          },
          "execution_count": 24
        }
      ]
    },
    {
      "cell_type": "markdown",
      "metadata": {
        "id": "w7ykj8QlcKo1"
      },
      "source": [
        "**ÖRNEK 11**<br>\n",
        "split()"
      ]
    },
    {
      "cell_type": "code",
      "metadata": {
        "id": "SHrgP3qIcNpQ",
        "colab": {
          "base_uri": "https://localhost:8080/",
          "height": 34
        },
        "outputId": "076b267e-0c0e-4fea-a7ea-e69cd5e3bb2e"
      },
      "source": [
        "a=\"Milli Eğitim Bakanlığı\"\n",
        "a.split()"
      ],
      "execution_count": null,
      "outputs": [
        {
          "output_type": "execute_result",
          "data": {
            "text/plain": [
              "['Milli', 'Eğitim', 'Bakanlığı']"
            ]
          },
          "metadata": {
            "tags": []
          },
          "execution_count": 27
        }
      ]
    },
    {
      "cell_type": "code",
      "metadata": {
        "id": "fgYnuoN8cdue",
        "colab": {
          "base_uri": "https://localhost:8080/",
          "height": 34
        },
        "outputId": "67e58006-0fbd-494a-c32c-8de061104645"
      },
      "source": [
        "b=\"T.B.M.M\"\n",
        "b.split(\".\")"
      ],
      "execution_count": null,
      "outputs": [
        {
          "output_type": "execute_result",
          "data": {
            "text/plain": [
              "['T', 'B', 'M', 'M']"
            ]
          },
          "metadata": {
            "tags": []
          },
          "execution_count": 29
        }
      ]
    },
    {
      "cell_type": "markdown",
      "metadata": {
        "id": "pcYHsXYDcpC8"
      },
      "source": [
        "**ÖRNEK 12**<br>\n",
        "upper() lower()"
      ]
    },
    {
      "cell_type": "code",
      "metadata": {
        "id": "2i6z6HvfcxZR",
        "colab": {
          "base_uri": "https://localhost:8080/",
          "height": 34
        },
        "outputId": "81ca3b72-1d5f-45ef-98ad-76b4289433f9"
      },
      "source": [
        "\"merhaba dünya\".upper()"
      ],
      "execution_count": null,
      "outputs": [
        {
          "output_type": "execute_result",
          "data": {
            "text/plain": [
              "'MERHABA DÜNYA'"
            ]
          },
          "metadata": {
            "tags": []
          },
          "execution_count": 31
        }
      ]
    },
    {
      "cell_type": "code",
      "metadata": {
        "id": "AY3mAFfLc0Hk",
        "colab": {
          "base_uri": "https://localhost:8080/",
          "height": 34
        },
        "outputId": "9127b377-b48d-45f5-afab-ef073d21833f"
      },
      "source": [
        "\"MERHABA DÜNYA\".lower()"
      ],
      "execution_count": null,
      "outputs": [
        {
          "output_type": "execute_result",
          "data": {
            "text/plain": [
              "'merhaba dünya'"
            ]
          },
          "metadata": {
            "tags": []
          },
          "execution_count": 32
        }
      ]
    },
    {
      "cell_type": "markdown",
      "metadata": {
        "id": "vjA0GrX9c9bw"
      },
      "source": [
        "**ÖRNEK 13**<br>\n",
        "join()"
      ]
    },
    {
      "cell_type": "code",
      "metadata": {
        "id": "B29hJNv6d-T1",
        "colab": {
          "base_uri": "https://localhost:8080/",
          "height": 34
        },
        "outputId": "fcceddb0-f1df-4465-d2c7-643d3b06f26c"
      },
      "source": [
        "\"-\".join([\"merhaba\", \"dünya\"])"
      ],
      "execution_count": null,
      "outputs": [
        {
          "output_type": "execute_result",
          "data": {
            "text/plain": [
              "'merhaba-dünya'"
            ]
          },
          "metadata": {
            "tags": []
          },
          "execution_count": 35
        }
      ]
    },
    {
      "cell_type": "markdown",
      "metadata": {
        "id": "10p2VsLXedvn"
      },
      "source": [
        "**ÖRNEK 14**<br>\n",
        "capitalize()"
      ]
    },
    {
      "cell_type": "code",
      "metadata": {
        "id": "3rbPBxYMeh1D",
        "colab": {
          "base_uri": "https://localhost:8080/",
          "height": 34
        },
        "outputId": "c09c65cf-80c5-4aac-e624-1c33ddc96cf6"
      },
      "source": [
        "a=\"python programlama dili\"\n",
        "a.capitalize()"
      ],
      "execution_count": null,
      "outputs": [
        {
          "output_type": "execute_result",
          "data": {
            "text/plain": [
              "'Python programlama dili'"
            ]
          },
          "metadata": {
            "tags": []
          },
          "execution_count": 36
        }
      ]
    },
    {
      "cell_type": "markdown",
      "metadata": {
        "id": "-LbQvbzxe1vk"
      },
      "source": [
        "**ÖRNEK 15**<br>\n",
        "find()"
      ]
    },
    {
      "cell_type": "code",
      "metadata": {
        "id": "jh_5i2WMe6Ke",
        "colab": {
          "base_uri": "https://localhost:8080/",
          "height": 34
        },
        "outputId": "b34d1347-a88c-412b-fbaa-1b612f106643"
      },
      "source": [
        "a=\"armağan\"\n",
        "a.find(\"a\")"
      ],
      "execution_count": null,
      "outputs": [
        {
          "output_type": "execute_result",
          "data": {
            "text/plain": [
              "0"
            ]
          },
          "metadata": {
            "tags": []
          },
          "execution_count": 37
        }
      ]
    },
    {
      "cell_type": "markdown",
      "metadata": {
        "id": "ltoaeuMxfE4d"
      },
      "source": [
        "**ÖRNEK 16**<br>\n",
        "rfind()"
      ]
    },
    {
      "cell_type": "code",
      "metadata": {
        "id": "_C9Jf75tfIoO",
        "colab": {
          "base_uri": "https://localhost:8080/",
          "height": 34
        },
        "outputId": "85cedee1-b5dd-4022-b770-61c8093689b0"
      },
      "source": [
        "a=\"armağan\"\n",
        "a.rfind(\"a\")"
      ],
      "execution_count": null,
      "outputs": [
        {
          "output_type": "execute_result",
          "data": {
            "text/plain": [
              "5"
            ]
          },
          "metadata": {
            "tags": []
          },
          "execution_count": 38
        }
      ]
    },
    {
      "cell_type": "markdown",
      "metadata": {
        "id": "soeDPMwGfRmT"
      },
      "source": [
        "**ÖRNEK 17**<br>\n",
        "isdigit()"
      ]
    },
    {
      "cell_type": "code",
      "metadata": {
        "id": "5Mkf-7RufUVe",
        "colab": {
          "base_uri": "https://localhost:8080/",
          "height": 34
        },
        "outputId": "c63e5b5c-3f0d-49f5-ce15-f0373d48fcb3"
      },
      "source": [
        "metin=\"123456\"\n",
        "print(metin.isdigit())"
      ],
      "execution_count": null,
      "outputs": [
        {
          "output_type": "stream",
          "text": [
            "True\n"
          ],
          "name": "stdout"
        }
      ]
    },
    {
      "cell_type": "code",
      "metadata": {
        "id": "Zrfsn7X-fhHw",
        "colab": {
          "base_uri": "https://localhost:8080/",
          "height": 34
        },
        "outputId": "c04405c1-1870-4ede-e141-3b9100a89579"
      },
      "source": [
        "metin=\"aa123456\"\n",
        "print(metin.isdigit())"
      ],
      "execution_count": null,
      "outputs": [
        {
          "output_type": "stream",
          "text": [
            "False\n"
          ],
          "name": "stdout"
        }
      ]
    }
  ]
}