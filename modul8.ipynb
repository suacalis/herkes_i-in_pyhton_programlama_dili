{
  "nbformat": 4,
  "nbformat_minor": 0,
  "metadata": {
    "colab": {
      "name": "modul8",
      "provenance": [],
      "collapsed_sections": []
    },
    "kernelspec": {
      "name": "python3",
      "display_name": "Python 3"
    }
  },
  "cells": [
    {
      "cell_type": "markdown",
      "metadata": {
        "id": "bncCQ9idTzjL"
      },
      "source": [
        "**<h>MODÜL 8 <br>Turtle (kaplumbağa) modülü ile grafik arayüze giriş</h>**"
      ]
    },
    {
      "cell_type": "markdown",
      "metadata": {
        "id": "M4TYzs5sBxrS"
      },
      "source": [
        "Colab ortamında turtle modülü farklı bir şekilde çalışmaktadır.  Bu nedenle colab ortamında aşağıdaki kodları çalıştırırsanız hata alırsınız. Lütfen kodları bilgisayarınızda idle ile çalıştırınız.."
      ]
    },
    {
      "cell_type": "markdown",
      "metadata": {
        "id": "sS_X9lGx9Ojc"
      },
      "source": [
        "Örnek 1: 100 birimlik ileri yönde çizgi çizme\n",
        "                      \n"
      ]
    },
    {
      "cell_type": "code",
      "metadata": {
        "id": "ZCOzKIUOTq-1",
        "colab": {
          "base_uri": "https://localhost:8080/",
          "height": 231
        },
        "outputId": "7c78d4ac-847c-4cc6-b1df-113038b67c20"
      },
      "source": [
        "import turtle\n",
        "kalem=ColabTurtle.Turtle()\n",
        "kalem.forward(100) \n",
        "turtle.done() \n"
      ],
      "execution_count": null,
      "outputs": [
        {
          "output_type": "error",
          "ename": "NameError",
          "evalue": "ignored",
          "traceback": [
            "\u001b[0;31m---------------------------------------------------------------------------\u001b[0m",
            "\u001b[0;31mNameError\u001b[0m                                 Traceback (most recent call last)",
            "\u001b[0;32m<ipython-input-9-ae626303edd2>\u001b[0m in \u001b[0;36m<module>\u001b[0;34m()\u001b[0m\n\u001b[1;32m      1\u001b[0m \u001b[0;32mfrom\u001b[0m \u001b[0mColabTurtle\u001b[0m\u001b[0;34m.\u001b[0m\u001b[0mTurtle\u001b[0m \u001b[0;32mimport\u001b[0m \u001b[0;34m*\u001b[0m\u001b[0;34m\u001b[0m\u001b[0;34m\u001b[0m\u001b[0m\n\u001b[1;32m      2\u001b[0m \u001b[0;31m#import turtle\u001b[0m\u001b[0;34m\u001b[0m\u001b[0;34m\u001b[0m\u001b[0;34m\u001b[0m\u001b[0m\n\u001b[0;32m----> 3\u001b[0;31m \u001b[0mkalem\u001b[0m\u001b[0;34m=\u001b[0m\u001b[0mColabTurtle\u001b[0m\u001b[0;34m.\u001b[0m\u001b[0mTurtle\u001b[0m\u001b[0;34m(\u001b[0m\u001b[0;34m)\u001b[0m\u001b[0;34m\u001b[0m\u001b[0;34m\u001b[0m\u001b[0m\n\u001b[0m\u001b[1;32m      4\u001b[0m \u001b[0mkalem\u001b[0m\u001b[0;34m.\u001b[0m\u001b[0mforward\u001b[0m\u001b[0;34m(\u001b[0m\u001b[0;36m100\u001b[0m\u001b[0;34m)\u001b[0m\u001b[0;34m\u001b[0m\u001b[0;34m\u001b[0m\u001b[0m\n\u001b[1;32m      5\u001b[0m \u001b[0mturtle\u001b[0m\u001b[0;34m.\u001b[0m\u001b[0mdone\u001b[0m\u001b[0;34m(\u001b[0m\u001b[0;34m)\u001b[0m\u001b[0;34m\u001b[0m\u001b[0;34m\u001b[0m\u001b[0m\n",
            "\u001b[0;31mNameError\u001b[0m: name 'ColabTurtle' is not defined"
          ]
        }
      ]
    },
    {
      "cell_type": "markdown",
      "metadata": {
        "id": "KmfhEbK196p9"
      },
      "source": [
        "Örnek 2: rigth ve forward fonksiyonlarının birlikte kullanımı\n",
        " \n"
      ]
    },
    {
      "cell_type": "code",
      "metadata": {
        "id": "ho2cceur9m-R",
        "colab": {
          "base_uri": "https://localhost:8080/",
          "height": 368
        },
        "outputId": "0612e094-f029-4639-9314-552f3ded4e96"
      },
      "source": [
        "import turtle\n",
        "kalem=turtle.Turtle()\n",
        "kalem.forward(100)\n",
        "kalem.right(90)\n",
        "kalem.forward(100)\n",
        "turtle.done() \n"
      ],
      "execution_count": null,
      "outputs": [
        {
          "output_type": "error",
          "ename": "TclError",
          "evalue": "ignored",
          "traceback": [
            "\u001b[0;31m---------------------------------------------------------------------------\u001b[0m",
            "\u001b[0;31mTclError\u001b[0m                                  Traceback (most recent call last)",
            "\u001b[0;32m<ipython-input-1-84eaada4f987>\u001b[0m in \u001b[0;36m<module>\u001b[0;34m()\u001b[0m\n\u001b[1;32m      1\u001b[0m \u001b[0;32mimport\u001b[0m \u001b[0mturtle\u001b[0m\u001b[0;34m\u001b[0m\u001b[0;34m\u001b[0m\u001b[0m\n\u001b[0;32m----> 2\u001b[0;31m \u001b[0mkalem\u001b[0m\u001b[0;34m=\u001b[0m\u001b[0mturtle\u001b[0m\u001b[0;34m.\u001b[0m\u001b[0mTurtle\u001b[0m\u001b[0;34m(\u001b[0m\u001b[0;34m)\u001b[0m\u001b[0;34m\u001b[0m\u001b[0;34m\u001b[0m\u001b[0m\n\u001b[0m\u001b[1;32m      3\u001b[0m \u001b[0mkalem\u001b[0m\u001b[0;34m.\u001b[0m\u001b[0mforward\u001b[0m\u001b[0;34m(\u001b[0m\u001b[0;36m100\u001b[0m\u001b[0;34m)\u001b[0m\u001b[0;34m\u001b[0m\u001b[0;34m\u001b[0m\u001b[0m\n\u001b[1;32m      4\u001b[0m \u001b[0mkalem\u001b[0m\u001b[0;34m.\u001b[0m\u001b[0mright\u001b[0m\u001b[0;34m(\u001b[0m\u001b[0;36m90\u001b[0m\u001b[0;34m)\u001b[0m\u001b[0;34m\u001b[0m\u001b[0;34m\u001b[0m\u001b[0m\n\u001b[1;32m      5\u001b[0m \u001b[0mkalem\u001b[0m\u001b[0;34m.\u001b[0m\u001b[0mforward\u001b[0m\u001b[0;34m(\u001b[0m\u001b[0;36m100\u001b[0m\u001b[0;34m)\u001b[0m\u001b[0;34m\u001b[0m\u001b[0;34m\u001b[0m\u001b[0m\n",
            "\u001b[0;32m/usr/lib/python3.6/turtle.py\u001b[0m in \u001b[0;36m__init__\u001b[0;34m(self, shape, undobuffersize, visible)\u001b[0m\n\u001b[1;32m   3810\u001b[0m                  visible=_CFG[\"visible\"]):\n\u001b[1;32m   3811\u001b[0m         \u001b[0;32mif\u001b[0m \u001b[0mTurtle\u001b[0m\u001b[0;34m.\u001b[0m\u001b[0m_screen\u001b[0m \u001b[0;32mis\u001b[0m \u001b[0;32mNone\u001b[0m\u001b[0;34m:\u001b[0m\u001b[0;34m\u001b[0m\u001b[0;34m\u001b[0m\u001b[0m\n\u001b[0;32m-> 3812\u001b[0;31m             \u001b[0mTurtle\u001b[0m\u001b[0;34m.\u001b[0m\u001b[0m_screen\u001b[0m \u001b[0;34m=\u001b[0m \u001b[0mScreen\u001b[0m\u001b[0;34m(\u001b[0m\u001b[0;34m)\u001b[0m\u001b[0;34m\u001b[0m\u001b[0;34m\u001b[0m\u001b[0m\n\u001b[0m\u001b[1;32m   3813\u001b[0m         RawTurtle.__init__(self, Turtle._screen,\n\u001b[1;32m   3814\u001b[0m                            \u001b[0mshape\u001b[0m\u001b[0;34m=\u001b[0m\u001b[0mshape\u001b[0m\u001b[0;34m,\u001b[0m\u001b[0;34m\u001b[0m\u001b[0;34m\u001b[0m\u001b[0m\n",
            "\u001b[0;32m/usr/lib/python3.6/turtle.py\u001b[0m in \u001b[0;36mScreen\u001b[0;34m()\u001b[0m\n\u001b[1;32m   3660\u001b[0m     else return the existing one.\"\"\"\n\u001b[1;32m   3661\u001b[0m     \u001b[0;32mif\u001b[0m \u001b[0mTurtle\u001b[0m\u001b[0;34m.\u001b[0m\u001b[0m_screen\u001b[0m \u001b[0;32mis\u001b[0m \u001b[0;32mNone\u001b[0m\u001b[0;34m:\u001b[0m\u001b[0;34m\u001b[0m\u001b[0;34m\u001b[0m\u001b[0m\n\u001b[0;32m-> 3662\u001b[0;31m         \u001b[0mTurtle\u001b[0m\u001b[0;34m.\u001b[0m\u001b[0m_screen\u001b[0m \u001b[0;34m=\u001b[0m \u001b[0m_Screen\u001b[0m\u001b[0;34m(\u001b[0m\u001b[0;34m)\u001b[0m\u001b[0;34m\u001b[0m\u001b[0;34m\u001b[0m\u001b[0m\n\u001b[0m\u001b[1;32m   3663\u001b[0m     \u001b[0;32mreturn\u001b[0m \u001b[0mTurtle\u001b[0m\u001b[0;34m.\u001b[0m\u001b[0m_screen\u001b[0m\u001b[0;34m\u001b[0m\u001b[0;34m\u001b[0m\u001b[0m\n\u001b[1;32m   3664\u001b[0m \u001b[0;34m\u001b[0m\u001b[0m\n",
            "\u001b[0;32m/usr/lib/python3.6/turtle.py\u001b[0m in \u001b[0;36m__init__\u001b[0;34m(self)\u001b[0m\n\u001b[1;32m   3676\u001b[0m         \u001b[0;31m# preserved (perhaps by passing it as an optional parameter)\u001b[0m\u001b[0;34m\u001b[0m\u001b[0;34m\u001b[0m\u001b[0;34m\u001b[0m\u001b[0m\n\u001b[1;32m   3677\u001b[0m         \u001b[0;32mif\u001b[0m \u001b[0m_Screen\u001b[0m\u001b[0;34m.\u001b[0m\u001b[0m_root\u001b[0m \u001b[0;32mis\u001b[0m \u001b[0;32mNone\u001b[0m\u001b[0;34m:\u001b[0m\u001b[0;34m\u001b[0m\u001b[0;34m\u001b[0m\u001b[0m\n\u001b[0;32m-> 3678\u001b[0;31m             \u001b[0m_Screen\u001b[0m\u001b[0;34m.\u001b[0m\u001b[0m_root\u001b[0m \u001b[0;34m=\u001b[0m \u001b[0mself\u001b[0m\u001b[0;34m.\u001b[0m\u001b[0m_root\u001b[0m \u001b[0;34m=\u001b[0m \u001b[0m_Root\u001b[0m\u001b[0;34m(\u001b[0m\u001b[0;34m)\u001b[0m\u001b[0;34m\u001b[0m\u001b[0;34m\u001b[0m\u001b[0m\n\u001b[0m\u001b[1;32m   3679\u001b[0m             \u001b[0mself\u001b[0m\u001b[0;34m.\u001b[0m\u001b[0m_root\u001b[0m\u001b[0;34m.\u001b[0m\u001b[0mtitle\u001b[0m\u001b[0;34m(\u001b[0m\u001b[0m_Screen\u001b[0m\u001b[0;34m.\u001b[0m\u001b[0m_title\u001b[0m\u001b[0;34m)\u001b[0m\u001b[0;34m\u001b[0m\u001b[0;34m\u001b[0m\u001b[0m\n\u001b[1;32m   3680\u001b[0m             \u001b[0mself\u001b[0m\u001b[0;34m.\u001b[0m\u001b[0m_root\u001b[0m\u001b[0;34m.\u001b[0m\u001b[0mondestroy\u001b[0m\u001b[0;34m(\u001b[0m\u001b[0mself\u001b[0m\u001b[0;34m.\u001b[0m\u001b[0m_destroy\u001b[0m\u001b[0;34m)\u001b[0m\u001b[0;34m\u001b[0m\u001b[0;34m\u001b[0m\u001b[0m\n",
            "\u001b[0;32m/usr/lib/python3.6/turtle.py\u001b[0m in \u001b[0;36m__init__\u001b[0;34m(self)\u001b[0m\n\u001b[1;32m    432\u001b[0m     \u001b[0;34m\"\"\"Root class for Screen based on Tkinter.\"\"\"\u001b[0m\u001b[0;34m\u001b[0m\u001b[0;34m\u001b[0m\u001b[0m\n\u001b[1;32m    433\u001b[0m     \u001b[0;32mdef\u001b[0m \u001b[0m__init__\u001b[0m\u001b[0;34m(\u001b[0m\u001b[0mself\u001b[0m\u001b[0;34m)\u001b[0m\u001b[0;34m:\u001b[0m\u001b[0;34m\u001b[0m\u001b[0;34m\u001b[0m\u001b[0m\n\u001b[0;32m--> 434\u001b[0;31m         \u001b[0mTK\u001b[0m\u001b[0;34m.\u001b[0m\u001b[0mTk\u001b[0m\u001b[0;34m.\u001b[0m\u001b[0m__init__\u001b[0m\u001b[0;34m(\u001b[0m\u001b[0mself\u001b[0m\u001b[0;34m)\u001b[0m\u001b[0;34m\u001b[0m\u001b[0;34m\u001b[0m\u001b[0m\n\u001b[0m\u001b[1;32m    435\u001b[0m \u001b[0;34m\u001b[0m\u001b[0m\n\u001b[1;32m    436\u001b[0m     \u001b[0;32mdef\u001b[0m \u001b[0msetupcanvas\u001b[0m\u001b[0;34m(\u001b[0m\u001b[0mself\u001b[0m\u001b[0;34m,\u001b[0m \u001b[0mwidth\u001b[0m\u001b[0;34m,\u001b[0m \u001b[0mheight\u001b[0m\u001b[0;34m,\u001b[0m \u001b[0mcwidth\u001b[0m\u001b[0;34m,\u001b[0m \u001b[0mcheight\u001b[0m\u001b[0;34m)\u001b[0m\u001b[0;34m:\u001b[0m\u001b[0;34m\u001b[0m\u001b[0;34m\u001b[0m\u001b[0m\n",
            "\u001b[0;32m/usr/lib/python3.6/tkinter/__init__.py\u001b[0m in \u001b[0;36m__init__\u001b[0;34m(self, screenName, baseName, className, useTk, sync, use)\u001b[0m\n\u001b[1;32m   2021\u001b[0m                 \u001b[0mbaseName\u001b[0m \u001b[0;34m=\u001b[0m \u001b[0mbaseName\u001b[0m \u001b[0;34m+\u001b[0m \u001b[0mext\u001b[0m\u001b[0;34m\u001b[0m\u001b[0;34m\u001b[0m\u001b[0m\n\u001b[1;32m   2022\u001b[0m         \u001b[0minteractive\u001b[0m \u001b[0;34m=\u001b[0m \u001b[0;36m0\u001b[0m\u001b[0;34m\u001b[0m\u001b[0;34m\u001b[0m\u001b[0m\n\u001b[0;32m-> 2023\u001b[0;31m         \u001b[0mself\u001b[0m\u001b[0;34m.\u001b[0m\u001b[0mtk\u001b[0m \u001b[0;34m=\u001b[0m \u001b[0m_tkinter\u001b[0m\u001b[0;34m.\u001b[0m\u001b[0mcreate\u001b[0m\u001b[0;34m(\u001b[0m\u001b[0mscreenName\u001b[0m\u001b[0;34m,\u001b[0m \u001b[0mbaseName\u001b[0m\u001b[0;34m,\u001b[0m \u001b[0mclassName\u001b[0m\u001b[0;34m,\u001b[0m \u001b[0minteractive\u001b[0m\u001b[0;34m,\u001b[0m \u001b[0mwantobjects\u001b[0m\u001b[0;34m,\u001b[0m \u001b[0museTk\u001b[0m\u001b[0;34m,\u001b[0m \u001b[0msync\u001b[0m\u001b[0;34m,\u001b[0m \u001b[0muse\u001b[0m\u001b[0;34m)\u001b[0m\u001b[0;34m\u001b[0m\u001b[0;34m\u001b[0m\u001b[0m\n\u001b[0m\u001b[1;32m   2024\u001b[0m         \u001b[0;32mif\u001b[0m \u001b[0museTk\u001b[0m\u001b[0;34m:\u001b[0m\u001b[0;34m\u001b[0m\u001b[0;34m\u001b[0m\u001b[0m\n\u001b[1;32m   2025\u001b[0m             \u001b[0mself\u001b[0m\u001b[0;34m.\u001b[0m\u001b[0m_loadtk\u001b[0m\u001b[0;34m(\u001b[0m\u001b[0;34m)\u001b[0m\u001b[0;34m\u001b[0m\u001b[0;34m\u001b[0m\u001b[0m\n",
            "\u001b[0;31mTclError\u001b[0m: no display name and no $DISPLAY environment variable"
          ]
        }
      ]
    },
    {
      "cell_type": "markdown",
      "metadata": {
        "id": "12najbaw9-Pz"
      },
      "source": [
        "Örnek 3: rigth ve beckward fonksiyonlarının birlikte kullanımı\n",
        "\n"
      ]
    },
    {
      "cell_type": "code",
      "metadata": {
        "id": "WatQzVKU-BS6"
      },
      "source": [
        "import turtle\n",
        "kalem=turtle.Turtle()\n",
        "kalem.backward(100)\n",
        "kalem.right(90)\n",
        "kalem.backward(100)\n",
        "turtle.done()  \n"
      ],
      "execution_count": null,
      "outputs": []
    },
    {
      "cell_type": "markdown",
      "metadata": {
        "id": "0S4GAbzW-DsG"
      },
      "source": [
        "Örnek 4: rigth ve forward fonksiyonlarının birlikte kullanımı\n",
        "  \n",
        "\n"
      ]
    },
    {
      "cell_type": "code",
      "metadata": {
        "id": "e9YYyKOT-Icd"
      },
      "source": [
        "import turtle\n",
        "kalem=turtle.Turtle()\n",
        "kalem.forward(-100.5)\n",
        "kalem.right(90)\n",
        "kalem.forward(-100.5)\n",
        "turtle.done()"
      ],
      "execution_count": null,
      "outputs": []
    },
    {
      "cell_type": "markdown",
      "metadata": {
        "id": "rVoh35s7-JXR"
      },
      "source": [
        "Örnek 5: rigth ve backward fonksiyonlarının birlikte kullanımı\n",
        " \n",
        "\n",
        "\n"
      ]
    },
    {
      "cell_type": "code",
      "metadata": {
        "id": "dJ5q5U_2-Mjn"
      },
      "source": [
        "import turtle\n",
        "kalem=turtle.Turtle()\n",
        "kalem.backward(-100.6)\n",
        "kalem.right(90)\n",
        "kalem.backward(-100.6)\n",
        "turtle.done() "
      ],
      "execution_count": null,
      "outputs": []
    },
    {
      "cell_type": "markdown",
      "metadata": {
        "id": "7qbF1mMh-NUX"
      },
      "source": [
        "Örnek 6: left ve forward fonksiyonlarının birlikte kullanımı\n",
        "  \n",
        "\n",
        "\n"
      ]
    },
    {
      "cell_type": "code",
      "metadata": {
        "id": "Kz3rx2x6-RT_"
      },
      "source": [
        "import turtle\n",
        "kalem=turtle.Turtle()\n",
        "kalem.left(45)\n",
        "kalem.forward(50)\n",
        "turtle.done()"
      ],
      "execution_count": null,
      "outputs": []
    },
    {
      "cell_type": "markdown",
      "metadata": {
        "id": "Wj2Gh8hb-SGI"
      },
      "source": [
        "Örnek 7: Açı kullanarak şekil çizme örneği\n",
        " \n",
        "\n",
        "\n"
      ]
    },
    {
      "cell_type": "code",
      "metadata": {
        "id": "wNIwqmFQ-Ve-"
      },
      "source": [
        "import turtle\n",
        "kalem=turtle.Turtle()\n",
        "kalem.forward(50)\n",
        "kalem.right(120)\n",
        "kalem.forward(50)\n",
        "kalem.right(120)\n",
        "turtle.done() "
      ],
      "execution_count": null,
      "outputs": []
    },
    {
      "cell_type": "markdown",
      "metadata": {
        "id": "J6G9eE-g-VPN"
      },
      "source": [
        "Örnek 8: çizgi mesafesini kullanıcıdan alıp şekil çizen program\n",
        " \n",
        "\n"
      ]
    },
    {
      "cell_type": "code",
      "metadata": {
        "id": "pg6TIxTN-yDD"
      },
      "source": [
        "import turtle \n",
        "kalem=turtle.Turtle()\n",
        "mesafe=float(input(\"çizgi mesafesini giriniz\"))\n",
        "kalem.forward(mesafe)\n",
        "kalem.right(90)\n",
        "kalem.forward(mesafe) \n",
        "turtle.done() "
      ],
      "execution_count": null,
      "outputs": []
    },
    {
      "cell_type": "markdown",
      "metadata": {
        "id": "5_q1Xc0--y_d"
      },
      "source": [
        "Örnek 9: çizgi mesafesini ve dönüş açısını kullanıcıdan alıp şekil çizen program\n",
        " \n",
        "\n",
        "\n"
      ]
    },
    {
      "cell_type": "code",
      "metadata": {
        "id": "m6dMW49N-18y"
      },
      "source": [
        "import turtle\n",
        "kalem=turtle.Turtle()\n",
        "mesafe=int(input(\"çizgi mesafesini giriniz\"))\n",
        "donus_açısı=int(input(\"dönüş açısını giriniz\"))\n",
        "kalem.forward(mesafe) \n",
        "kalem.right(donus_açısı)\n",
        "kalem.forward(mesafe)\n",
        "turtle.done() "
      ],
      "execution_count": null,
      "outputs": []
    },
    {
      "cell_type": "markdown",
      "metadata": {
        "id": "qdOlz_V1-2yc"
      },
      "source": [
        "Örnek 10: pencolor, pensize ve color uygulaması\n",
        " \n",
        "\n",
        "\n"
      ]
    },
    {
      "cell_type": "code",
      "metadata": {
        "id": "C2gvplWd-7Ts"
      },
      "source": [
        "import turtle   \n",
        "kalem=turtle.Turtle()\n",
        "kalem.pencolor(\"red\") \n",
        "kalem.pensize(3)\n",
        "kalem.forward(100)\n",
        "kalem.left(90)\n",
        "kalem.color(\"#ACE515\")\n",
        "kalem.pensize(8)\n",
        "kalem.forward(100)\n",
        "kalem.left(90)\n",
        "kalem.pencolor(\"yellow\") \n",
        "kalem.pensize(6)\n",
        "kalem.forward(100)\n",
        "kalem.left(90)\n",
        "kalem.color(\"#2259C1\") \n",
        "kalem.pensize(1)\n",
        "kalem.forward(100)\n",
        "kalem.left (90)\n",
        "turtle.done() "
      ],
      "execution_count": null,
      "outputs": []
    },
    {
      "cell_type": "markdown",
      "metadata": {
        "id": "oA6WqMY1-8DE"
      },
      "source": [
        "Örnek 11: dot ile çizim uygulaması\n",
        "\n",
        "\n",
        "\n"
      ]
    },
    {
      "cell_type": "code",
      "metadata": {
        "id": "wc58KNiL_i5F"
      },
      "source": [
        "import turtle\n",
        "kalem=turtle.Turtle()\n",
        "for i in range(5):\n",
        "    kalem.dot()\n",
        "    kalem.forward(20)\n",
        "turtle.done()"
      ],
      "execution_count": null,
      "outputs": []
    },
    {
      "cell_type": "markdown",
      "metadata": {
        "id": "hrcKOJoY_jtd"
      },
      "source": [
        "Örnek 12: dot ile çizgisiz şekil uygulaması\n",
        "\n",
        "\n",
        "\n"
      ]
    },
    {
      "cell_type": "code",
      "metadata": {
        "id": "pjZT6CzZ_mfE"
      },
      "source": [
        "import turtle\n",
        "kalem=turtle.Turtle()\n",
        "kalem.up()\n",
        "for i in range(5):\n",
        "    kalem.dot()\n",
        "    kalem.forward(20)\n",
        "turtle.done()"
      ],
      "execution_count": null,
      "outputs": []
    },
    {
      "cell_type": "markdown",
      "metadata": {
        "id": "czKiJdnF_nPc"
      },
      "source": [
        "Örnek 13: shape ve goto fonksiyonlarının kullanımı\n",
        " \n",
        "\n",
        "\n"
      ]
    },
    {
      "cell_type": "code",
      "metadata": {
        "id": "_CM_qH-t_qf0"
      },
      "source": [
        "import turtle\n",
        "kalem=turtle.Turtle()\n",
        "kalem.shape(\"turtle\")\n",
        "kalem.forward(100)\n",
        "kalem.penup()\n",
        "kalem.goto(0,100)\n",
        "for i in range(5):\n",
        "    kalem.dot()\n",
        "    kalem.forward(20)\n",
        "\n",
        "turtle.done() "
      ],
      "execution_count": null,
      "outputs": []
    },
    {
      "cell_type": "markdown",
      "metadata": {
        "id": "-uQjXuOG_rdB"
      },
      "source": [
        "Örnek 14: shape ve goto fonksiyonlarının farklı bir çizim için kullanımı\n",
        "  \n",
        "\n",
        "\n"
      ]
    },
    {
      "cell_type": "code",
      "metadata": {
        "id": "2go9TE4v_uiL"
      },
      "source": [
        "import turtle\n",
        "kalem=turtle.Turtle()\n",
        "kalem.shape(\"turtle\")\n",
        "for i in range(4):\n",
        "    kalem.up()\n",
        "    kalem.forward(20) \n",
        "    kalem.dot()\n",
        "    kalem.down()\n",
        "    kalem.forward(20) \n",
        "    kalem.dot()\n",
        "turtle.done()"
      ],
      "execution_count": null,
      "outputs": []
    },
    {
      "cell_type": "markdown",
      "metadata": {
        "id": "Jdruwjhs_vUR"
      },
      "source": [
        "Örnek 15: turtle ile kare çizme uygulaması\n",
        " \n",
        "\n",
        "\n"
      ]
    },
    {
      "cell_type": "code",
      "metadata": {
        "id": "j9PNYlTnAEgc"
      },
      "source": [
        "import turtle\n",
        "kalem=turtle.Turtle()\n",
        "kalem.pencolor(\"red\") \n",
        "kalem.pensize(3)\n",
        "for i in range(4):\n",
        "    kalem.forward(100)\n",
        "    kalem.left(90)\n",
        "turtle.done() "
      ],
      "execution_count": null,
      "outputs": []
    },
    {
      "cell_type": "markdown",
      "metadata": {
        "id": "RHV9oDKAAFTG"
      },
      "source": [
        "Örnek 16: turtle ile altıgen çizme uygulaması\n",
        "\n",
        "\n",
        "\n"
      ]
    },
    {
      "cell_type": "code",
      "metadata": {
        "id": "40pLVyPjAIOq"
      },
      "source": [
        "import turtle\n",
        "kalem=turtle.Turtle()\n",
        "kalem.pencolor(\"blue\") \n",
        "kalem.pensize(3)\n",
        "for i in range(6):\n",
        "    kalem.forward(100)\n",
        "    kalem.left(60)\n",
        "turtle.done()  "
      ],
      "execution_count": null,
      "outputs": []
    },
    {
      "cell_type": "markdown",
      "metadata": {
        "id": "_GOwHpTZAI3z"
      },
      "source": [
        "Örnek 17: kullanıcının istediği kenar sayısında çokgen çizdirmek\n",
        "  \n",
        "\n",
        "\n"
      ]
    },
    {
      "cell_type": "code",
      "metadata": {
        "id": "YrmV1Dp_ALsP"
      },
      "source": [
        "import turtle\n",
        "kalem=turtle.Turtle()\n",
        "kalem.pencolor(\"red\") \n",
        "kalem.pensize(3)\n",
        "\n",
        "kenar_sayısı=int(input(\" çizmek istediğiniz çokgenin kenar sayısını giriniz\"))\n",
        "for i in range(kenar_sayısı):\n",
        "    kalem.forward(50)\n",
        "    kalem.left(360/kenar_sayısı)\n",
        "turtle.done()\n"
      ],
      "execution_count": null,
      "outputs": []
    },
    {
      "cell_type": "markdown",
      "metadata": {
        "id": "H3iBdVzSAgGu"
      },
      "source": [
        "\n",
        "Örnek 18: circle fonksiyonu ile 3 farlı yarıçapta ve renkte çember çizdirme\n",
        " \n"
      ]
    },
    {
      "cell_type": "code",
      "metadata": {
        "id": "-j0DeNmkAuWI"
      },
      "source": [
        "import turtle \n",
        "kalem=turtle.Turtle()\n",
        "kalem.pencolor(\"orange\") \n",
        "kalem.pensize(2)\n",
        "kalem.circle(20)\n",
        "kalem.pencolor(\"red\") \n",
        "kalem.circle(30)\n",
        "kalem.pencolor(\"blue\") \n",
        "kalem.circle(40)\n",
        "turtle.done() "
      ],
      "execution_count": null,
      "outputs": []
    },
    {
      "cell_type": "markdown",
      "metadata": {
        "id": "J7RTbaTmAvFI"
      },
      "source": [
        "Örnek 19: iç içe döngüler ile desen çizdirme\n",
        " \n",
        "\n"
      ]
    },
    {
      "cell_type": "code",
      "metadata": {
        "id": "K4pamMUsAzmh"
      },
      "source": [
        "import turtle     \n",
        "kalem=turtle.Turtle()\n",
        "kalem.color(\"green\")\n",
        "\n",
        "for i in range (6):\n",
        "\n",
        "    for j in range (6):\n",
        "\n",
        "        kalem.forward(50)\n",
        "        kalem.left(60) # iç döngü\n",
        "\n",
        "    kalem.left(60)# dış döngü\n",
        "turtle.done() "
      ],
      "execution_count": null,
      "outputs": []
    },
    {
      "cell_type": "markdown",
      "metadata": {
        "id": "NeeH6NXBBA7J"
      },
      "source": [
        "Örnek 20: desen çizen fonksiyon uygulaması\n",
        " \n",
        "\n",
        "\n"
      ]
    },
    {
      "cell_type": "code",
      "metadata": {
        "id": "usM7GtdLBC88"
      },
      "source": [
        "import turtle\n",
        "def desen_çiz (kenar_uzunluğu=50,iç_kenar=3,tur_sayısı=3):\n",
        "    if(tur_sayısı <01 or iç_kenar<3):\n",
        "        print(\"hatalı veri girdiniz\")\n",
        "\n",
        "    else:\n",
        "        kalem=turtle.Turtle()\n",
        "        for i in range (tur_sayısı):\n",
        "            for j in range (iç_kenar):\n",
        "                kalem.forward(kenar_uzunluğu)\n",
        "                kalem.left(360/iç_kenar) \n",
        "\n",
        "            kalem.left(360/tur_sayısı)\n",
        "    \n",
        "\n",
        "desen_çiz()\n",
        "desen_çiz(60,4,5)\n",
        "desen_çiz(70,6,10)\n",
        "turtle.done() "
      ],
      "execution_count": null,
      "outputs": []
    },
    {
      "cell_type": "markdown",
      "metadata": {
        "id": "m2Nv8tjLBD5H"
      },
      "source": [
        "\n",
        "Cevap-1 (Örnek 21 )\n",
        "\n",
        "import turtle \n",
        "yıldız = turtle.Turtle()\n",
        "for i in range(5):\n",
        "    yıldız.forward(100)\n",
        "    yıldız.right(144)\n",
        "    \n",
        "turtle.done()\n",
        "\n",
        "Cevap-2 (Örnek 22 )\n",
        "\n",
        "import turtle \n",
        "yıldız = turtle.Turtle()\n",
        "for i in range(20):\n",
        "    yıldız.forward(i * 10)\n",
        "    yıldız.right(144)\n",
        "    \n",
        "turtle.done()\n",
        "\n",
        "Cevap-3 (Örnek 23 )\n",
        "import turtle \n",
        "yıldız = turtle.Turtle()\n",
        "for i in range(50):\n",
        "    yıldız.forward(100)\n",
        "    yıldız.right(123)\n",
        "    \n",
        "turtle.done()\n",
        "\n",
        "Cevap-4 (Örnek 24 )\n",
        "\n",
        "import turtle \n",
        "kalem = turtle.Turtle()\n",
        "kalem.penup()\n",
        "for y in range(4):\n",
        "    for i in range(4):\n",
        "        kalem.dot()\n",
        "        kalem.forward(20)\n",
        "    kalem.backward(80)\n",
        "    kalem.right(90)\n",
        "    kalem.forward(20)\n",
        "    kalem.left(90)\n",
        "    \n",
        "turtle.done()\n",
        "\n",
        "Cevap-5 (Örnek 25 )\n",
        "\n",
        "import turtle \n",
        "kalem = turtle.Turtle()\n",
        "for y in range(4):\n",
        "    kalem.down()\n",
        "    kalem.dot() \n",
        "    for i in range(4):\n",
        "        \n",
        "        kalem.forward(20)\n",
        "        kalem.dot()\n",
        "       \n",
        "    kalem.up()\n",
        "    kalem.backward(80)\n",
        "    kalem.right(90)\n",
        "    kalem.forward(20)\n",
        "    kalem.left(90)\n",
        "    \n",
        "turtle.done()\n",
        "\n",
        "Cevap-6 (Örnek 26 )\n",
        "\n",
        "import turtle\n",
        "kalem = turtle.Turtle() \n",
        "kalem.color(\"blue\") \n",
        "for k in range(5,106,25):\n",
        "    print(k)\n",
        "    for i in range(4):\n",
        "        kalem.forward(k)\n",
        "        kalem.left(90)\n",
        "\t\n",
        "turtle.done()\n",
        "\n",
        "\n"
      ]
    }
  ]
}