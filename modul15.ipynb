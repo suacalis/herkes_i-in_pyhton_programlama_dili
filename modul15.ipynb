{
  "nbformat": 4,
  "nbformat_minor": 0,
  "metadata": {
    "colab": {
      "name": "modul15",
      "provenance": [],
      "collapsed_sections": []
    },
    "kernelspec": {
      "name": "python3",
      "display_name": "Python 3"
    }
  },
  "cells": [
    {
      "cell_type": "markdown",
      "metadata": {
        "id": "bncCQ9idTzjL"
      },
      "source": [
        "<h>**MODÜL 15 <br>İleri Seviye Fonksiyonlar**</h>"
      ]
    },
    {
      "cell_type": "markdown",
      "metadata": {
        "id": "r9M2q9Aey_kr"
      },
      "source": [
        "Örnek 1: for döngüsü kullanarak liste oluşturma"
      ]
    },
    {
      "cell_type": "code",
      "metadata": {
        "id": "ZCOzKIUOTq-1",
        "colab": {
          "base_uri": "https://localhost:8080/",
          "height": 34
        },
        "outputId": "b0e05e08-d069-48b8-89f8-58585b777924"
      },
      "source": [
        "liste1=[1,2,3,4,5]\n",
        "liste2=[]\n",
        "for i in liste1:\n",
        "    liste2.append(i)\n",
        "print(liste2)\n",
        "\n"
      ],
      "execution_count": null,
      "outputs": [
        {
          "output_type": "stream",
          "text": [
            "[1, 2, 3, 4, 5]\n"
          ],
          "name": "stdout"
        }
      ]
    },
    {
      "cell_type": "markdown",
      "metadata": {
        "id": "DLARPxSPzEFj"
      },
      "source": [
        "Örnek 3: list comprehension metodu içinde for döngüsü kullanarak liste elemanlarının karesini alma.\n",
        "\n"
      ]
    },
    {
      "cell_type": "code",
      "metadata": {
        "id": "G49QxUFUzHLN",
        "colab": {
          "base_uri": "https://localhost:8080/",
          "height": 34
        },
        "outputId": "394b7031-1d67-4121-e606-caef935e4780"
      },
      "source": [
        "liste1=[3,4,5,6,7]\n",
        "liste2=[i**2 for i in liste1]\n",
        "print(liste2)\n",
        "\n"
      ],
      "execution_count": null,
      "outputs": [
        {
          "output_type": "stream",
          "text": [
            "[9, 16, 25, 36, 49]\n"
          ],
          "name": "stdout"
        }
      ]
    },
    {
      "cell_type": "markdown",
      "metadata": {
        "id": "3Snx5yhWzLYl"
      },
      "source": [
        "Örnek 4: list comprehension metodu ile 1’den 10’a kadar sayılardan oluşan bir liste oluşturma."
      ]
    },
    {
      "cell_type": "code",
      "metadata": {
        "id": "VeATfC58zPZs",
        "colab": {
          "base_uri": "https://localhost:8080/",
          "height": 34
        },
        "outputId": "4126aea6-2b2a-403e-f826-a64cdae09e44"
      },
      "source": [
        "liste2=[i for i in range(10)]\n",
        "print(liste2)\n"
      ],
      "execution_count": null,
      "outputs": [
        {
          "output_type": "stream",
          "text": [
            "[0, 1, 2, 3, 4, 5, 6, 7, 8, 9]\n"
          ],
          "name": "stdout"
        }
      ]
    },
    {
      "cell_type": "markdown",
      "metadata": {
        "id": "0LMJZQxKzVax"
      },
      "source": [
        "Örnek 5: list comprehension metodu ile Stringler üzerinde gezinme işlemleri\n",
        "\n"
      ]
    },
    {
      "cell_type": "code",
      "metadata": {
        "id": "-K6P1JQhzWG6",
        "colab": {
          "base_uri": "https://localhost:8080/",
          "height": 34
        },
        "outputId": "4dd71b0b-a341-465d-90bd-d1ffa2711cae"
      },
      "source": [
        "yazi=\"python\"\n",
        "liste=[i*2 for i in yazi]\n",
        "print(liste)\n"
      ],
      "execution_count": null,
      "outputs": [
        {
          "output_type": "stream",
          "text": [
            "['pp', 'yy', 'tt', 'hh', 'oo', 'nn']\n"
          ],
          "name": "stdout"
        }
      ]
    },
    {
      "cell_type": "markdown",
      "metadata": {
        "id": "ECaQMqyYzYH2"
      },
      "source": [
        "Örnek 6: list comprehension metodu ile İç içe listeleri birleştirerek tek bir liste üzerinde birleştirme.\n",
        "\n"
      ]
    },
    {
      "cell_type": "code",
      "metadata": {
        "id": "wl870wt_za9C",
        "colab": {
          "base_uri": "https://localhost:8080/",
          "height": 34
        },
        "outputId": "fe1339b2-c4ea-4152-80e7-131c9c591e04"
      },
      "source": [
        "liste1=[[1,2,3],[4,5,6],[7,8,9]]\n",
        "liste2=[j for i in liste1 for j in i]\n",
        "print(liste2)\n"
      ],
      "execution_count": null,
      "outputs": [
        {
          "output_type": "stream",
          "text": [
            "[1, 2, 3, 4, 5, 6, 7, 8, 9]\n"
          ],
          "name": "stdout"
        }
      ]
    },
    {
      "cell_type": "markdown",
      "metadata": {
        "id": "3Oy5BqKWzdNm"
      },
      "source": [
        "Örnek 7: list comprehension metodu ile çift Sayıları bulan uygulama\n",
        "\n"
      ]
    },
    {
      "cell_type": "code",
      "metadata": {
        "id": "JBa878Q5zh93",
        "colab": {
          "base_uri": "https://localhost:8080/",
          "height": 34
        },
        "outputId": "e002df89-27f1-47bc-ce46-fd0cc6884239"
      },
      "source": [
        "liste=[i for i in range(1,20) if i%2==0]\n",
        "print(liste)\n"
      ],
      "execution_count": null,
      "outputs": [
        {
          "output_type": "stream",
          "text": [
            "[2, 4, 6, 8, 10, 12, 14, 16, 18]\n"
          ],
          "name": "stdout"
        }
      ]
    },
    {
      "cell_type": "markdown",
      "metadata": {
        "id": "QG6AqBM1zpEu"
      },
      "source": [
        "Örnek 8: Faktöriyel hesaplama\n",
        "\n",
        "\n"
      ]
    },
    {
      "cell_type": "code",
      "metadata": {
        "id": "2oiM61cDzu6O",
        "colab": {
          "base_uri": "https://localhost:8080/",
          "height": 51
        },
        "outputId": "13de5039-74c5-45f7-dd71-9eb32f184210"
      },
      "source": [
        "faktoriyel=1\n",
        "sayı=int(input(\"faktöriyelini hesaplamak istediğiniz sayıyı giriniz\"))\n",
        "if sayı>=0:\n",
        "    for i in range(1,sayı+1):\n",
        "        faktoriyel*=i\n",
        "print (faktoriyel)\n"
      ],
      "execution_count": null,
      "outputs": [
        {
          "output_type": "stream",
          "text": [
            "faktöriyelini hesaplamak istediğiniz sayıyı giriniz5\n",
            "120\n"
          ],
          "name": "stdout"
        }
      ]
    },
    {
      "cell_type": "markdown",
      "metadata": {
        "id": "jp9NwoWyzxLb"
      },
      "source": [
        "Örnek 9: Faktöriyel hesaplayan fonksiyon\n",
        "\n"
      ]
    },
    {
      "cell_type": "code",
      "metadata": {
        "id": "4OtxWdnl0Lu6",
        "colab": {
          "base_uri": "https://localhost:8080/",
          "height": 51
        },
        "outputId": "2c01f44c-0585-46ee-953b-ee127f4f575a"
      },
      "source": [
        "def faktoriyel_hesapla(sayı):\n",
        "    faktoriyel=1\n",
        "    if sayı>=0:\n",
        "        for i in range(1,sayı+1):\n",
        "            faktoriyel*=i\n",
        "    return faktoriyel\n",
        "\n",
        "sayı=int(input(\"faktoriyelini hesaplamak istediğiniz sayıyı giriniz\"))\n",
        "print (faktoriyel_hesapla(sayı))"
      ],
      "execution_count": null,
      "outputs": [
        {
          "output_type": "stream",
          "text": [
            "faktoriyelini hesaplamak istediğiniz sayıyı giriniz6\n",
            "720\n"
          ],
          "name": "stdout"
        }
      ]
    },
    {
      "cell_type": "markdown",
      "metadata": {
        "id": "dh9_6-k20QSH"
      },
      "source": [
        "Örnek 10: Özyineleme metodu ile faktöriyel hesaplama\n",
        "\n"
      ]
    },
    {
      "cell_type": "code",
      "metadata": {
        "id": "7MAPGIEt0cs6",
        "colab": {
          "base_uri": "https://localhost:8080/",
          "height": 51
        },
        "outputId": "deb6c50f-deeb-492a-a248-1b19bf5a89c9"
      },
      "source": [
        "def faktoriyel_hesapla(sayı):\n",
        "    faktoriyel=1\n",
        "    if sayı==1:\n",
        "        return 1\n",
        "    else:\n",
        "        return sayı*faktoriyel_hesapla(sayı-1)\n",
        "\n",
        "sayı=int(input(\"faktoriyelini hesaplamak istediğiniz sayıyı giriniz\"))\n",
        "print (faktoriyel_hesapla(sayı))\n"
      ],
      "execution_count": null,
      "outputs": [
        {
          "output_type": "stream",
          "text": [
            "faktoriyelini hesaplamak istediğiniz sayıyı giriniz8\n",
            "40320\n"
          ],
          "name": "stdout"
        }
      ]
    },
    {
      "cell_type": "markdown",
      "metadata": {
        "id": "PaD7HtSj0fFI"
      },
      "source": [
        "Örnek 11: Özyineleme metodu ile Fibonacci terim sayısını hesaplama\n"
      ]
    },
    {
      "cell_type": "code",
      "metadata": {
        "id": "pmLAY1c91Ia0",
        "colab": {
          "base_uri": "https://localhost:8080/",
          "height": 51
        },
        "outputId": "e21a9605-5388-467d-cdab-c0446708be34"
      },
      "source": [
        "def fibonacci(n):\n",
        "    if n <= 2:\n",
        "        return 1\n",
        "    else:\n",
        "        return fibonacci(n-1) + fibonacci(n-2)\n",
        "\n",
        "sayı=int(input(\"hesaplanmasını istediğiniz fibonacci terim sayısını giriniz\"))\n",
        "print(fibonacci(sayı))\n",
        "\n"
      ],
      "execution_count": null,
      "outputs": [
        {
          "output_type": "stream",
          "text": [
            "hesaplanmasını istediğiniz fibonacci terim sayısını giriniz8\n",
            "21\n"
          ],
          "name": "stdout"
        }
      ]
    },
    {
      "cell_type": "markdown",
      "metadata": {
        "id": "1Qq66myq1Kc-"
      },
      "source": [
        "Örnek 12: for döngüsü ile toplam hesaplama\n",
        "\n",
        "\n",
        "\n"
      ]
    },
    {
      "cell_type": "code",
      "metadata": {
        "id": "-lHdJhzV1Mgq",
        "colab": {
          "base_uri": "https://localhost:8080/",
          "height": 51
        },
        "outputId": "984906cc-ef79-44c9-e1f5-2736667bd36b"
      },
      "source": [
        "sayı=int(input(\"kendisine kadar olan sayıların toplamını hesaplamak istediğiniz sayıyı giriniz\"))\n",
        "toplam=0\n",
        "for i in range(1,sayı+1):\n",
        "    toplam+=i\n",
        "print(toplam)\n"
      ],
      "execution_count": null,
      "outputs": [
        {
          "output_type": "stream",
          "text": [
            "kendisine kadar olan sayıların toplamını hesaplamak istediğiniz sayıyı giriniz25\n",
            "325\n"
          ],
          "name": "stdout"
        }
      ]
    },
    {
      "cell_type": "markdown",
      "metadata": {
        "id": "_IZTwDeK1PJf"
      },
      "source": [
        "Örnek 13: Özyineleme yöntemi ile toplam hesaplama\n",
        "\n"
      ]
    },
    {
      "cell_type": "code",
      "metadata": {
        "id": "4vZuQIfu1Z3S",
        "colab": {
          "base_uri": "https://localhost:8080/",
          "height": 51
        },
        "outputId": "220dbe80-c3ef-415b-bfba-75333b5a0cbe"
      },
      "source": [
        "def topla(sayı):\n",
        "    if sayı==1:\n",
        "        return 1\n",
        "    else:\n",
        "        return sayı+topla(sayı-1)\n",
        "sayı=int(input(\"kendisine kadar olan sayıların toplamını hesaplamak istediğiniz sayıyı giriniz\"))\n",
        "print(topla(sayı))\n"
      ],
      "execution_count": null,
      "outputs": [
        {
          "output_type": "stream",
          "text": [
            "kendisine kadar olan sayıların toplamını hesaplamak istediğiniz sayıyı giriniz20\n",
            "210\n"
          ],
          "name": "stdout"
        }
      ]
    },
    {
      "cell_type": "markdown",
      "metadata": {
        "id": "icxjo-qk146k"
      },
      "source": [
        "Örnek 14: Lambda fonksiyonu kullanımı örneği:\n",
        "\n"
      ]
    },
    {
      "cell_type": "code",
      "metadata": {
        "id": "zMuveHp715mR",
        "colab": {
          "base_uri": "https://localhost:8080/",
          "height": 34
        },
        "outputId": "27dfc5da-2570-433b-95f3-025128eea916"
      },
      "source": [
        "x=lambda a:a+15\n",
        "print(x(5))\n"
      ],
      "execution_count": null,
      "outputs": [
        {
          "output_type": "stream",
          "text": [
            "20\n"
          ],
          "name": "stdout"
        }
      ]
    },
    {
      "cell_type": "markdown",
      "metadata": {
        "id": "rVLhg83G2GGM"
      },
      "source": [
        "Örnek 15: Lambda fonksiyonu ile hipotenüs hesaplama\n",
        "\n",
        "\n"
      ]
    },
    {
      "cell_type": "code",
      "metadata": {
        "id": "r3I662S847Xy",
        "colab": {
          "base_uri": "https://localhost:8080/",
          "height": 34
        },
        "outputId": "6237c7c0-24f3-4ffc-a343-b0a3a0b8c79d"
      },
      "source": [
        "import math\n",
        "hipotenus=lambda x,y:math.sqrt(x*x+y*y)\n",
        "print(hipotenus(3,4))"
      ],
      "execution_count": null,
      "outputs": [
        {
          "output_type": "stream",
          "text": [
            "5.0\n"
          ],
          "name": "stdout"
        }
      ]
    },
    {
      "cell_type": "markdown",
      "metadata": {
        "id": "aoEqRzbw5R_L"
      },
      "source": [
        "Örnek 16: Lambdanın direkt kullanım şekli\n",
        "\n"
      ]
    },
    {
      "cell_type": "code",
      "metadata": {
        "id": "Ady9HOte5Spb",
        "colab": {
          "base_uri": "https://localhost:8080/",
          "height": 34
        },
        "outputId": "ffe77b35-a74b-43a4-cea6-db0dce042c37"
      },
      "source": [
        "print( (lambda x,y:3*x+5*y )(2,5))\n"
      ],
      "execution_count": null,
      "outputs": [
        {
          "output_type": "stream",
          "text": [
            "31\n"
          ],
          "name": "stdout"
        }
      ]
    },
    {
      "cell_type": "markdown",
      "metadata": {
        "id": "CkvdhZSE5hrN"
      },
      "source": [
        "Örnek 17: for döngüsü ile kişiye özel davetiye metni oluşturma.\n",
        "\n"
      ]
    },
    {
      "cell_type": "code",
      "metadata": {
        "id": "5q5Y7kcr5iWZ",
        "colab": {
          "base_uri": "https://localhost:8080/",
          "height": 153
        },
        "outputId": "f03d45a0-fdf0-48c0-9c6b-c4b57596238a"
      },
      "source": [
        "def davetiye_metni (isim):\n",
        "    gonderilecek_metin =\"Sayın \"+isim+\"\\n\"+\" Bu mutlu günümüzde sizleri de aramızda görmekten mutluluk duyarız.\"\n",
        "    return gonderilecek_metin\n",
        "\n",
        "isimler=[\"Ali\",\"Ayşe\",\"Murat\",\"Elif\"]\n",
        "for birey in isimler:\n",
        "    print(davetiye_metni (birey))\n"
      ],
      "execution_count": null,
      "outputs": [
        {
          "output_type": "stream",
          "text": [
            "Sayın Ali\n",
            " Bu mutlu günümüzde sizleri de aramızda görmekten mutluluk duyarız.\n",
            "Sayın Ayşe\n",
            " Bu mutlu günümüzde sizleri de aramızda görmekten mutluluk duyarız.\n",
            "Sayın Murat\n",
            " Bu mutlu günümüzde sizleri de aramızda görmekten mutluluk duyarız.\n",
            "Sayın Elif\n",
            " Bu mutlu günümüzde sizleri de aramızda görmekten mutluluk duyarız.\n"
          ],
          "name": "stdout"
        }
      ]
    },
    {
      "cell_type": "markdown",
      "metadata": {
        "id": "syWhBMwK50ff"
      },
      "source": [
        "Örnek 18: map fonksiyonu ile kişiye özel davetiye metni oluşturma\n",
        "\n"
      ]
    },
    {
      "cell_type": "code",
      "metadata": {
        "id": "yWHh89D-53X1",
        "colab": {
          "base_uri": "https://localhost:8080/",
          "height": 187
        },
        "outputId": "202737dc-4ec0-4bec-e08e-5dfff59159b4"
      },
      "source": [
        "def davetiye_metni (isim):\n",
        "    gonderilecek_metin =\"Sayın \"+isim+\"\\n\"+\" Bu mutlu günümüzde sizleri de aramızda görmekten mutluluk duyarız. \\n\"\n",
        "    return gonderilecek_metin\n",
        "\n",
        "isimler=[\"Ali\",\"Ayşe\",\"Murat\",\"Elif\"]\n",
        "davetiye=map(davetiye_metni,isimler)\n",
        "print (davetiye)#davetiye değişkeninin bellekteki konumunu yazdırır\n",
        "print (*davetiye)#davetiye değişkeninin değerini yazdırır\n"
      ],
      "execution_count": null,
      "outputs": [
        {
          "output_type": "stream",
          "text": [
            "<map object at 0x7f56ffd06470>\n",
            "Sayın Ali\n",
            " Bu mutlu günümüzde sizleri de aramızda görmekten mutluluk duyarız. \n",
            " Sayın Ayşe\n",
            " Bu mutlu günümüzde sizleri de aramızda görmekten mutluluk duyarız. \n",
            " Sayın Murat\n",
            " Bu mutlu günümüzde sizleri de aramızda görmekten mutluluk duyarız. \n",
            " Sayın Elif\n",
            " Bu mutlu günümüzde sizleri de aramızda görmekten mutluluk duyarız. \n",
            "\n"
          ],
          "name": "stdout"
        }
      ]
    },
    {
      "cell_type": "markdown",
      "metadata": {
        "id": "lHFuU5Sv56XT"
      },
      "source": [
        "Örnek 19: map ve lambda fonksiyonlarının birlikte kullanımı\n",
        "\n"
      ]
    },
    {
      "cell_type": "code",
      "metadata": {
        "id": "sM3JE4mS58aO",
        "colab": {
          "base_uri": "https://localhost:8080/",
          "height": 170
        },
        "outputId": "d1b9fe48-b9bf-4cd3-bf17-5199b17f634f"
      },
      "source": [
        "isimler=[\"Ali\",\"Ayşe\",\"Murat\",\"Elif\"]\n",
        "yeni_liste =map(lambda x:\"Sayın \"+x+\"\\n Bu mutlu günümüzde sizleri de aramızda görmekten mutluluk duyarız.\\n\", isimler)\n",
        "print(*yeni_liste)\n"
      ],
      "execution_count": null,
      "outputs": [
        {
          "output_type": "stream",
          "text": [
            "Sayın Ali\n",
            " Bu mutlu günümüzde sizleri de aramızda görmekten mutluluk duyarız.\n",
            " Sayın Ayşe\n",
            " Bu mutlu günümüzde sizleri de aramızda görmekten mutluluk duyarız.\n",
            " Sayın Murat\n",
            " Bu mutlu günümüzde sizleri de aramızda görmekten mutluluk duyarız.\n",
            " Sayın Elif\n",
            " Bu mutlu günümüzde sizleri de aramızda görmekten mutluluk duyarız.\n",
            "\n"
          ],
          "name": "stdout"
        }
      ]
    },
    {
      "cell_type": "markdown",
      "metadata": {
        "id": "A2JVcfHJ6HRJ"
      },
      "source": [
        "Örnek 20: reduce örneği\n",
        "\n"
      ]
    },
    {
      "cell_type": "code",
      "metadata": {
        "id": "_VULj6ZM6I6t",
        "colab": {
          "base_uri": "https://localhost:8080/",
          "height": 34
        },
        "outputId": "c45f1e5f-f494-4eff-e37f-6b5858bd9d3c"
      },
      "source": [
        "from functools import reduce\n",
        "print(reduce(lambda x,y : x + y , [1,2,3,4]))\n"
      ],
      "execution_count": null,
      "outputs": [
        {
          "output_type": "stream",
          "text": [
            "10\n"
          ],
          "name": "stdout"
        }
      ]
    },
    {
      "cell_type": "markdown",
      "metadata": {
        "id": "FO24YFy7P3Ai"
      },
      "source": [
        "Örnek 21: reduce ile faktöriyel hesaplama\n",
        "\n"
      ]
    },
    {
      "cell_type": "code",
      "metadata": {
        "id": "Pe5vVa-0P7UG",
        "colab": {
          "base_uri": "https://localhost:8080/",
          "height": 51
        },
        "outputId": "07db0581-88dd-42c9-b6ac-4615305c8074"
      },
      "source": [
        "import functools\n",
        "sayı=int(input(\"faktöriyelini hesaplamak istediğiniz sayıyı giriniz\"))\n",
        "liste=[i for i in range(1,sayı+1)]\n",
        "print (functools.reduce(lambda x,y :x*y,liste))"
      ],
      "execution_count": null,
      "outputs": [
        {
          "output_type": "stream",
          "text": [
            "faktöriyelini hesaplamak istediğiniz sayıyı giriniz6\n",
            "720\n"
          ],
          "name": "stdout"
        }
      ]
    },
    {
      "cell_type": "markdown",
      "metadata": {
        "id": "_iWd0rIvP9tE"
      },
      "source": [
        "Örnek 22: filter fonksiyonu örnek kullanımı \n",
        "\n"
      ]
    },
    {
      "cell_type": "code",
      "metadata": {
        "id": "0Y1KP0AAQB7r",
        "colab": {
          "base_uri": "https://localhost:8080/",
          "height": 34
        },
        "outputId": "266242ef-372c-4f92-ea46-f27f29f18d48"
      },
      "source": [
        "def buyuk_harf(isim):\n",
        "    return isim.isupper()\n",
        "liste=[\"Ali\",\"ali\",\"Selim\",\"SELİM\",\"selim\"]\n",
        "sonuc=filter(buyuk_harf,liste)\n",
        "print(*sonuc)"
      ],
      "execution_count": null,
      "outputs": [
        {
          "output_type": "stream",
          "text": [
            "SELİM\n"
          ],
          "name": "stdout"
        }
      ]
    },
    {
      "cell_type": "markdown",
      "metadata": {
        "id": "668id6TiQG1N"
      },
      "source": [
        "Örnek 23: üç’e bölünebilen sayıları ekrana yazdırma\n",
        "\n"
      ]
    },
    {
      "cell_type": "code",
      "metadata": {
        "id": "MjnIUx5FQIiI",
        "colab": {
          "base_uri": "https://localhost:8080/",
          "height": 34
        },
        "outputId": "77cf4fea-7ee0-4ffc-8bfa-01bbeb4ab4da"
      },
      "source": [
        "sayılar = [10, 15, 4, 29, 402, 249, 210, 55, 40, ] \n",
        "sonuc = filter(lambda x: (x % 3 == 0), sayılar)  \n",
        "print(*sonuc)"
      ],
      "execution_count": null,
      "outputs": [
        {
          "output_type": "stream",
          "text": [
            "15 402 249 210\n"
          ],
          "name": "stdout"
        }
      ]
    },
    {
      "cell_type": "markdown",
      "metadata": {
        "id": "gMk502HQQJ_y"
      },
      "source": [
        "Örnek 24: bakiyesi 150’den büyük olan müşteri seçme uygulaması\n",
        "\n"
      ]
    },
    {
      "cell_type": "code",
      "metadata": {
        "id": "VmZwGQpCQQHG",
        "colab": {
          "base_uri": "https://localhost:8080/",
          "height": 34
        },
        "outputId": "ab6ff015-70b5-4a41-9696-7373cb488d01"
      },
      "source": [
        "#müşteriler listesi müşteri no ile bakiye miktarı\n",
        "musteriler= [[1, 12], [2, 600], [ 3, 500], [4,150]]\n",
        "sonuc = filter(lambda x: (x[1] > 149),musteriler )  \n",
        "print(*sonuc)  "
      ],
      "execution_count": null,
      "outputs": [
        {
          "output_type": "stream",
          "text": [
            "[2, 600] [3, 500] [4, 150]\n"
          ],
          "name": "stdout"
        }
      ]
    },
    {
      "cell_type": "markdown",
      "metadata": {
        "id": "TQRZG6rI7I-i"
      },
      "source": [
        "Bölüm sonu soruları \n",
        "\n",
        "1- 5 ten başlayıp 20 ye kadar olan çift sayılardan oluşan bir listeyi list comprehension kullanarak yapınız \n",
        "\n",
        "2 liste1=[\"ahmet\",\"ayşe\",\"metin\"] listesinden list comprehension metodu ile verilerin başına sayın ifadesi gelecek şekilde  (['Sayın ahmet', 'Sayın ayşe', 'Sayın metin']) liste2  adında bir liste oluşturunuz\n",
        "\n",
        "3- elinizde bir teste ait cevap anahtarı ve öğrenci cevaplarının olduğu listeler var. siz bu cevapları anahtar ile kontrol ederek  sonuçları doğru veya yanlış olarak çıktı almak istiyorsunuz. Bunu yapacak kodları lambda ve map fonksiyonları ile nasıl yaparsınız\n",
        "\n",
        "Örnek: cevap_anahtarı=[\"a\",\"c\",\"e\",\"b\",\"a\"]  ogrenci_1=[\"a\",\"d\",\"d\",\"b\",\"a\"]\n",
        "İstenen çıktı Çıktı:  ['doğru', 'yanlıs', 'yanlıs', 'doğru', 'doğru']\n"
      ]
    },
    {
      "cell_type": "markdown",
      "metadata": {
        "id": "T5fA3H4d7LHn"
      },
      "source": [
        "Cevap-1"
      ]
    },
    {
      "cell_type": "code",
      "metadata": {
        "id": "LuRA41y77KnW",
        "colab": {
          "base_uri": "https://localhost:8080/",
          "height": 34
        },
        "outputId": "bb562fa9-3330-4b9e-d1be-bd4fc9ac91ca"
      },
      "source": [
        "liste=[ i  for i in range(5,21,2)]\n",
        "print(liste)\n"
      ],
      "execution_count": null,
      "outputs": [
        {
          "output_type": "stream",
          "text": [
            "[5, 7, 9, 11, 13, 15, 17, 19]\n"
          ],
          "name": "stdout"
        }
      ]
    },
    {
      "cell_type": "markdown",
      "metadata": {
        "id": "QbhpFT0k7tUZ"
      },
      "source": [
        "Cevap-2"
      ]
    },
    {
      "cell_type": "code",
      "metadata": {
        "id": "6SQhNzrM7vOY",
        "colab": {
          "base_uri": "https://localhost:8080/",
          "height": 34
        },
        "outputId": "dfc503e3-33fb-4e1e-8f38-bdd29d382300"
      },
      "source": [
        "liste1=[\"ahmet\",\"ayşe\",\"metin\"]\n",
        "liste2=[\"Sayın \"+i for i in liste1]\n",
        "print(liste2)\n"
      ],
      "execution_count": null,
      "outputs": [
        {
          "output_type": "stream",
          "text": [
            "['Sayın ahmet', 'Sayın ayşe', 'Sayın metin']\n"
          ],
          "name": "stdout"
        }
      ]
    },
    {
      "cell_type": "markdown",
      "metadata": {
        "id": "V6J-rN877yvn"
      },
      "source": [
        "Cevap 3"
      ]
    },
    {
      "cell_type": "code",
      "metadata": {
        "id": "n5tKf5Jq71ul",
        "colab": {
          "base_uri": "https://localhost:8080/",
          "height": 34
        },
        "outputId": "914b028e-fb1e-4517-fe33-7950292e0d04"
      },
      "source": [
        "cevap_anahtari=[\"a\",\"c\",\"e\",\"b\",\"a\"]\n",
        "ogrenci_1=[\"a\",\"d\",\"d\",\"b\",\"a\"]\n",
        "liste2=list(map(lambda x,y: \"doğru\" if x==y   else \"yanlıs\",cevap_anahtari,ogrenci_1))\n",
        "print(liste2)\n"
      ],
      "execution_count": null,
      "outputs": [
        {
          "output_type": "stream",
          "text": [
            "['doğru', 'yanlıs', 'yanlıs', 'doğru', 'doğru']\n"
          ],
          "name": "stdout"
        }
      ]
    }
  ]
}