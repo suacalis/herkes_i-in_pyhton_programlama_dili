{
  "nbformat": 4,
  "nbformat_minor": 0,
  "metadata": {
    "colab": {
      "name": "modul4",
      "provenance": [],
      "collapsed_sections": []
    },
    "kernelspec": {
      "name": "python3",
      "display_name": "Python 3"
    }
  },
  "cells": [
    {
      "cell_type": "markdown",
      "metadata": {
        "id": "BOM45RN41P2N"
      },
      "source": [
        "#MODÜL 4 <br>Mantıksal İfadeler ve Bağlaçlar<br>\n",
        "**Örnek 1** <br>\n",
        "Aşağıdaki örnek kodda kullanıcı adı ve şifresi doğru girilirse ekrana “True” ikisinden biri bile yanlış olursa “False” değeri döndürür."
      ]
    },
    {
      "cell_type": "code",
      "metadata": {
        "id": "tlcHlB6mIwF0",
        "colab": {
          "base_uri": "https://localhost:8080/",
          "height": 88
        },
        "outputId": "fbdf5968-6950-4dd2-9403-7bb16fbf7c4b"
      },
      "source": [
        "kullaniciAdi=input('Kullanıcı Adı:')\n",
        "kullaniciParola=input('Parola:')\n",
        "print(kullaniciAdi=='Admin' and kullaniciParola=='123456')"
      ],
      "execution_count": null,
      "outputs": [
        {
          "output_type": "stream",
          "text": [
            "Kullanıcı Adı:Admin\n",
            "Parola:123456\n",
            "True\n"
          ],
          "name": "stdout"
        }
      ]
    },
    {
      "cell_type": "markdown",
      "metadata": {
        "id": "VDFgvj9hJni5"
      },
      "source": [
        " <br>**Örnek 2**<br>Bölümü Bilgisayar veya Elektronik olanları seçmek için bir kod yazabilirsiniz. bolum==’Bilgisayar’ “or” bolum==’Elektronik’ koşullarından biri doğruysa “True” değilse “False” değeri döndürür."
      ]
    },
    {
      "cell_type": "code",
      "metadata": {
        "id": "g493ZSNiRILr",
        "colab": {
          "base_uri": "https://localhost:8080/",
          "height": 71
        },
        "outputId": "43ae5f49-bcbb-4fb5-d11a-aa834b7c8174"
      },
      "source": [
        "bolum=input('Bölümünüzü giriniz:')\n",
        "#Büyük harf küçük harf duyarlılığını unatmayın\n",
        "print(bolum=='Bilgisayar' or bolum=='Elektronik')"
      ],
      "execution_count": null,
      "outputs": [
        {
          "output_type": "stream",
          "text": [
            "Bölümünüzü giriniz:Bilgisayar\n",
            "True\n"
          ],
          "name": "stdout"
        }
      ]
    },
    {
      "cell_type": "markdown",
      "metadata": {
        "id": "fEZglR2UdaR7"
      },
      "source": [
        "**Örnek 3**<br>Aşağıda herhangi bir karar yapısı, döngü veya fonksiyon olmadan ikinci satırdaki kodu girintili yazdığımız için hata verir. "
      ]
    },
    {
      "cell_type": "code",
      "metadata": {
        "id": "JdW-WGC9eDIP",
        "colab": {
          "base_uri": "https://localhost:8080/",
          "height": 129
        },
        "outputId": "e5f9b224-0825-4f1b-9392-f273bef4380e"
      },
      "source": [
        "print ('Blok yapısı')\n",
        "  print('Girinti') "
      ],
      "execution_count": null,
      "outputs": [
        {
          "output_type": "error",
          "ename": "IndentationError",
          "evalue": "ignored",
          "traceback": [
            "\u001b[0;36m  File \u001b[0;32m\"<ipython-input-7-b54d1a37c7f1>\"\u001b[0;36m, line \u001b[0;32m2\u001b[0m\n\u001b[0;31m    print('Girinti')\u001b[0m\n\u001b[0m    ^\u001b[0m\n\u001b[0;31mIndentationError\u001b[0m\u001b[0;31m:\u001b[0m unexpected indent\n"
          ]
        }
      ]
    },
    {
      "cell_type": "markdown",
      "metadata": {
        "id": "Yfed2GCRc_lc"
      },
      "source": [
        "**Örnek 4**<br>\n",
        "Kullanıcının yaş değerini alarak 18’e eşit veya büyük olması hâlinde ona mesaj veren kod:"
      ]
    },
    {
      "cell_type": "code",
      "metadata": {
        "id": "6kNj9Sef3Mrm",
        "colab": {
          "base_uri": "https://localhost:8080/",
          "height": 88
        },
        "outputId": "49dfdf6d-4940-4998-a59f-72e0180d76d6"
      },
      "source": [
        "yasi=int(input('Lütfen yaşınızı giriniz: '))\n",
        "if (yasi>=18): \n",
        "  print('Oy kullanabilirsiniz.')\n",
        "print ('Program bitti.')"
      ],
      "execution_count": null,
      "outputs": [
        {
          "output_type": "stream",
          "text": [
            "Lütfen yaşınızı giriniz: 18\n",
            "Oy kullanabilirsiniz.\n",
            "Program bitti.\n"
          ],
          "name": "stdout"
        }
      ]
    },
    {
      "cell_type": "markdown",
      "metadata": {
        "id": "mHFce4v2bes_"
      },
      "source": [
        "“if” bloğunun içindeki kod ancak şart sağlandığında çalışır ve blok bittikten sonra program akışı devam\n",
        "eder. Şart sağlanmazsa blok atlanır. Python alt satırdaki kodları yorumlar ve ona göre işlem yapar. Aşa-\n",
        "ğıdaki örnek 18’den küçük bir yaş girilerek çalıştırılmıştır."
      ]
    },
    {
      "cell_type": "code",
      "metadata": {
        "id": "ZH5IS2P8V__N",
        "colab": {
          "base_uri": "https://localhost:8080/",
          "height": 71
        },
        "outputId": "96d0e2ae-715b-415c-ba5d-763fc12ac0ad"
      },
      "source": [
        "yasi=int(input('Lütfen yaşınızı giriniz: '))\n",
        "if (yasi>=18): \n",
        " print('Oy kullanabilirsiniz.')\n",
        "print ('Program bitti.')"
      ],
      "execution_count": null,
      "outputs": [
        {
          "output_type": "stream",
          "text": [
            "Lütfen yaşınızı giriniz: 15\n",
            "Program bitti.\n"
          ],
          "name": "stdout"
        }
      ]
    },
    {
      "cell_type": "markdown",
      "metadata": {
        "id": "1_stZFY9klG6"
      },
      "source": [
        "**Örnek 5**<br>\n",
        "adi ve yasi değişkenin değerlerine göre hangi blokların çalıştığına dikkat ediniz."
      ]
    },
    {
      "cell_type": "code",
      "metadata": {
        "id": "RTEcyj-zbbX5",
        "colab": {
          "base_uri": "https://localhost:8080/",
          "height": 68
        },
        "outputId": "4d713e10-2c53-40b1-ab16-fe5b38bf93d2"
      },
      "source": [
        "yasi=17\n",
        "adi='Tahsin'\n",
        "if (yasi>=18):\n",
        " print('1. Şart sağlandı')\n",
        " print ('1. if bloğunun içindesiniz')\n",
        "if (adi=='Tahsin'):\n",
        " print('2. Şart sağlandı')\n",
        " print ('2. if bloğunun içindesiniz')\n",
        "print('Normal program akışı girinti yok')"
      ],
      "execution_count": null,
      "outputs": [
        {
          "output_type": "stream",
          "text": [
            "2. Şart sağlandı\n",
            "2. if bloğunun içindesiniz\n",
            "Normal program akışı girinti yok\n"
          ],
          "name": "stdout"
        }
      ]
    },
    {
      "cell_type": "markdown",
      "metadata": {
        "id": "huQJqCNaUiYl"
      },
      "source": [
        "Örnekte \"and\" operatörü ile iki koşulun birlikte sağlanma şartı koşulmuştur.\n",
        "<br>\n",
        "**Örnek 6**<br>\n",
        "Kullanıcının girdiği kullanıcı adı ve parolayı kontrol ediniz. <br>"
      ]
    },
    {
      "cell_type": "code",
      "metadata": {
        "id": "o-BjiKopVlUR",
        "colab": {
          "base_uri": "https://localhost:8080/",
          "height": 85
        },
        "outputId": "888a4fb4-7257-4fd8-8e08-441cd285c851"
      },
      "source": [
        "kullaniciAdi=input('Kullanıcı Adı:')\n",
        "kullaniciParola=input('Parola:')\n",
        "if (kullaniciAdi=='Admin' and kullaniciParola=='123456'):\n",
        "  print('Giriş Başarılı')\n",
        "  print ('Menülere erişebilirsiniz')"
      ],
      "execution_count": null,
      "outputs": [
        {
          "output_type": "stream",
          "text": [
            "Kullanıcı Adı:Admin\n",
            "Parola:123456\n",
            "Giriş Başarılı\n",
            "Menülere erişebilirsiniz\n"
          ],
          "name": "stdout"
        }
      ]
    },
    {
      "cell_type": "markdown",
      "metadata": {
        "id": "DnmZyOlBJ2hA"
      },
      "source": [
        "**Örnek 7** <br>Kolay anlaşılması için verilen örnekteki ikinci “if” bloğu içindeki kodların girintisine dikkat ediniz."
      ]
    },
    {
      "cell_type": "code",
      "metadata": {
        "id": "BttWBeORXdCc",
        "colab": {
          "base_uri": "https://localhost:8080/",
          "height": 105
        },
        "outputId": "1a3ff69a-cc3d-4880-a5d3-7a48b196685e"
      },
      "source": [
        "kullaniciAdi=input('Kullanıcı Adı:')\n",
        "kullaniciParola=input('Parola:')\n",
        "if (kullaniciAdi=='Admin'):\n",
        "  if (kullaniciParola=='123456'):\n",
        "    print('Giriş Başarılı')\n",
        "    print ('Menülere erişebilirsiniz')"
      ],
      "execution_count": null,
      "outputs": [
        {
          "output_type": "stream",
          "text": [
            "Kullanıcı Adı:Admin\n",
            "Parola:123456\n",
            "Giriş Başarılı\n",
            "Menülere erişebilirsiniz\n"
          ],
          "name": "stdout"
        }
      ]
    },
    {
      "cell_type": "markdown",
      "metadata": {
        "id": "pMekPdHzU4ZI"
      },
      "source": [
        "**Örnek 8**<br>Aşağıdaki örnekte kullanıcının girdiği sayının çift - tek olduğunu bulan bir kod yazılmıştır.\n",
        "Çift bir sayı girildiğinde “if” bloğunun içindeki kodlar çalışır."
      ]
    },
    {
      "cell_type": "code",
      "metadata": {
        "id": "lGIRvu2waYQp",
        "colab": {
          "base_uri": "https://localhost:8080/",
          "height": 71
        },
        "outputId": "4952b9c1-3d3e-466d-992d-b058a62a2436"
      },
      "source": [
        "sayi1=int (input ('Lütfen bir sayı giriniz: '))\n",
        "if ((sayi1%2)==0):\n",
        "  print('Girdiğiniz sayı çifttir.')\n",
        "else:\n",
        "  print('Girdiğiniz sayı tektir: ')"
      ],
      "execution_count": null,
      "outputs": [
        {
          "output_type": "stream",
          "text": [
            "Lütfen bir sayı giriniz: 12\n",
            "Girdiğiniz sayı çifttir.\n"
          ],
          "name": "stdout"
        }
      ]
    },
    {
      "cell_type": "markdown",
      "metadata": {
        "id": "TtTsBpBwUsDO"
      },
      "source": [
        "Tek bir sayı girildiğinde “else” bloğunun içindeki kodlar çalışır"
      ]
    },
    {
      "cell_type": "code",
      "metadata": {
        "id": "fFYnUS6wUqTC",
        "colab": {
          "base_uri": "https://localhost:8080/",
          "height": 71
        },
        "outputId": "c9bbc20e-f9f5-4973-9d0d-b13d8ed708a3"
      },
      "source": [
        "sayi1=int (input ('Lütfen bir sayı giriniz: '))\n",
        "if ((sayi1%2)==0):\n",
        "  print('Girdiğiniz sayı çifttir.')\n",
        "else:\n",
        "  print('Girdiğiniz sayı tektir: ')"
      ],
      "execution_count": null,
      "outputs": [
        {
          "output_type": "stream",
          "text": [
            "Lütfen bir sayı giriniz: 13\n",
            "Girdiğiniz sayı tektir: \n"
          ],
          "name": "stdout"
        }
      ]
    },
    {
      "cell_type": "markdown",
      "metadata": {
        "id": "VhChIhImbaeo"
      },
      "source": [
        "**Örnek 9**<br>Koşullu ifade, operatörler ve bağlaçlarla daha etkili yapılabilir. Yukarıdaki kullanıcı adı ve parolası örne-\n",
        "ğinde kullanıcının girdiği kullanıcı adı ve parola bu örnekte “and” ile birlikte kontrol edilmiştir."
      ]
    },
    {
      "cell_type": "code",
      "metadata": {
        "id": "IeCWY7SEWhrc",
        "colab": {
          "base_uri": "https://localhost:8080/",
          "height": 105
        },
        "outputId": "cfe14982-5685-4600-f666-5604700aa64c"
      },
      "source": [
        "kullaniciAdi=input('Kullanıcı Adı:')\n",
        "kullaniciParola=input('Parola:')\n",
        "if (kullaniciAdi=='Admin' and kullaniciParola=='123456'):\n",
        "  print('Giriş Başarılı')\n",
        "  print ('Menülere erişebilirsiniz')\n",
        "else:\n",
        "  print ('Yanlış kullanıcı adı veya şifre')"
      ],
      "execution_count": null,
      "outputs": [
        {
          "output_type": "stream",
          "text": [
            "Kullanıcı Adı:Admin\n",
            "Parola:123456\n",
            "Giriş Başarılı\n",
            "Menülere erişebilirsiniz\n"
          ],
          "name": "stdout"
        }
      ]
    },
    {
      "cell_type": "markdown",
      "metadata": {
        "id": "BcHyamENZ_g8"
      },
      "source": [
        "**Örnek 10**<br>“if else” yapısına ilişkin başka bir örnek aşağıda verilmiştir. Bu örnekte şartlar “and” bağlacıyla birleştirilmiştir."
      ]
    },
    {
      "cell_type": "code",
      "metadata": {
        "id": "HvC7hLdCYjXF",
        "colab": {
          "base_uri": "https://localhost:8080/",
          "height": 71
        },
        "outputId": "97490135-268d-4e2f-ac56-44c8de1572a1"
      },
      "source": [
        "yasi=int(input('Lütfen yaşınızı giriniz: '))\n",
        "bolum='Bilgisayar'\n",
        "yabanciDil=True\n",
        "if (yasi>=18 and yasi<35 and bolum=='Bilgisayar' and yabanciDil==True): \n",
        "  print('Mülakata katılabilirsiniz.')\n",
        "else:\n",
        "  print('Şartlarınız tutmuyor.')"
      ],
      "execution_count": null,
      "outputs": [
        {
          "output_type": "stream",
          "text": [
            "Lütfen yaşınızı giriniz: 20\n",
            "Mülakata katılabilirsiniz.\n"
          ],
          "name": "stdout"
        }
      ]
    },
    {
      "cell_type": "markdown",
      "metadata": {
        "id": "3RWEGwXK13Wu"
      },
      "source": [
        "<br>**Örnek 11**<br> Bir kullanıcının sınav puanını alarak durumunun değerlendirilmesi:"
      ]
    },
    {
      "cell_type": "code",
      "metadata": {
        "id": "JmX0xB6Msm4g",
        "colab": {
          "base_uri": "https://localhost:8080/",
          "height": 71
        },
        "outputId": "730d35b3-b3b9-41e5-97ad-b2eb14b2dffd"
      },
      "source": [
        "sinavPuani=int(input('Puanınız giriniz (0-100): '))\n",
        "if sinavPuani>=85:\n",
        "  print('Pek iyi')\n",
        "elif sinavPuani>=70:\n",
        "  print('İyi')\n",
        "elif sinavPuani>=55:\n",
        "  print('Orta')\n",
        "elif sinavPuani>=45:\n",
        "  print('geçer')\n",
        "else: print('Kaldı')"
      ],
      "execution_count": null,
      "outputs": [
        {
          "output_type": "stream",
          "text": [
            "Puanınız giriniz (0-100): 65\n",
            "Orta\n"
          ],
          "name": "stdout"
        }
      ]
    },
    {
      "cell_type": "markdown",
      "metadata": {
        "id": "6Q8My69grzxa"
      },
      "source": [
        "**Örnek 12**<br>Öğrencilerin başarı puanlarını hesaplayan ve sonucu değerlendirerek harf notu olarak döndüren bir\n",
        "program yazımı:"
      ]
    },
    {
      "cell_type": "code",
      "metadata": {
        "id": "9iTQBKZAcZQ_",
        "colab": {
          "base_uri": "https://localhost:8080/",
          "height": 139
        },
        "outputId": "533136f3-132b-4b24-9fc7-5c5aa54cc6e8"
      },
      "source": [
        "basariPuani=-1#kontrol değerimiz\n",
        "vizePuani=int(input('Vize puanını giriniz: '))\n",
        "finalPuani=int(input('Final puanını giriniz: '))\n",
        "vizeOraniYuzde=(int(input('Vize oranını % olarak giriniz (30, 40 gibi): ')))\n",
        "finalOraniYuzde=(int(input('Final oranını % olarak giriniz (70, 60 gibi): ')))\n",
        "#Önce aldığımız verileri kontrol edelim \n",
        "if (vizePuani>100 or vizePuani<0 or finalPuani>100 or finalPuani<0 ):\n",
        "  print ('Girdiğiniz vize veya final puanlarını kontrol edin')\n",
        "elif (vizeOraniYuzde+finalOraniYuzde)<100:\n",
        "  print ('Girdiğiniz vize veya % oranlarını kontrol edin toplam 100 olmalı')\n",
        "else:\n",
        "  basariPuani=(vizePuani* vizeOraniYuzde/100)+(finalPuani* finalOraniYuzde/100)\n",
        "  #bir hata yoksa basariPuani hesaplansın\n",
        "  #hesaplanmazsa lk başta verdiğimiz -1 değeri kalır\n",
        "if (basariPuani>=0):\n",
        "  print('Başarı puanı: ', basariPuani )\n",
        "  if (basariPuani>= 80 and basariPuani <= 100):\n",
        "    print('Başarı notu : A')\n",
        "  elif (basariPuani>= 70 and basariPuani <80):\n",
        "    print('Başarı notu : B')\n",
        "  elif (basariPuani>= 60 and basariPuani <70):\n",
        "    print('Başarı notu : C')\n",
        "  elif (basariPuani>= 50 and basariPuani <60):\n",
        "    print('Başarı notu : D')\n",
        "  elif (basariPuani< 50 ):\n",
        "    print('Başarı notu : F')"
      ],
      "execution_count": null,
      "outputs": [
        {
          "output_type": "stream",
          "text": [
            "Vize puanını giriniz: 70\n",
            "Final puanını giriniz: 80\n",
            "Vize oranını % olarak giriniz (30, 40 gibi): 30\n",
            "Final oranını % olarak giriniz (70, 60 gibi): 70\n",
            "Başarı puanı:  77.0\n",
            "Başarı notu : B\n"
          ],
          "name": "stdout"
        }
      ]
    },
    {
      "cell_type": "markdown",
      "metadata": {
        "id": "6N_-jRl9rq3M"
      },
      "source": [
        "# Bölüm Alıştırmaları"
      ]
    },
    {
      "cell_type": "markdown",
      "metadata": {
        "id": "_2GF5c0fdqnd"
      },
      "source": [
        "1. Kullanıcının girdiği tam sayının \"Negatif\", \"Pozitif\" yada \"Sıfır\" olduğunu yazdıran programın kodlarını yazınız."
      ]
    },
    {
      "cell_type": "code",
      "metadata": {
        "id": "FN48tf-Rd1vH",
        "colab": {
          "base_uri": "https://localhost:8080/",
          "height": 51
        },
        "outputId": "e9992264-6b05-4e4f-901b-86e06f6bf69f"
      },
      "source": [
        "sayi = input('Sayı : ')\n",
        "if(int(sayi)<0):\n",
        "  print(\"Sayı Negatif\")\n",
        "elif(int(sayi)>0):\n",
        "  print(\"Sayı Pozitif\")\n",
        "else:\n",
        "  print(\"Sayı Sıfır\")"
      ],
      "execution_count": null,
      "outputs": [
        {
          "output_type": "stream",
          "text": [
            "Sayı : -30\n",
            "Sayı Negatif\n"
          ],
          "name": "stdout"
        }
      ]
    },
    {
      "cell_type": "markdown",
      "metadata": {
        "id": "wv1uGPv0ablc"
      },
      "source": [
        "2. Öğrencinin sınav ortalamalarını kullanıcıdan alan ortalama en az 50 ise geçti değilse kaldı yazan programı yapınız?\n",
        "\n"
      ]
    },
    {
      "cell_type": "code",
      "metadata": {
        "id": "3KATYFx6bbx0",
        "colab": {
          "base_uri": "https://localhost:8080/",
          "height": 51
        },
        "outputId": "9195505b-fff0-4cf5-c42d-1d3978073f98"
      },
      "source": [
        "ort = input('Ortalamanızı Girin : ')\n",
        "if(int(ort)>=50):\n",
        "  print(\"Geçtiniz\")\n",
        "else:\n",
        "  print(\"Kaldınız\")\n"
      ],
      "execution_count": null,
      "outputs": [
        {
          "output_type": "stream",
          "text": [
            "Ortalamanızı Girin : 60\n",
            "Geçtiniz\n"
          ],
          "name": "stdout"
        }
      ]
    },
    {
      "cell_type": "markdown",
      "metadata": {
        "id": "AfFcFEk3uB7Q"
      },
      "source": [
        "3. Kullanıcın girdiği iki sayıyı karşılaştırarak sonucu sayı sayıdan büyüktür, küçüktür veya sayılar eşittir mesajı veren kodları sadece if koşul yapısını kullanarak yazınız."
      ]
    },
    {
      "cell_type": "code",
      "metadata": {
        "id": "A_X2-5mSujv1",
        "colab": {
          "base_uri": "https://localhost:8080/",
          "height": 88
        },
        "outputId": "cf339715-ad27-4b6f-d82a-9e0eac752d18"
      },
      "source": [
        "sayi1= int(input('1. sayıyı giriniz: '))\n",
        "sayi2= int(input('2. sayıyı giriniz: '))\n",
        "if sayi1>sayi2:\n",
        "  print('1. sayı 2. sayıdan büyüktür')\n",
        "if sayi1<sayi2:\n",
        "  print ('1.sayi 2. sayidan küçüktür')\n",
        "if sayi1==sayi2:\n",
        "  print ('Sayılar eşittir')"
      ],
      "execution_count": null,
      "outputs": [
        {
          "output_type": "stream",
          "text": [
            "1. sayıyı giriniz: 12\n",
            "2. sayıyı giriniz: 24\n",
            "1.sayi 2. sayidan küçüktür\n"
          ],
          "name": "stdout"
        }
      ]
    },
    {
      "cell_type": "markdown",
      "metadata": {
        "id": "mbDGIlwMvQ2f"
      },
      "source": [
        "4. Yukarıdaki programı if-elilf-else koşul yapısını kullanarak yazınız."
      ]
    },
    {
      "cell_type": "code",
      "metadata": {
        "id": "bR4Qsfe3vivu",
        "colab": {
          "base_uri": "https://localhost:8080/",
          "height": 88
        },
        "outputId": "0561ebbb-56e7-4064-b7b8-95423dbb7bcc"
      },
      "source": [
        "sayi1= int(input('1. sayıyı giriniz: '))\n",
        "sayi2= int(input('2. sayıyı giriniz: '))\n",
        "if sayi1>sayi2:\n",
        "  print('1. sayı 2. sayıdan büyüktür')\n",
        "elif sayi1<sayi2:\n",
        "  print ('1.sayi 2. sayidan küçüktür')\n",
        "else: print ('Sayılar eşittir')"
      ],
      "execution_count": null,
      "outputs": [
        {
          "output_type": "stream",
          "text": [
            "1. sayıyı giriniz: 12\n",
            "2. sayıyı giriniz: 24\n",
            "1.sayi 2. sayidan küçüktür\n"
          ],
          "name": "stdout"
        }
      ]
    },
    {
      "cell_type": "markdown",
      "metadata": {
        "id": "BU9_vfYDvwSi"
      },
      "source": [
        "5. Aşağıdaki kodun çıktısı ne olur?"
      ]
    },
    {
      "cell_type": "code",
      "metadata": {
        "id": "x_3Hp2Rzv5xk",
        "colab": {
          "base_uri": "https://localhost:8080/",
          "height": 34
        },
        "outputId": "3c9a7fb3-9970-4d76-e479-e6963e4be31d"
      },
      "source": [
        "sayi1=12\n",
        "sayi2=60\n",
        "toplam=0\n",
        "if sayi1<=sayi2:\n",
        "  if sayi1%2==0:\n",
        "    sayi1=sayi2\n",
        "    toplam=sayi1+sayi2\n",
        "  else: toplam=sayi2-sayi1\n",
        "toplam+=toplam\n",
        "print (toplam)"
      ],
      "execution_count": null,
      "outputs": [
        {
          "output_type": "stream",
          "text": [
            "240\n"
          ],
          "name": "stdout"
        }
      ]
    },
    {
      "cell_type": "markdown",
      "metadata": {
        "id": "rTpRRDY5wizb"
      },
      "source": [
        "6. Yukarıdaki kodda sayi1=40 sayi2=13 olsaydı kodun çıktısı kaç olurdu?"
      ]
    },
    {
      "cell_type": "code",
      "metadata": {
        "id": "s7Nkn7rbw4xJ",
        "colab": {
          "base_uri": "https://localhost:8080/",
          "height": 34
        },
        "outputId": "07e36bb9-3aa5-427b-9a83-9711a3f1d708"
      },
      "source": [
        "sayi1=40\n",
        "sayi2=13\n",
        "toplam=0\n",
        "if sayi1<=sayi2:\n",
        "  if sayi1%2==0:\n",
        "    sayi1=sayi2\n",
        "    toplam=sayi1+sayi2\n",
        "  else: toplam=sayi2-sayi1\n",
        "toplam+=toplam\n",
        "if toplam==0:\n",
        "  print (1)"
      ],
      "execution_count": null,
      "outputs": [
        {
          "output_type": "stream",
          "text": [
            "1\n"
          ],
          "name": "stdout"
        }
      ]
    },
    {
      "cell_type": "markdown",
      "metadata": {
        "id": "EbFL42jafMyg"
      },
      "source": [
        "7. Kullanıcıdan (1-4) arasında sayı alınacak. Bu sayıya göre sırasıyla İlkbahar-yaz-sonbahar-kış yazan programın kodlarını yazınız?"
      ]
    },
    {
      "cell_type": "code",
      "metadata": {
        "id": "ur5vlGcifNWQ",
        "colab": {
          "base_uri": "https://localhost:8080/",
          "height": 51
        },
        "outputId": "a9c8bf09-7011-49ec-99db-075d782a0774"
      },
      "source": [
        "a=int(input(\"Mevsim No:\"))\n",
        "if(a==1):\n",
        "  print(\"İlkbahar\")\n",
        "elif(a==2):\n",
        "  print(\"Yaz\")\n",
        "elif(a==3):\n",
        "  print(\"Sonbahar\")\n",
        "elif(a==4):\n",
        "  print(\"Kış\")\n",
        "else:  print(\"Farklı değer girdiniz\")"
      ],
      "execution_count": null,
      "outputs": [
        {
          "output_type": "stream",
          "text": [
            "Mevsim No:2\n",
            "Yaz\n"
          ],
          "name": "stdout"
        }
      ]
    },
    {
      "cell_type": "markdown",
      "metadata": {
        "id": "yfwuqi5AeG0G"
      },
      "source": [
        "8. Kullanıcıdan alınan dört kenarın bilgisine göre şeklin kare, dikdörtgen veya diğer dörtgenlerden olduğunu belirten kodu yazınız.\n"
      ]
    },
    {
      "cell_type": "code",
      "metadata": {
        "id": "7SvUw0eGeNDS",
        "colab": {
          "base_uri": "https://localhost:8080/",
          "height": 102
        },
        "outputId": "f0892216-8024-4d71-f69e-52359bd9ed95"
      },
      "source": [
        "a=int(input(\"1. kenar:\"))\n",
        "b=int(input(\"2. kenar:\"))\n",
        "c=int(input(\"3. kenar:\"))\n",
        "d=int(input(\"4. kenar:\"))\n",
        "if(a==b==c==d):\n",
        "  print(\"Kare!\")\n",
        "elif(a==c and b==d or a==b and c==d ):\n",
        "  print(\"Dikdörtgen\")\n",
        "else: print(\"Diğer Dörtgen\")"
      ],
      "execution_count": null,
      "outputs": [
        {
          "output_type": "stream",
          "text": [
            "1. kenar:6\n",
            "2. kenar:7\n",
            "3. kenar:8\n",
            "4. kenar:9\n",
            "Diğer Dörtgen\n"
          ],
          "name": "stdout"
        }
      ]
    },
    {
      "cell_type": "markdown",
      "metadata": {
        "id": "xQHwUHeveqM0"
      },
      "source": [
        "9. Kenarları girilen üçgenin çeşidini bulan programın kodlarını yazınız?"
      ]
    },
    {
      "cell_type": "code",
      "metadata": {
        "id": "iYTSb5z2eyfb",
        "colab": {
          "base_uri": "https://localhost:8080/",
          "height": 85
        },
        "outputId": "784e2afc-fc25-41a8-b7e1-6abde54d2edc"
      },
      "source": [
        "a=int(input(\"1. kenar:\"))\n",
        "b=int(input(\"2. kenar:\"))\n",
        "c=int(input(\"3. kenar:\"))\n",
        "if(a!=b and a!=c and b!=c):\n",
        "  print(\"Çeşitkenar Üçgen!\")\n",
        "elif(a==b==c):\n",
        "  print(\"Eşkenar Üçgen!\")\n",
        "else: print(\"İkizkenar Üçgen\")\n"
      ],
      "execution_count": null,
      "outputs": [
        {
          "output_type": "stream",
          "text": [
            "1. kenar:3\n",
            "2. kenar:5\n",
            "3. kenar:6\n",
            "Çeşitkenar Üçgen!\n"
          ],
          "name": "stdout"
        }
      ]
    },
    {
      "cell_type": "markdown",
      "metadata": {
        "id": "syTaC91dccsv"
      },
      "source": [
        "10. Beden kitle endeksini  kilo/(boy**2) formülü ile hesaplanarak bireyin kilol durumunu kontrol eden programın kodlarını aşağıdaki aralık durumlarına göre yazınız.<br>\n",
        "Kitle Endeksi (KE) < 18.5 ise Zayıf , \n",
        "<br>18.5 < (KE) <=25 ise Normal , \n",
        "<br>25 < (KE) <= 30 ise Kilolu , (KE) > 25 ise birey obez sınıfına girmektedir. .\n"
      ]
    },
    {
      "cell_type": "code",
      "metadata": {
        "id": "l4FoVfqaceb_",
        "colab": {
          "base_uri": "https://localhost:8080/",
          "height": 88
        },
        "outputId": "9653b3cd-606d-4030-b923-88604f91ac25"
      },
      "source": [
        "boy = float(input(\"Boy: Örnek 1.73----:\"))\n",
        "kilo = float(input(\"Kilo: Örnek: 78.40----:\"))\n",
        "endeks  = kilo/(boy**2)\n",
        "if endeks<18.5:\n",
        "  print(\"Zayıfsınız\")\n",
        "elif endeks > 18.5 and endeks <=25 :\n",
        "  print(\"Normalsiniz\")\n",
        "elif endeks > 25 and endeks <=30:\n",
        "  print(\"Kilolusunuz\")\n",
        "elif endeks > 30:\n",
        "  print(\"Dikkat! obez\")\n"
      ],
      "execution_count": null,
      "outputs": [
        {
          "output_type": "stream",
          "text": [
            "Boy: Örnek 1.73----:1.75\n",
            "Kilo: Örnek: 78.40----:95\n",
            "Dikkat! obez\n"
          ],
          "name": "stdout"
        }
      ]
    }
  ]
}