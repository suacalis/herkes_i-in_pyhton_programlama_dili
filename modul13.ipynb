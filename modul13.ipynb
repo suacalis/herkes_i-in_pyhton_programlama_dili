{
  "nbformat": 4,
  "nbformat_minor": 0,
  "metadata": {
    "colab": {
      "name": "modul13",
      "provenance": [],
      "collapsed_sections": []
    },
    "kernelspec": {
      "name": "python3",
      "display_name": "Python 3"
    }
  },
  "cells": [
    {
      "cell_type": "markdown",
      "metadata": {
        "id": "bncCQ9idTzjL"
      },
      "source": [
        "<h>**MODÜL 13<br>Hata Ayıklama**</h>"
      ]
    },
    {
      "cell_type": "markdown",
      "metadata": {
        "id": "4os9oc5I0DqB"
      },
      "source": [
        "**Örnek 1**"
      ]
    },
    {
      "cell_type": "code",
      "metadata": {
        "id": "TgQcqB4Q0FST",
        "colab": {
          "base_uri": "https://localhost:8080/",
          "height": 561
        },
        "outputId": "44c8da15-9157-47b1-96dc-f902b4d2d9c8"
      },
      "source": [
        "while True:\n",
        "    a = input(\"Lütfen bir sayı giriniz:\")\n",
        "    if not a:\n",
        "        break\n",
        "print(float(a)*2)"
      ],
      "execution_count": null,
      "outputs": [
        {
          "output_type": "stream",
          "text": [
            "Lütfen bir sayı giriniz:4\n",
            "Lütfen bir sayı giriniz:a\n"
          ],
          "name": "stdout"
        },
        {
          "output_type": "error",
          "ename": "KeyboardInterrupt",
          "evalue": "ignored",
          "traceback": [
            "\u001b[0;31m---------------------------------------------------------------------------\u001b[0m",
            "\u001b[0;31mKeyboardInterrupt\u001b[0m                         Traceback (most recent call last)",
            "\u001b[0;32m/usr/local/lib/python3.6/dist-packages/ipykernel/kernelbase.py\u001b[0m in \u001b[0;36m_input_request\u001b[0;34m(self, prompt, ident, parent, password)\u001b[0m\n\u001b[1;32m    728\u001b[0m             \u001b[0;32mtry\u001b[0m\u001b[0;34m:\u001b[0m\u001b[0;34m\u001b[0m\u001b[0;34m\u001b[0m\u001b[0m\n\u001b[0;32m--> 729\u001b[0;31m                 \u001b[0mident\u001b[0m\u001b[0;34m,\u001b[0m \u001b[0mreply\u001b[0m \u001b[0;34m=\u001b[0m \u001b[0mself\u001b[0m\u001b[0;34m.\u001b[0m\u001b[0msession\u001b[0m\u001b[0;34m.\u001b[0m\u001b[0mrecv\u001b[0m\u001b[0;34m(\u001b[0m\u001b[0mself\u001b[0m\u001b[0;34m.\u001b[0m\u001b[0mstdin_socket\u001b[0m\u001b[0;34m,\u001b[0m \u001b[0;36m0\u001b[0m\u001b[0;34m)\u001b[0m\u001b[0;34m\u001b[0m\u001b[0;34m\u001b[0m\u001b[0m\n\u001b[0m\u001b[1;32m    730\u001b[0m             \u001b[0;32mexcept\u001b[0m \u001b[0mException\u001b[0m\u001b[0;34m:\u001b[0m\u001b[0;34m\u001b[0m\u001b[0;34m\u001b[0m\u001b[0m\n",
            "\u001b[0;32m/usr/local/lib/python3.6/dist-packages/jupyter_client/session.py\u001b[0m in \u001b[0;36mrecv\u001b[0;34m(self, socket, mode, content, copy)\u001b[0m\n\u001b[1;32m    802\u001b[0m         \u001b[0;32mtry\u001b[0m\u001b[0;34m:\u001b[0m\u001b[0;34m\u001b[0m\u001b[0;34m\u001b[0m\u001b[0m\n\u001b[0;32m--> 803\u001b[0;31m             \u001b[0mmsg_list\u001b[0m \u001b[0;34m=\u001b[0m \u001b[0msocket\u001b[0m\u001b[0;34m.\u001b[0m\u001b[0mrecv_multipart\u001b[0m\u001b[0;34m(\u001b[0m\u001b[0mmode\u001b[0m\u001b[0;34m,\u001b[0m \u001b[0mcopy\u001b[0m\u001b[0;34m=\u001b[0m\u001b[0mcopy\u001b[0m\u001b[0;34m)\u001b[0m\u001b[0;34m\u001b[0m\u001b[0;34m\u001b[0m\u001b[0m\n\u001b[0m\u001b[1;32m    804\u001b[0m         \u001b[0;32mexcept\u001b[0m \u001b[0mzmq\u001b[0m\u001b[0;34m.\u001b[0m\u001b[0mZMQError\u001b[0m \u001b[0;32mas\u001b[0m \u001b[0me\u001b[0m\u001b[0;34m:\u001b[0m\u001b[0;34m\u001b[0m\u001b[0;34m\u001b[0m\u001b[0m\n",
            "\u001b[0;32m/usr/local/lib/python3.6/dist-packages/zmq/sugar/socket.py\u001b[0m in \u001b[0;36mrecv_multipart\u001b[0;34m(self, flags, copy, track)\u001b[0m\n\u001b[1;32m    474\u001b[0m         \"\"\"\n\u001b[0;32m--> 475\u001b[0;31m         \u001b[0mparts\u001b[0m \u001b[0;34m=\u001b[0m \u001b[0;34m[\u001b[0m\u001b[0mself\u001b[0m\u001b[0;34m.\u001b[0m\u001b[0mrecv\u001b[0m\u001b[0;34m(\u001b[0m\u001b[0mflags\u001b[0m\u001b[0;34m,\u001b[0m \u001b[0mcopy\u001b[0m\u001b[0;34m=\u001b[0m\u001b[0mcopy\u001b[0m\u001b[0;34m,\u001b[0m \u001b[0mtrack\u001b[0m\u001b[0;34m=\u001b[0m\u001b[0mtrack\u001b[0m\u001b[0;34m)\u001b[0m\u001b[0;34m]\u001b[0m\u001b[0;34m\u001b[0m\u001b[0;34m\u001b[0m\u001b[0m\n\u001b[0m\u001b[1;32m    476\u001b[0m         \u001b[0;31m# have first part already, only loop while more to receive\u001b[0m\u001b[0;34m\u001b[0m\u001b[0;34m\u001b[0m\u001b[0;34m\u001b[0m\u001b[0m\n",
            "\u001b[0;32mzmq/backend/cython/socket.pyx\u001b[0m in \u001b[0;36mzmq.backend.cython.socket.Socket.recv\u001b[0;34m()\u001b[0m\n",
            "\u001b[0;32mzmq/backend/cython/socket.pyx\u001b[0m in \u001b[0;36mzmq.backend.cython.socket.Socket.recv\u001b[0;34m()\u001b[0m\n",
            "\u001b[0;32mzmq/backend/cython/socket.pyx\u001b[0m in \u001b[0;36mzmq.backend.cython.socket._recv_copy\u001b[0;34m()\u001b[0m\n",
            "\u001b[0;32m/usr/local/lib/python3.6/dist-packages/zmq/backend/cython/checkrc.pxd\u001b[0m in \u001b[0;36mzmq.backend.cython.checkrc._check_rc\u001b[0;34m()\u001b[0m\n",
            "\u001b[0;31mKeyboardInterrupt\u001b[0m: ",
            "\nDuring handling of the above exception, another exception occurred:\n",
            "\u001b[0;31mKeyboardInterrupt\u001b[0m                         Traceback (most recent call last)",
            "\u001b[0;32m<ipython-input-1-6603cc59ba39>\u001b[0m in \u001b[0;36m<module>\u001b[0;34m()\u001b[0m\n\u001b[1;32m      1\u001b[0m \u001b[0;32mwhile\u001b[0m \u001b[0;32mTrue\u001b[0m\u001b[0;34m:\u001b[0m\u001b[0;34m\u001b[0m\u001b[0;34m\u001b[0m\u001b[0m\n\u001b[0;32m----> 2\u001b[0;31m     \u001b[0ma\u001b[0m \u001b[0;34m=\u001b[0m \u001b[0minput\u001b[0m\u001b[0;34m(\u001b[0m\u001b[0;34m\"Lütfen bir sayı giriniz:\"\u001b[0m\u001b[0;34m)\u001b[0m\u001b[0;34m\u001b[0m\u001b[0;34m\u001b[0m\u001b[0m\n\u001b[0m\u001b[1;32m      3\u001b[0m     \u001b[0;32mif\u001b[0m \u001b[0;32mnot\u001b[0m \u001b[0ma\u001b[0m\u001b[0;34m:\u001b[0m\u001b[0;34m\u001b[0m\u001b[0;34m\u001b[0m\u001b[0m\n\u001b[1;32m      4\u001b[0m         \u001b[0;32mbreak\u001b[0m\u001b[0;34m\u001b[0m\u001b[0;34m\u001b[0m\u001b[0m\n\u001b[1;32m      5\u001b[0m \u001b[0mprint\u001b[0m\u001b[0;34m(\u001b[0m\u001b[0mfloat\u001b[0m\u001b[0;34m(\u001b[0m\u001b[0ma\u001b[0m\u001b[0;34m)\u001b[0m\u001b[0;34m*\u001b[0m\u001b[0;36m2\u001b[0m\u001b[0;34m)\u001b[0m\u001b[0;34m\u001b[0m\u001b[0;34m\u001b[0m\u001b[0m\n",
            "\u001b[0;32m/usr/local/lib/python3.6/dist-packages/ipykernel/kernelbase.py\u001b[0m in \u001b[0;36mraw_input\u001b[0;34m(self, prompt)\u001b[0m\n\u001b[1;32m    702\u001b[0m             \u001b[0mself\u001b[0m\u001b[0;34m.\u001b[0m\u001b[0m_parent_ident\u001b[0m\u001b[0;34m,\u001b[0m\u001b[0;34m\u001b[0m\u001b[0;34m\u001b[0m\u001b[0m\n\u001b[1;32m    703\u001b[0m             \u001b[0mself\u001b[0m\u001b[0;34m.\u001b[0m\u001b[0m_parent_header\u001b[0m\u001b[0;34m,\u001b[0m\u001b[0;34m\u001b[0m\u001b[0;34m\u001b[0m\u001b[0m\n\u001b[0;32m--> 704\u001b[0;31m             \u001b[0mpassword\u001b[0m\u001b[0;34m=\u001b[0m\u001b[0;32mFalse\u001b[0m\u001b[0;34m,\u001b[0m\u001b[0;34m\u001b[0m\u001b[0;34m\u001b[0m\u001b[0m\n\u001b[0m\u001b[1;32m    705\u001b[0m         )\n\u001b[1;32m    706\u001b[0m \u001b[0;34m\u001b[0m\u001b[0m\n",
            "\u001b[0;32m/usr/local/lib/python3.6/dist-packages/ipykernel/kernelbase.py\u001b[0m in \u001b[0;36m_input_request\u001b[0;34m(self, prompt, ident, parent, password)\u001b[0m\n\u001b[1;32m    732\u001b[0m             \u001b[0;32mexcept\u001b[0m \u001b[0mKeyboardInterrupt\u001b[0m\u001b[0;34m:\u001b[0m\u001b[0;34m\u001b[0m\u001b[0;34m\u001b[0m\u001b[0m\n\u001b[1;32m    733\u001b[0m                 \u001b[0;31m# re-raise KeyboardInterrupt, to truncate traceback\u001b[0m\u001b[0;34m\u001b[0m\u001b[0;34m\u001b[0m\u001b[0;34m\u001b[0m\u001b[0m\n\u001b[0;32m--> 734\u001b[0;31m                 \u001b[0;32mraise\u001b[0m \u001b[0mKeyboardInterrupt\u001b[0m\u001b[0;34m\u001b[0m\u001b[0;34m\u001b[0m\u001b[0m\n\u001b[0m\u001b[1;32m    735\u001b[0m             \u001b[0;32melse\u001b[0m\u001b[0;34m:\u001b[0m\u001b[0;34m\u001b[0m\u001b[0;34m\u001b[0m\u001b[0m\n\u001b[1;32m    736\u001b[0m                 \u001b[0;32mbreak\u001b[0m\u001b[0;34m\u001b[0m\u001b[0;34m\u001b[0m\u001b[0m\n",
            "\u001b[0;31mKeyboardInterrupt\u001b[0m: "
          ]
        }
      ]
    },
    {
      "cell_type": "markdown",
      "metadata": {
        "id": "pyZJ5f-n0SsQ"
      },
      "source": [
        "**Örnek 2**"
      ]
    },
    {
      "cell_type": "code",
      "metadata": {
        "id": "nkNdFv5d0UdD"
      },
      "source": [
        "print \"Hata Ayıklama\""
      ],
      "execution_count": null,
      "outputs": []
    },
    {
      "cell_type": "markdown",
      "metadata": {
        "id": "5ZVdiiq7113X"
      },
      "source": [
        "**Örnek 3**"
      ]
    },
    {
      "cell_type": "code",
      "metadata": {
        "id": "t6V7q2Ys13ng"
      },
      "source": [
        "kenar = int(input(\"Kenarı Girin :\"))\n",
        "alan = 4*kenar\n",
        "print(\"karenin alanı :\",alan)\n"
      ],
      "execution_count": null,
      "outputs": []
    },
    {
      "cell_type": "markdown",
      "metadata": {
        "id": "hOVMGHfP16Bo"
      },
      "source": [
        "**Örnek 4**"
      ]
    },
    {
      "cell_type": "code",
      "metadata": {
        "id": "ZVD-dtbu17q3"
      },
      "source": [
        "s1 = int(input(\"Birinci Sayı :\"))\n",
        "s2 = int(input(\"İkinci Sayı :\"))\n",
        "sonuc = s1/s2\n",
        "print(\"Sonuc :\",sonuc)"
      ],
      "execution_count": null,
      "outputs": []
    },
    {
      "cell_type": "markdown",
      "metadata": {
        "id": "zXdiauf02jNV"
      },
      "source": [
        "**Örnek 5**"
      ]
    },
    {
      "cell_type": "code",
      "metadata": {
        "id": "lcPI4xWQ2kqe",
        "colab": {
          "base_uri": "https://localhost:8080/",
          "height": 68
        },
        "outputId": "6b618bd1-79e4-4085-b32c-39bffe57fd6a"
      },
      "source": [
        "s1 = int(input(\"Birinci Sayı :\"))\n",
        "s2 = int(input(\"İkinci Sayı :\"))\n",
        "try:\n",
        "  sonuc = s1/s2\n",
        "  print(\"Sonuc :\",sonuc)\n",
        "except ZeroDivisionError:\n",
        "  print(\"Bir sayıyı sıfıra bölemezsiniz lütfen sıfır dışında bir sayı girin\")\n"
      ],
      "execution_count": null,
      "outputs": [
        {
          "output_type": "stream",
          "text": [
            "Birinci Sayı :5\n",
            "İkinci Sayı :0\n",
            "Bir sayıyı sıfıra bölemezsiniz lütfen sıfır dışında bir sayı girin\n"
          ],
          "name": "stdout"
        }
      ]
    },
    {
      "cell_type": "markdown",
      "metadata": {
        "id": "DBAHaj9S5SEQ"
      },
      "source": [
        "**Örnek 6**"
      ]
    },
    {
      "cell_type": "code",
      "metadata": {
        "id": "LN1LXWBl5UF6",
        "colab": {
          "base_uri": "https://localhost:8080/",
          "height": 68
        },
        "outputId": "b8c46241-6ff0-437d-8f42-2674d19ce52f"
      },
      "source": [
        "try:\n",
        "    s1 = int(input(\"Birinci Sayı :\"))\n",
        "    s2 = int(input(\"İkinci Syı :\"))\n",
        "    sonuc = s1/s2\n",
        "    print(\"Sonuc :\",sonuc)\n",
        "except ZeroDivisionError:\n",
        "    print(\"Lütfen ikinci sayıya sıfırdan farklı bir değer girin…\")\n",
        "except ValueError:\n",
        "    print('Lütfen sayısal bir karakter girin..')\n",
        "except:\n",
        "    print(\"Beklenmeyen bir hata oluştu\")\n",
        "\n"
      ],
      "execution_count": null,
      "outputs": [
        {
          "output_type": "stream",
          "text": [
            "Birinci Sayı :7\n",
            "İkinci Syı :a\n",
            "Lütfen sayısal bir karakter girin..\n"
          ],
          "name": "stdout"
        }
      ]
    },
    {
      "cell_type": "markdown",
      "metadata": {
        "id": "mZYFTcmw5sNv"
      },
      "source": [
        "**Örnek 7**"
      ]
    },
    {
      "cell_type": "code",
      "metadata": {
        "id": "rNtQ464M5tv1"
      },
      "source": [
        "try:\n",
        "    s1 = int(input(\"Birinci Sayı :\"))\n",
        "    sonuc = s1**2\n",
        "    print(\"Sonuc :\",sonuc)\n",
        "except ValueError as hata:\n",
        "    \n",
        "    print('Lütfen sayı giriniz')\n",
        "    print(hata)"
      ],
      "execution_count": null,
      "outputs": []
    },
    {
      "cell_type": "markdown",
      "metadata": {
        "id": "zeXFQkcV5weA"
      },
      "source": [
        "**Örnek 8**"
      ]
    },
    {
      "cell_type": "code",
      "metadata": {
        "id": "pM_hrh5v7AFe",
        "colab": {
          "base_uri": "https://localhost:8080/",
          "height": 129
        },
        "outputId": "2bc167ec-6fe8-4f54-92a2-18b32d969544"
      },
      "source": [
        "try:\n",
        "    s1 = int(input(\"Birinci Sayı :\"))\n",
        "except ValueError:\n",
        "    print('sayı girmediniz')\n",
        "else:\n",
        "try:\n",
        "        print(10/s1)\n",
        "except ZeroDivisionError:\n",
        "            print('sayı sıfıra bölünemez')"
      ],
      "execution_count": null,
      "outputs": [
        {
          "output_type": "error",
          "ename": "IndentationError",
          "evalue": "ignored",
          "traceback": [
            "\u001b[0;36m  File \u001b[0;32m\"<ipython-input-5-bcfb06cbdd0a>\"\u001b[0;36m, line \u001b[0;32m6\u001b[0m\n\u001b[0;31m    try:\u001b[0m\n\u001b[0m      ^\u001b[0m\n\u001b[0;31mIndentationError\u001b[0m\u001b[0;31m:\u001b[0m expected an indented block\n"
          ]
        }
      ]
    },
    {
      "cell_type": "markdown",
      "metadata": {
        "id": "b7s94qXm8opx"
      },
      "source": [
        "**Örnek 9**"
      ]
    },
    {
      "cell_type": "code",
      "metadata": {
        "id": "VQ64VhQG8qVX"
      },
      "source": [
        "x = input(\"Bir sayı girin: \")\n",
        "if not x:\n",
        "   break\n",
        "try:\n",
        "   y = 1/float(x)\n",
        "except ValueError:\n",
        "   print(\"Geçersiz sayı\")\n",
        "   continue\n",
        "except ZeroDivisionError:\n",
        "   print(\"Sıfıra bölme\")\n",
        "   continue\n",
        "print(y)"
      ],
      "execution_count": null,
      "outputs": []
    },
    {
      "cell_type": "markdown",
      "metadata": {
        "id": "W8-eBFjG9_kj"
      },
      "source": [
        "**Bölüm_cevap_1**"
      ]
    },
    {
      "cell_type": "code",
      "metadata": {
        "id": "ntcQnxNP-CEI"
      },
      "source": [
        "s1 = input(\"ilk sayi: \")\n",
        "s2 = input(\"ikinci sayi: \")\n",
        "try:\n",
        "     sayi1=int(s1)\n",
        "     sayi2=int(s2)\n",
        "     sonuc=(sayi1+sayi2)/2\n",
        "     print(sonuc)\n",
        "except ValueError as hata:\n",
        "    print(hata)"
      ],
      "execution_count": null,
      "outputs": []
    },
    {
      "cell_type": "markdown",
      "metadata": {
        "id": "FIWN-yZZ-CuQ"
      },
      "source": [
        "**Bölüm_cevap_2**"
      ]
    },
    {
      "cell_type": "code",
      "metadata": {
        "id": "KNHqXTTo-Ga9"
      },
      "source": [
        "s1 = input(\"ilk sayi: \")\n",
        "s2 = input(\"ikinci sayi: \")\n",
        "try:\n",
        "    sayi1=int(s1)\n",
        "    sayi2=int(s2)\n",
        "    sonuc=(sayi1+sayi2)/2\n",
        "    print(sonuc)\n",
        "except ValueError as hata:\n",
        "    print(hata)\n"
      ],
      "execution_count": null,
      "outputs": []
    },
    {
      "cell_type": "markdown",
      "metadata": {
        "id": "JlEl8IMZ-iSb"
      },
      "source": [
        "**Bölüm_cevap_3**"
      ]
    },
    {
      "cell_type": "code",
      "metadata": {
        "id": "ZCOzKIUOTq-1"
      },
      "source": [
        "while True:\n",
        "    ad= input(\"adınızı girin:\")\n",
        "    soyad= input(\"soyadınızı girin\")\n",
        "    yas= input(\"yaşınızı girin\")\n",
        "    if not ad:\n",
        "        break\n",
        "    if not soyad:\n",
        "        break\n",
        "    if not yas:\n",
        "        break\n",
        "    try:\n",
        "        print('adınız:',ad,'soyadınız:','yaşınız:',yas)\n",
        "    except ValueError:\n",
        "        print(\"veri girişi yapmadınız\")\n",
        "        continue\n",
        "    except ZeroDivisionError:\n",
        "        print(\"Sıfır girilirse\")\n",
        "        continue"
      ],
      "execution_count": null,
      "outputs": []
    }
  ]
}