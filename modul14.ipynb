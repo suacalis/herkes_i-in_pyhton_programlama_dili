{
  "nbformat": 4,
  "nbformat_minor": 0,
  "metadata": {
    "colab": {
      "name": "modul14",
      "provenance": [],
      "collapsed_sections": []
    },
    "kernelspec": {
      "name": "python3",
      "display_name": "Python 3"
    }
  },
  "cells": [
    {
      "cell_type": "markdown",
      "metadata": {
        "id": "bncCQ9idTzjL"
      },
      "source": [
        "<h>**MODÜL 14 <br>SQlite Veri Tabanı**</h>"
      ]
    },
    {
      "cell_type": "markdown",
      "metadata": {
        "id": "TCXKSKa-vaJr"
      },
      "source": [
        "Örnek 1: Kitaplık isimli veri tabanı oluşturulması\n"
      ]
    },
    {
      "cell_type": "code",
      "metadata": {
        "id": "vcVrlV58vchi"
      },
      "source": [
        "import sqlite3\n",
        "baglantı=sqlite3.connect(\"kitaplarım.db\")\n",
        "imlec=baglantı.cursor()\n",
        "baglantı.close()\n"
      ],
      "execution_count": null,
      "outputs": []
    },
    {
      "cell_type": "markdown",
      "metadata": {
        "id": "j9OdlFNAviDM"
      },
      "source": [
        "Örnek 2: Veri tabanına tablo ekleme\n",
        "\n"
      ]
    },
    {
      "cell_type": "code",
      "metadata": {
        "id": "ZCOzKIUOTq-1"
      },
      "source": [
        "import sqlite3\n",
        "baglantı=sqlite3.connect(\"kitaplarım.db\")\n",
        "imlec=baglantı.cursor()\n",
        "imlec.execute(\"CREATE TABLE IF NOT EXISTS kitaplar (İsim TEXT, Yazar TEXT, Yayınevi TEXT, Sayfa_Sayısı INT)\")\n",
        "baglantı.commit()\n",
        "baglantı.close()\n"
      ],
      "execution_count": null,
      "outputs": []
    },
    {
      "cell_type": "markdown",
      "metadata": {
        "id": "xM3aKUGWvouA"
      },
      "source": [
        "Örnek 3: Tabloya veri ekleme\n",
        "\n"
      ]
    },
    {
      "cell_type": "code",
      "metadata": {
        "id": "sPH5gRUava6F"
      },
      "source": [
        "import sqlite3\n",
        "baglantı=sqlite3.connect(\"kitaplarım.db\")\n",
        "imlec=baglantı.cursor()\n",
        "imlec.execute (\"INSERT INTO kitaplar VALUES('dogunun limanları','amin maaluf', 'ykredi',50)\")\n",
        "baglantı.commit()\n",
        "baglantı.close() \n"
      ],
      "execution_count": null,
      "outputs": []
    },
    {
      "cell_type": "markdown",
      "metadata": {
        "id": "fZRdVwL5vtDR"
      },
      "source": [
        "Örnek 4: Kullanıcıdan veri alarak tabloya veri ekleme\n",
        "\n"
      ]
    },
    {
      "cell_type": "code",
      "metadata": {
        "id": "1y6RHA9bvvW8"
      },
      "source": [
        "import sqlite3\n",
        "def veri_ekle(kitap_adı,kitap_yazar,kitap_yayınevi,kitap_sayfa):\n",
        "    baglantı=sqlite3.connect(\"kitaplarım.db\")\n",
        "    imlec=baglantı.cursor()\n",
        "    imlec.execute (\"INSERT INTO kitaplar VALUES(?,?,?,?)\",(kitap_adı,kitap_yazar,kitap_yayınevi,kitap_sayfa))\n",
        "    baglantı.commit()\n",
        "    baglantı.close()\n",
        "kitap_adı=input(\"lütfen kitap adı giriniz\")\n",
        "kitap_yazar=input(\"lütfen kitabın yazarını giriniz\")\n",
        "kitap_yayınevi =input(\"lütfen kitabın yayınevini giriniz\")\n",
        "kitap_sayfa= int(input(\"lütfen kitabın sayfa sayısını giriniz\"))\n",
        "veri_ekle(kitap_adı,kitap_yazar,kitap_yayınevi,kitap_sayfa)\n"
      ],
      "execution_count": null,
      "outputs": []
    },
    {
      "cell_type": "markdown",
      "metadata": {
        "id": "X8ncvcQIvyiJ"
      },
      "source": [
        "Örnek 5: Tablodan tüm verileri çekmek\n",
        "\n"
      ]
    },
    {
      "cell_type": "code",
      "metadata": {
        "id": "QQ076fUYv1CI"
      },
      "source": [
        "import sqlite3\n",
        "baglantı=sqlite3.connect(\"kitaplarım.db\")\n",
        "imlec=baglantı.cursor()\n",
        "imlec.execute (\" SELECT * FROM  kitaplar\")\n",
        "gelen_veri_listesi=imlec.fetchall()\n",
        "print(type(gelen_veri_listesi))\n",
        "print(gelen_veri_listesi)\n",
        "baglantı.close()\n"
      ],
      "execution_count": null,
      "outputs": []
    },
    {
      "cell_type": "markdown",
      "metadata": {
        "id": "X14naNoNv5uf"
      },
      "source": [
        "Örnek 6: Tablodan kitap adlarını çekmek\n",
        "\n"
      ]
    },
    {
      "cell_type": "code",
      "metadata": {
        "id": "4NXkjcw9v-xJ"
      },
      "source": [
        "import sqlite3\n",
        "bağlantı=sqlite3.connect(\"kitaplarım.db\")\n",
        "imleç=bağlantı.cursor()\n",
        "imleç.execute (\" SELECT İsim FROM  kitaplar\")\n",
        "gelen_veri_listesi=imleç.fetchall()\n",
        "print(gelen_veri_listesi)\n",
        "print(\"kitaplığınızda\",len(gelen_veri_listesi),\"adet kitap bulunmaktadır.\")\n",
        "bağlantı.close() \n"
      ],
      "execution_count": null,
      "outputs": []
    },
    {
      "cell_type": "markdown",
      "metadata": {
        "id": "oPqw7EsRv_yU"
      },
      "source": [
        "Örnek 7: Tablodan istediğimiz kritere uygun verileri çekme uygulaması\n",
        "\n"
      ]
    },
    {
      "cell_type": "code",
      "metadata": {
        "id": "dDYcfJaTwH1X"
      },
      "source": [
        "import sqlite3\n",
        "bağlantı=sqlite3.connect(\"kitaplarım.db\")\n",
        "imleç=bağlantı.cursor()\n",
        "imleç.execute (\" SELECT * FROM  kitaplar WHERE Yayınevi='ykredi'\")\n",
        "gelen_veri_listesi=imleç.fetchall()\n",
        "print(\"sorgunuz ile eşleşen toplam = \",len(gelen_veri_listesi),\"kayıt bulunmuştur\")\n",
        "print(gelen_veri_listesi)\n",
        "bağlantı.close()\n"
      ],
      "execution_count": null,
      "outputs": []
    },
    {
      "cell_type": "markdown",
      "metadata": {
        "id": "1rEvboQTwdzb"
      },
      "source": [
        "Örnek 8: Tabloda veri güncelleme uygulaması\n",
        "\n"
      ]
    },
    {
      "cell_type": "code",
      "metadata": {
        "id": "rAIjkea8wgxQ"
      },
      "source": [
        "import sqlite3\n",
        "baglantı=sqlite3.connect(\"kitaplarım.db\")\n",
        "imlec=baglantı.cursor()\n",
        "imlec.execute (\" UPDATE kitaplar SET Yayınevi= ? WHERE Yayınevi=?\",('YKY ', ykredi))\n",
        "baglantı.commit()\n",
        "baglantı.close()\n"
      ],
      "execution_count": null,
      "outputs": []
    },
    {
      "cell_type": "markdown",
      "metadata": {
        "id": "5ncfNeUywi-T"
      },
      "source": [
        "Örnek 9: Tablodan veri silme uygulaması\n",
        "\n"
      ]
    },
    {
      "cell_type": "code",
      "metadata": {
        "id": "yPRrojzAwlV3"
      },
      "source": [
        "import sqlite3\n",
        "baglantı=sqlite3.connect(\"kitaplarım.db\")\n",
        "imlec=baglantı.cursor()\n",
        "imlec.execute (\" DELETE FROM kitaplar WHERE Yayınevi='yky'\")\n",
        "baglantı.commit()\n",
        "baglantı.close()\n"
      ],
      "execution_count": null,
      "outputs": []
    },
    {
      "cell_type": "markdown",
      "metadata": {
        "id": "hGZCCbxfwnk8"
      },
      "source": [
        "Örnek 10: Tablodan kullanıcının girdiği kriterlere uyan verileri silme uygulaması\n",
        "\n",
        "\n",
        "\n"
      ]
    },
    {
      "cell_type": "code",
      "metadata": {
        "id": "eYxjdDHrwqy5"
      },
      "source": [
        "import sqlite3\n",
        "baglantı=sqlite3.connect(\"kitaplarım.db\")\n",
        "imlec=baglantı.cursor()\n",
        "kitap_adı=input(\"silmek istediğiniz kitap adını giriniz\")\n",
        "imlec.execute (\" DELETE FROM kitaplar WHERE İsim=? \",(kitap_adı,))\n",
        "baglantı.commit()\n",
        "baglantı.close()\n"
      ],
      "execution_count": null,
      "outputs": []
    },
    {
      "cell_type": "markdown",
      "metadata": {
        "id": "y3vPEe6-ws1I"
      },
      "source": [
        "Örnek 11: Firma veri tabanı ve personel tablosu oluşturma\n",
        "\n"
      ]
    },
    {
      "cell_type": "code",
      "metadata": {
        "id": "N72PmfwiwwkT"
      },
      "source": [
        "import sqlite3\n",
        "bağlantı=sqlite3.connect(\"firma.db\")\n",
        "imleç=bağlantı.cursor()\n",
        "imleç.execute(\"CREATE  TABLE IF NOT EXISTS personel (kimlik_no INT ,ad_soyad TEXT, telefon_no TEXT,e_posta TEXT,rolu TEXT,çalışılan_birim TEXT)\")\n",
        "bağlantı.commit()\n",
        "bağlantı.close()\n"
      ],
      "execution_count": null,
      "outputs": []
    },
    {
      "cell_type": "markdown",
      "metadata": {
        "id": "IRSvDMulwy43"
      },
      "source": [
        "Örnek 12: Tablo işlemleri uygulaması \n",
        "                    \n"
      ]
    },
    {
      "cell_type": "code",
      "metadata": {
        "id": "M1XsCtM5w2of"
      },
      "source": [
        "import sqlite3\n",
        "baglantı=sqlite3.connect(\"firma.db\")\n",
        "imlec=baglantı.cursor()\n",
        "def veri_ekle (veri):\n",
        "    bilgiler=veri.split(\",\")\n",
        "    imlec.execute(\"INSERT INTO personel VALUES(?,?,?,?,?,?)\",(bilgiler[0],bilgiler[1],bilgiler[2],bilgiler[3],bilgiler[4],bilgiler[5]))\n",
        "    baglantı.commit()\n",
        "    \n",
        "def veri_getir (sorgu_metni):\n",
        "    imlec.execute(sorgu_metni)\n",
        "    sonuc=imlec.fetchall ()\n",
        "    print(\"veri tabanında buluna kayıtlar...\")\n",
        "    for satır in sonuc:\n",
        "        print(satır)\n",
        "    print(\"toplam \",len(sonuc),\"adet kayıt listelenmiştir.\")\n",
        "\n",
        "def veri_sil(sorgu_metni):\n",
        "    imlec.execute(sorgu_metni)\n",
        "    baglantı.commit()\n",
        "\n",
        "def veri_güncelle(sorgu_metni):\n",
        "    imlec.execute(sorgu_metni)\n",
        "    baglantı.commit()\n",
        "\n",
        "while True:\n",
        "    secim=input('''\n",
        "|---------------------------------------------|\n",
        "| yapmak istediğiniz işlemi seçiniz |\n",
        "| 1- veri ekleme işlemi                      |\n",
        "| 2- veri sorgulama işlemi                |\n",
        "| 3- veri güncelleme işlemi              |\n",
        "| 4- veri silme işlemi                         |\n",
        "| E- programı sonlandırma işlemi  | \n",
        "|--------------------------------------------|\n",
        "''' )\n",
        "\n",
        "    if secim==\"1\":\n",
        "        veri=input('''kimlik numarası, ad soyad ,telefon, e posta, rolü, çalışılan_birim\n",
        "                   bilgilerini araya virgül koyarak yazınız\n",
        "                   ''')\n",
        "        veri_ekle (veri)\n",
        "\n",
        "    elif secim==\"2\":\n",
        "        sorgu=input(\"lütfen sorgu yapmak için gereken sql metnini giriniz\")\n",
        "        veri_getir (sorgu)\n",
        "\n",
        "    elif secim==\"3\":\n",
        "        sorgu=input(\"lütfen veri güncelleme yapmak için gereken sql metnini giriniz\")\n",
        "        veri_güncelle(sorgu)\n",
        "\n",
        "    elif secim==\"4\":\n",
        "        sorgu=input(\"lütfen sorgu yapmak için gereken sql metnini giriniz\")\n",
        "        veri_sil (sorgu)\n",
        "    elif secim==\"E\":\n",
        "        baglantı.close()\n",
        "        break\n",
        "    else:\n",
        "        print(\"listede olmayan bir seçim yaptınız\")\n",
        "                        \n",
        "                        \n",
        "print(\"program sonlandırıldı\")                     \n",
        "    \n"
      ],
      "execution_count": null,
      "outputs": []
    },
    {
      "cell_type": "markdown",
      "metadata": {
        "id": "etlSD33qw7FY"
      },
      "source": [
        "  BÖLÜM SONU SORULARI.\n",
        "\n",
        "1- Okul adında bir veritabanı oluşturup personel adında tablo oluşturunuz. Örnek tablo alanları ve veri tipleri kimlik_no INT ,ad_soyad TEXT, telefon_no TEXT,e_posta TEXT,rolu TEXT,çalışılan_birim TEXT\n",
        "\n",
        "\n",
        "---\n",
        "\n",
        "\n",
        "2-Okul veri tabanında personel kimlik numarasına göre bilgilerini ekrana getiren programı yazınız.\n",
        "\n",
        "\n",
        "---\n",
        "\n",
        "\n",
        "3- Okul  veri tabanında ogrenci adında tablo oluşturunuz.Örnek tablo alanları ve veri tipleri ogrenci_no INT ,ad_soyad TEXT, telefon_no TEXT,e_posta TEXT,sınıfı TEXT,veli_adı TEXT,veli_numarası TEXT\n",
        "\n",
        "\n",
        "---\n",
        "\n",
        "\n",
        "4- Okul veri tabanında öğrenci bilgilerinin tamamını güncelleyebilen programı yazınız.\n"
      ]
    },
    {
      "cell_type": "markdown",
      "metadata": {
        "id": "jBmgJ9EXxP8O"
      },
      "source": [
        "Cevap- 1 kodlar"
      ]
    },
    {
      "cell_type": "code",
      "metadata": {
        "id": "4JyKJRM7xKZT"
      },
      "source": [
        "import sqlite3\n",
        "baglantı=sqlite3.connect(\"okul.db\")\n",
        "imlec=baglantı.cursor()\n",
        "imlec.execute(\"CREATE  TABLE IF NOT EXISTS personel (kimlik_no INT ,ad_soyad TEXT, telefon_no TEXT,e_posta TEXT,rolu TEXT,çalışılan_birim TEXT)\")\n",
        "baglantı.commit()\n",
        "baglantı.close()\n"
      ],
      "execution_count": null,
      "outputs": []
    },
    {
      "cell_type": "markdown",
      "metadata": {
        "id": "0fGn_7VDxUyI"
      },
      "source": [
        "Cevap- 2 kodlar"
      ]
    },
    {
      "cell_type": "code",
      "metadata": {
        "id": "4kAH7p4JxYRk"
      },
      "source": [
        "import sqlite3\n",
        "baglantı=sqlite3.connect(\"okul.db\")\n",
        "imlec=baglantı.cursor()\n",
        "kimlik_no=input(\"bilgilerini görmek istediğiniz personelin kimlik numarasını giriniz\")\n",
        "sorgu=\"SELECT * FROM personel WHERE kimlik_no=' \"+kimlik_no+\" '\"\n",
        "imlec.execute(sorgu)\n",
        "bilgiler=imlec.fetchall()\n",
        "print(bilgiler)\n",
        "baglantı.close()\n"
      ],
      "execution_count": null,
      "outputs": []
    },
    {
      "cell_type": "markdown",
      "metadata": {
        "id": "3kDIIpifxbVT"
      },
      "source": [
        "Cevap- 3 kodlar"
      ]
    },
    {
      "cell_type": "code",
      "metadata": {
        "id": "xtuBTe9LxeVZ"
      },
      "source": [
        "import sqlite3\n",
        "baglantı=sqlite3.connect(\"okul.db\")\n",
        "imlec=baglantı.cursor()\n",
        "imlec.execute(\"CREATE  TABLE IF NOT EXISTS ogrenci  (ogrenci_no INT ,ad_soyad TEXT, telefon_no TEXT,e_posta TEXT,sınıfı TEXT,veli_adı TEXT,veli_numarası TEXT)\")\n",
        "baglantı.commit()\n",
        "baglantı.close()\n"
      ],
      "execution_count": null,
      "outputs": []
    },
    {
      "cell_type": "markdown",
      "metadata": {
        "id": "nNeRKM3IxgWt"
      },
      "source": [
        "Cevap- 4 kodlar"
      ]
    },
    {
      "cell_type": "code",
      "metadata": {
        "id": "j8bTstwfxkZT"
      },
      "source": [
        "import sqlite3\n",
        "baglantı=sqlite3.connect(\"okul.db\")\n",
        "imlec=baglantı.cursor()\n",
        "ogrenci_no=input(\"bilgilerini görmek istediğiniz öğrencinin numarasını giriniz\")\n",
        "sorgu=\"SELECT * FROM ogrenci WHERE ogrenci_no=' \"+ogrenci_no+\" '\"\n",
        "imlec.execute (sorgu)\n",
        "bilgiler=imlec.fetchall()\n",
        "print(bilgiler)\n",
        "yeni_bilgiler=input('''\n",
        "lütfen yeni bilgileri araya virgül koyarak giriniz\n",
        "ogrenci_no, ad soyad, telefon no, e posta, sınıfı,veli adı, veli telefon numarası ''')\n",
        "liste=yeni_bilgiler.split(\",\")\n",
        "sorgu=\"UPDATE ogrenci SET ogrenci_no =?,ad_soyad=?,telefon_no=?,e_posta=?,sınıfı=?,veli_adı=?,veli_numarası=? WHERE ogrenci_no=? \"\n",
        "imlec.execute(sorgu,(liste[0],liste[1],liste[2],liste[3],liste[4],liste[5],liste[6],ogrenci_no))\n",
        "baglantı.commit()\n",
        "baglantı.close()\n"
      ],
      "execution_count": null,
      "outputs": []
    }
  ]
}