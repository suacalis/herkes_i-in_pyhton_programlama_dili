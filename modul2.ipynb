{
  "nbformat": 4,
  "nbformat_minor": 0,
  "metadata": {
    "colab": {
      "name": "modul2",
      "provenance": [],
      "collapsed_sections": []
    },
    "kernelspec": {
      "name": "python3",
      "display_name": "Python 3"
    }
  },
  "cells": [
    {
      "cell_type": "markdown",
      "metadata": {
        "id": "eS7gsXwvFDcN"
      },
      "source": [
        "# MODÜL 2 <br>\n",
        "**Yorum Satırları, Değişkenler, Veri Tipleri ve Operatörler**<br>\n"
      ]
    },
    {
      "cell_type": "markdown",
      "metadata": {
        "id": "O7q_ZPK-nftU"
      },
      "source": [
        "**Örnek 1**"
      ]
    },
    {
      "cell_type": "code",
      "metadata": {
        "id": "UBZWEEQCHew2",
        "colab": {
          "base_uri": "https://localhost:8080/",
          "height": 34
        },
        "outputId": "5e3a6653-278c-4985-e376-22b4440b2bc8"
      },
      "source": [
        "#Bu kod ekrana yazı yazılmasını sağlamaktadır.\n",
        "print (\"Konu: Yorum satırlarını kullanma\")\n",
        "#Her satırın başına # işareti ekleyerek \n",
        "#Alt alta yorum satırları oluşturabilirsiniz"
      ],
      "execution_count": null,
      "outputs": [
        {
          "output_type": "stream",
          "text": [
            "Konu: Yorum satırlarını kullanma\n"
          ],
          "name": "stdout"
        }
      ]
    },
    {
      "cell_type": "markdown",
      "metadata": {
        "id": "AK0ukN-VCvFD"
      },
      "source": [
        "**Örnek 2**<br>\n",
        "Yorum satırlarını kod satırının devamında aynı satırda kullanabilirsiniz. Bu kullanımda önce kod gelir,\n",
        "devamında yorum satırı “#” işareti ile başlar (öndeki kod çalışır), daha sonra satır sonuna kadar yorum\n",
        "satırı olarak dikkate alınmaz."
      ]
    },
    {
      "cell_type": "code",
      "metadata": {
        "id": "SPXx2ObUC4a5",
        "colab": {
          "base_uri": "https://localhost:8080/",
          "height": 34
        },
        "outputId": "653d4818-a5f4-4936-dc76-ccf512036735"
      },
      "source": [
        "print (2+3) # Bu kod satırı ekrana 2 sayının toplamını yazar"
      ],
      "execution_count": null,
      "outputs": [
        {
          "output_type": "stream",
          "text": [
            "5\n"
          ],
          "name": "stdout"
        }
      ]
    },
    {
      "cell_type": "markdown",
      "metadata": {
        "id": "7NzSDlziDn6r"
      },
      "source": [
        "**Örnek 3**<br>Birden fazla yorum satırı kullanılacaksa yorumlar üçlü tek tırnak veya üçlü çift tırnak blokları arasına\n",
        "yazılır."
      ]
    },
    {
      "cell_type": "code",
      "metadata": {
        "id": "rOnLzSKnDu55",
        "colab": {
          "base_uri": "https://localhost:8080/",
          "height": 34
        },
        "outputId": "0ec07852-8bf5-4228-b1ac-55514788091f"
      },
      "source": [
        "'''Python’da birden fazla\n",
        "açıklama satırı\n",
        "kullanmak için üçlü tek tırnak veya çift tırnak\n",
        "kullanılır açıklama satırını bitirmek için \n",
        "aynı şekilde kullanılır'''"
      ],
      "execution_count": null,
      "outputs": [
        {
          "output_type": "execute_result",
          "data": {
            "text/plain": [
              "'Python’da birden fazla\\naçıklama satırı\\nkullanmak için üçlü tek tırnak veya çift tırnak\\nkullanılır açıklama satırını bitirmek için \\naynı şekilde kullanılır'"
            ]
          },
          "metadata": {
            "tags": []
          },
          "execution_count": 10
        }
      ]
    },
    {
      "cell_type": "markdown",
      "metadata": {
        "id": "JGMjNcoxEx-_"
      },
      "source": [
        "**Örnek 4**<br>Yorum satırlarını Python yorumlayıcı dikkate almaz. Ancak aşağıdaki kod satırları yorum satırı olarak\n",
        "değerlendirilmez."
      ]
    },
    {
      "cell_type": "code",
      "metadata": {
        "id": "CwxQLW9nEvnu"
      },
      "source": [
        "#!/usr/bin/env python3 veya #!c:/Python/python.exe\n",
        "# -*- coding: utf-8 -*- "
      ],
      "execution_count": null,
      "outputs": []
    },
    {
      "cell_type": "markdown",
      "metadata": {
        "id": "9lW80SeXI-Cn"
      },
      "source": [
        "**Örnek 5**<br>Yorum satırları süsleme amacıyla da kullanılabilir. Bazı program dosyalarında aşağıdaki gibi süslü açıklamalar, etiketler görülebilir."
      ]
    },
    {
      "cell_type": "code",
      "metadata": {
        "id": "IAS2pd_uJXai",
        "colab": {
          "base_uri": "https://localhost:8080/",
          "height": 54
        },
        "outputId": "fd9c4643-414c-42cf-f69a-be29d5fd38c4"
      },
      "source": [
        "'''\n",
        "#############################################################\n",
        "##*********************************************************##\n",
        "##                   Python Öğreniyorum                    ##\n",
        "##                      Python 3                           ##\n",
        "##*********************************************************##\n",
        "############################################################## \n",
        "''' \n"
      ],
      "execution_count": null,
      "outputs": [
        {
          "output_type": "execute_result",
          "data": {
            "text/plain": [
              "'\\n#############################################################\\n##**********************************************************************************##\\n##                                            Python Öğreniyorum                                      ##\\n##                                                       Python 3                                              ##\\n##**********************************************************************************##\\n ############################################################# \\n    '"
            ]
          },
          "metadata": {
            "tags": []
          },
          "execution_count": 14
        }
      ]
    },
    {
      "cell_type": "markdown",
      "metadata": {
        "id": "9VREbHEtF0Uc"
      },
      "source": [
        "# **Değişkenler**\n"
      ]
    },
    {
      "cell_type": "markdown",
      "metadata": {
        "id": "UKOCyPWxMY-u"
      },
      "source": [
        "**Örnek 6**<br>\n",
        "Değişken oluşturma ve değer atamaya ilişkin örnekler:\n"
      ]
    },
    {
      "cell_type": "code",
      "metadata": {
        "id": "zOfquVdALkyV",
        "colab": {
          "base_uri": "https://localhost:8080/",
          "height": 85
        },
        "outputId": "d5a1016e-b4b4-40e1-a995-9347df65aad9"
      },
      "source": [
        "#sayi1 değişkenine 5 sayisini atadık\n",
        "sayi1=5\n",
        "print('Değişkenin içindeki sayı: ', sayi1)\n",
        "sayi1=10\n",
        "print('Değişkenin içindeki sayı: ', sayi1, 'oldu')\n",
        "sayi1='Murat'\n",
        "print ('Değişkenin içindeki değer: ', sayi1, 'oldu')\n",
        "sayi1=10.5\n",
        "print ('Değişkenin içindeki sayı: ', sayi1, 'oldu')\n",
        "#Python'da değişkenin veri tipi ona değer atandığında tanımlandığı için aynı değişkene hem karakter dizisi hem de sayısal değerler atanabiliyor."
      ],
      "execution_count": null,
      "outputs": [
        {
          "output_type": "stream",
          "text": [
            "Değişkenin içindeki sayı:  5\n",
            "Değişkenin içindeki sayı:  10 oldu\n",
            "Değişkenin içindeki değer:  Murat oldu\n",
            "Değişkenin içindeki sayı:  10.5 oldu\n"
          ],
          "name": "stdout"
        }
      ]
    },
    {
      "cell_type": "markdown",
      "metadata": {
        "id": "WcpAxFMRjP45"
      },
      "source": [
        "<br>**Örnek 7**<br>\n",
        "Aşağıda 3 değişkene de tek satırda 1 değeri atanmıştır. "
      ]
    },
    {
      "cell_type": "code",
      "metadata": {
        "id": "4M5cVg0RLvAI",
        "colab": {
          "base_uri": "https://localhost:8080/",
          "height": 68
        },
        "outputId": "890825e3-92ef-488f-8adf-9cd4014f7471"
      },
      "source": [
        "a = b = c = 1\n",
        "print ('1. sayı=', a)\n",
        "print ('2. sayı=', b)\n",
        "print ('3. sayı=', c)"
      ],
      "execution_count": null,
      "outputs": [
        {
          "output_type": "stream",
          "text": [
            "1. sayı= 1\n",
            "2. sayı= 1\n",
            "3. sayı= 1\n"
          ],
          "name": "stdout"
        }
      ]
    },
    {
      "cell_type": "markdown",
      "metadata": {
        "id": "kKh_XY7d51_6"
      },
      "source": [
        "**Örnek 8**<br>\n",
        "Değişkenler aralarına virgül eklenerek yan yana yazılır. Değerleri de aynı sıralama ile karşılarına yazılır."
      ]
    },
    {
      "cell_type": "code",
      "metadata": {
        "id": "zb08ZKtawONQ",
        "colab": {
          "base_uri": "https://localhost:8080/",
          "height": 68
        },
        "outputId": "5c1174e8-1751-43bf-a2ba-3535679e0711"
      },
      "source": [
        "adi, soyadi, yasi='Canan', 'DAĞDEVİREN', 34\n",
        "print (\"Adı=\", adi)\n",
        "print (\"Soyadı=\", soyadi,)\n",
        "print (\"Yaşı=\", yasi)"
      ],
      "execution_count": null,
      "outputs": [
        {
          "output_type": "stream",
          "text": [
            "Adı= Canan\n",
            "Soyadı= DAĞDEVİREN\n",
            "Yaşı= 34\n"
          ],
          "name": "stdout"
        }
      ]
    },
    {
      "cell_type": "markdown",
      "metadata": {
        "id": "kM757WbZ6iza"
      },
      "source": [
        "**Örnek 9**<br>\n",
        "Değişkenlere değer atamak için başka bir yöntem aralarına noktalı virgül “;” ekleyerek değişken - değer\n",
        "ikilileri şeklinde yazmaktır.\n"
      ]
    },
    {
      "cell_type": "code",
      "metadata": {
        "id": "bbVGCKXyPb18",
        "colab": {
          "base_uri": "https://localhost:8080/",
          "height": 68
        },
        "outputId": "03b9004b-3838-45d4-c9c4-95faf6539cd5"
      },
      "source": [
        "adi='Aziz'; soyadi='SANCAR'; yasi=73\n",
        "print (\"Adı=\", adi)\n",
        "print (\"Soyadı=\", soyadi,)\n",
        "print (\"Yaşı=\", yasi)"
      ],
      "execution_count": null,
      "outputs": [
        {
          "output_type": "stream",
          "text": [
            "Adı= Aziz\n",
            "Soyadı= SANCAR\n",
            "Yaşı= 73\n"
          ],
          "name": "stdout"
        }
      ]
    },
    {
      "cell_type": "markdown",
      "metadata": {
        "id": "PNrDDnPk7CLy"
      },
      "source": [
        "**Örnek 10**<br>\n",
        "Değer atanmayan ve/veya tanımlanmamış bir değişken kullanılırsa  Python hata verir."
      ]
    },
    {
      "cell_type": "code",
      "metadata": {
        "id": "jM-KWHNd8Zyj",
        "colab": {
          "base_uri": "https://localhost:8080/",
          "height": 197
        },
        "outputId": "b6cf5291-7c48-4f3d-804a-6ffa9ac838f8"
      },
      "source": [
        "print (yenisayi)\n",
        "#Python değişkenleri değer atandığında tanımlandığı için hata mesajını alırsınız.\n",
        "# yenisayi değişkeni tanımlanmamış olduğu için hata mesajı alınır.\n"
      ],
      "execution_count": null,
      "outputs": [
        {
          "output_type": "error",
          "ename": "NameError",
          "evalue": "ignored",
          "traceback": [
            "\u001b[0;31m---------------------------------------------------------------------------\u001b[0m",
            "\u001b[0;31mNameError\u001b[0m                                 Traceback (most recent call last)",
            "\u001b[0;32m<ipython-input-2-f32a49eb8f49>\u001b[0m in \u001b[0;36m<module>\u001b[0;34m()\u001b[0m\n\u001b[0;32m----> 1\u001b[0;31m \u001b[0mprint\u001b[0m \u001b[0;34m(\u001b[0m\u001b[0myenisayi\u001b[0m\u001b[0;34m)\u001b[0m\u001b[0;34m\u001b[0m\u001b[0;34m\u001b[0m\u001b[0m\n\u001b[0m\u001b[1;32m      2\u001b[0m \u001b[0;31m#Python değişkenleri değer atandığında tanımlandığı için hata mesajını alırsınız.\u001b[0m\u001b[0;34m\u001b[0m\u001b[0;34m\u001b[0m\u001b[0;34m\u001b[0m\u001b[0m\n\u001b[1;32m      3\u001b[0m \u001b[0;31m# yenisayi değişkeni tanımlanmamış olduğu için hata mesajı alınır.\u001b[0m\u001b[0;34m\u001b[0m\u001b[0;34m\u001b[0m\u001b[0;34m\u001b[0m\u001b[0m\n",
            "\u001b[0;31mNameError\u001b[0m: name 'yenisayi' is not defined"
          ]
        }
      ]
    },
    {
      "cell_type": "markdown",
      "metadata": {
        "id": "RCavqQgL48GE"
      },
      "source": [
        "Değer atamadan tanımlamak için `yenisayi=int()` kodu kullanılabiir. Bu durmda değişkene ilk değer olarak 0 değeri atanır."
      ]
    },
    {
      "cell_type": "code",
      "metadata": {
        "id": "3YebKijV41iD",
        "colab": {
          "base_uri": "https://localhost:8080/",
          "height": 51
        },
        "outputId": "6bc4d34b-2e8e-47f9-fb45-8b76fc5596b9"
      },
      "source": [
        "yenisayi=int()\n",
        "print(yenisayi)\n",
        "yenimetin=str()\n",
        "print(yenimetin)"
      ],
      "execution_count": null,
      "outputs": [
        {
          "output_type": "stream",
          "text": [
            "0\n",
            "\n"
          ],
          "name": "stdout"
        }
      ]
    },
    {
      "cell_type": "markdown",
      "metadata": {
        "id": "tIxzVl308uOq"
      },
      "source": [
        "**Örnek 11**<br>Değişkenler veri tiplerine göre kullanılmazsa Python hata verir."
      ]
    },
    {
      "cell_type": "code",
      "metadata": {
        "id": "2pt3QoRRgebp",
        "colab": {
          "base_uri": "https://localhost:8080/",
          "height": 197
        },
        "outputId": "8936cacc-6e36-4f67-856c-6f6908f6c7d1"
      },
      "source": [
        "sayi1=1\n",
        "metin1='deneme'\n",
        "print(sayi1+metin1) #Bir sayı ile bir metni, kelimeyi toplamaya çalışıyoruz."
      ],
      "execution_count": null,
      "outputs": [
        {
          "output_type": "error",
          "ename": "TypeError",
          "evalue": "ignored",
          "traceback": [
            "\u001b[0;31m---------------------------------------------------------------------------\u001b[0m",
            "\u001b[0;31mTypeError\u001b[0m                                 Traceback (most recent call last)",
            "\u001b[0;32m<ipython-input-47-e585c633881d>\u001b[0m in \u001b[0;36m<module>\u001b[0;34m()\u001b[0m\n\u001b[1;32m      1\u001b[0m \u001b[0msayi1\u001b[0m\u001b[0;34m=\u001b[0m\u001b[0;36m1\u001b[0m\u001b[0;34m\u001b[0m\u001b[0;34m\u001b[0m\u001b[0m\n\u001b[1;32m      2\u001b[0m \u001b[0mmetin1\u001b[0m\u001b[0;34m=\u001b[0m\u001b[0;34m'deneme'\u001b[0m\u001b[0;34m\u001b[0m\u001b[0;34m\u001b[0m\u001b[0m\n\u001b[0;32m----> 3\u001b[0;31m \u001b[0mprint\u001b[0m\u001b[0;34m(\u001b[0m\u001b[0msayi1\u001b[0m\u001b[0;34m+\u001b[0m\u001b[0mmetin1\u001b[0m\u001b[0;34m)\u001b[0m \u001b[0;31m#Bir sayı ile bir metini, kelimeyi toplamaya çalışıyoruz.\u001b[0m\u001b[0;34m\u001b[0m\u001b[0;34m\u001b[0m\u001b[0m\n\u001b[0m",
            "\u001b[0;31mTypeError\u001b[0m: unsupported operand type(s) for +: 'int' and 'str'"
          ]
        }
      ]
    },
    {
      "cell_type": "markdown",
      "metadata": {
        "id": "NlhIZwYDjsza"
      },
      "source": [
        "Python programlama dilinde reserve sözcükler kullanılamaz. Bu özel sözcüklerin listesini görmek için aşağıdaki kodu kullanabilirsiniz."
      ]
    },
    {
      "cell_type": "code",
      "metadata": {
        "id": "UPFgxZATl7Tx",
        "colab": {
          "base_uri": "https://localhost:8080/",
          "height": 578
        },
        "outputId": "db24c148-47d1-47bc-f209-e351f3a084a2"
      },
      "source": [
        "import keyword\n",
        "keyword.kwlist"
      ],
      "execution_count": null,
      "outputs": [
        {
          "output_type": "execute_result",
          "data": {
            "text/plain": [
              "['False',\n",
              " 'None',\n",
              " 'True',\n",
              " 'and',\n",
              " 'as',\n",
              " 'assert',\n",
              " 'break',\n",
              " 'class',\n",
              " 'continue',\n",
              " 'def',\n",
              " 'del',\n",
              " 'elif',\n",
              " 'else',\n",
              " 'except',\n",
              " 'finally',\n",
              " 'for',\n",
              " 'from',\n",
              " 'global',\n",
              " 'if',\n",
              " 'import',\n",
              " 'in',\n",
              " 'is',\n",
              " 'lambda',\n",
              " 'nonlocal',\n",
              " 'not',\n",
              " 'or',\n",
              " 'pass',\n",
              " 'raise',\n",
              " 'return',\n",
              " 'try',\n",
              " 'while',\n",
              " 'with',\n",
              " 'yield']"
            ]
          },
          "metadata": {
            "tags": []
          },
          "execution_count": 1
        }
      ]
    },
    {
      "cell_type": "markdown",
      "metadata": {
        "id": "cw5JnHhK7QvR"
      },
      "source": [
        "**Örnek 12**<br>\n",
        "Python dilinde uygun değişken adı örnekleri:"
      ]
    },
    {
      "cell_type": "code",
      "metadata": {
        "id": "t6h9fkBNA6wm"
      },
      "source": [
        "#Uygun değişken isimleri\n",
        "sayi1=1\n",
        "Sayi1=2"
      ],
      "execution_count": null,
      "outputs": []
    },
    {
      "cell_type": "markdown",
      "metadata": {
        "id": "_6G4A-p5y89f"
      },
      "source": [
        "sayi1' ekrana yazdırırsanız çıktı ne olur?"
      ]
    },
    {
      "cell_type": "code",
      "metadata": {
        "id": "m2O4d46EzCWQ",
        "colab": {
          "base_uri": "https://localhost:8080/",
          "height": 68
        },
        "outputId": "c8b85042-cb5e-4542-840a-3eb2905beda0"
      },
      "source": [
        "print (sayi1)\n",
        "print(Sayi1)\n",
        "#Büyük harf ve küçük harf kullanarak tanımladığınız değişkenlerin adı aynı olsa bile farklı değişkenler olduğunu unutmayın\n",
        "sayı1=3\n",
        "#Python  değişken adlandırma da Türkçe karakterler kullanmamıza izin vermektedir.\n",
        "print(sayı1)"
      ],
      "execution_count": null,
      "outputs": [
        {
          "output_type": "stream",
          "text": [
            "1\n",
            "2\n",
            "3\n"
          ],
          "name": "stdout"
        }
      ]
    },
    {
      "cell_type": "markdown",
      "metadata": {
        "id": "585_txHG7dXy"
      },
      "source": [
        "**Örnek 13**<br>\n",
        "Python'da hatalı değişken adı kullanımı."
      ]
    },
    {
      "cell_type": "code",
      "metadata": {
        "id": "s1iNWia5j4an",
        "colab": {
          "base_uri": "https://localhost:8080/",
          "height": 129
        },
        "outputId": "ad157f6e-8d01-44c2-8943-f5b3757eb8a4"
      },
      "source": [
        "1sayi=5 #hatalı değişken adı.\n",
        "print (1.sayi)"
      ],
      "execution_count": null,
      "outputs": [
        {
          "output_type": "error",
          "ename": "SyntaxError",
          "evalue": "ignored",
          "traceback": [
            "\u001b[0;36m  File \u001b[0;32m\"<ipython-input-4-a0b35430cdb5>\"\u001b[0;36m, line \u001b[0;32m1\u001b[0m\n\u001b[0;31m    1sayi=5 #hatalı değişken adı.\u001b[0m\n\u001b[0m        ^\u001b[0m\n\u001b[0;31mSyntaxError\u001b[0m\u001b[0;31m:\u001b[0m invalid syntax\n"
          ]
        }
      ]
    },
    {
      "cell_type": "markdown",
      "metadata": {
        "id": "BknMfhndBrAw"
      },
      "source": [
        "**Örnek 14**\n",
        "<br>Camel standardında değişken adı tanımlama\n",
        "\n",
        "\n",
        "\n"
      ]
    },
    {
      "cell_type": "code",
      "metadata": {
        "id": "tLHNSr2Ch3fH",
        "colab": {
          "base_uri": "https://localhost:8080/",
          "height": 102
        },
        "outputId": "3386dd91-9928-4ad2-920f-b23b947fd6c5"
      },
      "source": [
        "adi= \"Elif\"\n",
        "soyadi=\"Altun\"\n",
        "dogumYili=1981\n",
        "universiteMezunuMu=True\n",
        "universiteyeBasladigiYil=1999\n",
        "mezuniyetNotu=2.00\n",
        "print ('Adı: ', adi)\n",
        "print ('Soyadı: ', soyadi)\n",
        "print('Üniversite Mezunu mu? ', universiteMezunuMu)\n",
        "print('Üniversiteye Başladığı Yıl: ', universiteyeBasladigiYil)\n",
        "print('Mezuniyet Notu: ', mezuniyetNotu)"
      ],
      "execution_count": null,
      "outputs": [
        {
          "output_type": "stream",
          "text": [
            "Adı:  Elif\n",
            "Soyadı:  Altun\n",
            "Üniversite Mezunu mu?  True\n",
            "Üniversiteye Başladığı Yıl:  1999\n",
            "Mezuniyet Notu:  2.0\n"
          ],
          "name": "stdout"
        }
      ]
    },
    {
      "cell_type": "markdown",
      "metadata": {
        "id": "JQCTFSH3mo-g"
      },
      "source": [
        "**Örnek 15**<br>\n",
        "Hatalı veri tipi kullanımına örnek: “sayi2” değişkeninin tek tırnak içinde verildiğine ve bir karakter dizisi\n",
        "olduğuna dikkat edilmelidir."
      ]
    },
    {
      "cell_type": "code",
      "metadata": {
        "id": "mVL8Jbfomnsf",
        "colab": {
          "base_uri": "https://localhost:8080/",
          "height": 197
        },
        "outputId": "68b97113-e48d-46b0-8c6b-b90502d428b4"
      },
      "source": [
        "sayi1=5\n",
        "sayi2='3'\n",
        "print (sayi1+sayi2)"
      ],
      "execution_count": null,
      "outputs": [
        {
          "output_type": "error",
          "ename": "TypeError",
          "evalue": "ignored",
          "traceback": [
            "\u001b[0;31m---------------------------------------------------------------------------\u001b[0m",
            "\u001b[0;31mTypeError\u001b[0m                                 Traceback (most recent call last)",
            "\u001b[0;32m<ipython-input-4-ae37f1e75a2c>\u001b[0m in \u001b[0;36m<module>\u001b[0;34m()\u001b[0m\n\u001b[1;32m      1\u001b[0m \u001b[0msayi1\u001b[0m\u001b[0;34m=\u001b[0m\u001b[0;36m5\u001b[0m\u001b[0;34m\u001b[0m\u001b[0;34m\u001b[0m\u001b[0m\n\u001b[1;32m      2\u001b[0m \u001b[0msayi2\u001b[0m\u001b[0;34m=\u001b[0m\u001b[0;34m'3'\u001b[0m\u001b[0;34m\u001b[0m\u001b[0;34m\u001b[0m\u001b[0m\n\u001b[0;32m----> 3\u001b[0;31m \u001b[0mprint\u001b[0m \u001b[0;34m(\u001b[0m\u001b[0msayi1\u001b[0m\u001b[0;34m+\u001b[0m\u001b[0msayi2\u001b[0m\u001b[0;34m)\u001b[0m\u001b[0;34m\u001b[0m\u001b[0;34m\u001b[0m\u001b[0m\n\u001b[0m",
            "\u001b[0;31mTypeError\u001b[0m: unsupported operand type(s) for +: 'int' and 'str'"
          ]
        }
      ]
    },
    {
      "cell_type": "markdown",
      "metadata": {
        "id": "6N_eZ5Q2nkPg"
      },
      "source": [
        "**Örnek 16**<br>\n",
        "Operatörler konusunda * operatörü ile ilgili bir ayrıntıdan bahsedilmişti."
      ]
    },
    {
      "cell_type": "code",
      "metadata": {
        "id": "F4M_uaymoxNq",
        "colab": {
          "base_uri": "https://localhost:8080/",
          "height": 34
        },
        "outputId": "4543ca12-be6d-4669-df0c-4f4f61c1a16e"
      },
      "source": [
        "sayi1=5\n",
        "sayi2='3' \n",
        "#sayi2 değişkenin tek tırnak içinde verildiğine ve bir karakter dizisi olduğuna dikkat ediniz.\n",
        "print (sayi1*sayi2)\n",
        "#Sizce nasıl bir sonuç çıkacak"
      ],
      "execution_count": null,
      "outputs": [
        {
          "output_type": "stream",
          "text": [
            "33333\n"
          ],
          "name": "stdout"
        }
      ]
    },
    {
      "cell_type": "markdown",
      "metadata": {
        "id": "-dz405Xq8Sjr"
      },
      "source": [
        "**Örnek 17**<br>\n",
        "Pythonda bir değişkene değer atandığında veri tipleri atanan değere göre otomatik olarak belirlenir."
      ]
    },
    {
      "cell_type": "code",
      "metadata": {
        "id": "sUlMbhuVfc7l",
        "colab": {
          "base_uri": "https://localhost:8080/",
          "height": 85
        },
        "outputId": "88784054-626e-4b72-c271-775023c240fa"
      },
      "source": [
        "piSayisi=3.14\n",
        "#float tipinde bir veri\n",
        "print ('pi sayısı=', piSayisi)\n",
        "rCm=2\n",
        "#integer tipinde veri\n",
        "alan=3.14*2**2\n",
        "print ('Alan=', alan)\n",
        "#sonuç float tpinde\n",
        "print('Yarıçapı 2 olan dairenin alanı ', alan, ' cm 2 dir' )\n",
        "karmasikSayi=4+5j\n",
        "print('Bir karmaşık sayı=', karmasikSayi+3j)"
      ],
      "execution_count": null,
      "outputs": [
        {
          "output_type": "stream",
          "text": [
            "pi sayısı= 3.14\n",
            "Alan= 12.56\n",
            "Yarıçapı 2 olan dairenin alanı  12.56  cm 2 dir\n",
            "Bir karmaşık sayı= (4+8j)\n"
          ],
          "name": "stdout"
        }
      ]
    },
    {
      "cell_type": "markdown",
      "metadata": {
        "id": "FF8Gt-2mdLtS"
      },
      "source": [
        "**Örnek 18**<br>Python’da bir değişkene değer atandığında veri tipleri atanan değere göre otomatik olarak belirlenir."
      ]
    },
    {
      "cell_type": "code",
      "metadata": {
        "id": "ey9ZPzs1xNsJ",
        "colab": {
          "base_uri": "https://localhost:8080/",
          "height": 85
        },
        "outputId": "01865b41-66c1-4b43-dd7f-ece82fee909c"
      },
      "source": [
        "metin1 = 'Merhaba '\n",
        "metin2 = 'Mars'\n",
        "print (metin1) # karakter dizisinin tamamını yazar\n",
        "print (metin1 * 2) # karakter dizisini 2 defa yazar\n",
        "print (metin1 + metin2) # iki karakter dizisini birleştirir\n",
        "print ('metin1 adlı değişkendeki değerin uzunluğu:', len(metin1))\n",
        "#Boşluğun da bir karakter olduğunu gözden kaçırmayınız."
      ],
      "execution_count": null,
      "outputs": [
        {
          "output_type": "stream",
          "text": [
            "Merhaba \n",
            "Merhaba Merhaba \n",
            "Merhaba Mars\n",
            "metin1 adlı değişkendeki değerin uzunluğu: 8\n"
          ],
          "name": "stdout"
        }
      ]
    },
    {
      "cell_type": "markdown",
      "metadata": {
        "id": "pkTYMxj_SXZr"
      },
      "source": [
        "**Örnek 19**<br>\n",
        "Bir karakter dizisi ekrana yazdırılabilir, başka bir karakter dizisiyle birleştirilebilir.\n",
        "“len( )” metodu bir karakter dizisinin uzunluğunu vermektedir.\n"
      ]
    },
    {
      "cell_type": "code",
      "metadata": {
        "id": "eg9Qkh4kS2S-",
        "colab": {
          "base_uri": "https://localhost:8080/",
          "height": 133
        },
        "outputId": "acf22acf-6b70-4474-ef94-c49262adc817"
      },
      "source": [
        "metin='Merhaba Mars'\n",
        "print (metin[0])         # ifadenin ilk karakterini yazar\n",
        "print (metin[4:7])      # ifadenin 5, 6 ve 7. karakterlerini yazar\n",
        "print (metin[8::])       # 9. karakterden sonuncu karaktere kadar yazar\n",
        "print (metin[-2])        # karakter dizisinin en sondan ikinci karakterini yazar\n",
        "print (metin [:7])       # indisi 0' dan 7'ye kadar olan (7 dahil değil) karakterleri yazar\n",
        "print (metin[8:])        # başlangıç indisinden sonra tüm karakterleri yazar\n",
        "print(metin[0:8:2])     # 0, 2, 4 ve 6 indis numaralı karakterleri dilimler"
      ],
      "execution_count": null,
      "outputs": [
        {
          "output_type": "stream",
          "text": [
            "M\n",
            "aba\n",
            "Mars\n",
            "r\n",
            "Merhaba\n",
            "Mars\n",
            "Mraa\n"
          ],
          "name": "stdout"
        }
      ]
    },
    {
      "cell_type": "markdown",
      "metadata": {
        "id": "EnOzCilyg34T"
      },
      "source": [
        "<br>**Örnek 20**<br>\n",
        "Bir değişkenin veri tipi type( ) komutuyla kontrol edilir. type (degiskenAdi) şeklinde yazılır.\n"
      ]
    },
    {
      "cell_type": "code",
      "metadata": {
        "id": "dqTSmwM1hRJV",
        "colab": {
          "base_uri": "https://localhost:8080/",
          "height": 153
        },
        "outputId": "f6b252ec-5fbc-46e9-9dec-e3bba2e88170"
      },
      "source": [
        "sayi1=5\n",
        "sayi2=10.556\n",
        "metin1=\"1\" \n",
        "#metin1 değişkenine tırnak içinde verdiğimiz sayının bir karakter, string olduğuna dikaket edin\n",
        "sayi3=4+5j\n",
        "askerlikYaptiMi=True\n",
        "#True doğru, 1, evet anlamındadır.\n",
        "print (\"1. değişkenin veri tipi: \", type(sayi1))\n",
        "print (\"2. değişkenin veri tipi: \", type(sayi2))\n",
        "print (\"3. değişkenin veri tipi: \", type(metin1))\n",
        "print (\"4. değişkenin veri tipi: \", type(sayi3))\n",
        "print (\"5. değişkenin veri tipi: \", type(askerlikYaptiMi))\n",
        "listem=['Mehmet', 24, 'Mühendis', True]\n",
        "print (\"6. değişkenin veri tipi: \", type(listem))\n",
        "demet1=('Mehmet', 24, 'Mühendis', True)\n",
        "print (\"7. değişkenin veri tipi: \", type(demet1))\n",
        "sozluk={'adi': 'Mehmet','yasi': 24, 'meslekUnvani':'Mühendis', 'askerlikDurumu': True}\n",
        "print (\"8. değişkenin veri tipi: \", type(sozluk))"
      ],
      "execution_count": null,
      "outputs": [
        {
          "output_type": "stream",
          "text": [
            "1. değişkenin veri tipi:  <class 'int'>\n",
            "2. değişkenin veri tipi:  <class 'float'>\n",
            "3. değişkenin veri tipi:  <class 'str'>\n",
            "4. değişkenin veri tipi:  <class 'complex'>\n",
            "5. değişkenin veri tipi:  <class 'bool'>\n",
            "6. değişkenin veri tipi:  <class 'list'>\n",
            "7. değişkenin veri tipi:  <class 'tuple'>\n",
            "8. değişkenin veri tipi:  <class 'dict'>\n"
          ],
          "name": "stdout"
        }
      ]
    },
    {
      "cell_type": "markdown",
      "metadata": {
        "id": "SqdD9Xw-FHkR"
      },
      "source": [
        "**Veri Tiplerini Dönüştürmek**<br>\n"
      ]
    },
    {
      "cell_type": "markdown",
      "metadata": {
        "id": "eDQEu37XRrSw"
      },
      "source": [
        "**Örnek 21**<br>Aşağıdaki örnekte iki sayının da tırnak içinde verilmiş olduğuna dikkat ediniz.\n"
      ]
    },
    {
      "cell_type": "code",
      "metadata": {
        "id": "c6MKkJNheqey",
        "colab": {
          "base_uri": "https://localhost:8080/",
          "height": 34
        },
        "outputId": "65116300-42fb-46a7-b2a5-777985b725be"
      },
      "source": [
        "metin1='5'\n",
        "metin2='3'\n",
        "print (metin1+metin2)"
      ],
      "execution_count": null,
      "outputs": [
        {
          "output_type": "stream",
          "text": [
            "53\n"
          ],
          "name": "stdout"
        }
      ]
    },
    {
      "cell_type": "markdown",
      "metadata": {
        "id": "z6DpLccFnUOj"
      },
      "source": [
        "**Örnek 22**<br>İki değişkenin veri tipini dönüştürünüz. Veri tipi dönüştürüldüğünde karakter dizisi sayıya çevrilmiş olacaktır. Böylece iki sayısal değer üzerinde toplama işlemi yapılabilir."
      ]
    },
    {
      "cell_type": "code",
      "metadata": {
        "id": "RH-P1NQSn6I3",
        "colab": {
          "base_uri": "https://localhost:8080/",
          "height": 34
        },
        "outputId": "6f02953b-5914-4183-819e-7510e6df00d0"
      },
      "source": [
        "print(int(metin1)+int(metin2))"
      ],
      "execution_count": null,
      "outputs": [
        {
          "output_type": "stream",
          "text": [
            "8\n"
          ],
          "name": "stdout"
        }
      ]
    },
    {
      "cell_type": "markdown",
      "metadata": {
        "id": "lxcl8Lykobc_"
      },
      "source": [
        "**Örnek 23**<br>Aşağıdaki örnekte pi değerinin “float” ve “integer” veri tiplerinde kullanıldığında çıkan sonuca dikkat\n",
        "ediniz."
      ]
    },
    {
      "cell_type": "code",
      "metadata": {
        "id": "7cKcXE9hoWiY",
        "colab": {
          "base_uri": "https://localhost:8080/",
          "height": 85
        },
        "outputId": "6c11e4ef-9bd8-4a04-a739-a74f9d6b6822"
      },
      "source": [
        "piDegeri=3.14\n",
        "print ('Veri Tipi: ',type(piDegeri))\n",
        "#3.14 değerini verdiğimizde piDegeri float veri tipi olarak tanımalancaktır.\n",
        "yariCap=5\n",
        "daireninAlani=((piDegeri*2)*yariCap)\n",
        "print('Dairenin Alanı (float)=', daireninAlani)\n",
        "piDegeriInt=(int(piDegeri))\n",
        "# int(piDegeri*2) ifadesi float değeri int veri tipini dönüştürüldü.\n",
        "print('Int veri tipine dönüştürülen piDegeri: ', piDegeriInt)\n",
        "daireninAlani=((piDegeriInt*2)*yariCap)\n",
        "print('Dairenin Alanı (int)=', daireninAlani)"
      ],
      "execution_count": null,
      "outputs": [
        {
          "output_type": "stream",
          "text": [
            "Veri Tipi:  <class 'float'>\n",
            "Dairenin Alanı (float)= 31.400000000000002\n",
            "Int veri tipine dönüştürülen piDegeri:  3\n",
            "Dairenin Alanı (int)= 30\n"
          ],
          "name": "stdout"
        }
      ]
    },
    {
      "cell_type": "markdown",
      "metadata": {
        "id": "PJFjmwVR4QpX"
      },
      "source": [
        "**Örnek 24**<br>Boolean veri tipini sayısal veri tipine ve string veri tipine dönüştürebilirsiniz. Bu işlemin tersini de yapabilirsiniz."
      ]
    },
    {
      "cell_type": "code",
      "metadata": {
        "id": "sOyQEQ1Q4ecI",
        "colab": {
          "base_uri": "https://localhost:8080/",
          "height": 68
        },
        "outputId": "63bceeff-f7b0-4b9c-c4aa-c1d4ea703a15"
      },
      "source": [
        "askerlikYaptiMi=True\n",
        "print('Askerlik yaptı mı?', askerlikYaptiMi)\n",
        "askerlikYaptiMiInt=int(askerlikYaptiMi) #integer tipine dönüştürdük\n",
        "print('Askerlik yaptı mı?', askerlikYaptiMiInt)\n",
        "askerlikYaptiMiStr=str(askerlikYaptiMi) #string tipine dönüştürdük\n",
        "print('Askerlik yaptı mı?', askerlikYaptiMiStr)\n",
        "#Çıktı olarak True verecek ancak bu boolean tipinde değildir."
      ],
      "execution_count": null,
      "outputs": [
        {
          "output_type": "stream",
          "text": [
            "Askerlik yaptı mı? True\n",
            "Askerlik yaptı mı? 1\n",
            "Askerlik yaptı mı? True\n"
          ],
          "name": "stdout"
        }
      ]
    },
    {
      "cell_type": "markdown",
      "metadata": {
        "id": "hcIpLxqOiGHh"
      },
      "source": [
        "**Toplama (Operatörü)**\n",
        "<br>**Örnek 25**<br>Sayısal değerler “integer” , “float” veya “complex” tipinde olabilir."
      ]
    },
    {
      "cell_type": "code",
      "metadata": {
        "id": "eJWZ-g9ff7mo",
        "colab": {
          "base_uri": "https://localhost:8080/",
          "height": 85
        },
        "outputId": "b1d2a6f4-e3a4-4310-c355-58f193fb2e6f"
      },
      "source": [
        "print (5+3)\n",
        "print (5+3+3)\n",
        "sayi1=10\n",
        "print (sayi1+5)\n",
        "#Aynı şekilde değişken kullanarak da yapabiliriz.\n",
        "sayi2=10.34\n",
        "print (sayi1+sayi2+5.5) #farklı veri tiplerindeki sayıları ve değişkenleri de kullanabiliriz"
      ],
      "execution_count": null,
      "outputs": [
        {
          "output_type": "stream",
          "text": [
            "8\n",
            "11\n",
            "15\n",
            "25.84\n"
          ],
          "name": "stdout"
        }
      ]
    },
    {
      "cell_type": "markdown",
      "metadata": {
        "id": "CvnQjL2th_3Y"
      },
      "source": [
        "**Örnek 26**<br>Toplama operatörünün karakter dizilerinde farklı bir kullanımı vardır: İki veya daha fazla karakter dizisini birleştirmek için kullanılabilir."
      ]
    },
    {
      "cell_type": "code",
      "metadata": {
        "id": "HDmbWMqxj8cb",
        "colab": {
          "base_uri": "https://localhost:8080/",
          "height": 51
        },
        "outputId": "d6ae768f-97b2-4612-9652-68068df8b273"
      },
      "source": [
        "print ('Merhaba ' + 'Mars')\n",
        "metin1='Merhaba ' + 'Mars' + ' nasılsın?'\n",
        "print(metin1)"
      ],
      "execution_count": null,
      "outputs": [
        {
          "output_type": "stream",
          "text": [
            "Merhaba Mars\n",
            "Merhaba Mars nasılsın?\n"
          ],
          "name": "stdout"
        }
      ]
    },
    {
      "cell_type": "markdown",
      "metadata": {
        "id": "2IN66oO2mOzW"
      },
      "source": [
        "**Çıkarma Operatörü**<br>\n",
        "**Örnek 27**<br>\n",
        "Bu operatör, sayıların farkını bulmak için kullanılır.\n"
      ]
    },
    {
      "cell_type": "code",
      "metadata": {
        "id": "4uT0b73hgDOB",
        "colab": {
          "base_uri": "https://localhost:8080/",
          "height": 51
        },
        "outputId": "ff809d7d-23c8-42f2-90b0-2c356727f7ee"
      },
      "source": [
        "print(5-3)\n",
        "sayi1=5\n",
        "sayi2=3\n",
        "print(sayi1-sayi2)"
      ],
      "execution_count": null,
      "outputs": [
        {
          "output_type": "stream",
          "text": [
            "2\n",
            "2\n"
          ],
          "name": "stdout"
        }
      ]
    },
    {
      "cell_type": "markdown",
      "metadata": {
        "id": "2lIrAJ4Do6-E"
      },
      "source": [
        " **Çarpma Operatörü**<br>\n",
        "<br>**Örnek 28**<br>\n",
        "Çarpma operatörü iki veya daha fazla sayıyı çarpmak için kullanılır."
      ]
    },
    {
      "cell_type": "code",
      "metadata": {
        "id": "pbOk1DQygMr3",
        "colab": {
          "base_uri": "https://localhost:8080/",
          "height": 68
        },
        "outputId": "e006d6bd-ac3f-4bb2-bd18-bab250c37c8d"
      },
      "source": [
        "print(5*3)\n",
        "print(5*3*2)\n",
        "sayi1=5\n",
        "sayi2=3\n",
        "print(sayi1*sayi2)"
      ],
      "execution_count": null,
      "outputs": [
        {
          "output_type": "stream",
          "text": [
            "15\n",
            "30\n",
            "15\n"
          ],
          "name": "stdout"
        }
      ]
    },
    {
      "cell_type": "markdown",
      "metadata": {
        "id": "92BbxTn3qP54"
      },
      "source": [
        "**Örnek 29**<br>Bir karakter dizisini istediğiniz kadar yazdırmak için çarpma operatörünü kullanabilirsiniz.\n"
      ]
    },
    {
      "cell_type": "code",
      "metadata": {
        "id": "kzMYRgdUkez0",
        "colab": {
          "base_uri": "https://localhost:8080/",
          "height": 34
        },
        "outputId": "9ea1d115-3ece-46b2-8265-3796bb9838a8"
      },
      "source": [
        "print (20*'BA')"
      ],
      "execution_count": null,
      "outputs": [
        {
          "output_type": "stream",
          "text": [
            "BABABABABABABABABABABABABABABABABABABABA\n"
          ],
          "name": "stdout"
        }
      ]
    },
    {
      "cell_type": "markdown",
      "metadata": {
        "id": "6fvGMrvoq332"
      },
      "source": [
        "**Bölme Operatörü**\n",
        "<br>**Örnek 30**<br>\n"
      ]
    },
    {
      "cell_type": "code",
      "metadata": {
        "id": "FX5d41vBlcgf",
        "colab": {
          "base_uri": "https://localhost:8080/",
          "height": 34
        },
        "outputId": "4e9cad6a-1946-4724-dff0-70ef270b69fe"
      },
      "source": [
        "print (5/3)"
      ],
      "execution_count": null,
      "outputs": [
        {
          "output_type": "stream",
          "text": [
            "0.8333333333333334\n"
          ],
          "name": "stdout"
        }
      ]
    },
    {
      "cell_type": "markdown",
      "metadata": {
        "id": "ppIOh5iOKIej"
      },
      "source": [
        "<br>**Örnek 31**<br> İkiden fazla sayıyı bölmek için de kullanabiliriz.<"
      ]
    },
    {
      "cell_type": "code",
      "metadata": {
        "id": "QTAHnMBjKIJt",
        "colab": {
          "base_uri": "https://localhost:8080/",
          "height": 34
        },
        "outputId": "d6487cc3-4146-449d-d61f-21baef1887d0"
      },
      "source": [
        "print(18/3/2)\n",
        "# Soldan başlayarak bölme işlemlerini yapar.\n",
        "# önce 18/3 işlemini yapar ve sonucu 2'ye böler."
      ],
      "execution_count": null,
      "outputs": [
        {
          "output_type": "stream",
          "text": [
            "3.0\n"
          ],
          "name": "stdout"
        }
      ]
    },
    {
      "cell_type": "markdown",
      "metadata": {
        "id": "qLgpUel_rK85"
      },
      "source": [
        "**Kuvvet (\\*\\*) Alma**\n",
        "<br>**Örnek 32**<br>\n",
        "5’in 3. kuvvetinin bulunması:\n"
      ]
    },
    {
      "cell_type": "code",
      "metadata": {
        "id": "tqINf_q0lqiT",
        "colab": {
          "base_uri": "https://localhost:8080/",
          "height": 34
        },
        "outputId": "01e2aa5f-851b-4a9a-e7f8-aace2c7a18ee"
      },
      "source": [
        "print(5**3)"
      ],
      "execution_count": null,
      "outputs": [
        {
          "output_type": "execute_result",
          "data": {
            "text/plain": [
              "125"
            ]
          },
          "metadata": {
            "tags": []
          },
          "execution_count": 53
        }
      ]
    },
    {
      "cell_type": "markdown",
      "metadata": {
        "id": "Ma14j65OBGCT"
      },
      "source": [
        "**Örnek 33**<br>49’un karekökünü almak için 1/2 kuvveti alınır."
      ]
    },
    {
      "cell_type": "code",
      "metadata": {
        "id": "EpWXXnbnBIU5",
        "colab": {
          "base_uri": "https://localhost:8080/",
          "height": 34
        },
        "outputId": "8feab536-0013-492e-a435-60ccc1081196"
      },
      "source": [
        "print(49**(1/2))"
      ],
      "execution_count": null,
      "outputs": [
        {
          "output_type": "stream",
          "text": [
            "7.0\n"
          ],
          "name": "stdout"
        }
      ]
    },
    {
      "cell_type": "markdown",
      "metadata": {
        "id": "Dbag2je4r9u9"
      },
      "source": [
        "**Tam Bölüm (//) Operatörü**\n",
        "<br>**Örnek 34**<br>\n",
        "İki sayının birbirine tam bölüm sonucunu verir. Bölüm sonucu ondalıklı sayı ise ondalıklı kısmını almaz."
      ]
    },
    {
      "cell_type": "code",
      "metadata": {
        "id": "QUrHpECjp3D-",
        "colab": {
          "base_uri": "https://localhost:8080/",
          "height": 34
        },
        "outputId": "812c4c3d-dfef-4d1d-f654-002144dd51ea"
      },
      "source": [
        "print (121.00//3)"
      ],
      "execution_count": null,
      "outputs": [
        {
          "output_type": "stream",
          "text": [
            "40.0\n"
          ],
          "name": "stdout"
        }
      ]
    },
    {
      "cell_type": "markdown",
      "metadata": {
        "id": "26IkZaAqsT8Z"
      },
      "source": [
        "**Mod Alma (%) Operatörü** \n",
        "<br>**Örnek 35**<br>\n",
        "Bir sayının diğer bir sayıya bölümünden kalanını verir."
      ]
    },
    {
      "cell_type": "code",
      "metadata": {
        "id": "kaQTvHfhmCjk",
        "colab": {
          "base_uri": "https://localhost:8080/",
          "height": 51
        },
        "outputId": "24ef3fd1-2ade-4aed-965c-745ea477213d"
      },
      "source": [
        "print (5%3) #Sayının 3 ile bölümünden kalan.\n",
        "print (9%2) #Kalan 0 ise sayı çifttir."
      ],
      "execution_count": null,
      "outputs": [
        {
          "output_type": "stream",
          "text": [
            "2\n",
            "1\n"
          ],
          "name": "stdout"
        }
      ]
    },
    {
      "cell_type": "markdown",
      "metadata": {
        "id": "cGTkUYU26Niw"
      },
      "source": [
        "**Eşittir (==) Operaötürü**\n",
        "<br>**Örnek 36**<br>\n",
        "“==” operatörü iki değerin birbirine eşit olup olmadığını anlamak için kullanılır. İki değer birbirine\n",
        "eşitse “True”, eşit değilse “False” değeri verir."
      ]
    },
    {
      "cell_type": "code",
      "metadata": {
        "id": "6XwpbZaqzd9h",
        "colab": {
          "base_uri": "https://localhost:8080/",
          "height": 68
        },
        "outputId": "5ea690ae-6e5b-4633-9802-cfe4c6f4ad39"
      },
      "source": [
        "print(5==3)\n",
        "#değişkenlere atadığımız değerleri de aynı şekilde kontrol edebiliriz\n",
        "sayi1=5\n",
        "sayi2=3\n",
        "print(sayi1==sayi2)\n",
        "print(sayi1==5)"
      ],
      "execution_count": null,
      "outputs": [
        {
          "output_type": "stream",
          "text": [
            "False\n",
            "False\n",
            "True\n"
          ],
          "name": "stdout"
        }
      ]
    },
    {
      "cell_type": "markdown",
      "metadata": {
        "id": "kK16oRvS6v9v"
      },
      "source": [
        "<br>**Örnek 37**<br>“==” Operatörü karakter dizilerinde de değerlerin eşitliğini kontrol etmek için kullanılır."
      ]
    },
    {
      "cell_type": "code",
      "metadata": {
        "id": "HB5SCGahx9QF",
        "colab": {
          "base_uri": "https://localhost:8080/",
          "height": 68
        },
        "outputId": "61bbefba-cab1-4d3b-f7e2-c1c101427ce5"
      },
      "source": [
        "print('Emre'=='emre')\n",
        "# Küçük büyük harf duyarlılığına (case sensetive) dikkat edin.\n",
        "metin1='Emre'\n",
        "metin2='emre'\n",
        "print(metin1==metin2)\n",
        "print(metin1=='Emre')"
      ],
      "execution_count": null,
      "outputs": [
        {
          "output_type": "stream",
          "text": [
            "False\n",
            "False\n",
            "True\n"
          ],
          "name": "stdout"
        }
      ]
    },
    {
      "cell_type": "markdown",
      "metadata": {
        "id": "dettUzM_66lo"
      },
      "source": [
        "**Eşit değildir (!=) Operaötürü**\n",
        "<br>**Örnek 38**<br>\n",
        "!=” operatörü iki değerin birbirinden farklı olup olmadığını anlamak için kullanılır. “==” operatörü-\n",
        "nün tersine değerler birbirine eşitse “False”, eşit değilse “True” değerini döndürür."
      ]
    },
    {
      "cell_type": "code",
      "metadata": {
        "id": "Cs7Rjg-7xSst",
        "colab": {
          "base_uri": "https://localhost:8080/",
          "height": 68
        },
        "outputId": "03630493-7565-4e28-ad41-9848bf688488"
      },
      "source": [
        "print(5!=3)\n",
        "sayi1=5\n",
        "sayi2=3\n",
        "print(sayi1!=sayi2)\n",
        "print(sayi1!=5)\n",
        "# Çıktıların == operatörünün tersi olduğuna dikkat edin!"
      ],
      "execution_count": null,
      "outputs": [
        {
          "output_type": "stream",
          "text": [
            "True\n",
            "True\n",
            "False\n"
          ],
          "name": "stdout"
        }
      ]
    },
    {
      "cell_type": "markdown",
      "metadata": {
        "id": "aC1N_Sgt7OnH"
      },
      "source": [
        "**Örnek 39**<br>\n",
        "\"!=” operatörü karakter dizilerinde de değerlerin farklılığını kontrol etmek için kullanılır"
      ]
    },
    {
      "cell_type": "code",
      "metadata": {
        "id": "xiTTEz8W51Mg",
        "colab": {
          "base_uri": "https://localhost:8080/",
          "height": 68
        },
        "outputId": "538abe50-1a01-44ff-aa76-03210475f66a"
      },
      "source": [
        "print('Emre'!='emre')\n",
        "# Küçük büyük harf duyarlılığına (case sensetive) dikkat edin.\n",
        "metin1='Emre'\n",
        "metin2='emre'\n",
        "print(metin1!=metin2)\n",
        "print(metin1!='Emre')\n",
        "# Çıktıların == operatörünün tersi olduğuna dikkat edin!"
      ],
      "execution_count": null,
      "outputs": [
        {
          "output_type": "stream",
          "text": [
            "True\n",
            "True\n",
            "False\n"
          ],
          "name": "stdout"
        }
      ]
    },
    {
      "cell_type": "markdown",
      "metadata": {
        "id": "DHKZ_1HG8rPN"
      },
      "source": [
        "**Büyüktür (>) Operatörü**<br>\n",
        ">**Örnek 40**<br>\n",
        "Büyüktür “>” operatörü iki değeri karşılaştırmak için kullanılır. 1. sayı 2. sayıdan büyükse “True” değilse\n",
        "“False” değerini döndürür."
      ]
    },
    {
      "cell_type": "code",
      "metadata": {
        "id": "iTZMKC7H6KUn",
        "colab": {
          "base_uri": "https://localhost:8080/",
          "height": 34
        },
        "outputId": "5d727df5-bd3c-452a-86b8-e75b8b1fe1b4"
      },
      "source": [
        "sayi1=6.06\n",
        "sayi2=6.07\n",
        "print(sayi1>sayi2)"
      ],
      "execution_count": null,
      "outputs": [
        {
          "output_type": "stream",
          "text": [
            "False\n"
          ],
          "name": "stdout"
        }
      ]
    },
    {
      "cell_type": "markdown",
      "metadata": {
        "id": "w7F7E1pFLUPh"
      },
      "source": [
        "“sayi2” değişkenine yeni bir değer atandığını gözden kaçırmayınız."
      ]
    },
    {
      "cell_type": "code",
      "metadata": {
        "id": "WukplzACLa3N"
      },
      "source": [
        "sayi2=6\n",
        "print (sayi1>sayi2)\n",
        "sayi2=6.06\n",
        "print(sayi1>sayi2)"
      ],
      "execution_count": null,
      "outputs": []
    },
    {
      "cell_type": "markdown",
      "metadata": {
        "id": "O83Hbnis9iQt"
      },
      "source": [
        "**Küçüktür (<) Operatörü**\n",
        "<br>**Örnek 41**<br>\n",
        "Küçüktür “<” operatörü iki değeri karşılaştırmak için kullanılır. 1. sayı 2. sayıdan küçükse “True” değilse\n",
        "“False” değerini döndürür. Büyüktür operatörünün tersi işlevini görür."
      ]
    },
    {
      "cell_type": "code",
      "metadata": {
        "id": "TkbMbtGTN94I",
        "colab": {
          "base_uri": "https://localhost:8080/",
          "height": 34
        },
        "outputId": "9b4410a4-76d2-4f59-8e4f-e5ec2deefe50"
      },
      "source": [
        "sayi1=6.06\n",
        "sayi2=6.07\n",
        "print(sayi1<sayi2)\n",
        "#Kitapta çıktı yanlışlıkla \"False\" olarak verilmiştir."
      ],
      "execution_count": null,
      "outputs": [
        {
          "output_type": "stream",
          "text": [
            "True\n"
          ],
          "name": "stdout"
        }
      ]
    },
    {
      "cell_type": "markdown",
      "metadata": {
        "id": "obgtuYxI8Pgq"
      },
      "source": [
        "Programa devam edelim. “sayi2” değişkenine yeni bir değer atandığını gözden kaçırmayınız.\n"
      ]
    },
    {
      "cell_type": "code",
      "metadata": {
        "id": "d-ggc5sP8Qk-",
        "colab": {
          "base_uri": "https://localhost:8080/",
          "height": 51
        },
        "outputId": "d1a93a8b-cfa5-456a-85d4-18c566c1416e"
      },
      "source": [
        "sayi2=6\n",
        "print (sayi1<sayi2)\n",
        "sayi2=6.06\n",
        "print(sayi1<sayi2)"
      ],
      "execution_count": null,
      "outputs": [
        {
          "output_type": "stream",
          "text": [
            "True\n",
            "True\n"
          ],
          "name": "stdout"
        }
      ]
    },
    {
      "cell_type": "markdown",
      "metadata": {
        "id": "qHF2EbxREbRp"
      },
      "source": [
        "Karakter dizileri, alfabetik olarak sıralandığında sonra gelen ifade daha büyük olarak değerlendirilir."
      ]
    },
    {
      "cell_type": "code",
      "metadata": {
        "id": "b6MDf3MkCmMo",
        "colab": {
          "base_uri": "https://localhost:8080/",
          "height": 51
        },
        "outputId": "8fbb7a85-9dcb-4887-c51b-9bc82edb85d8"
      },
      "source": [
        "print ('z'>'a')\n",
        "print ('a'<'z')"
      ],
      "execution_count": null,
      "outputs": [
        {
          "output_type": "stream",
          "text": [
            "True\n",
            "True\n"
          ],
          "name": "stdout"
        }
      ]
    },
    {
      "cell_type": "markdown",
      "metadata": {
        "id": "gdBN_rQ596nH"
      },
      "source": [
        "**Büyük Eşittir (>=) ve Küçük Eşittir Operatörleri**\n",
        "<br>**Örnek 42**<br>\n",
        "Büyük Eşittir (>=) ve Küçük Eşittir (<=) Operatörleri kullanımı:"
      ]
    },
    {
      "cell_type": "code",
      "metadata": {
        "id": "r8I3awq5S87A",
        "colab": {
          "base_uri": "https://localhost:8080/",
          "height": 119
        },
        "outputId": "7b136f8b-7dee-4c6a-f376-94ef4d5fcb03"
      },
      "source": [
        "sayi1=6.06\n",
        "sayi2=6.06\n",
        "print(sayi1>=sayi2)\n",
        "print (sayi1<=sayi2)\n",
        "#sayılar eşit olduğu için iki operatör de True değeri döndürecektir.\n",
        "sayi2=6.07\n",
        "print(sayi1>=sayi2)\n",
        "print(sayi1<=sayi2)\n",
        "#1.sayı 2. sayıdan küçük olduğu için sadece <= operatörü True değerini döndürecektir\n",
        "sayi2=6.05\n",
        "print(sayi1>=sayi2)\n",
        "print(sayi1<=sayi2)\n",
        "#sayi2 değişkeni 6.05 olduğu ve sayi1 sayi2 den büyük olacağı için sadece >= operaötürü True değeri döndürecektir. "
      ],
      "execution_count": null,
      "outputs": [
        {
          "output_type": "stream",
          "text": [
            "True\n",
            "True\n",
            "False\n",
            "True\n",
            "True\n",
            "False\n"
          ],
          "name": "stdout"
        }
      ]
    },
    {
      "cell_type": "markdown",
      "metadata": {
        "id": "gGnFtsYK-blK"
      },
      "source": [
        "**is ve is not operatörleri**\n",
        "<br>**Örnek 42**<br>"
      ]
    },
    {
      "cell_type": "code",
      "metadata": {
        "id": "ykbsbpveM7z-",
        "colab": {
          "base_uri": "https://localhost:8080/",
          "height": 51
        },
        "outputId": "d9bfc347-953c-4938-fadd-07e2ccc4d149"
      },
      "source": [
        "sayi1=5\n",
        "print (sayi1  is 5)\n",
        "print (sayi1 is not 5) #is operatörünün tersini verir"
      ],
      "execution_count": null,
      "outputs": [
        {
          "output_type": "stream",
          "text": [
            "True\n",
            "False\n"
          ],
          "name": "stdout"
        }
      ]
    },
    {
      "cell_type": "markdown",
      "metadata": {
        "id": "H9mmyCxBL6M2"
      },
      "source": [
        "**Örnek 43**<br> is operatörü karakter dizisinde de kullanılabilir."
      ]
    },
    {
      "cell_type": "code",
      "metadata": {
        "id": "MwA1QpkULnfk",
        "colab": {
          "base_uri": "https://localhost:8080/",
          "height": 68
        },
        "outputId": "b76f837a-7f2c-4476-faad-fc06573b7dde"
      },
      "source": [
        "print ('elif' is 'Elif')\n",
        "#Yukarıdaki kod için büyük harf küçük harf duyarlılığını hatırlayın.\n",
        "adi='Elif'\n",
        "print (adi is 'Elif')\n",
        "print (adi is not 'Elif') #is operatörünün tersini verir"
      ],
      "execution_count": null,
      "outputs": [
        {
          "output_type": "stream",
          "text": [
            "False\n",
            "True\n",
            "False\n"
          ],
          "name": "stdout"
        }
      ]
    },
    {
      "cell_type": "markdown",
      "metadata": {
        "id": "fEGxvmTK832O"
      },
      "source": [
        "“is” operatörü karakter dizisinde de kullanılabilir.\n"
      ]
    },
    {
      "cell_type": "code",
      "metadata": {
        "id": "6TTFUDyN84-x",
        "colab": {
          "base_uri": "https://localhost:8080/",
          "height": 68
        },
        "outputId": "aea20ee2-1404-4945-b1f2-ebbd5215328b"
      },
      "source": [
        "print ('elif' is 'Elif')\n",
        "#Yukarıdaki kod için büyük harf küçük harf duyarlılığını hatırlayınız.\n",
        "adi='Elif'\n",
        "print (adi is 'Elif')\n",
        "print (adi is not 'Elif') #is operatörünün tersini verir."
      ],
      "execution_count": null,
      "outputs": [
        {
          "output_type": "stream",
          "text": [
            "False\n",
            "True\n",
            "False\n"
          ],
          "name": "stdout"
        }
      ]
    },
    {
      "cell_type": "markdown",
      "metadata": {
        "id": "ph6oOmOZ_7vB"
      },
      "source": [
        "**in ve in not operatörleri**<br>**Örnek 44**<br>"
      ]
    },
    {
      "cell_type": "code",
      "metadata": {
        "id": "h_sqjUtjP_PC",
        "colab": {
          "base_uri": "https://localhost:8080/",
          "height": 51
        },
        "outputId": "e80cdabd-bbc6-40b1-e420-980986b44ca1"
      },
      "source": [
        "# in operatörü kullanımı\n",
        "print ('Bil' in 'Bilişim')\n",
        "# 2. karaktrer dizisi içinde 1. karakter dizisi var mı?\n",
        "print ('Bil' not in 'Bilişim')\n",
        "# in operatörünün tersi sonuç verir"
      ],
      "execution_count": null,
      "outputs": [
        {
          "output_type": "stream",
          "text": [
            "True\n",
            "False\n"
          ],
          "name": "stdout"
        }
      ]
    },
    {
      "cell_type": "markdown",
      "metadata": {
        "id": "Ouhgd5ZLMMze"
      },
      "source": [
        "Not: in operatörünün for döngüsünde farklı bir kullanımı vardır. Bu konuya döngüler konusunda yer verilmiştir."
      ]
    },
    {
      "cell_type": "markdown",
      "metadata": {
        "id": "u_TVzZhxBE-i"
      },
      "source": [
        "**Örnek 45**<br>Aşağıdaki kod ”sayi1=sayi1+3” koduyla aynı işlevi görür."
      ]
    },
    {
      "cell_type": "code",
      "metadata": {
        "id": "TCuP8G81y-iB",
        "colab": {
          "base_uri": "https://localhost:8080/",
          "height": 51
        },
        "outputId": "eeb14788-fc83-47a3-8a77-d8befc3e0dff"
      },
      "source": [
        "sayi1=5\n",
        "sayi1+=3 \n",
        "print (sayi1)\n",
        "metin1='Merhaba '\n",
        "metin1+='Mars' #metin1=metin1+\"Mars\" koduyla aynı işlevi görür.\n",
        "print(metin1)"
      ],
      "execution_count": null,
      "outputs": [
        {
          "output_type": "stream",
          "text": [
            "8\n",
            "Merhaba Mars\n"
          ],
          "name": "stdout"
        }
      ]
    },
    {
      "cell_type": "markdown",
      "metadata": {
        "id": "a5fH7ZcXB6ep"
      },
      "source": [
        "**Eksilterek  Atama Operatörünün Kullanımı**<br>\n",
        "Bir değişkenden bir sayısal değeri eksilterek sonucun aynı değişkene atanmasını sağlar.\n",
        "<br>**Örnek 46**<br>Aşağıdaki kod “sayi1=sayi1-3” koduyla aynı işlevi görür\n"
      ]
    },
    {
      "cell_type": "code",
      "metadata": {
        "id": "0O7FAibf0jgD",
        "colab": {
          "base_uri": "https://localhost:8080/",
          "height": 34
        },
        "outputId": "61881151-5be0-4696-ce3d-af48a4360eb8"
      },
      "source": [
        "sayi1=5\n",
        "sayi1-=3\n",
        "print (sayi1)"
      ],
      "execution_count": null,
      "outputs": [
        {
          "output_type": "stream",
          "text": [
            "2\n"
          ],
          "name": "stdout"
        }
      ]
    },
    {
      "cell_type": "markdown",
      "metadata": {
        "id": "rjEd5W3jCgt0"
      },
      "source": [
        "**Çarparak  Atama Operatörünün Kullanımı**<br>\n",
        "<br>**Örnek 47**<br>Aşağıdaki kod “sayi1=sayi1*3” koduyla aynı işlevi görür."
      ]
    },
    {
      "cell_type": "code",
      "metadata": {
        "id": "rQ_io5o05r23",
        "colab": {
          "base_uri": "https://localhost:8080/",
          "height": 51
        },
        "outputId": "0b62f9e4-7f6c-4f91-c209-f64a5bae8aa5"
      },
      "source": [
        "sayi1=5\n",
        "sayi1*=\n",
        "print (sayi1)\n",
        "#Aynı şekilde karakter dizilerinde de kullanılabilir.\n",
        "metin1='Merhaba '\n",
        "metin1*=3 #metin1=metin1*3 koduyla aynı işlevi görür.\n",
        "print(metin1)"
      ],
      "execution_count": null,
      "outputs": [
        {
          "output_type": "stream",
          "text": [
            "15\n",
            "Merhaba Merhaba Merhaba \n"
          ],
          "name": "stdout"
        }
      ]
    },
    {
      "cell_type": "markdown",
      "metadata": {
        "id": "tzGMA7JEC0Go"
      },
      "source": [
        "**Bölerek  Atama Operatörünün Kullanımı**\n",
        "<br>Bir değişkeni bir sayısal değer ile çarparak sonucun aynı değişkene atanmasını sağlar.<br>\n",
        "**Örnek 48**<br>Aşağıdaki kod “sayi1=sayi1/3” koduyla aynı işlevi görür.\n"
      ]
    },
    {
      "cell_type": "code",
      "metadata": {
        "id": "D0gIBn2Y5ofU",
        "colab": {
          "base_uri": "https://localhost:8080/",
          "height": 34
        },
        "outputId": "28f81858-75d4-4f78-caeb-ef3a2fcf2bd8"
      },
      "source": [
        "sayi1=5\n",
        "sayi1/=3 \n",
        "print (sayi1)"
      ],
      "execution_count": null,
      "outputs": [
        {
          "output_type": "stream",
          "text": [
            "1.6666666666666667\n"
          ],
          "name": "stdout"
        }
      ]
    },
    {
      "cell_type": "markdown",
      "metadata": {
        "id": "SOzBDEhDDVLp"
      },
      "source": [
        "**Kuvvet Alarak  Atama Operatörünün Kullanımı** <br>**Örnek 49**<br>Aşağıdaki kod “sayi1=sayi1**3” koduyla aynı işlevi görür."
      ]
    },
    {
      "cell_type": "code",
      "metadata": {
        "id": "rrNpy0yY9RzA",
        "colab": {
          "base_uri": "https://localhost:8080/",
          "height": 34
        },
        "outputId": "55bb506f-a87f-45c3-ab12-513cde49dc08"
      },
      "source": [
        "sayi1=5\n",
        "sayi1**=3 \n",
        "print (sayi1)"
      ],
      "execution_count": null,
      "outputs": [
        {
          "output_type": "stream",
          "text": [
            "125\n"
          ],
          "name": "stdout"
        }
      ]
    },
    {
      "cell_type": "markdown",
      "metadata": {
        "id": "vFj4r_MNJWK1"
      },
      "source": [
        "**Tam Sayı Bölerek Atama Operaötürünün Kullanımı**<br>\n",
        "**Örnek 50**<br> Aşağıdaki kod sayi1=sayi1//3 koduyla aynı işlevi görür."
      ]
    },
    {
      "cell_type": "code",
      "metadata": {
        "id": "4071X1X19ZWJ",
        "colab": {
          "base_uri": "https://localhost:8080/",
          "height": 34
        },
        "outputId": "f440dc51-d018-488b-8b35-0280ee3c38b9"
      },
      "source": [
        "sayi1=5\n",
        "sayi1//=3\n",
        "print (sayi1)"
      ],
      "execution_count": null,
      "outputs": [
        {
          "output_type": "stream",
          "text": [
            "1\n"
          ],
          "name": "stdout"
        }
      ]
    },
    {
      "cell_type": "markdown",
      "metadata": {
        "id": "jURD81gQJ4DO"
      },
      "source": [
        "**Mod Alarak Atama Operaötürünün Kullanımı** <br>**Örnek 51**<br>Aşağıdaki kod sayi1=sayi1%3 koduyla aynı işlevi görür."
      ]
    },
    {
      "cell_type": "code",
      "metadata": {
        "id": "iylAD7o5994i",
        "colab": {
          "base_uri": "https://localhost:8080/",
          "height": 34
        },
        "outputId": "6d8cd9e0-65c4-4157-8ea9-59b761c173c9"
      },
      "source": [
        "sayi1=5\n",
        "sayi1%=3 \n",
        "print (sayi1)"
      ],
      "execution_count": null,
      "outputs": [
        {
          "output_type": "stream",
          "text": [
            "2\n"
          ],
          "name": "stdout"
        }
      ]
    },
    {
      "cell_type": "markdown",
      "metadata": {
        "id": "dT5XvTh_Jrsj"
      },
      "source": [
        "**Mantıksal Operatörler**\n",
        "<br>**Örnek 52**<br>\n",
        "**\"or\" Operatörü**\n"
      ]
    },
    {
      "cell_type": "code",
      "metadata": {
        "id": "uLtpQTsL_U0E",
        "colab": {
          "base_uri": "https://localhost:8080/",
          "height": 85
        },
        "outputId": "be73ddc1-c3d1-4e3c-fb29-354bde157ccc"
      },
      "source": [
        "sayi1=5\n",
        "#or operatörü kullanımı\n",
        "print (sayi1<6 or sayi1>10) \n",
        "adi='Mehmet'\n",
        "print (adi=='Mehmet' or adi=='Ali')\n",
        "#Adı Mehmet veya Ali ise True değerini döndürür.\n",
        "meslekUnvani='Mühendis'\n",
        "print (meslekUnvani=='Öğretmen' or meslek=='Doktor')\n",
        "#Meslek ünvanı Öğretmen veya Doktor olmadığı için False döndürür \n",
        "print (meslekUnvani=='Öğretmen' or meslekUnvani=='Doktor' or meslekUnvani=='Mühendis')\n",
        "#Meslek Ünvanı Öğretmen veya Doktor veya Mühendis'ten biri ise True değeri döndürür.\n",
        "# İkiden fazla koşul için de kullanılabilir."
      ],
      "execution_count": null,
      "outputs": [
        {
          "output_type": "stream",
          "text": [
            "True\n",
            "True\n",
            "False\n",
            "True\n"
          ],
          "name": "stdout"
        }
      ]
    },
    {
      "cell_type": "markdown",
      "metadata": {
        "id": "jDOZM6RZE9QL"
      },
      "source": [
        "**and Operatörü**<br>\n",
        "**Örnek 53**<br>"
      ]
    },
    {
      "cell_type": "code",
      "metadata": {
        "id": "64G5w3m8BEDi",
        "colab": {
          "base_uri": "https://localhost:8080/",
          "height": 85
        },
        "outputId": "8c0bf1c5-20ed-4b64-e9ac-83270e5d3bf4"
      },
      "source": [
        "ogrenciDersPuani=50\n",
        "print ( ogrenciDersPuani>50 and ogrenciDersPuani<60) \n",
        "#Bu iki koşulu da sağlıyorsa True değeri döndürür. Öğrencinin ders puanı 50 ile 60 aralığındadır.\n",
        "#Ve anlamındadır\n",
        "adi='Mehmet'\n",
        "yasi=24\n",
        "print (adi=='Mehmet' and yasi>=20)\n",
        "#Adı Mehmet ve yaşı en az 20 ise True değerini döndürür.\n",
        "meslekUnvani='Mühendis'\n",
        "askerlikDurumu='Yaptı'\n",
        "isTecrubeYil=2\n",
        "print (meslekUnvani=='Mühendis' and askerlikDurumu=='Yaptı')\n",
        "#Meslek ünvanı Mühendis ise ve askerliğini yapmışsa True değerini döndürür.\n",
        "print (meslekUnvani=='Mühendis' and askerlikDurumu=='Yaptı' and isTecrubeYil>=3)\n",
        "#Meslek ünvanı Mühendis ise, askerliğini yapmışsa ve en az 3 yıl iş tecrubesi varsa True değerini döndürür."
      ],
      "execution_count": null,
      "outputs": [
        {
          "output_type": "stream",
          "text": [
            "False\n",
            "True\n",
            "True\n",
            "False\n"
          ],
          "name": "stdout"
        }
      ]
    },
    {
      "cell_type": "markdown",
      "metadata": {
        "id": "GkOoUPwzGOIS"
      },
      "source": [
        "**not Operatörü**\n",
        "<br>**Örnek 54**<br>"
      ]
    },
    {
      "cell_type": "code",
      "metadata": {
        "id": "5zD0g60MGt5Y",
        "colab": {
          "base_uri": "https://localhost:8080/",
          "height": 34
        },
        "outputId": "c29b8756-bb14-411c-b5c1-a752d2ab806b"
      },
      "source": [
        "ogrenciDersPuani=50\n",
        "print(not(ogrenciDersPuani<45))\n",
        "print (ogrenciDersPuani>45) #Yukarıdaki ifadeyle aynı işlevi görür"
      ],
      "execution_count": null,
      "outputs": [
        {
          "output_type": "stream",
          "text": [
            "True\n"
          ],
          "name": "stdout"
        }
      ]
    },
    {
      "cell_type": "markdown",
      "metadata": {
        "id": "GAEAYq0ZjZ7-"
      },
      "source": [
        "**Operatörlerde Öncelik Sırası**<br>\n",
        "**Örnek 55**<br>"
      ]
    },
    {
      "cell_type": "code",
      "metadata": {
        "id": "uzX1_wcFlcHN",
        "colab": {
          "base_uri": "https://localhost:8080/",
          "height": 102
        },
        "outputId": "06ecd0db-ef58-427f-ae8e-07fc90305cae"
      },
      "source": [
        "print((3+5)*2) #Bu işlemin sonucunu tahmin edin. \n",
        "#Öncelikle parantez içi yapılacağında 8*2=16\n",
        "print (3+5*2) #Peki ya bu işlemin sonucu kaçtır. \n",
        "#Öncelikle çarpma işlemi yapılacağından 3+10=13\n",
        "print (3**2*2)\n",
        "#Üs almada bir çarpma işlemidir ancak işlemler soldan sağa yapıldığı için öncelikli olarak yapılmaktadır.\n",
        "print (6*7/7) # Bu işlemin sonucu? \n",
        "print (6*3/2+8/2*3) #Peki ya bu?\n"
      ],
      "execution_count": null,
      "outputs": [
        {
          "output_type": "stream",
          "text": [
            "16\n",
            "13\n",
            "18\n",
            "6.0\n",
            "21.0\n"
          ],
          "name": "stdout"
        }
      ]
    },
    {
      "cell_type": "markdown",
      "metadata": {
        "id": "AqBHKZIhiePQ"
      },
      "source": [
        "# Bölüm Alıştırmaları "
      ]
    },
    {
      "cell_type": "markdown",
      "metadata": {
        "id": "Y4u0NdKt03xm"
      },
      "source": [
        "1. Aşağıdaki kod çalıştırıldığında ekrana True veya False değerlerinden hangisi yazılır?"
      ]
    },
    {
      "cell_type": "code",
      "metadata": {
        "id": "4XI9D6MxHcz-",
        "colab": {
          "base_uri": "https://localhost:8080/",
          "height": 34
        },
        "outputId": "a798305c-71a7-46e7-b8a2-1131870d8b04"
      },
      "source": [
        "sayi1=8*5/2\n",
        "print (sayi1>20)"
      ],
      "execution_count": null,
      "outputs": [
        {
          "output_type": "stream",
          "text": [
            "False\n"
          ],
          "name": "stdout"
        }
      ]
    },
    {
      "cell_type": "markdown",
      "metadata": {
        "id": "Fwlprcyr1Dt5"
      },
      "source": [
        "2. Aşağıdaki kod çalıştırıldığında ekrana True veya False değerlerinden hangisi yazılır?"
      ]
    },
    {
      "cell_type": "code",
      "metadata": {
        "id": "AKiq4OIAHypz",
        "colab": {
          "base_uri": "https://localhost:8080/",
          "height": 34
        },
        "outputId": "483bd5f5-97a9-40c6-8395-ecd2a085a1b6"
      },
      "source": [
        "vizePuani=80\n",
        "finalPuani=70\n",
        "sonuc=(0.4*vizePuani)+(finalPuani*0.6)\n",
        "print (sonuc>=60)"
      ],
      "execution_count": null,
      "outputs": [
        {
          "output_type": "stream",
          "text": [
            "True\n"
          ],
          "name": "stdout"
        }
      ]
    },
    {
      "cell_type": "markdown",
      "metadata": {
        "id": "QJ8Tzv4o1Zhr"
      },
      "source": [
        "3. Aşağıdaki değişken adlandırmalarından hangisi yanlıştır?"
      ]
    },
    {
      "cell_type": "code",
      "metadata": {
        "id": "kI7_aDG8IX3W",
        "colab": {
          "base_uri": "https://localhost:8080/",
          "height": 129
        },
        "outputId": "ef25cb1a-0b37-48c4-d6df-4cc69c926c86"
      },
      "source": [
        "\n",
        "_sinav_puani1=80\n",
        "sinavPuani=90\n",
        "1sinavpuani=100\n",
        "SınavPuanı=70\n"
      ],
      "execution_count": null,
      "outputs": [
        {
          "output_type": "error",
          "ename": "SyntaxError",
          "evalue": "ignored",
          "traceback": [
            "\u001b[0;36m  File \u001b[0;32m\"<ipython-input-35-36471b2a21d1>\"\u001b[0;36m, line \u001b[0;32m3\u001b[0m\n\u001b[0;31m    1sinavpuani=100\u001b[0m\n\u001b[0m              ^\u001b[0m\n\u001b[0;31mSyntaxError\u001b[0m\u001b[0;31m:\u001b[0m invalid syntax\n"
          ]
        }
      ]
    },
    {
      "cell_type": "markdown",
      "metadata": {
        "id": "P3bB4JJf1hPH"
      },
      "source": [
        "4. Aşağıdaki kod çalıştırıldığında ekrana hangi değişken tipi yazılır?\n"
      ]
    },
    {
      "cell_type": "code",
      "metadata": {
        "id": "kV3k91cY10bW",
        "colab": {
          "base_uri": "https://localhost:8080/",
          "height": 34
        },
        "outputId": "4883cc3c-b735-43f4-c84b-2feaf54455ff"
      },
      "source": [
        "plaka='06'\n",
        "print(type(plaka))"
      ],
      "execution_count": null,
      "outputs": [
        {
          "output_type": "stream",
          "text": [
            "<class 'str'>\n"
          ],
          "name": "stdout"
        }
      ]
    },
    {
      "cell_type": "markdown",
      "metadata": {
        "id": "evw3WooK2STO"
      },
      "source": [
        "5. Aşağıdaki kod çalıştırıldığında ekrana ne yazılır?\n"
      ]
    },
    {
      "cell_type": "code",
      "metadata": {
        "id": "7iHuJcvd2e99",
        "colab": {
          "base_uri": "https://localhost:8080/",
          "height": 34
        },
        "outputId": "9e50c518-d68a-4a33-ae1e-62d28d51de42"
      },
      "source": [
        "#sehir='Ankara'\n",
        "sehir='İstanbul'\n",
        "print ('Şehir: ', sehir)"
      ],
      "execution_count": null,
      "outputs": [
        {
          "output_type": "stream",
          "text": [
            "Şehir:  İstanbul\n"
          ],
          "name": "stdout"
        }
      ]
    },
    {
      "cell_type": "markdown",
      "metadata": {
        "id": "mqXJ2kEm20jL"
      },
      "source": [
        "6. Aşağıdaki kod çalıştırıldığında ekrana ne yazılır?\n"
      ]
    },
    {
      "cell_type": "code",
      "metadata": {
        "id": "OMc5yvg724Yv",
        "colab": {
          "base_uri": "https://localhost:8080/",
          "height": 51
        },
        "outputId": "77a42f9e-e1bb-4132-8822-3b173cf7dcb6"
      },
      "source": [
        "sehir='Ankara'\n",
        "sehir='İstanbul'\n",
        "print (sehir!='istanbul') #operatöre dikkat\n",
        "#Büyük harf küçük harf duyarlılığına dikkat\n",
        "print (sehir=='İstanbul')"
      ],
      "execution_count": null,
      "outputs": [
        {
          "output_type": "stream",
          "text": [
            "True\n",
            "True\n"
          ],
          "name": "stdout"
        }
      ]
    },
    {
      "cell_type": "markdown",
      "metadata": {
        "id": "Rj-WF0Ui3maa"
      },
      "source": [
        "7. Veliye öğrencisinin devamsızlığını bildiren mesaj metni yazan kodları yazınız. Veli adını soyadını, mesajın içeriğini, devamsızlık süresini ayrı değişkenlere atayarak mesajda . Sn..... .......öğrencinizin toplam devamsızlığı .... gündür.\n",
        "Python Lisesi \n"
      ]
    },
    {
      "cell_type": "code",
      "metadata": {
        "id": "x3YrZ6UT5oOU",
        "colab": {
          "base_uri": "https://localhost:8080/",
          "height": 34
        },
        "outputId": "4ba91457-7f16-4ab2-a40e-1f77ec0a0be3"
      },
      "source": [
        "onMesaj=\"Sayın \"\n",
        "veliAdi='Murat KARA'\n",
        "mesajMetni =\" öğrencinizin toplam devamsızlığı : \"\n",
        "devamsizlik='19.5'\n",
        "veliMesaj=(onMesaj+veliAdi+mesajMetni+devamsizlik+' gün Python lisesi ')\n",
        "print(veliMesaj)"
      ],
      "execution_count": null,
      "outputs": [
        {
          "output_type": "stream",
          "text": [
            "Sayın Murat KARA öğrencinizin toplam devamsızlığı : 19.5 gün Python lisesi \n"
          ],
          "name": "stdout"
        }
      ]
    },
    {
      "cell_type": "markdown",
      "metadata": {
        "id": "tRBDEGkM7VLh"
      },
      "source": [
        "8. Tüketiciye su faturasını bildiren mesaj metni oluşturan kodları yazınız.<br>\n",
        "Kullanıcıya fatura tutarını belirten mesajda kullanılacak değişkenler: Hitap şekli, abone numarası, tüketim dönemi, tüketim tutarı*1.\n",
        "<br>\n",
        "Sayın ...nolu abonemiz .................. dönemi faturanız ...... TL'dir.   Python Belediyesi"
      ]
    },
    {
      "cell_type": "code",
      "metadata": {
        "id": "xHGkmgqQ3nEH",
        "colab": {
          "base_uri": "https://localhost:8080/",
          "height": 34
        },
        "outputId": "8f554155-66a5-406f-d29a-d7aedaaf8233"
      },
      "source": [
        "onMesaj=\"Sayın \"\n",
        "mesajSonu=\" Mayıs 2020 dönemi faturanız : \"\n",
        "aboneNo=\"29101923\"\n",
        "tuketim=20\n",
        "tuketimTutari=int(tuketim)*1.0\n",
        "mesaj=onMesaj+str(aboneNo)+' nolu abonemiz ' + mesajSonu+str(tuketimTutari)+\" TL' dir. Python Belediyesi\"\n",
        "print(mesaj)"
      ],
      "execution_count": null,
      "outputs": [
        {
          "output_type": "stream",
          "text": [
            "Sayın 29101923 nolu abonemiz  Mayıs 2020 dönemi faturanız : 20.0 TL' dir. Python Belediyesi\n"
          ],
          "name": "stdout"
        }
      ]
    }
  ]
}