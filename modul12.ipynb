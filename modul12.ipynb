{
  "nbformat": 4,
  "nbformat_minor": 0,
  "metadata": {
    "colab": {
      "name": "modul12",
      "provenance": [],
      "collapsed_sections": []
    },
    "kernelspec": {
      "name": "python3",
      "display_name": "Python 3"
    }
  },
  "cells": [
    {
      "cell_type": "markdown",
      "metadata": {
        "id": "bncCQ9idTzjL"
      },
      "source": [
        "**<h>Modül 12 <br>\n",
        "Dosyalarla Çalışmak</h>**"
      ]
    },
    {
      "cell_type": "markdown",
      "metadata": {
        "id": "UKnd7S9ZrAQB"
      },
      "source": [
        "Örnek 1: Dosyayı okuma kipinde açma:\n",
        "\n"
      ]
    },
    {
      "cell_type": "code",
      "metadata": {
        "id": "g_c91PWxq--W",
        "colab": {
          "base_uri": "https://localhost:8080/",
          "height": 34
        },
        "outputId": "f2fc2e41-3e2e-4d88-d12f-b1eaecbe5826"
      },
      "source": [
        "dosya = open (\"deneme.txt\",\"r\")\n",
        "belge=dosya.read()\n",
        "print (belge)\n",
        "dosya.close()\n"
      ],
      "execution_count": null,
      "outputs": [
        {
          "output_type": "stream",
          "text": [
            "bu metin dosyanın sonuna yazıldı\n"
          ],
          "name": "stdout"
        }
      ]
    },
    {
      "cell_type": "markdown",
      "metadata": {
        "id": "bfMI1qcvrIe_"
      },
      "source": [
        "Örnek 2: Dosyayı yazma kipinde açma:\n",
        "\n"
      ]
    },
    {
      "cell_type": "code",
      "metadata": {
        "id": "ZCOzKIUOTq-1"
      },
      "source": [
        "with open (\"deneme.txt\",\"w\") as dosya:\n",
        "    dosya.write (\"dosya silinip sıfırdan yazıldı \")\n",
        "    "
      ],
      "execution_count": null,
      "outputs": []
    },
    {
      "cell_type": "markdown",
      "metadata": {
        "id": "6EnoJicmsFsg"
      },
      "source": [
        "Örnek 3: Dosyayı okuma ve yazma kipinde açma:\n",
        "\n",
        "\n"
      ]
    },
    {
      "cell_type": "code",
      "metadata": {
        "id": "dfg6ZfG5sLUI"
      },
      "source": [
        "dosya = open(\"deneme.txt\",\"r+\")\n",
        "belge=dosya.read()\n",
        "print(belge)\n",
        "dosya.write(\"\\n bu metin en sona eklendi\")\n",
        "dosya.close()\n"
      ],
      "execution_count": null,
      "outputs": []
    },
    {
      "cell_type": "markdown",
      "metadata": {
        "id": "1FhEFxywsPVa"
      },
      "source": [
        "Örnek 4: Dosyayı genişletme kipinde açma:\n",
        "\n"
      ]
    },
    {
      "cell_type": "code",
      "metadata": {
        "id": "J0ToDiuhsVxf"
      },
      "source": [
        "dosya = open (\"deneme.txt\",\"a\")\n",
        "dosya.write (\"bu metin dosyanın sonuna yazıldı\")\n",
        "dosya.close()\n"
      ],
      "execution_count": null,
      "outputs": []
    },
    {
      "cell_type": "markdown",
      "metadata": {
        "id": "ljTpLiVgsYkU"
      },
      "source": [
        "Örnek 5: 1’ den 1000’e kadar olan asal sayıları bulup dosyaya kaydeden program.\n",
        "\n"
      ]
    },
    {
      "cell_type": "code",
      "metadata": {
        "id": "g1Z24MiUscKi"
      },
      "source": [
        "asal_sayı=[2]\n",
        "for sayı in range (3,1001):\n",
        "    for bolen_sayı in range (2,sayı):\n",
        "        sayı_asalmı=False\n",
        "        if sayı % bolen_sayı==0:\n",
        "            sayı_asalmı=True\n",
        "            break\n",
        "    if sayı_asalmı==False:\n",
        "            asal_sayı.append(sayı)\n",
        "veri=\" \"\n",
        "for i in asal_sayı:\n",
        "    veri+=str(i) # veri=veri+str(i)\n",
        "    veri+=\" \"\n",
        "dosya=open (\"asalsayı.txt\",\"w\")\n",
        "dosya.write(veri)\n",
        "dosya.close()\n"
      ],
      "execution_count": null,
      "outputs": []
    },
    {
      "cell_type": "markdown",
      "metadata": {
        "id": "8FZnUnOysfIP"
      },
      "source": [
        "Örnek 6: girilen sayının asal olup olmadığını dosyadan karşılaştıran program\n",
        "\n"
      ]
    },
    {
      "cell_type": "code",
      "metadata": {
        "id": "q5iEbOe4shE8",
        "colab": {
          "base_uri": "https://localhost:8080/",
          "height": 51
        },
        "outputId": "e3982bef-9973-4f72-fb85-c6f8c9dd27c0"
      },
      "source": [
        "with open(\"asalsayı.txt\",\"r\") as dosya :\n",
        "    veri=dosya.read()\n",
        "    asal_sayılar=veri.split(\" \")\n",
        "kontrol_sayısı=input(\"asal olup olmadığını kontrol etmek istediğiniz sayıyı giriniz\")\n",
        "if kontrol_sayısı in asal_sayılar :\n",
        "    print(\"asal sayı\")\n",
        "else:\n",
        "    print(\"asal sayı değil\")\n"
      ],
      "execution_count": null,
      "outputs": [
        {
          "output_type": "stream",
          "text": [
            "asal olup olmadığını kontrol etmek istediğiniz sayıyı giriniz24\n",
            "asal sayı değil\n"
          ],
          "name": "stdout"
        }
      ]
    },
    {
      "cell_type": "markdown",
      "metadata": {
        "id": "Of2Aw0QNsjY3"
      },
      "source": [
        "Örnek 7: Rezervasyon yapma ve rezervasyon kaydını kontrol eden program\n"
      ]
    },
    {
      "cell_type": "code",
      "metadata": {
        "id": "niYLupcfsmhm",
        "colab": {
          "base_uri": "https://localhost:8080/",
          "height": 119
        },
        "outputId": "3aa5f598-550e-4ae6-dc70-e29e9bcaf24c"
      },
      "source": [
        "def rezerevasyon_yap():\n",
        "    rezervasyon_bilgi=input(\"rezervasyon bilgilerinizi giriniz\")\n",
        "    veri=rezervasyon_bilgi+\",\"\n",
        "    dosya=open(\"rezervasyon.txt\",\"a\")\n",
        "    dosya.write(veri)\n",
        "    dosya.close()\n",
        "\n",
        "def rezerevasyon_kontrol() :\n",
        "    rezervasyon_bilgi=input(\"rezervasyon bilgilerinizi giriniz\")\n",
        "    with open(\"rezervasyon.txt\",\"r\") as dosya:\n",
        "        veri=dosya.read()\n",
        "        rezervasyonlar=veri.split(\",\")\n",
        "        if rezervasyon_bilgi in rezervasyonlar:\n",
        "            print(\"rezervasyonunuz bulunmaktadır.\")\n",
        "        else:\n",
        "            print(\"rezervasyon kaydınız yoktur.\")\n",
        "        \n",
        "while True:\n",
        "    islem=input(\"rezervasyon yapmak için  1 : kontrol için 2 programı kapatmak için 3 e basınız\")\n",
        "    if islem==\"1\" :\n",
        "        rezerevasyon_yap()\n",
        "    elif islem ==\"2\":\n",
        "        rezerevasyon_kontrol()\n",
        "    else:\n",
        "        break\n",
        "\n"
      ],
      "execution_count": null,
      "outputs": [
        {
          "output_type": "stream",
          "text": [
            "rezervasyon yapmak için  1 : kontrol için 2 programı kapatmak için 3 e basınız1\n",
            "rezervasyon bilgilerinizi giriniznihat\n",
            "rezervasyon yapmak için  1 : kontrol için 2 programı kapatmak için 3 e basınız2\n",
            "rezervasyon bilgilerinizi giriniznihat\n",
            "rezervasyonunuz bulunmaktadır.\n",
            "rezervasyon yapmak için  1 : kontrol için 2 programı kapatmak için 3 e basınız3\n"
          ],
          "name": "stdout"
        }
      ]
    },
    {
      "cell_type": "markdown",
      "metadata": {
        "id": "Af-9JpDgspzz"
      },
      "source": [
        "Örnek 8: tell (), seek(), read(girilen bayt) ve for döngüsü ile dosya okuma örneği:\n"
      ]
    },
    {
      "cell_type": "code",
      "metadata": {
        "id": "uZdWqEmPs_4M",
        "colab": {
          "base_uri": "https://localhost:8080/",
          "height": 85
        },
        "outputId": "cee66469-88c0-4c98-effc-6700c8e63cbd"
      },
      "source": [
        "dosya=open(\"deneme.txt\",\"r\")\n",
        "# dosyamızı for döngüsü ile okuyoruz\n",
        "for veri in dosya:\n",
        "    print(veri)\n",
        "#imlecin nerede olduğunu ekrana yazdırıyoruz\n",
        "print(dosya.tell())\n",
        "# imleci 10. bayta taşıyoruz \n",
        "dosya.seek(10)\n",
        "#imlecin bulunduğu yerden 20 bayt veri okuyoruz\n",
        "print(dosya.read(20))\n",
        "#imlecin nerede olduğunu görüntülüyoruz\n",
        "print(dosya.tell())\n",
        "dosya.close()\n",
        "\n"
      ],
      "execution_count": null,
      "outputs": [
        {
          "output_type": "stream",
          "text": [
            "dosya silinip sıfırdan yazıldı \n",
            "35\n",
            "nip sıfırdan yazıldı\n",
            "34\n"
          ],
          "name": "stdout"
        }
      ]
    },
    {
      "cell_type": "markdown",
      "metadata": {
        "id": "7kpntrl9tCrJ"
      },
      "source": [
        "Örnek 9: tell (), seek(), writelines () uygulaması\n",
        "\n"
      ]
    },
    {
      "cell_type": "code",
      "metadata": {
        "id": "cr8nVDgjtTbA",
        "colab": {
          "base_uri": "https://localhost:8080/",
          "height": 51
        },
        "outputId": "3fdd9591-f2f9-41e1-823d-34844968d16c"
      },
      "source": [
        "dosya=open(\"deneme.txt\",\"r+\")\n",
        "dosya.seek(20)\n",
        "#dosyada 20. bayta gittik\n",
        "dosya.write(\"20. bayttan itibaren yazdık\")\n",
        "#20. bayttan sonraki verilerin üzerine yazdık\n",
        "print(dosya.tell())\n",
        "# imlecin 47. bayta geldiğini öğreneceğiz\n",
        "#burda dosyadan okuma yaparsak 47. bayttan sonrası okunacak\n",
        "print(dosya.read())\n",
        "# listemizdeki verileri en sona yazıyoruz\n",
        "liste=[\"1\",\"2\",\"3\",\"4\"]\n",
        "#listedeki veriler string olmazsa hata alırız.\n",
        "dosya.writelines (liste)\n"
      ],
      "execution_count": null,
      "outputs": [
        {
          "output_type": "stream",
          "text": [
            "48\n",
            "\n"
          ],
          "name": "stdout"
        }
      ]
    },
    {
      "cell_type": "markdown",
      "metadata": {
        "id": "_NUT5KBmtbYu"
      },
      "source": [
        "Örnek 10: Dosya metotları uygulaması\n",
        "\n"
      ]
    },
    {
      "cell_type": "code",
      "metadata": {
        "id": "QSplojowtczp"
      },
      "source": [
        "dosya=open(\"istiklal.txt\",\"r\",encoding=\"utf-8\")\n",
        "# readlines ile içeriği liste olarak alacam\n",
        "liste=dosya.readlines()\n",
        "# listenin uzunluğunu hesaplayarak kaç satır olduğunu ekrana yazıyorum\n",
        "print(len(liste))\n",
        "#listenin 6. satırını ekrana yazıyorum\n",
        "#listenin ilk satırının liste[0] olduğunu hatırlayın\n",
        "print(liste[5])\n",
        "#dosyada başa dönüyorum\n",
        "dosya.seek(0)\n",
        "# baştan sona satır satır okuyorum\n",
        "for satır in range(len(liste)):\n",
        "    print(dosya.readline())\n",
        "\n",
        "dosya.close()\n"
      ],
      "execution_count": null,
      "outputs": []
    },
    {
      "cell_type": "markdown",
      "metadata": {
        "id": "OferEJrxtgen"
      },
      "source": [
        "Örnek 11: Dosyanın içinde belirli yerlere veri ekleme\n",
        "\n"
      ]
    },
    {
      "cell_type": "code",
      "metadata": {
        "id": "PvMZ9CXBtkuH"
      },
      "source": [
        "dosya=open(\"istiklal.txt\",\"r+\",encoding=\"utf-8\")\n",
        "# readlines ile içeriği liste olarak alacam\n",
        "liste=dosya.readlines()\n",
        "print(len(liste))\n",
        "# her 4 kıtadan sonra araya bir satır çizgi ekliyoruz\n",
        "# listeye 4 satırda bir ek satır eklediğimden beşer beşer ilerleyeceğim\n",
        "eklenecek_satır=30*\"-\"+\"\\n\"\n",
        "for  ekle in range(4,52,5):\n",
        "        liste.insert(ekle,eklenecek_satır)\n",
        "# dosyada başa gelecem\n",
        "dosya.seek(0)\n",
        "# çizgi eklenmiş listeyi yazdıracağım\n",
        "dosya.writelines(liste)\n",
        "dosya.seek(0)\n",
        "yeni_liste=dosya.readlines()\n",
        "print(yeni_liste)\n",
        "dosya.close()"
      ],
      "execution_count": null,
      "outputs": []
    },
    {
      "cell_type": "markdown",
      "metadata": {
        "id": "pbkKfn69uGyH"
      },
      "source": [
        "Örnek 12: Rezervasyon kapasite kontrolü uygulaması\n",
        "\n"
      ]
    },
    {
      "cell_type": "code",
      "metadata": {
        "id": "tF7NhMpHuHnY"
      },
      "source": [
        "dosya=open(\"rezervasyon.txt\",\"r+\",encoding=\"utf-8\")\n",
        "rezervasyonlar=dosya.readlines()\n",
        "rezervasyon_kapasitesi=50\n",
        "sıra_no=1\n",
        "for rezervasyon_sahibi in rezervasyonlar:\n",
        "    print(sıra_no,\"nolu rezervasyon sahibi\",rezervasyon_sahibi)\n",
        "    sıra_no+=1\n",
        "print(\"toplam\",sıra_no,\"adet rezervasyon var\")\n",
        "if rezervasyon_kapasitesi-sıra_no >0 :\n",
        "    print(rezervasyon_kapasitesi-sıra_no,\"adet daha  rezervasyon yapabiliriz\")\n",
        "else:\n",
        "    print(\"rezervasyon kapasitemiz dolmuştur.\")\n",
        "dosya.close ()\n"
      ],
      "execution_count": null,
      "outputs": []
    },
    {
      "cell_type": "markdown",
      "metadata": {
        "id": "Ai5FDaqLuLl_"
      },
      "source": [
        "Örnek 13: Özel fonksiyonlar ile rezervasyon yapma uygulaması\n",
        "\n"
      ]
    },
    {
      "cell_type": "code",
      "metadata": {
        "id": "3e2hB8rYuMvV"
      },
      "source": [
        "def rezervasyon_yap():\n",
        "    rezervasyon_kapasitesi=50\n",
        "     dosya=open(\"rezervasyon.txt\",\"r+\", encoding=\"utf-8\")\n",
        "    rezervasyonlar=dosya.readlines()\n",
        "    mecut_rezervasyon=len(rezervasyonlar)\n",
        "    if rezervasyon_kapasitesi-mecut_rezervasyon >0 :\n",
        "        print(rezervasyon_kapasitesi-mecut_rezervasyon,\"adet daha  rezervasyon yapabiliriz\")\n",
        "        yeni_rezervasyon=input(\"rezervasyon bilgilerini araya virgül girerek giriniz\")\n",
        "        dosya.write(\"\\n\"+yeni_rezervasyon )\n",
        "        print(\"rezervasyon numaranız =\",mecut_rezervasyon+1,end=\"\")\n",
        "        print(\"rezervasyon bilgileriniz : \",yeni_rezervasyon)\n",
        "        print(\"razervasyonunuz başarıya tamamlanmıştır.\")\n",
        "    else:\n",
        "        print(\"rezervasyon kapasitemiz dolmuştur.\")\n",
        "      dosya.close()\n",
        "  \n",
        "print(\"rezervasyon ekranına hoş geldiniz\")\n",
        "rezervasyon_yap()\n"
      ],
      "execution_count": null,
      "outputs": []
    },
    {
      "cell_type": "markdown",
      "metadata": {
        "id": "iKHde_IYuQrC"
      },
      "source": [
        "Örnek 14: Rezervasyon güncelleme uygulaması\n",
        "\n"
      ]
    },
    {
      "cell_type": "code",
      "metadata": {
        "id": "E0pHh3xHuUeu"
      },
      "source": [
        "def rezervasyon_güncelle(rezervasyon_no):\n",
        "    dosya=open(\"rezervasyon.txt\",\"r+\",encoding=\"utf-8\")\n",
        "    rezervasyonlar=dosya.readlines()\n",
        "    if rezervasyon_no <len(rezervasyonlar):\n",
        "        print(\"rezervason bilgileriniz: \",rezervasyonlar[rezervasyon_no])    \n",
        "        güncelleme=input(\" lütfen rezervasyon güncelleme bilgilerini giriniz\")\n",
        "        rezervasyonlar[rezervasyon_no]=güncelleme+\"\\n\"\n",
        "        print(\" güncel rezervason bilgileriniz: \",rezervasyonlar[rezervasyon_no]) \n",
        "        dosya.seek(0)\n",
        "        dosya.writelines(rezervasyonlar)\n",
        "        dosya.close()\n",
        "        print(\"rezervasonunuz başarıyla güncellenmişitir.\")\n",
        "\n",
        "    else:\n",
        "        print(\"hatalı bir rezervason numarası girdiniz\")\n",
        " \n",
        "print(\"rezervasyon güncelleme ekranına hoş geldiniz\")\n",
        "rezervasyon_no=input(\"lütfen rezervasyon numaranızı giriniz\")\n",
        "rezervasyon_güncelle (int(rezervasyon_no))\n"
      ],
      "execution_count": null,
      "outputs": []
    },
    {
      "cell_type": "markdown",
      "metadata": {
        "id": "T2ptZ0ARuXEt"
      },
      "source": [
        "Örnek 15: Rezervasyon silme uygulaması\n",
        "\n"
      ]
    },
    {
      "cell_type": "code",
      "metadata": {
        "id": "cJHU67VfuZl4"
      },
      "source": [
        "def rezervasyon_sil(rezervasyon_no):\n",
        "    dosya=open(\"rezervasyon.txt\",\"r+\",encoding=\"utf-8\")\n",
        "    rezervasyonlar=dosya.readlines()\n",
        "    if rezervasyon_no <len(rezervasyonlar):\n",
        "        print(\"rezervason bilgileriniz: \",rezervasyonlar[rezervasyon_no])\n",
        "        emin_misiniz=input(\"kaydı silmek istediğinziden emin misiniz e/h\")\n",
        "        if emin_misiniz==\"e\" or emin_misiniz==\"E\":\n",
        "            rezervasyonlar.pop(rezervasyon_no)\n",
        "            dosya.seek(0)\n",
        "            dosya.writelines(rezervasyonlar)\n",
        "            dosya.close()\n",
        "            print(\"rezervasonunuz başarıyla güncellenmişitir.\")\n",
        "\n",
        "        else:\n",
        "            print(\"rezervasyon silme işleminiz iptal edilmişitir\")\n",
        "\n",
        "    else:\n",
        "        print(\"hatalı bir rezervason numarası girdiniz\")\n",
        "     \n",
        "print(\"rezervasyon silme ekranına hoşgeldiniz\")\n",
        "rezervasyon_no=input(\"lütfen rezervasyon numaranızı giriniz\")\n",
        "rezervasyon_sil(int(rezervasyon_no))\n"
      ],
      "execution_count": null,
      "outputs": []
    },
    {
      "cell_type": "markdown",
      "metadata": {
        "id": "1i0ox-b2urTZ"
      },
      "source": [
        "12.6 Bölüm Sonu Örnekleri\n",
        "1. Elli adet rastgele sayı üretip sayı.txt dosyasına kaydeden program uygulaması\n",
        "2. Rastgele üretilen sayıları alıp büyükten küçüğe doğru sıralayıp sıralı.txt dosyasına kaydeden program uygulaması\n"
      ]
    },
    {
      "cell_type": "markdown",
      "metadata": {
        "id": "G-KyvtU-kT7T"
      },
      "source": [
        "Cevap -1\n"
      ]
    },
    {
      "cell_type": "code",
      "metadata": {
        "id": "KY7TeD-akMON"
      },
      "source": [
        "import random\n",
        "sayılar=[]\n",
        "for i in range (50):\n",
        "    sayı=str(random.randint(0,1000))+\"\\n\"\n",
        "    sayılar.append(sayı)\n",
        "\n",
        "dosya=open(\"sayı.txt\",\"w\")\n",
        "dosya.writelines(sayılar)\n",
        "dosya.close() \n"
      ],
      "execution_count": null,
      "outputs": []
    },
    {
      "cell_type": "markdown",
      "metadata": {
        "id": "EafyaqxwkWU-"
      },
      "source": [
        "cevap-2"
      ]
    },
    {
      "cell_type": "code",
      "metadata": {
        "id": "b8FNt_18kcQC"
      },
      "source": [
        "dosya=open(\"sayı.txt\",\"r\")\n",
        "sayılar=dosya.readlines()\n",
        "dosya.close()\n",
        "# sayıları string olarak aldık sayıya dönüştürüp sıralayıp tekrardan stringe dönüştüreceğiz\n",
        "for i in range(len(sayılar)):\n",
        "    sayılar[i]=int (sayılar[i])\n",
        "\n",
        "sayılar.sort()\n",
        "for i in range(len(sayılar)):\n",
        "    sayılar[i]=str(sayılar[i])+\"\\n\"\n",
        "\n",
        "dosya=open(\"sıralı.txt\",\"w\")\n",
        "dosya.writelines(sayılar)\n",
        "dosya.close()\n"
      ],
      "execution_count": null,
      "outputs": []
    }
  ]
}