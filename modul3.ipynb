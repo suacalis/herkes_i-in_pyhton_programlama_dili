{
  "nbformat": 4,
  "nbformat_minor": 0,
  "metadata": {
    "colab": {
      "name": "modul3",
      "provenance": []
    },
    "kernelspec": {
      "name": "python3",
      "display_name": "Python 3"
    }
  },
  "cells": [
    {
      "cell_type": "markdown",
      "metadata": {
        "id": "bncCQ9idTzjL"
      },
      "source": [
        "Temel Fonksiyonlar \n"
      ]
    },
    {
      "cell_type": "markdown",
      "metadata": {
        "id": "IJXj8p_cmhN7"
      },
      "source": [
        "**Örnek 1:**"
      ]
    },
    {
      "cell_type": "code",
      "metadata": {
        "id": "G8mQ6s0pmlma",
        "colab": {
          "base_uri": "https://localhost:8080/",
          "height": 67
        },
        "outputId": "37f0e3f7-fa9c-4286-fabc-9009a78c37a2"
      },
      "source": [
        "print(\"değer\") \n",
        "print('değer') \n",
        "print(\"\"\"değer\"\"\") "
      ],
      "execution_count": null,
      "outputs": [
        {
          "output_type": "stream",
          "text": [
            "değer\n",
            "değer\n",
            "değer\n"
          ],
          "name": "stdout"
        }
      ]
    },
    {
      "cell_type": "markdown",
      "metadata": {
        "id": "MHlD129Im8Gi"
      },
      "source": [
        "Örnek 2:"
      ]
    },
    {
      "cell_type": "code",
      "metadata": {
        "id": "GcUHvAGDmzqj",
        "colab": {
          "base_uri": "https://localhost:8080/",
          "height": 34
        },
        "outputId": "ecbf7331-99ab-4041-d508-9009865aafab"
      },
      "source": [
        "print(5)"
      ],
      "execution_count": null,
      "outputs": [
        {
          "output_type": "stream",
          "text": [
            "5\n"
          ],
          "name": "stdout"
        }
      ]
    },
    {
      "cell_type": "markdown",
      "metadata": {
        "id": "cPv5r6QdnBMi"
      },
      "source": [
        "Örnek 3:"
      ]
    },
    {
      "cell_type": "code",
      "metadata": {
        "id": "qge9kPcLm-5h",
        "colab": {
          "base_uri": "https://localhost:8080/",
          "height": 128
        },
        "outputId": "48d7112e-a200-4d71-d3a7-33520f5951fc"
      },
      "source": [
        "print(\"python)"
      ],
      "execution_count": null,
      "outputs": [
        {
          "output_type": "error",
          "ename": "SyntaxError",
          "evalue": "ignored",
          "traceback": [
            "\u001b[0;36m  File \u001b[0;32m\"<ipython-input-3-89608cf8e227>\"\u001b[0;36m, line \u001b[0;32m1\u001b[0m\n\u001b[0;31m    print(\"python)\u001b[0m\n\u001b[0m                  ^\u001b[0m\n\u001b[0;31mSyntaxError\u001b[0m\u001b[0;31m:\u001b[0m EOL while scanning string literal\n"
          ]
        }
      ]
    },
    {
      "cell_type": "markdown",
      "metadata": {
        "id": "1RdAQyz8nGwy"
      },
      "source": [
        "Örnek 4:"
      ]
    },
    {
      "cell_type": "code",
      "metadata": {
        "id": "jiFnSwprnDtx",
        "colab": {
          "base_uri": "https://localhost:8080/",
          "height": 162
        },
        "outputId": "334e48eb-c637-4f19-f44c-4fa212663853"
      },
      "source": [
        "print(a)"
      ],
      "execution_count": null,
      "outputs": [
        {
          "output_type": "error",
          "ename": "NameError",
          "evalue": "ignored",
          "traceback": [
            "\u001b[0;31m---------------------------------------------------------------------------\u001b[0m",
            "\u001b[0;31mNameError\u001b[0m                                 Traceback (most recent call last)",
            "\u001b[0;32m<ipython-input-4-bca0e2660b9f>\u001b[0m in \u001b[0;36m<module>\u001b[0;34m()\u001b[0m\n\u001b[0;32m----> 1\u001b[0;31m \u001b[0mprint\u001b[0m\u001b[0;34m(\u001b[0m\u001b[0ma\u001b[0m\u001b[0;34m)\u001b[0m\u001b[0;34m\u001b[0m\u001b[0;34m\u001b[0m\u001b[0m\n\u001b[0m",
            "\u001b[0;31mNameError\u001b[0m: name 'a' is not defined"
          ]
        }
      ]
    },
    {
      "cell_type": "markdown",
      "metadata": {
        "id": "84jI3gAMnKxU"
      },
      "source": [
        "Örnek 5:"
      ]
    },
    {
      "cell_type": "code",
      "metadata": {
        "id": "-LCvWFzhnJvw",
        "colab": {
          "base_uri": "https://localhost:8080/",
          "height": 34
        },
        "outputId": "c8c774e8-107a-4a3c-92a1-9b49dc55d3cf"
      },
      "source": [
        "print(\"Merhaba, Python!\")"
      ],
      "execution_count": null,
      "outputs": [
        {
          "output_type": "stream",
          "text": [
            "Merhaba, Python!\n"
          ],
          "name": "stdout"
        }
      ]
    },
    {
      "cell_type": "markdown",
      "metadata": {
        "id": "3f3XB9QInQXy"
      },
      "source": [
        "Örnek 6"
      ]
    },
    {
      "cell_type": "code",
      "metadata": {
        "id": "u0rvO5uCnPxh",
        "colab": {
          "base_uri": "https://localhost:8080/",
          "height": 128
        },
        "outputId": "d88ff405-14a6-41ab-b548-52177b52368f"
      },
      "source": [
        "print('Türkiye'nin en kalabalık ili İstanbul'dur')"
      ],
      "execution_count": null,
      "outputs": [
        {
          "output_type": "error",
          "ename": "SyntaxError",
          "evalue": "ignored",
          "traceback": [
            "\u001b[0;36m  File \u001b[0;32m\"<ipython-input-6-1a13ae7d4b5d>\"\u001b[0;36m, line \u001b[0;32m1\u001b[0m\n\u001b[0;31m    print('Türkiye'nin en kalabalık ili İstanbul'dur')\u001b[0m\n\u001b[0m                     ^\u001b[0m\n\u001b[0;31mSyntaxError\u001b[0m\u001b[0;31m:\u001b[0m invalid syntax\n"
          ]
        }
      ]
    },
    {
      "cell_type": "markdown",
      "metadata": {
        "id": "B_YVOkIHnalq"
      },
      "source": [
        "Örnek 7:"
      ]
    },
    {
      "cell_type": "code",
      "metadata": {
        "id": "JTKzvGR6nYpB",
        "colab": {
          "base_uri": "https://localhost:8080/",
          "height": 34
        },
        "outputId": "38c45394-f58b-43d0-db56-89c1941dcb15"
      },
      "source": [
        "print(\"Türkiye'nin en kalabalık ili İstanbul'dur\")"
      ],
      "execution_count": null,
      "outputs": [
        {
          "output_type": "stream",
          "text": [
            "Türkiye'nin en kalabalık ili İstanbul'dur\n"
          ],
          "name": "stdout"
        }
      ]
    },
    {
      "cell_type": "markdown",
      "metadata": {
        "id": "B4ohZchznj5q"
      },
      "source": [
        "Örnek 8: Print fonksiyonu içinde aritmetiksel işlem"
      ]
    },
    {
      "cell_type": "code",
      "metadata": {
        "id": "N5DQr6ulngBR",
        "colab": {
          "base_uri": "https://localhost:8080/",
          "height": 34
        },
        "outputId": "b0d3012b-2e4d-45bc-f554-71ba6716a654"
      },
      "source": [
        "print(2+2)"
      ],
      "execution_count": null,
      "outputs": [
        {
          "output_type": "stream",
          "text": [
            "4\n"
          ],
          "name": "stdout"
        }
      ]
    },
    {
      "cell_type": "markdown",
      "metadata": {
        "id": "zyl3ahETnnVC"
      },
      "source": [
        "Örnek 9: "
      ]
    },
    {
      "cell_type": "code",
      "metadata": {
        "id": "SleZZOC4nmvg",
        "colab": {
          "base_uri": "https://localhost:8080/",
          "height": 128
        },
        "outputId": "4b403932-c163-4850-db06-100554748a02"
      },
      "source": [
        "print(\"Merhaba,\" Python \"kullanıyorum\")"
      ],
      "execution_count": null,
      "outputs": [
        {
          "output_type": "error",
          "ename": "SyntaxError",
          "evalue": "ignored",
          "traceback": [
            "\u001b[0;36m  File \u001b[0;32m\"<ipython-input-9-09d4b650b435>\"\u001b[0;36m, line \u001b[0;32m1\u001b[0m\n\u001b[0;31m    print(\"Merhaba,\" Python \"kullanıyorum\")\u001b[0m\n\u001b[0m                          ^\u001b[0m\n\u001b[0;31mSyntaxError\u001b[0m\u001b[0;31m:\u001b[0m invalid syntax\n"
          ]
        }
      ]
    },
    {
      "cell_type": "markdown",
      "metadata": {
        "id": "HSvwJF20n7Za"
      },
      "source": [
        "Örnek 10:Ters taksim kullanımı \\"
      ]
    },
    {
      "cell_type": "code",
      "metadata": {
        "id": "yTU698msn5TZ",
        "colab": {
          "base_uri": "https://localhost:8080/",
          "height": 34
        },
        "outputId": "41058140-f608-477f-fc16-d59259a5501a"
      },
      "source": [
        "print('Bursa\\'nın iskenderi meşhurdur.')"
      ],
      "execution_count": null,
      "outputs": [
        {
          "output_type": "stream",
          "text": [
            "Bursa'nın iskenderi meşhurdur.\n"
          ],
          "name": "stdout"
        }
      ]
    },
    {
      "cell_type": "markdown",
      "metadata": {
        "id": "YR7jbjULoCSj"
      },
      "source": [
        "Örnek 11: \\n kullanımı"
      ]
    },
    {
      "cell_type": "code",
      "metadata": {
        "id": "68OmjvhAoBeY",
        "colab": {
          "base_uri": "https://localhost:8080/",
          "height": 67
        },
        "outputId": "c54d7d24-d0a0-4e23-bcd0-7863046ff3ac"
      },
      "source": [
        "print(\"1. satır\\n2. satır\\n3. satır\")"
      ],
      "execution_count": null,
      "outputs": [
        {
          "output_type": "stream",
          "text": [
            "1. satır\n",
            "2. satır\n",
            "3. satır\n"
          ],
          "name": "stdout"
        }
      ]
    },
    {
      "cell_type": "markdown",
      "metadata": {
        "id": "Acn_XBkwoa6U"
      },
      "source": [
        "örnek 12: \\t kullanımı"
      ]
    },
    {
      "cell_type": "code",
      "metadata": {
        "id": "0RAnLdoloaN2",
        "colab": {
          "base_uri": "https://localhost:8080/",
          "height": 34
        },
        "outputId": "a0c3c160-e023-4ee4-b28f-1566f44a9d9a"
      },
      "source": [
        "print(\"pazartesi \\tsalı \\tçarşamba\")"
      ],
      "execution_count": null,
      "outputs": [
        {
          "output_type": "stream",
          "text": [
            "pazartesi \tsalı \tçarşamba\n"
          ],
          "name": "stdout"
        }
      ]
    },
    {
      "cell_type": "markdown",
      "metadata": {
        "id": "DvUfVYEroq66"
      },
      "source": [
        "Örnek 13:"
      ]
    },
    {
      "cell_type": "code",
      "metadata": {
        "id": "gVtPRWoGoo5w",
        "colab": {
          "base_uri": "https://localhost:8080/",
          "height": 50
        },
        "outputId": "ccf7ab3b-30a9-4226-c0bc-582c2dd1e294"
      },
      "source": [
        "print(\"Merhaba!\")\n",
        "print(\"Python\")"
      ],
      "execution_count": null,
      "outputs": [
        {
          "output_type": "stream",
          "text": [
            "Merhaba!\n",
            "Python\n"
          ],
          "name": "stdout"
        }
      ]
    },
    {
      "cell_type": "markdown",
      "metadata": {
        "id": "EjyiuCPJo27J"
      },
      "source": [
        "Örnek 14: end parametresi kullanımı"
      ]
    },
    {
      "cell_type": "code",
      "metadata": {
        "id": "Ba3roROWo0zv",
        "colab": {
          "base_uri": "https://localhost:8080/",
          "height": 34
        },
        "outputId": "756aa9c0-1869-40bf-b121-55ac725142f0"
      },
      "source": [
        "print(\"Merhaba!\",end=\" \")\n",
        "print(\"Python\")"
      ],
      "execution_count": null,
      "outputs": [
        {
          "output_type": "stream",
          "text": [
            "Merhaba! Python\n"
          ],
          "name": "stdout"
        }
      ]
    },
    {
      "cell_type": "markdown",
      "metadata": {
        "id": "O23SSelfo7xR"
      },
      "source": [
        "Örnek 15: end parametresi kullanımı"
      ]
    },
    {
      "cell_type": "code",
      "metadata": {
        "id": "g6f-FrIeo6Nn",
        "colab": {
          "base_uri": "https://localhost:8080/",
          "height": 34
        },
        "outputId": "f13b94a1-31cd-4a45-bc59-23bf069d3289"
      },
      "source": [
        "print(\"Merhaba!\",end=\",\")\n",
        "print(\"Python\")"
      ],
      "execution_count": null,
      "outputs": [
        {
          "output_type": "stream",
          "text": [
            "Merhaba!,Python\n"
          ],
          "name": "stdout"
        }
      ]
    },
    {
      "cell_type": "markdown",
      "metadata": {
        "id": "pajVcnsepISz"
      },
      "source": [
        "Örnek 16: sep parametresi kullanımı"
      ]
    },
    {
      "cell_type": "code",
      "metadata": {
        "id": "nRfkhsT6pGbo",
        "colab": {
          "base_uri": "https://localhost:8080/",
          "height": 34
        },
        "outputId": "25379f35-2d77-4fb0-db44-dbe04f644f95"
      },
      "source": [
        "print(\"pazartesi\",\"salı\",\"çarşamba\",\"perşembe\",\"cuma\")"
      ],
      "execution_count": null,
      "outputs": [
        {
          "output_type": "stream",
          "text": [
            "pazartesi salı çarşamba perşembe cuma\n"
          ],
          "name": "stdout"
        }
      ]
    },
    {
      "cell_type": "markdown",
      "metadata": {
        "id": "yKWMiHHSpQxb"
      },
      "source": [
        "örnek 17: sep parametresi kullanımı"
      ]
    },
    {
      "cell_type": "code",
      "metadata": {
        "id": "pJFn8_-IpOgH",
        "colab": {
          "base_uri": "https://localhost:8080/",
          "height": 34
        },
        "outputId": "b741994b-89ba-45fd-8403-7b2a9aa1cb57"
      },
      "source": [
        "print(\"pazartesi\",\"salı\",\"çarşamba\",\"perşembe\",\"cuma\",sep=\"-\")"
      ],
      "execution_count": null,
      "outputs": [
        {
          "output_type": "stream",
          "text": [
            "pazartesi-salı-çarşamba-perşembe-cuma\n"
          ],
          "name": "stdout"
        }
      ]
    },
    {
      "cell_type": "markdown",
      "metadata": {
        "id": "bB00Z49eprch"
      },
      "source": [
        "örnek 18: format kullanımı"
      ]
    },
    {
      "cell_type": "code",
      "metadata": {
        "id": "f26MXTb2pT13",
        "colab": {
          "base_uri": "https://localhost:8080/",
          "height": 34
        },
        "outputId": "8b93b9b8-2906-4c96-c7d1-39a4425a8ff6"
      },
      "source": [
        "a=5\n",
        "b=6\n",
        "c=9\n",
        "print(\"girdiğiniz\",a, b, \"ve\",c,\"değerlerinin toplamı: \",a+b+c,\"dir\")"
      ],
      "execution_count": null,
      "outputs": [
        {
          "output_type": "stream",
          "text": [
            "girdiğiniz 5 6 ve 9 değerlerinin toplamı:  20 dir\n"
          ],
          "name": "stdout"
        }
      ]
    },
    {
      "cell_type": "markdown",
      "metadata": {
        "id": "lECTfKYgpxBi"
      },
      "source": [
        "örnek 19: format kullanımı"
      ]
    },
    {
      "cell_type": "code",
      "metadata": {
        "id": "uAs1lIhIpvsb",
        "colab": {
          "base_uri": "https://localhost:8080/",
          "height": 34
        },
        "outputId": "bd3bca4d-8511-449e-f3c4-a7a080d51386"
      },
      "source": [
        "print(\"çıktı işlemi {} {} {}\".format(1,2,3))"
      ],
      "execution_count": null,
      "outputs": [
        {
          "output_type": "stream",
          "text": [
            "çıktı işlemi 1 2 3\n"
          ],
          "name": "stdout"
        }
      ]
    },
    {
      "cell_type": "markdown",
      "metadata": {
        "id": "BIGv_Sxup_eh"
      },
      "source": [
        "örnek 20:format kullanımı"
      ]
    },
    {
      "cell_type": "code",
      "metadata": {
        "id": "IFb0GQUMp6ou",
        "colab": {
          "base_uri": "https://localhost:8080/",
          "height": 34
        },
        "outputId": "e564a81b-693d-4ed3-94ef-63355003d286"
      },
      "source": [
        "a=5\n",
        "b=6\n",
        "c=9\n",
        "print(\"girdiğiniz {} , {} ve {} değerlerinin toplamı= {} dir\".format(a,b,c,a+b+c))"
      ],
      "execution_count": null,
      "outputs": [
        {
          "output_type": "stream",
          "text": [
            "girdiğiniz 5 , 6 ve 9 değerlerinin toplamı= 20 dir\n"
          ],
          "name": "stdout"
        }
      ]
    },
    {
      "cell_type": "markdown",
      "metadata": {
        "id": "6-9uCYt3qGgC"
      },
      "source": [
        "Örnek 21: format kullanımı"
      ]
    },
    {
      "cell_type": "code",
      "metadata": {
        "id": "rllCfpN1qDin",
        "colab": {
          "base_uri": "https://localhost:8080/",
          "height": 34
        },
        "outputId": "6977b369-179a-414a-b954-b5773be890bd"
      },
      "source": [
        "print(\"{1} {0} {2}\".format(10,\"Python\",20))"
      ],
      "execution_count": null,
      "outputs": [
        {
          "output_type": "stream",
          "text": [
            "Python 10 20\n"
          ],
          "name": "stdout"
        }
      ]
    },
    {
      "cell_type": "markdown",
      "metadata": {
        "id": "yklWVpACqun6"
      },
      "source": [
        "uygulama Aşağıdaki örnekleri etkileşimli kabuk üzerinde yaparak çıktılarını gözlemleyin"
      ]
    },
    {
      "cell_type": "code",
      "metadata": {
        "id": "bPo1dpZLqKTu",
        "colab": {
          "base_uri": "https://localhost:8080/",
          "height": 50
        },
        "outputId": "5e778971-31ee-446b-89be-f2dd1590852e"
      },
      "source": [
        "print(\"Memleket isterim,\\nGök mavi, dal yeşil, tarla sarı olsun,\")"
      ],
      "execution_count": null,
      "outputs": [
        {
          "output_type": "stream",
          "text": [
            "Memleket isterim,\n",
            "Gök mavi, dal yeşil, tarla sarı olsun,\n"
          ],
          "name": "stdout"
        }
      ]
    },
    {
      "cell_type": "code",
      "metadata": {
        "id": "CPXZv-v8qwlw",
        "colab": {
          "base_uri": "https://localhost:8080/",
          "height": 34
        },
        "outputId": "90b29f68-2177-4dfc-a747-7c54c45b97b1"
      },
      "source": [
        "print(\"Memleket isterim,\",\"Gök mavi, dal yeşil, tarla sarı olsun,\")\n"
      ],
      "execution_count": null,
      "outputs": [
        {
          "output_type": "stream",
          "text": [
            "Memleket isterim, Gök mavi, dal yeşil, tarla sarı olsun,\n"
          ],
          "name": "stdout"
        }
      ]
    },
    {
      "cell_type": "code",
      "metadata": {
        "id": "DKoZ3-8iqyjm",
        "colab": {
          "base_uri": "https://localhost:8080/",
          "height": 50
        },
        "outputId": "e56b2ba8-5e93-47e6-8bed-0aca473e66ab"
      },
      "source": [
        "print(\"Memleket isterim,\")\n",
        "print(\"Gök mavi, dal yeşil\" ,\"tarla sarı olsun,\")\n"
      ],
      "execution_count": null,
      "outputs": [
        {
          "output_type": "stream",
          "text": [
            "Memleket isterim,\n",
            "Gök mavi, dal yeşil tarla sarı olsun,\n"
          ],
          "name": "stdout"
        }
      ]
    },
    {
      "cell_type": "code",
      "metadata": {
        "id": "HC9shKnJq0Qu",
        "colab": {
          "base_uri": "https://localhost:8080/",
          "height": 34
        },
        "outputId": "155efc83-8b92-468d-e3e8-51eaa58d9664"
      },
      "source": [
        "print(\"Memleket isterim,\",end=\" \")\n",
        "print(\"Gök mavi, dal yeşil\" ,\"tarla sarı olsun,\")"
      ],
      "execution_count": null,
      "outputs": [
        {
          "output_type": "stream",
          "text": [
            "Memleket isterim, Gök mavi, dal yeşil tarla sarı olsun,\n"
          ],
          "name": "stdout"
        }
      ]
    },
    {
      "cell_type": "code",
      "metadata": {
        "id": "uSE9whtqq2We",
        "colab": {
          "base_uri": "https://localhost:8080/",
          "height": 34
        },
        "outputId": "ee6d9b81-169e-4d84-e00c-f5f64e9fc7c3"
      },
      "source": [
        "print(\"Memleket\",\"isterim\",\"Gök mavi\",\"dal\", \"yeşil\",sep=\"-\")"
      ],
      "execution_count": null,
      "outputs": [
        {
          "output_type": "stream",
          "text": [
            "Memleket-isterim-Gök mavi-dal-yeşil\n"
          ],
          "name": "stdout"
        }
      ]
    },
    {
      "cell_type": "code",
      "metadata": {
        "id": "s2a8XgvTq3cm",
        "colab": {
          "base_uri": "https://localhost:8080/",
          "height": 151
        },
        "outputId": "c341a8bc-bf4f-4c5d-d39c-ad25bba8a3ae"
      },
      "source": [
        "print(\"    *\")\n",
        "print(\"   * *\")\n",
        "print(\"  *   *\")\n",
        "print(\" *     *\")\n",
        "print(\"***   ***\")\n",
        "print(\"  *   *\")\n",
        "print(\"  *   *\")\n",
        "print(\"  *****\")"
      ],
      "execution_count": null,
      "outputs": [
        {
          "output_type": "stream",
          "text": [
            "    *\n",
            "   * *\n",
            "  *   *\n",
            " *     *\n",
            "***   ***\n",
            "  *   *\n",
            "  *   *\n",
            "  *****\n"
          ],
          "name": "stdout"
        }
      ]
    },
    {
      "cell_type": "code",
      "metadata": {
        "id": "Y_lXvGEFq5ne",
        "colab": {
          "base_uri": "https://localhost:8080/",
          "height": 50
        },
        "outputId": "890e37c9-e943-4400-b105-c2fbc899a73b"
      },
      "source": [
        "not1 = 55\n",
        "not2 = 100\n",
        "print('1.Sınav Notu:{} \\n2.Sınav Notu:{}'.format(not1,not2))"
      ],
      "execution_count": null,
      "outputs": [
        {
          "output_type": "stream",
          "text": [
            "1.Sınav Notu:55 \n",
            "2.Sınav Notu:100\n"
          ],
          "name": "stdout"
        }
      ]
    },
    {
      "cell_type": "markdown",
      "metadata": {
        "id": "Mf2mtiK9q-PJ"
      },
      "source": [
        "Örnek 22: input kullanımı"
      ]
    },
    {
      "cell_type": "code",
      "metadata": {
        "id": "DVo0kOMPq8K-",
        "colab": {
          "base_uri": "https://localhost:8080/",
          "height": 50
        },
        "outputId": "4939b669-6154-4ba9-c7f0-11d54c6a3a6b"
      },
      "source": [
        "isim=input(\"isminizi giriniz: \")\n",
        "print(\"merhaba! \",isim)"
      ],
      "execution_count": null,
      "outputs": [
        {
          "output_type": "stream",
          "text": [
            "isminizi giriniz: ahmet\n",
            "merhaba!  ahmet\n"
          ],
          "name": "stdout"
        }
      ]
    },
    {
      "cell_type": "markdown",
      "metadata": {
        "id": "zxcRxpgwrG4R"
      },
      "source": [
        "Örnek 23: input kullanımı"
      ]
    },
    {
      "cell_type": "code",
      "metadata": {
        "id": "0MyNBFDjrDln",
        "colab": {
          "base_uri": "https://localhost:8080/",
          "height": 67
        },
        "outputId": "c78bbccf-b5a8-4389-97e6-8ea1b2de261e"
      },
      "source": [
        "a=input(\"birinci sayıyı giriniz: \")\n",
        "b=input(\"ikinci sayıyı giriniz: \")\n",
        "print(\"girdiğiniz sayıların toplamı: \",a+b)"
      ],
      "execution_count": null,
      "outputs": [
        {
          "output_type": "stream",
          "text": [
            "birinci sayıyı giriniz: 6\n",
            "ikinci sayıyı giriniz: 8\n",
            "girdiğiniz sayıların toplamı:  68\n"
          ],
          "name": "stdout"
        }
      ]
    },
    {
      "cell_type": "markdown",
      "metadata": {
        "id": "6ymy2ITRrOmB"
      },
      "source": [
        "Örnek 24:input kullanımı"
      ]
    },
    {
      "cell_type": "code",
      "metadata": {
        "id": "NwUQfNWGrLje",
        "colab": {
          "base_uri": "https://localhost:8080/",
          "height": 34
        },
        "outputId": "49a34150-b31d-4462-b6aa-f72568e1951d"
      },
      "source": [
        "print(\"ahmet\"+\"şahin\")"
      ],
      "execution_count": null,
      "outputs": [
        {
          "output_type": "stream",
          "text": [
            "ahmetşahin\n"
          ],
          "name": "stdout"
        }
      ]
    },
    {
      "cell_type": "markdown",
      "metadata": {
        "id": "o6LfVysgrX9J"
      },
      "source": [
        "Örnek 25: input fonksiyonu ile sayısal değer alma"
      ]
    },
    {
      "cell_type": "code",
      "metadata": {
        "id": "DaZ1f7iErUom",
        "colab": {
          "base_uri": "https://localhost:8080/",
          "height": 34
        },
        "outputId": "8570742e-25f4-4f18-d89d-ace2bfc997cc"
      },
      "source": [
        "a=int(input(\"Bir sayı giriniz: \"))"
      ],
      "execution_count": null,
      "outputs": [
        {
          "output_type": "stream",
          "text": [
            "Bir sayı giriniz: 5\n"
          ],
          "name": "stdout"
        }
      ]
    },
    {
      "cell_type": "markdown",
      "metadata": {
        "id": "F-KfbzNsrhwp"
      },
      "source": [
        "Örnek 26: input kullanımı"
      ]
    },
    {
      "cell_type": "code",
      "metadata": {
        "id": "wRcGSeTtrfae",
        "colab": {
          "base_uri": "https://localhost:8080/",
          "height": 67
        },
        "outputId": "0500b511-e909-4b54-c430-421ab5c88c49"
      },
      "source": [
        "a=int(input(\"birinci sayıyı giriniz: \"))\n",
        "b=int(input(\"ikinci sayıyı giriniz: \"))\n",
        "print(\"girdiğiniz sayıların toplamı:\",a+b)"
      ],
      "execution_count": null,
      "outputs": [
        {
          "output_type": "stream",
          "text": [
            "birinci sayıyı giriniz: 5\n",
            "ikinci sayıyı giriniz: 8\n",
            "girdiğiniz sayıların toplamı: 13\n"
          ],
          "name": "stdout"
        }
      ]
    },
    {
      "cell_type": "markdown",
      "metadata": {
        "id": "x1863uyHrqLR"
      },
      "source": [
        "Örnek 27: input hatalı kullanımı"
      ]
    },
    {
      "cell_type": "code",
      "metadata": {
        "id": "2dCX-aOrroGG",
        "colab": {
          "base_uri": "https://localhost:8080/",
          "height": 229
        },
        "outputId": "394195f2-4ca1-4243-ca79-5a8435b4661f"
      },
      "source": [
        "a=int(input(\"birinci sayıyı giriniz: \"))\n",
        "b=int(input(\"ikinci sayıyı giriniz: \"))\n",
        "print(\"girdiğiniz sayıların toplamı:\",a+b)"
      ],
      "execution_count": null,
      "outputs": [
        {
          "output_type": "stream",
          "text": [
            "birinci sayıyı giriniz: 8\n",
            "ikinci sayıyı giriniz: ali\n"
          ],
          "name": "stdout"
        },
        {
          "output_type": "error",
          "ename": "ValueError",
          "evalue": "ignored",
          "traceback": [
            "\u001b[0;31m---------------------------------------------------------------------------\u001b[0m",
            "\u001b[0;31mValueError\u001b[0m                                Traceback (most recent call last)",
            "\u001b[0;32m<ipython-input-34-1c921aa7e243>\u001b[0m in \u001b[0;36m<module>\u001b[0;34m()\u001b[0m\n\u001b[1;32m      1\u001b[0m \u001b[0ma\u001b[0m\u001b[0;34m=\u001b[0m\u001b[0mint\u001b[0m\u001b[0;34m(\u001b[0m\u001b[0minput\u001b[0m\u001b[0;34m(\u001b[0m\u001b[0;34m\"birinci sayıyı giriniz: \"\u001b[0m\u001b[0;34m)\u001b[0m\u001b[0;34m)\u001b[0m\u001b[0;34m\u001b[0m\u001b[0;34m\u001b[0m\u001b[0m\n\u001b[0;32m----> 2\u001b[0;31m \u001b[0mb\u001b[0m\u001b[0;34m=\u001b[0m\u001b[0mint\u001b[0m\u001b[0;34m(\u001b[0m\u001b[0minput\u001b[0m\u001b[0;34m(\u001b[0m\u001b[0;34m\"ikinci sayıyı giriniz: \"\u001b[0m\u001b[0;34m)\u001b[0m\u001b[0;34m)\u001b[0m\u001b[0;34m\u001b[0m\u001b[0;34m\u001b[0m\u001b[0m\n\u001b[0m\u001b[1;32m      3\u001b[0m \u001b[0mprint\u001b[0m\u001b[0;34m(\u001b[0m\u001b[0;34m\"girdiğiniz sayıların toplamı:\"\u001b[0m\u001b[0;34m,\u001b[0m\u001b[0ma\u001b[0m\u001b[0;34m+\u001b[0m\u001b[0mb\u001b[0m\u001b[0;34m)\u001b[0m\u001b[0;34m\u001b[0m\u001b[0;34m\u001b[0m\u001b[0m\n",
            "\u001b[0;31mValueError\u001b[0m: invalid literal for int() with base 10: 'ali'"
          ]
        }
      ]
    },
    {
      "cell_type": "markdown",
      "metadata": {
        "id": "h2p1_Nt8sQyC"
      },
      "source": [
        "Örnek 28: input hatalı kullanımı"
      ]
    },
    {
      "cell_type": "code",
      "metadata": {
        "id": "sfTF3szfrwbt",
        "colab": {
          "base_uri": "https://localhost:8080/",
          "height": 229
        },
        "outputId": "be76653a-4eb7-4b9e-ec38-5357865cfa56"
      },
      "source": [
        "a=int(input(\"birinci sayıyı giriniz: \"))\n",
        "b=input(\"ikinci sayıyı giriniz: \")\n",
        "print(\"girdiğiniz sayıların toplamı:\",a+b)"
      ],
      "execution_count": null,
      "outputs": [
        {
          "output_type": "stream",
          "text": [
            "birinci sayıyı giriniz: 6\n",
            "ikinci sayıyı giriniz: 8\n"
          ],
          "name": "stdout"
        },
        {
          "output_type": "error",
          "ename": "TypeError",
          "evalue": "ignored",
          "traceback": [
            "\u001b[0;31m---------------------------------------------------------------------------\u001b[0m",
            "\u001b[0;31mTypeError\u001b[0m                                 Traceback (most recent call last)",
            "\u001b[0;32m<ipython-input-36-361086f0285e>\u001b[0m in \u001b[0;36m<module>\u001b[0;34m()\u001b[0m\n\u001b[1;32m      1\u001b[0m \u001b[0ma\u001b[0m\u001b[0;34m=\u001b[0m\u001b[0mint\u001b[0m\u001b[0;34m(\u001b[0m\u001b[0minput\u001b[0m\u001b[0;34m(\u001b[0m\u001b[0;34m\"birinci sayıyı giriniz: \"\u001b[0m\u001b[0;34m)\u001b[0m\u001b[0;34m)\u001b[0m\u001b[0;34m\u001b[0m\u001b[0;34m\u001b[0m\u001b[0m\n\u001b[1;32m      2\u001b[0m \u001b[0mb\u001b[0m\u001b[0;34m=\u001b[0m\u001b[0minput\u001b[0m\u001b[0;34m(\u001b[0m\u001b[0;34m\"ikinci sayıyı giriniz: \"\u001b[0m\u001b[0;34m)\u001b[0m\u001b[0;34m\u001b[0m\u001b[0;34m\u001b[0m\u001b[0m\n\u001b[0;32m----> 3\u001b[0;31m \u001b[0mprint\u001b[0m\u001b[0;34m(\u001b[0m\u001b[0;34m\"girdiğiniz sayıların toplamı:\"\u001b[0m\u001b[0;34m,\u001b[0m\u001b[0ma\u001b[0m\u001b[0;34m+\u001b[0m\u001b[0mb\u001b[0m\u001b[0;34m)\u001b[0m\u001b[0;34m\u001b[0m\u001b[0;34m\u001b[0m\u001b[0m\n\u001b[0m",
            "\u001b[0;31mTypeError\u001b[0m: unsupported operand type(s) for +: 'int' and 'str'"
          ]
        }
      ]
    },
    {
      "cell_type": "markdown",
      "metadata": {
        "id": "5aTpBWmoskmr"
      },
      "source": [
        "Örnek 29: Kullanıcıdan abone numarası ve tüketim bilgisi alarak fatura tutarını hesaplayan programı yazınız."
      ]
    },
    {
      "cell_type": "code",
      "metadata": {
        "id": "zgI79cz3sM0l",
        "colab": {
          "base_uri": "https://localhost:8080/",
          "height": 67
        },
        "outputId": "474e2337-83fb-4369-8852-c29c815019e7"
      },
      "source": [
        "on_mesaj=\"Sayın \"\n",
        "mesaj_sonu=\" nisan dönemi faturaınız : \"\n",
        "abone_no=input(\"abone numaranız\")\n",
        "tuketim=input(\"tuketim miktarı\")\n",
        "tuketim_tutari=int(tuketim)*4.0\n",
        "mesaj=on_mesaj+abone_no+mesaj_sonu+tuketim+\" tl dir.\"\n",
        "print(mesaj)"
      ],
      "execution_count": null,
      "outputs": [
        {
          "output_type": "stream",
          "text": [
            "abone numaranız123456\n",
            "tuketim miktarı20\n",
            "Sayın 123456 nisan dönemi faturaınız : 20 tl dir.\n"
          ],
          "name": "stdout"
        }
      ]
    },
    {
      "cell_type": "markdown",
      "metadata": {
        "id": "aQ12xpt0s7sx"
      },
      "source": [
        "Bölüm Sonu Örnekleri\n",
        "1. Ekrana “Merhaba Dünya” yazan programı yazınız."
      ]
    },
    {
      "cell_type": "code",
      "metadata": {
        "id": "P6Hr7EdNsooG",
        "colab": {
          "base_uri": "https://localhost:8080/",
          "height": 34
        },
        "outputId": "8c6af79a-a44d-4f63-8bbb-928971464917"
      },
      "source": [
        "print(\"Merhaba Dünya\")"
      ],
      "execution_count": null,
      "outputs": [
        {
          "output_type": "stream",
          "text": [
            "Merhaba Dünya\n"
          ],
          "name": "stdout"
        }
      ]
    },
    {
      "cell_type": "markdown",
      "metadata": {
        "id": "0HKc1AwOtPNB"
      },
      "source": [
        "2. Kullanıcıdan ismini alarak merhaba “Ali” şeklinde çıktı veren programı yazınız."
      ]
    },
    {
      "cell_type": "code",
      "metadata": {
        "id": "BCKQU3eOtLcW",
        "colab": {
          "base_uri": "https://localhost:8080/",
          "height": 50
        },
        "outputId": "1aeb9d0d-6ea7-41ee-80c4-9483f9630d18"
      },
      "source": [
        "isim = input('İsminizi Girin : ')\n",
        "print(\"Merhaba \"+isim)"
      ],
      "execution_count": null,
      "outputs": [
        {
          "output_type": "stream",
          "text": [
            "İsminizi Girin : mehmet\n",
            "Merhaba mehmet\n"
          ],
          "name": "stdout"
        }
      ]
    },
    {
      "cell_type": "markdown",
      "metadata": {
        "id": "yR4R_echtXwr"
      },
      "source": [
        "3. Girilen iki sayının toplamını bulan ve ekrana yazdıran programı yazınız."
      ]
    },
    {
      "cell_type": "code",
      "metadata": {
        "id": "lsY0d4phtTht",
        "colab": {
          "base_uri": "https://localhost:8080/",
          "height": 67
        },
        "outputId": "99b87da0-d3f5-477d-d124-34782d0dcde5"
      },
      "source": [
        "sayi1 = int(input('1. sayıyı girin: '))\n",
        "sayi2 = int(input('2. sayıyı girin: '))\n",
        "print(\"girdiğiniz sayıların toplamı: \",sayi1+sayi2)"
      ],
      "execution_count": null,
      "outputs": [
        {
          "output_type": "stream",
          "text": [
            "1. sayıyı girin: 6\n",
            "2. sayıyı girin: 9\n",
            "girdiğiniz sayıların toplamı:  15\n"
          ],
          "name": "stdout"
        }
      ]
    },
    {
      "cell_type": "markdown",
      "metadata": {
        "id": "aQeLngWhtemI"
      },
      "source": [
        "4. Girilen iki sayının ortalamasını bulan ve ekrana yazdıran programı yazınız."
      ]
    },
    {
      "cell_type": "code",
      "metadata": {
        "id": "LtXh3ciAtbbN",
        "colab": {
          "base_uri": "https://localhost:8080/",
          "height": 67
        },
        "outputId": "f86fbf46-17da-4e62-cb56-9983bcae105d"
      },
      "source": [
        "sayi1 = int(input('1. sayıyı girin: '))\n",
        "sayi2 = int(input('2. sayıyı girin: '))\n",
        "print(\"girdiğiniz sayıların ortalaması: \",(sayi1+sayi2)/2)"
      ],
      "execution_count": null,
      "outputs": [
        {
          "output_type": "stream",
          "text": [
            "1. sayıyı girin: 6\n",
            "2. sayıyı girin: 8\n",
            "girdiğiniz sayıların ortalaması:  7.0\n"
          ],
          "name": "stdout"
        }
      ]
    },
    {
      "cell_type": "code",
      "metadata": {
        "id": "N-sTSr0GthGk",
        "colab": {
          "base_uri": "https://localhost:8080/",
          "height": 33
        },
        "outputId": "125385e3-8223-4fde-8057-976b09b3634f"
      },
      "source": [
        "a=\"Merhaba\"\n",
        "b=3\n",
        "print (a*b)"
      ],
      "execution_count": null,
      "outputs": [
        {
          "output_type": "stream",
          "text": [
            "MerhabaMerhabaMerhaba\n"
          ],
          "name": "stdout"
        }
      ]
    },
    {
      "cell_type": "code",
      "metadata": {
        "id": "Un9ggkMBtcdU",
        "colab": {
          "base_uri": "https://localhost:8080/",
          "height": 50
        },
        "outputId": "94ad1963-fc03-4ebc-d02c-1b19e6e34931"
      },
      "source": [
        "sayi1=int(input(\"Sayi giriniz:\"))\n",
        "print (3*sayi1)"
      ],
      "execution_count": null,
      "outputs": [
        {
          "output_type": "stream",
          "text": [
            "Sayi giriniz:2\n",
            "6\n"
          ],
          "name": "stdout"
        }
      ]
    }
  ]
}