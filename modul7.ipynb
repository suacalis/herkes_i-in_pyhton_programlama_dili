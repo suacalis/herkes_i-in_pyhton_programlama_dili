{
  "nbformat": 4,
  "nbformat_minor": 0,
  "metadata": {
    "colab": {
      "name": "modul7",
      "provenance": [],
      "collapsed_sections": []
    },
    "kernelspec": {
      "name": "python3",
      "display_name": "Python 3"
    }
  },
  "cells": [
    {
      "cell_type": "markdown",
      "metadata": {
        "id": "yIuf6w7yP1Dd"
      },
      "source": [
        "**MODÜL 7<br>FONKSİYONLAR, GLOBAL VE LOKAL DEĞİŞKENLER**<br>\n",
        "<br>**Örnek 1**<br> Aşağıdaki örnekte print () fonksiyonun end ve sep argümanlarıyla birlikte kullanımı gösterilmiştir. \n"
      ]
    },
    {
      "cell_type": "code",
      "metadata": {
        "id": "QFW5P0cu3TGY",
        "colab": {
          "base_uri": "https://localhost:8080/",
          "height": 85
        },
        "outputId": "08919a2c-4f2a-4c33-8dd4-ea7c3525ff99"
      },
      "source": [
        "print ('Merhaba', 'Mars', sep=' ', end='\\n') #parametreleri kullanarak\n",
        "print ('Merhaba')\n",
        "print ('Merhaba',' ', 'Mars') #parametreleri kullanmadan\n",
        "print ('Merhaba')"
      ],
      "execution_count": null,
      "outputs": [
        {
          "output_type": "stream",
          "text": [
            "Merhaba Mars\n",
            "Merhaba\n",
            "Merhaba   Mars\n",
            "Merhaba\n"
          ],
          "name": "stdout"
        }
      ]
    },
    {
      "cell_type": "markdown",
      "metadata": {
        "id": "bGRpzvi8NqH_"
      },
      "source": [
        "\n",
        "**Örnek 2**<br> \n",
        "Bir sayının çift olup olmadığını ekrana yazan bir fonksiyon.\n",
        "Hatırlatma: Bir sayının 2’ye bölümünden kalan yoksa o sayı çifttir varsa tektir.\n",
        "*Kitapta else: satırı yanlış yazılmıştır. doğru kod aşağıdaki gibi oalcaktır."
      ]
    },
    {
      "cell_type": "code",
      "metadata": {
        "id": "hlsb0sjINquh"
      },
      "source": [
        "def sayiCiftMi (sayi):\n",
        "  if sayi%2==0:\n",
        "    print('Sayı çifttir')\n",
        "  else: print('Sayı tektir') #*kitapta bu satır yanlış yazılmıştır. "
      ],
      "execution_count": null,
      "outputs": []
    },
    {
      "cell_type": "markdown",
      "metadata": {
        "id": "Yz7JKFhDQEiG"
      },
      "source": [
        "Bir fonksiyonu oluşturduktan sonra print( ) fonksiyonunda kullandığınız şekilde parametrelere uygun\n",
        "argümanları girip çağırabilirsiniz."
      ]
    },
    {
      "cell_type": "code",
      "metadata": {
        "id": "Osz1lYYWQRPw",
        "colab": {
          "base_uri": "https://localhost:8080/",
          "height": 34
        },
        "outputId": "570894b2-1bff-44bd-b36a-d766a08f41a8"
      },
      "source": [
        "sayiCiftMi(10)"
      ],
      "execution_count": null,
      "outputs": [
        {
          "output_type": "stream",
          "text": [
            "Sayı çifttir\n"
          ],
          "name": "stdout"
        }
      ]
    },
    {
      "cell_type": "markdown",
      "metadata": {
        "id": "aebfVJJ8Kzhu"
      },
      "source": [
        "**Örnek 3**<br>\n",
        "Başka bir fonksiyon tanımlayabilirsiniz. Tanımlanan fonksiyon bir metni istenildiği kadar alt alta yazdırır.\n",
        "Bu fonksiyonda yazdırılacak metin ve yazdırılma sayısı olmak üzere iki adet parametre olacaktır."
      ]
    },
    {
      "cell_type": "code",
      "metadata": {
        "id": "YAa0AjAOLMZ5"
      },
      "source": [
        "def yazdir(metin,kacKere):\n",
        "  for i in range (1, (kacKere+1)):\n",
        "    print (metin, end='\\n')"
      ],
      "execution_count": null,
      "outputs": []
    },
    {
      "cell_type": "code",
      "metadata": {
        "id": "AnnOEdb_LjSp",
        "colab": {
          "base_uri": "https://localhost:8080/",
          "height": 102
        },
        "outputId": "3789592f-b73d-45ea-bc46-5173cd929bb0"
      },
      "source": [
        "# Şimdi fonksiyonumuzu çağıralım\n",
        "yazdir('Merhaba', 5)"
      ],
      "execution_count": null,
      "outputs": [
        {
          "output_type": "stream",
          "text": [
            "Merhaba\n",
            "Merhaba\n",
            "Merhaba\n",
            "Merhaba\n",
            "Merhaba\n"
          ],
          "name": "stdout"
        }
      ]
    },
    {
      "cell_type": "markdown",
      "metadata": {
        "id": "n-vQHxd5MKDT"
      },
      "source": [
        "Aynı fonksiyon için parametreleri kullanıcıdan alabilirsiniz.\n"
      ]
    },
    {
      "cell_type": "code",
      "metadata": {
        "id": "wIxUWyrkMRXj",
        "colab": {
          "base_uri": "https://localhost:8080/",
          "height": 139
        },
        "outputId": "ee99236d-4dde-41db-95c0-44af058cc938"
      },
      "source": [
        "yazdirilacakMetin=input('Yazdırılacak metini girin: ')\n",
        "yazdirmaSayisi=int(input('Metin kaç kez yazdırılacak: '))\n",
        "yazdir(yazdirilacakMetin, yazdirmaSayisi)"
      ],
      "execution_count": null,
      "outputs": [
        {
          "output_type": "stream",
          "text": [
            "Yazdırılacak metini girin: Kara Murat\n",
            "Metin kaç kez yazdırılacak: 4\n",
            "Kara Murat\n",
            "Kara Murat\n",
            "Kara Murat\n",
            "Kara Murat\n"
          ],
          "name": "stdout"
        }
      ]
    },
    {
      "cell_type": "markdown",
      "metadata": {
        "id": "NssfS0PTHntF"
      },
      "source": [
        "**Örnek 4**<br>Bir sayının asal bir sayı olup olmadığını bulan bir fonksiyon yazabilirsiniz. Fonksiyon, sayı asal ise “True”;\n",
        "değilse “False” değerini döndürecektir.“for” döngüsünde sayının yarısına kadar bakmamızın nedeni bir sayının kendi değerinin yarısından önce böleni yok ise sonrasında da olmayacağı kuralıdır."
      ]
    },
    {
      "cell_type": "code",
      "metadata": {
        "id": "xifKTfXvH3RT"
      },
      "source": [
        "def asalMi(sayi):\n",
        "  sayac=2 # tüm sayılar 1'e bölüneceğinden 2 ile başlattık\n",
        "  while sayac<=int(sayi/2):\n",
        "    if sayi%sayac==0:\n",
        "      return False\n",
        "    sayac+=1\n",
        "  return True"
      ],
      "execution_count": null,
      "outputs": []
    },
    {
      "cell_type": "code",
      "metadata": {
        "id": "TmdVAvKsJBVs",
        "colab": {
          "base_uri": "https://localhost:8080/",
          "height": 34
        },
        "outputId": "468ebda2-ce28-45b8-de3c-58787dbb6485"
      },
      "source": [
        "#fonksiyonumuzu argümanlarımızı vererek çalıştıralım\n",
        "asalMi(113)"
      ],
      "execution_count": null,
      "outputs": [
        {
          "output_type": "execute_result",
          "data": {
            "text/plain": [
              "True"
            ]
          },
          "metadata": {
            "tags": []
          },
          "execution_count": 68
        }
      ]
    },
    {
      "cell_type": "markdown",
      "metadata": {
        "id": "ELg1CywX9vFA"
      },
      "source": [
        "**Örnek 5**<br>Verilen sayının faktöriyelini bulan bir fonksiyon tanımlayabilirsiniz. Bir sayının faktöriyeli kendisinden\n",
        "başlayarak 1’e kadar olan tüm sayıların çarpımıdır. 3!=3*2*1)"
      ]
    },
    {
      "cell_type": "code",
      "metadata": {
        "id": "Td5NBwlG-KIq"
      },
      "source": [
        "def faktoriyelAl(sayi):\n",
        "  sonuc=1\n",
        "  if  (sayi==0 or sayi==1):\n",
        "    print('sonuç= ', 1)\n",
        "  elif sayi>1:\n",
        "    for i in range(1, sayi+1, 1):\n",
        "      sonuc*=i\n",
        "    print ('sonuc=', sonuc)\n",
        "  else: print ('0 veya daha büyük sayısal bir değer girmelisiniz')"
      ],
      "execution_count": null,
      "outputs": []
    },
    {
      "cell_type": "markdown",
      "metadata": {
        "id": "oBJCy5SIQofI"
      },
      "source": [
        "Yukarıda tanımladığımız fonksiyonu çağırmak için kullanıcıdan argüman alacağız."
      ]
    },
    {
      "cell_type": "code",
      "metadata": {
        "id": "S2cdPwzRg9w4",
        "colab": {
          "base_uri": "https://localhost:8080/",
          "height": 71
        },
        "outputId": "69ae432b-b0a6-41c6-df87-7d3828712d7d"
      },
      "source": [
        "faktoriyelAl(int(input('Faktöriyeli alınacak sayıyı giriniz: ')))"
      ],
      "execution_count": null,
      "outputs": [
        {
          "output_type": "stream",
          "text": [
            "Faktöriyeli alınacak sayıyı giriniz: 5\n",
            "sonuc= 120\n"
          ],
          "name": "stdout"
        }
      ]
    },
    {
      "cell_type": "markdown",
      "metadata": {
        "id": "IMUQnrW3lXrk"
      },
      "source": [
        "#**Fonksiyonalarda Parametre Türleri** <br>\n",
        "\n",
        "<br>**Örnek 6**<br>\n",
        "Döngülerde örnek olarak verilen ağaç çizme kodlarını bir fonksiyon hâline getirebilirsiniz."
      ]
    },
    {
      "cell_type": "code",
      "metadata": {
        "id": "hVQub61liFHC"
      },
      "source": [
        "def agacCiz(agacinYuksekligi, karakter='*'):\n",
        "  b=agacinYuksekligi\n",
        "  for i in range(1,agacinYuksekligi+1):\n",
        "    print(b*' ',(2*i-1)*karakter)\n",
        "    b-=1"
      ],
      "execution_count": null,
      "outputs": []
    },
    {
      "cell_type": "markdown",
      "metadata": {
        "id": "8FrRyxP8R7PE"
      },
      "source": [
        "Yukarıdaki kod bloğunu çalıştırmadan aşağıdaki kodları çalıştırırsanız hata verir.<br>\n",
        "Şimdi, fonksiyonu kullanıcıdan aldığınız parametrelerle çağırabilirsiniz.\n"
      ]
    },
    {
      "cell_type": "code",
      "metadata": {
        "id": "mEsqVaMFR6vp",
        "colab": {
          "base_uri": "https://localhost:8080/",
          "height": 241
        },
        "outputId": "4d8b6475-a8c0-4b6a-915d-b9880b92ce07"
      },
      "source": [
        "agacYuksekligi=int(input(\"Ağacın yüksekliği kaç satır olsun? : \"))\n",
        "agacKarakteri=input(\"Ağaç için bir sembol veya karakter girin? : \")\n",
        "if agacKarakteri!='' and agacYuksekligi>=1:\n",
        "  agacCiz(agacYuksekligi, agacKarakteri[0])\n",
        "elif agacKarakteri=='' and agacYuksekligi>=1:\n",
        "  agacCiz(agacYuksekligi)\n",
        "else: print('Hatalı giriş')"
      ],
      "execution_count": null,
      "outputs": [
        {
          "output_type": "stream",
          "text": [
            "Ağacın yüksekliği kaç satır olsun? : 10\n",
            "Ağaç için bir sembol veya karakter girin? : 1\n",
            "           1\n",
            "          111\n",
            "         11111\n",
            "        1111111\n",
            "       111111111\n",
            "      11111111111\n",
            "     1111111111111\n",
            "    111111111111111\n",
            "   11111111111111111\n",
            "  1111111111111111111\n"
          ],
          "name": "stdout"
        }
      ]
    },
    {
      "cell_type": "markdown",
      "metadata": {
        "id": "1VxUtmQCYzKs"
      },
      "source": [
        "**Örnek 7**<br>Örnekte kullanılan faktoriyelAl() fonksiyonunu değer döndüren bir fonksiyon hâline getirebilirsiniz."
      ]
    },
    {
      "cell_type": "code",
      "metadata": {
        "id": "sGCyJyiw9Kkc"
      },
      "source": [
        "def faktoriyelAl(sayi):\n",
        "  sonuc=1\n",
        "  if  (sayi==0 or sayi==1):\n",
        "    sonuc=1\n",
        "  elif sayi>1:\n",
        "    for i in range(1, sayi+1, 1):\n",
        "      sonuc*=i\n",
        "  else: sonuc=-1 #hatalı bir işlem olduğunu anlamak için -1 değerini veriyoruz\n",
        "  return sonuc"
      ],
      "execution_count": null,
      "outputs": []
    },
    {
      "cell_type": "markdown",
      "metadata": {
        "id": "EUGqwegZHGTK"
      },
      "source": [
        "Değer döndüren fonksiyonu aşağıdaki gibi çağırabilirsiniz."
      ]
    },
    {
      "cell_type": "code",
      "metadata": {
        "id": "mieMl08WF38k",
        "colab": {
          "base_uri": "https://localhost:8080/",
          "height": 34
        },
        "outputId": "8b431a88-3fe2-4cb6-f48c-53e161ae0784"
      },
      "source": [
        "sonucumuz=faktoriyelAl(5)\n",
        "#fonksiyonu bir değişkene atayabiliyoruz.\n",
        "if sonucumuz!=-1: # bir hata olup olmadığını kontrol edelim\n",
        "  print(sonucumuz)\n",
        "else:print('Bir hata oluştu')"
      ],
      "execution_count": null,
      "outputs": [
        {
          "output_type": "stream",
          "text": [
            "120\n"
          ],
          "name": "stdout"
        }
      ]
    },
    {
      "cell_type": "markdown",
      "metadata": {
        "id": "3imB2Lt-Q4a2"
      },
      "source": [
        "**Örnek 8**<br>Kullanıcıdan liste olarak aldığı sayıların ortalamasını bulan bir fonksiyon tanımlayabilir ve bunun içinde\n",
        "len( ) fonksiyonunu çağırabilirsiniz."
      ]
    },
    {
      "cell_type": "code",
      "metadata": {
        "id": "mlrSkwfDQ3si"
      },
      "source": [
        "def ortalamaBul(sayilar):\n",
        "  sayilarinToplami=0\n",
        "  sayilarinOrtalamasi=0\n",
        "  for i in range(len(sayilar)):\n",
        "    sayilarinToplami+=sayilar[i]\n",
        "  sayilarinOrtalamasi=sayilarinToplami/len(sayilar)\n",
        "  return sayilarinOrtalamasi"
      ],
      "execution_count": null,
      "outputs": []
    },
    {
      "cell_type": "markdown",
      "metadata": {
        "id": "Tv1FT5x1SGL1"
      },
      "source": [
        "Sayıları kullanıcıdan alarak fonksiyonunuzu çağırabilirsiniz.\n",
        "\n"
      ]
    },
    {
      "cell_type": "code",
      "metadata": {
        "id": "VysOHR0mSPmX",
        "colab": {
          "base_uri": "https://localhost:8080/",
          "height": 207
        },
        "outputId": "c6e1612f-f5fb-4ee5-ea29-81310be2f51f"
      },
      "source": [
        "sayiAdedi=int(input('Kaç adet sayının ortalamasını alacaksınız: '))\n",
        "sayilarim=[]\n",
        "for i in range(0,sayiAdedi):\n",
        "  print (i+1, '. sayıyı giriniz?') \n",
        "  # indis sıfırdan başladığı için +1 kullandık\n",
        "  sayi=int(input())\n",
        "  sayilarim.append(sayi)\n",
        "ortalamaBul(sayilarim)"
      ],
      "execution_count": null,
      "outputs": [
        {
          "output_type": "stream",
          "text": [
            "Kaç adet sayının ortalamasını alacaksınız: 4\n",
            "1 . sayıyı giriniz?\n",
            "10\n",
            "2 . sayıyı giriniz?\n",
            "20\n",
            "3 . sayıyı giriniz?\n",
            "30\n",
            "4 . sayıyı giriniz?\n",
            "40\n"
          ],
          "name": "stdout"
        },
        {
          "output_type": "execute_result",
          "data": {
            "text/plain": [
              "25.0"
            ]
          },
          "metadata": {
            "tags": []
          },
          "execution_count": 3
        }
      ]
    },
    {
      "cell_type": "markdown",
      "metadata": {
        "id": "kOoKw1q3nyzz"
      },
      "source": [
        "Not: Fonksiyonlar yine bir fonksiyon da olmak üzere bir değer olarak her türlü veri tipini döndürebilirler."
      ]
    },
    {
      "cell_type": "markdown",
      "metadata": {
        "id": "Xu5x6OAtZE3K"
      },
      "source": [
        "# **Global ve Lokal Değişkenler**\n",
        "<br>**Örnek 9**<br>"
      ]
    },
    {
      "cell_type": "code",
      "metadata": {
        "id": "6rHzF4Hgb-b9",
        "colab": {
          "base_uri": "https://localhost:8080/",
          "height": 68
        },
        "outputId": "e8978266-535b-4238-8444-ac83d39b3b79"
      },
      "source": [
        "for i in range (1,3):\n",
        "  print ('i değişkenin değeri=', i)\n",
        "print ('i değişkenin son değeri=', i)"
      ],
      "execution_count": null,
      "outputs": [
        {
          "output_type": "stream",
          "text": [
            "i değişkenin değeri= 1\n",
            "i değişkenin değeri= 2\n",
            "i değişkenin son değeri= 2\n"
          ],
          "name": "stdout"
        }
      ]
    },
    {
      "cell_type": "markdown",
      "metadata": {
        "id": "pMGYPP9CcuH3"
      },
      "source": [
        "**Örnek 10**<br>if” bloğu içinde tanımlanan bir değişkene erişebilirsiniz."
      ]
    },
    {
      "cell_type": "code",
      "metadata": {
        "id": "GpSahOKZdlQ8",
        "colab": {
          "base_uri": "https://localhost:8080/",
          "height": 34
        },
        "outputId": "0fd721eb-b616-416c-a865-10a9046d67ad"
      },
      "source": [
        "yas=35\n",
        "if yas ==35:\n",
        "  deger='yolun yarısı'\n",
        "print (deger)"
      ],
      "execution_count": null,
      "outputs": [
        {
          "output_type": "stream",
          "text": [
            "yolun yarısı\n"
          ],
          "name": "stdout"
        }
      ]
    },
    {
      "cell_type": "markdown",
      "metadata": {
        "id": "0wTAImVUeEKk"
      },
      "source": [
        "**Örnek 11**<br>Şart sağlanmazsa “if” bloğunun içindeki kodlar çalışmayacaktır. Örnekte bunu deneyebilirsiniz.\n"
      ]
    },
    {
      "cell_type": "code",
      "metadata": {
        "id": "dLfcuzvad2tm",
        "colab": {
          "base_uri": "https://localhost:8080/",
          "height": 197
        },
        "outputId": "b76d805e-0d5b-49a3-9c49-e158d794be1d"
      },
      "source": [
        "yas=34\n",
        "if yas ==35:\n",
        "  deger2='yolun yarısı'\n",
        "print (deger2)"
      ],
      "execution_count": null,
      "outputs": [
        {
          "output_type": "error",
          "ename": "NameError",
          "evalue": "ignored",
          "traceback": [
            "\u001b[0;31m---------------------------------------------------------------------------\u001b[0m",
            "\u001b[0;31mNameError\u001b[0m                                 Traceback (most recent call last)",
            "\u001b[0;32m<ipython-input-126-3f455a188ff0>\u001b[0m in \u001b[0;36m<module>\u001b[0;34m()\u001b[0m\n\u001b[1;32m      2\u001b[0m \u001b[0;32mif\u001b[0m \u001b[0myas\u001b[0m \u001b[0;34m==\u001b[0m\u001b[0;36m35\u001b[0m\u001b[0;34m:\u001b[0m\u001b[0;34m\u001b[0m\u001b[0;34m\u001b[0m\u001b[0m\n\u001b[1;32m      3\u001b[0m   \u001b[0mdeger2\u001b[0m\u001b[0;34m=\u001b[0m\u001b[0;34m'yolun yarısı'\u001b[0m\u001b[0;34m\u001b[0m\u001b[0;34m\u001b[0m\u001b[0m\n\u001b[0;32m----> 4\u001b[0;31m \u001b[0mprint\u001b[0m \u001b[0;34m(\u001b[0m\u001b[0mdeger2\u001b[0m\u001b[0;34m)\u001b[0m\u001b[0;34m\u001b[0m\u001b[0;34m\u001b[0m\u001b[0m\n\u001b[0m",
            "\u001b[0;31mNameError\u001b[0m: name 'deger2' is not defined"
          ]
        }
      ]
    },
    {
      "cell_type": "markdown",
      "metadata": {
        "id": "zxWhtldrePhw"
      },
      "source": [
        "**Örnek 12**Alt bloklarda (iç girintide) aynı değişkene farklı bir değer atanabilir."
      ]
    },
    {
      "cell_type": "code",
      "metadata": {
        "id": "KRA7Fc2Qeu0j",
        "colab": {
          "base_uri": "https://localhost:8080/",
          "height": 34
        },
        "outputId": "c67100d4-724a-4689-b106-0fa0887d4e2e"
      },
      "source": [
        "yas=34 # global bir değişken\n",
        "dogumGunuMu=True\n",
        "if dogumGunuMu==True:\n",
        "  yas+=1 #yerelde aynı değişken 1 artırıldı\n",
        "  print ('Nice yıllara yaş:', yas)"
      ],
      "execution_count": null,
      "outputs": [
        {
          "output_type": "stream",
          "text": [
            "Nice yıllara yaş: 35\n"
          ],
          "name": "stdout"
        }
      ]
    },
    {
      "cell_type": "markdown",
      "metadata": {
        "id": "T_0Ru-ZogSh3"
      },
      "source": [
        "**Örnek 13**<br>if koşulu sağlanamazsa bloğun içindeki kodlar atlanır. Global değişken olarak tanımlanan yas2 değerini korur.\n"
      ]
    },
    {
      "cell_type": "code",
      "metadata": {
        "id": "njHLwkXAgJck",
        "colab": {
          "base_uri": "https://localhost:8080/",
          "height": 34
        },
        "outputId": "833d1702-ade0-461a-86c5-e0b9589fefe2"
      },
      "source": [
        "yas2=34 # global bir değişken\n",
        "dogumGunuMu=False\n",
        "if dogumGunuMu==True:\n",
        "  yas2+=1 #yerelde aynı değişken 1 artırıldı\n",
        "  print ('Nice yıllara yaş:', yas2)\n",
        "print ('Yaşınız: ', yas2)"
      ],
      "execution_count": null,
      "outputs": [
        {
          "output_type": "stream",
          "text": [
            "Yaşınız:  34\n"
          ],
          "name": "stdout"
        }
      ]
    },
    {
      "cell_type": "markdown",
      "metadata": {
        "id": "lGctyLh9hMjx"
      },
      "source": [
        "**Örnek 14**<br>Aynı şekilde fonksiyonlar içinde tanımlanmış değişkenler yerel (lokal) değişkenler olduğu için fonksiyon\n",
        "çağrılmazsa hata ile karşılaşılır."
      ]
    },
    {
      "cell_type": "code",
      "metadata": {
        "id": "NS2LY1g-hff0"
      },
      "source": [
        "def toplamBul (sayiListesi):\n",
        "  toplam=0\n",
        "  for i in range (len(sayiListesi)):\n",
        "    toplam+=sayiListesi[i]\n",
        "  return toplam\n"
      ],
      "execution_count": null,
      "outputs": []
    },
    {
      "cell_type": "markdown",
      "metadata": {
        "id": "JTBWkKRrjFbu"
      },
      "source": [
        "Fonksiyonu çağırmadan değişkeni doğrudan kullandığınızda hata ile karşılaşırsınız."
      ]
    },
    {
      "cell_type": "code",
      "metadata": {
        "id": "Bfd5mTjkjBD-",
        "colab": {
          "base_uri": "https://localhost:8080/",
          "height": 161
        },
        "outputId": "9063f949-7921-415f-f7e3-6807e1d95090"
      },
      "source": [
        "print (toplam)"
      ],
      "execution_count": null,
      "outputs": [
        {
          "output_type": "error",
          "ename": "NameError",
          "evalue": "ignored",
          "traceback": [
            "\u001b[0;31m---------------------------------------------------------------------------\u001b[0m",
            "\u001b[0;31mNameError\u001b[0m                                 Traceback (most recent call last)",
            "\u001b[0;32m<ipython-input-11-581ab859b2a0>\u001b[0m in \u001b[0;36m<module>\u001b[0;34m()\u001b[0m\n\u001b[0;32m----> 1\u001b[0;31m \u001b[0mprint\u001b[0m \u001b[0;34m(\u001b[0m\u001b[0mtoplam\u001b[0m\u001b[0;34m)\u001b[0m\u001b[0;34m\u001b[0m\u001b[0;34m\u001b[0m\u001b[0m\n\u001b[0m",
            "\u001b[0;31mNameError\u001b[0m: name 'toplam' is not defined"
          ]
        }
      ]
    },
    {
      "cell_type": "markdown",
      "metadata": {
        "id": "VNnkHzCHjNPN"
      },
      "source": [
        "<br>**Örnek 15**<br>Programınızda global bir değişken yazarak işlemi tekrarlayabilirsiniz."
      ]
    },
    {
      "cell_type": "code",
      "metadata": {
        "id": "GUu2HqjbjcHF"
      },
      "source": [
        "topla=0\n",
        "def toplamBul (sayiListesi):\n",
        "  topla=0\n",
        "  for i in range (len(sayiListesi)):\n",
        "    topla+=sayiListesi[i]\n",
        "  return topla"
      ],
      "execution_count": null,
      "outputs": []
    },
    {
      "cell_type": "markdown",
      "metadata": {
        "id": "E6X7F8hjjtXK"
      },
      "source": [
        "Fonksiyonu tanımlanmasına rağmen global değişkene atanan değer ekrana yazdırılabilir.\n"
      ]
    },
    {
      "cell_type": "code",
      "metadata": {
        "id": "W2mydf3IjgJN",
        "colab": {
          "base_uri": "https://localhost:8080/",
          "height": 34
        },
        "outputId": "018bd01a-063e-4562-a7e6-9bbe595bd8b9"
      },
      "source": [
        "print (topla)"
      ],
      "execution_count": null,
      "outputs": [
        {
          "output_type": "stream",
          "text": [
            "0\n"
          ],
          "name": "stdout"
        }
      ]
    },
    {
      "cell_type": "markdown",
      "metadata": {
        "id": "cveRIX0rj4KL"
      },
      "source": [
        "Şimdi de fonksiyonunuzu çağırabilirsiniz."
      ]
    },
    {
      "cell_type": "code",
      "metadata": {
        "id": "XmMXW171j-GN",
        "colab": {
          "base_uri": "https://localhost:8080/",
          "height": 34
        },
        "outputId": "974128a3-9265-42c6-a769-6b1b85e63b54"
      },
      "source": [
        "toplamBul([1, 2, 3, 4, 5])"
      ],
      "execution_count": null,
      "outputs": [
        {
          "output_type": "execute_result",
          "data": {
            "text/plain": [
              "15"
            ]
          },
          "metadata": {
            "tags": []
          },
          "execution_count": 141
        }
      ]
    },
    {
      "cell_type": "markdown",
      "metadata": {
        "id": "gnx0cKNkkgbg"
      },
      "source": [
        "Değişkene atanan yeni değer yani fonksiyonun sonucu görülmektedir."
      ]
    },
    {
      "cell_type": "markdown",
      "metadata": {
        "id": "L2hcUStJkqKh"
      },
      "source": [
        "# Bölüm Alıştırmaları"
      ]
    },
    {
      "cell_type": "markdown",
      "metadata": {
        "id": "VWnF8l1Vkwd2"
      },
      "source": [
        "1. Vize, final puanlarını ve yüzdelik oranlarını parametre olarak alan ve puanlar ile yüzdelik oranları\n",
        "çarparak toplayan ve sonucu döndüren bir fonksiyon tanımlayınız ve (50, 60, 30, 70) argümanlarıyla fonksiyonunuzu kullanınız. kullanın. Sonuç sizce kaç olur?"
      ]
    },
    {
      "cell_type": "code",
      "metadata": {
        "id": "EPJgldhgkuHK",
        "colab": {
          "base_uri": "https://localhost:8080/",
          "height": 34
        },
        "outputId": "89579bc9-38ba-4ece-f383-bd839e9f6688"
      },
      "source": [
        "def puanHesaplama (vizePuani, finalPuani, vizeYuzdesi, finalYuzdesi):\n",
        "  return(vizePuani*vizeYuzdesi/100+finalPuani*finalYuzdesi/100 )\n",
        "puanHesaplama(50, 60, 30, 70)"
      ],
      "execution_count": null,
      "outputs": [
        {
          "output_type": "execute_result",
          "data": {
            "text/plain": [
              "57.0"
            ]
          },
          "metadata": {
            "tags": []
          },
          "execution_count": 143
        }
      ]
    },
    {
      "cell_type": "markdown",
      "metadata": {
        "id": "J28Bc6rYl1td"
      },
      "source": [
        "2. Bir liste halinde verilen sayılardan tek olanların toplamını döndüren bir fonksiyon yazınız. [1, 2, 3,\n",
        "4, 5, 6, 7, 9, 11, 1773, 1679] sayı listesiyle deneyiniz. Sonuç sizce kaç olur?"
      ]
    },
    {
      "cell_type": "code",
      "metadata": {
        "id": "aW3O_TuRmpXo",
        "colab": {
          "base_uri": "https://localhost:8080/",
          "height": 34
        },
        "outputId": "948fded1-8768-438c-ce32-02bc0dd4c90e"
      },
      "source": [
        "def tekSayilariTopla(sayilar):\n",
        "  sayilarinToplami=0\n",
        "  for i in range(len(sayilar)):\n",
        "    if sayilar[i]%2!=0:\n",
        "      sayilarinToplami+=sayilar[i]\n",
        "  return sayilarinToplami\n",
        "tekSayilariTopla([1, 2, 3, 4, 5, 6, 7, 9, 11, 1773, 1679])"
      ],
      "execution_count": null,
      "outputs": [
        {
          "output_type": "execute_result",
          "data": {
            "text/plain": [
              "3488"
            ]
          },
          "metadata": {
            "tags": []
          },
          "execution_count": 144
        }
      ]
    },
    {
      "cell_type": "markdown",
      "metadata": {
        "id": "WzvIOJFinRAv"
      },
      "source": [
        "3. Aşağıdaki kodun ekran çıktısı sizce nasıl olur?\n"
      ]
    },
    {
      "cell_type": "code",
      "metadata": {
        "id": "pwoqucu3oa1m",
        "colab": {
          "base_uri": "https://localhost:8080/",
          "height": 85
        },
        "outputId": "f72f8962-18fa-45f1-b0c9-d6cac8622a67"
      },
      "source": [
        "karsilamaMesaji='Merhaba'\n",
        "kullaniciYasi=35\n",
        "dogumGunuMu=True\n",
        "if kullaniciYasi==35 and dogumGunuMu==True:\n",
        "  karsilamaMesaji1='Yolun yarısı'\n",
        "  kullaniciYasi+=1\n",
        "  print(dogumGunuMu)\n",
        "dogumGunuMu=False\n",
        "print (kullaniciYasi)\n",
        "print(dogumGunuMu)\n",
        "print(karsilamaMesaji)"
      ],
      "execution_count": null,
      "outputs": [
        {
          "output_type": "stream",
          "text": [
            "True\n",
            "36\n",
            "False\n",
            "Merhaba\n"
          ],
          "name": "stdout"
        }
      ]
    }
  ]
}